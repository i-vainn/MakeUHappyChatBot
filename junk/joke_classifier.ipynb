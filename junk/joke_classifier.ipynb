{
  "nbformat": 4,
  "nbformat_minor": 0,
  "metadata": {
    "accelerator": "GPU",
    "colab": {
      "name": "joke_classifier.ipynb",
      "provenance": [],
      "collapsed_sections": [
        "KACDaYkdXpwH",
        "C65p4VclXv9u",
        "jeHLLPAMXzZi",
        "eAT_UFteX_8i",
        "IJIklRgUYKr9",
        "RfjPN2-EZ5VY",
        "7mE3aNBzaXat"
      ]
    },
    "kernelspec": {
      "display_name": "Python 3",
      "name": "python3"
    },
    "language_info": {
      "name": "python"
    },
    "widgets": {
      "application/vnd.jupyter.widget-state+json": {
        "9baa9e9d97524a5a8f2e315db04a2e5e": {
          "model_module": "@jupyter-widgets/controls",
          "model_name": "HBoxModel",
          "state": {
            "_view_name": "HBoxView",
            "_dom_classes": [],
            "_model_name": "HBoxModel",
            "_view_module": "@jupyter-widgets/controls",
            "_model_module_version": "1.5.0",
            "_view_count": null,
            "_view_module_version": "1.5.0",
            "box_style": "",
            "layout": "IPY_MODEL_f2feed96eafe4b7e8ae5c4a09cf99058",
            "_model_module": "@jupyter-widgets/controls",
            "children": [
              "IPY_MODEL_c03d498d78c14b05884e00aa1af11720",
              "IPY_MODEL_2921c4e7e42c4632bd0d5151a40e5f80"
            ]
          }
        },
        "f2feed96eafe4b7e8ae5c4a09cf99058": {
          "model_module": "@jupyter-widgets/base",
          "model_name": "LayoutModel",
          "state": {
            "_view_name": "LayoutView",
            "grid_template_rows": null,
            "right": null,
            "justify_content": null,
            "_view_module": "@jupyter-widgets/base",
            "overflow": null,
            "_model_module_version": "1.2.0",
            "_view_count": null,
            "flex_flow": null,
            "width": null,
            "min_width": null,
            "border": null,
            "align_items": null,
            "bottom": null,
            "_model_module": "@jupyter-widgets/base",
            "top": null,
            "grid_column": null,
            "overflow_y": null,
            "overflow_x": null,
            "grid_auto_flow": null,
            "grid_area": null,
            "grid_template_columns": null,
            "flex": null,
            "_model_name": "LayoutModel",
            "justify_items": null,
            "grid_row": null,
            "max_height": null,
            "align_content": null,
            "visibility": null,
            "align_self": null,
            "height": null,
            "min_height": null,
            "padding": null,
            "grid_auto_rows": null,
            "grid_gap": null,
            "max_width": null,
            "order": null,
            "_view_module_version": "1.2.0",
            "grid_template_areas": null,
            "object_position": null,
            "object_fit": null,
            "grid_auto_columns": null,
            "margin": null,
            "display": null,
            "left": null
          }
        },
        "c03d498d78c14b05884e00aa1af11720": {
          "model_module": "@jupyter-widgets/controls",
          "model_name": "FloatProgressModel",
          "state": {
            "_view_name": "ProgressView",
            "style": "IPY_MODEL_d03cdfff5c2f42388130d30cccb7d90f",
            "_dom_classes": [],
            "description": "Downloading: 100%",
            "_model_name": "FloatProgressModel",
            "bar_style": "success",
            "max": 1649718,
            "_view_module": "@jupyter-widgets/controls",
            "_model_module_version": "1.5.0",
            "value": 1649718,
            "_view_count": null,
            "_view_module_version": "1.5.0",
            "orientation": "horizontal",
            "min": 0,
            "description_tooltip": null,
            "_model_module": "@jupyter-widgets/controls",
            "layout": "IPY_MODEL_280adbd91b0f4a5e9f70042439fa85fa"
          }
        },
        "2921c4e7e42c4632bd0d5151a40e5f80": {
          "model_module": "@jupyter-widgets/controls",
          "model_name": "HTMLModel",
          "state": {
            "_view_name": "HTMLView",
            "style": "IPY_MODEL_7b9ba9ef954a4787a79a4b731f399dc9",
            "_dom_classes": [],
            "description": "",
            "_model_name": "HTMLModel",
            "placeholder": "​",
            "_view_module": "@jupyter-widgets/controls",
            "_model_module_version": "1.5.0",
            "value": " 1.65M/1.65M [00:02&lt;00:00, 710kB/s]",
            "_view_count": null,
            "_view_module_version": "1.5.0",
            "description_tooltip": null,
            "_model_module": "@jupyter-widgets/controls",
            "layout": "IPY_MODEL_2fb71762cb8042ceaffefa3ee22b4f21"
          }
        },
        "d03cdfff5c2f42388130d30cccb7d90f": {
          "model_module": "@jupyter-widgets/controls",
          "model_name": "ProgressStyleModel",
          "state": {
            "_view_name": "StyleView",
            "_model_name": "ProgressStyleModel",
            "description_width": "initial",
            "_view_module": "@jupyter-widgets/base",
            "_model_module_version": "1.5.0",
            "_view_count": null,
            "_view_module_version": "1.2.0",
            "bar_color": null,
            "_model_module": "@jupyter-widgets/controls"
          }
        },
        "280adbd91b0f4a5e9f70042439fa85fa": {
          "model_module": "@jupyter-widgets/base",
          "model_name": "LayoutModel",
          "state": {
            "_view_name": "LayoutView",
            "grid_template_rows": null,
            "right": null,
            "justify_content": null,
            "_view_module": "@jupyter-widgets/base",
            "overflow": null,
            "_model_module_version": "1.2.0",
            "_view_count": null,
            "flex_flow": null,
            "width": null,
            "min_width": null,
            "border": null,
            "align_items": null,
            "bottom": null,
            "_model_module": "@jupyter-widgets/base",
            "top": null,
            "grid_column": null,
            "overflow_y": null,
            "overflow_x": null,
            "grid_auto_flow": null,
            "grid_area": null,
            "grid_template_columns": null,
            "flex": null,
            "_model_name": "LayoutModel",
            "justify_items": null,
            "grid_row": null,
            "max_height": null,
            "align_content": null,
            "visibility": null,
            "align_self": null,
            "height": null,
            "min_height": null,
            "padding": null,
            "grid_auto_rows": null,
            "grid_gap": null,
            "max_width": null,
            "order": null,
            "_view_module_version": "1.2.0",
            "grid_template_areas": null,
            "object_position": null,
            "object_fit": null,
            "grid_auto_columns": null,
            "margin": null,
            "display": null,
            "left": null
          }
        },
        "7b9ba9ef954a4787a79a4b731f399dc9": {
          "model_module": "@jupyter-widgets/controls",
          "model_name": "DescriptionStyleModel",
          "state": {
            "_view_name": "StyleView",
            "_model_name": "DescriptionStyleModel",
            "description_width": "",
            "_view_module": "@jupyter-widgets/base",
            "_model_module_version": "1.5.0",
            "_view_count": null,
            "_view_module_version": "1.2.0",
            "_model_module": "@jupyter-widgets/controls"
          }
        },
        "2fb71762cb8042ceaffefa3ee22b4f21": {
          "model_module": "@jupyter-widgets/base",
          "model_name": "LayoutModel",
          "state": {
            "_view_name": "LayoutView",
            "grid_template_rows": null,
            "right": null,
            "justify_content": null,
            "_view_module": "@jupyter-widgets/base",
            "overflow": null,
            "_model_module_version": "1.2.0",
            "_view_count": null,
            "flex_flow": null,
            "width": null,
            "min_width": null,
            "border": null,
            "align_items": null,
            "bottom": null,
            "_model_module": "@jupyter-widgets/base",
            "top": null,
            "grid_column": null,
            "overflow_y": null,
            "overflow_x": null,
            "grid_auto_flow": null,
            "grid_area": null,
            "grid_template_columns": null,
            "flex": null,
            "_model_name": "LayoutModel",
            "justify_items": null,
            "grid_row": null,
            "max_height": null,
            "align_content": null,
            "visibility": null,
            "align_self": null,
            "height": null,
            "min_height": null,
            "padding": null,
            "grid_auto_rows": null,
            "grid_gap": null,
            "max_width": null,
            "order": null,
            "_view_module_version": "1.2.0",
            "grid_template_areas": null,
            "object_position": null,
            "object_fit": null,
            "grid_auto_columns": null,
            "margin": null,
            "display": null,
            "left": null
          }
        },
        "d2184b1af83e45a193704443f24aba6e": {
          "model_module": "@jupyter-widgets/controls",
          "model_name": "HBoxModel",
          "state": {
            "_view_name": "HBoxView",
            "_dom_classes": [],
            "_model_name": "HBoxModel",
            "_view_module": "@jupyter-widgets/controls",
            "_model_module_version": "1.5.0",
            "_view_count": null,
            "_view_module_version": "1.5.0",
            "box_style": "",
            "layout": "IPY_MODEL_4756cb6a2086478b8e1b85549b6dd65c",
            "_model_module": "@jupyter-widgets/controls",
            "children": [
              "IPY_MODEL_c7b36a9e66384a7aa11060180de5f668",
              "IPY_MODEL_3ed1b3c9864246d9a4fa22539aa75b73"
            ]
          }
        },
        "4756cb6a2086478b8e1b85549b6dd65c": {
          "model_module": "@jupyter-widgets/base",
          "model_name": "LayoutModel",
          "state": {
            "_view_name": "LayoutView",
            "grid_template_rows": null,
            "right": null,
            "justify_content": null,
            "_view_module": "@jupyter-widgets/base",
            "overflow": null,
            "_model_module_version": "1.2.0",
            "_view_count": null,
            "flex_flow": null,
            "width": null,
            "min_width": null,
            "border": null,
            "align_items": null,
            "bottom": null,
            "_model_module": "@jupyter-widgets/base",
            "top": null,
            "grid_column": null,
            "overflow_y": null,
            "overflow_x": null,
            "grid_auto_flow": null,
            "grid_area": null,
            "grid_template_columns": null,
            "flex": null,
            "_model_name": "LayoutModel",
            "justify_items": null,
            "grid_row": null,
            "max_height": null,
            "align_content": null,
            "visibility": null,
            "align_self": null,
            "height": null,
            "min_height": null,
            "padding": null,
            "grid_auto_rows": null,
            "grid_gap": null,
            "max_width": null,
            "order": null,
            "_view_module_version": "1.2.0",
            "grid_template_areas": null,
            "object_position": null,
            "object_fit": null,
            "grid_auto_columns": null,
            "margin": null,
            "display": null,
            "left": null
          }
        },
        "c7b36a9e66384a7aa11060180de5f668": {
          "model_module": "@jupyter-widgets/controls",
          "model_name": "FloatProgressModel",
          "state": {
            "_view_name": "ProgressView",
            "style": "IPY_MODEL_df561bb2409c405880b5e3faa539f067",
            "_dom_classes": [],
            "description": "Downloading: 100%",
            "_model_name": "FloatProgressModel",
            "bar_style": "success",
            "max": 112,
            "_view_module": "@jupyter-widgets/controls",
            "_model_module_version": "1.5.0",
            "value": 112,
            "_view_count": null,
            "_view_module_version": "1.5.0",
            "orientation": "horizontal",
            "min": 0,
            "description_tooltip": null,
            "_model_module": "@jupyter-widgets/controls",
            "layout": "IPY_MODEL_35a6ae53f3e943d88d779c8478c7f75c"
          }
        },
        "3ed1b3c9864246d9a4fa22539aa75b73": {
          "model_module": "@jupyter-widgets/controls",
          "model_name": "HTMLModel",
          "state": {
            "_view_name": "HTMLView",
            "style": "IPY_MODEL_8284b581cc4243c28e9ea41851ef80fc",
            "_dom_classes": [],
            "description": "",
            "_model_name": "HTMLModel",
            "placeholder": "​",
            "_view_module": "@jupyter-widgets/controls",
            "_model_module_version": "1.5.0",
            "value": " 112/112 [00:01&lt;00:00, 94.3B/s]",
            "_view_count": null,
            "_view_module_version": "1.5.0",
            "description_tooltip": null,
            "_model_module": "@jupyter-widgets/controls",
            "layout": "IPY_MODEL_c6ebc41e053c4bd08dfaecef6728a8f3"
          }
        },
        "df561bb2409c405880b5e3faa539f067": {
          "model_module": "@jupyter-widgets/controls",
          "model_name": "ProgressStyleModel",
          "state": {
            "_view_name": "StyleView",
            "_model_name": "ProgressStyleModel",
            "description_width": "initial",
            "_view_module": "@jupyter-widgets/base",
            "_model_module_version": "1.5.0",
            "_view_count": null,
            "_view_module_version": "1.2.0",
            "bar_color": null,
            "_model_module": "@jupyter-widgets/controls"
          }
        },
        "35a6ae53f3e943d88d779c8478c7f75c": {
          "model_module": "@jupyter-widgets/base",
          "model_name": "LayoutModel",
          "state": {
            "_view_name": "LayoutView",
            "grid_template_rows": null,
            "right": null,
            "justify_content": null,
            "_view_module": "@jupyter-widgets/base",
            "overflow": null,
            "_model_module_version": "1.2.0",
            "_view_count": null,
            "flex_flow": null,
            "width": null,
            "min_width": null,
            "border": null,
            "align_items": null,
            "bottom": null,
            "_model_module": "@jupyter-widgets/base",
            "top": null,
            "grid_column": null,
            "overflow_y": null,
            "overflow_x": null,
            "grid_auto_flow": null,
            "grid_area": null,
            "grid_template_columns": null,
            "flex": null,
            "_model_name": "LayoutModel",
            "justify_items": null,
            "grid_row": null,
            "max_height": null,
            "align_content": null,
            "visibility": null,
            "align_self": null,
            "height": null,
            "min_height": null,
            "padding": null,
            "grid_auto_rows": null,
            "grid_gap": null,
            "max_width": null,
            "order": null,
            "_view_module_version": "1.2.0",
            "grid_template_areas": null,
            "object_position": null,
            "object_fit": null,
            "grid_auto_columns": null,
            "margin": null,
            "display": null,
            "left": null
          }
        },
        "8284b581cc4243c28e9ea41851ef80fc": {
          "model_module": "@jupyter-widgets/controls",
          "model_name": "DescriptionStyleModel",
          "state": {
            "_view_name": "StyleView",
            "_model_name": "DescriptionStyleModel",
            "description_width": "",
            "_view_module": "@jupyter-widgets/base",
            "_model_module_version": "1.5.0",
            "_view_count": null,
            "_view_module_version": "1.2.0",
            "_model_module": "@jupyter-widgets/controls"
          }
        },
        "c6ebc41e053c4bd08dfaecef6728a8f3": {
          "model_module": "@jupyter-widgets/base",
          "model_name": "LayoutModel",
          "state": {
            "_view_name": "LayoutView",
            "grid_template_rows": null,
            "right": null,
            "justify_content": null,
            "_view_module": "@jupyter-widgets/base",
            "overflow": null,
            "_model_module_version": "1.2.0",
            "_view_count": null,
            "flex_flow": null,
            "width": null,
            "min_width": null,
            "border": null,
            "align_items": null,
            "bottom": null,
            "_model_module": "@jupyter-widgets/base",
            "top": null,
            "grid_column": null,
            "overflow_y": null,
            "overflow_x": null,
            "grid_auto_flow": null,
            "grid_area": null,
            "grid_template_columns": null,
            "flex": null,
            "_model_name": "LayoutModel",
            "justify_items": null,
            "grid_row": null,
            "max_height": null,
            "align_content": null,
            "visibility": null,
            "align_self": null,
            "height": null,
            "min_height": null,
            "padding": null,
            "grid_auto_rows": null,
            "grid_gap": null,
            "max_width": null,
            "order": null,
            "_view_module_version": "1.2.0",
            "grid_template_areas": null,
            "object_position": null,
            "object_fit": null,
            "grid_auto_columns": null,
            "margin": null,
            "display": null,
            "left": null
          }
        },
        "51824e80f58540e288f323a8404c0167": {
          "model_module": "@jupyter-widgets/controls",
          "model_name": "HBoxModel",
          "state": {
            "_view_name": "HBoxView",
            "_dom_classes": [],
            "_model_name": "HBoxModel",
            "_view_module": "@jupyter-widgets/controls",
            "_model_module_version": "1.5.0",
            "_view_count": null,
            "_view_module_version": "1.5.0",
            "box_style": "",
            "layout": "IPY_MODEL_a9e17b007c0847539fc893890b2e48f4",
            "_model_module": "@jupyter-widgets/controls",
            "children": [
              "IPY_MODEL_09b119f4dc8f4d11b54f998edd896d7c",
              "IPY_MODEL_9227eb9fdfaf431db4aa523b8e1196b2"
            ]
          }
        },
        "a9e17b007c0847539fc893890b2e48f4": {
          "model_module": "@jupyter-widgets/base",
          "model_name": "LayoutModel",
          "state": {
            "_view_name": "LayoutView",
            "grid_template_rows": null,
            "right": null,
            "justify_content": null,
            "_view_module": "@jupyter-widgets/base",
            "overflow": null,
            "_model_module_version": "1.2.0",
            "_view_count": null,
            "flex_flow": null,
            "width": null,
            "min_width": null,
            "border": null,
            "align_items": null,
            "bottom": null,
            "_model_module": "@jupyter-widgets/base",
            "top": null,
            "grid_column": null,
            "overflow_y": null,
            "overflow_x": null,
            "grid_auto_flow": null,
            "grid_area": null,
            "grid_template_columns": null,
            "flex": null,
            "_model_name": "LayoutModel",
            "justify_items": null,
            "grid_row": null,
            "max_height": null,
            "align_content": null,
            "visibility": null,
            "align_self": null,
            "height": null,
            "min_height": null,
            "padding": null,
            "grid_auto_rows": null,
            "grid_gap": null,
            "max_width": null,
            "order": null,
            "_view_module_version": "1.2.0",
            "grid_template_areas": null,
            "object_position": null,
            "object_fit": null,
            "grid_auto_columns": null,
            "margin": null,
            "display": null,
            "left": null
          }
        },
        "09b119f4dc8f4d11b54f998edd896d7c": {
          "model_module": "@jupyter-widgets/controls",
          "model_name": "FloatProgressModel",
          "state": {
            "_view_name": "ProgressView",
            "style": "IPY_MODEL_750fcbc0e9d743b686020792275b6317",
            "_dom_classes": [],
            "description": "Downloading: 100%",
            "_model_name": "FloatProgressModel",
            "bar_style": "success",
            "max": 2,
            "_view_module": "@jupyter-widgets/controls",
            "_model_module_version": "1.5.0",
            "value": 2,
            "_view_count": null,
            "_view_module_version": "1.5.0",
            "orientation": "horizontal",
            "min": 0,
            "description_tooltip": null,
            "_model_module": "@jupyter-widgets/controls",
            "layout": "IPY_MODEL_5741aefa0e6e4e81929ecfc18f1f084f"
          }
        },
        "9227eb9fdfaf431db4aa523b8e1196b2": {
          "model_module": "@jupyter-widgets/controls",
          "model_name": "HTMLModel",
          "state": {
            "_view_name": "HTMLView",
            "style": "IPY_MODEL_fd2a62ffbb3c4dbb83ce20b36345b89d",
            "_dom_classes": [],
            "description": "",
            "_model_name": "HTMLModel",
            "placeholder": "​",
            "_view_module": "@jupyter-widgets/controls",
            "_model_module_version": "1.5.0",
            "value": " 2.00/2.00 [00:00&lt;00:00, 4.65B/s]",
            "_view_count": null,
            "_view_module_version": "1.5.0",
            "description_tooltip": null,
            "_model_module": "@jupyter-widgets/controls",
            "layout": "IPY_MODEL_3792edf164334e08816161c8caaabfee"
          }
        },
        "750fcbc0e9d743b686020792275b6317": {
          "model_module": "@jupyter-widgets/controls",
          "model_name": "ProgressStyleModel",
          "state": {
            "_view_name": "StyleView",
            "_model_name": "ProgressStyleModel",
            "description_width": "initial",
            "_view_module": "@jupyter-widgets/base",
            "_model_module_version": "1.5.0",
            "_view_count": null,
            "_view_module_version": "1.2.0",
            "bar_color": null,
            "_model_module": "@jupyter-widgets/controls"
          }
        },
        "5741aefa0e6e4e81929ecfc18f1f084f": {
          "model_module": "@jupyter-widgets/base",
          "model_name": "LayoutModel",
          "state": {
            "_view_name": "LayoutView",
            "grid_template_rows": null,
            "right": null,
            "justify_content": null,
            "_view_module": "@jupyter-widgets/base",
            "overflow": null,
            "_model_module_version": "1.2.0",
            "_view_count": null,
            "flex_flow": null,
            "width": null,
            "min_width": null,
            "border": null,
            "align_items": null,
            "bottom": null,
            "_model_module": "@jupyter-widgets/base",
            "top": null,
            "grid_column": null,
            "overflow_y": null,
            "overflow_x": null,
            "grid_auto_flow": null,
            "grid_area": null,
            "grid_template_columns": null,
            "flex": null,
            "_model_name": "LayoutModel",
            "justify_items": null,
            "grid_row": null,
            "max_height": null,
            "align_content": null,
            "visibility": null,
            "align_self": null,
            "height": null,
            "min_height": null,
            "padding": null,
            "grid_auto_rows": null,
            "grid_gap": null,
            "max_width": null,
            "order": null,
            "_view_module_version": "1.2.0",
            "grid_template_areas": null,
            "object_position": null,
            "object_fit": null,
            "grid_auto_columns": null,
            "margin": null,
            "display": null,
            "left": null
          }
        },
        "fd2a62ffbb3c4dbb83ce20b36345b89d": {
          "model_module": "@jupyter-widgets/controls",
          "model_name": "DescriptionStyleModel",
          "state": {
            "_view_name": "StyleView",
            "_model_name": "DescriptionStyleModel",
            "description_width": "",
            "_view_module": "@jupyter-widgets/base",
            "_model_module_version": "1.5.0",
            "_view_count": null,
            "_view_module_version": "1.2.0",
            "_model_module": "@jupyter-widgets/controls"
          }
        },
        "3792edf164334e08816161c8caaabfee": {
          "model_module": "@jupyter-widgets/base",
          "model_name": "LayoutModel",
          "state": {
            "_view_name": "LayoutView",
            "grid_template_rows": null,
            "right": null,
            "justify_content": null,
            "_view_module": "@jupyter-widgets/base",
            "overflow": null,
            "_model_module_version": "1.2.0",
            "_view_count": null,
            "flex_flow": null,
            "width": null,
            "min_width": null,
            "border": null,
            "align_items": null,
            "bottom": null,
            "_model_module": "@jupyter-widgets/base",
            "top": null,
            "grid_column": null,
            "overflow_y": null,
            "overflow_x": null,
            "grid_auto_flow": null,
            "grid_area": null,
            "grid_template_columns": null,
            "flex": null,
            "_model_name": "LayoutModel",
            "justify_items": null,
            "grid_row": null,
            "max_height": null,
            "align_content": null,
            "visibility": null,
            "align_self": null,
            "height": null,
            "min_height": null,
            "padding": null,
            "grid_auto_rows": null,
            "grid_gap": null,
            "max_width": null,
            "order": null,
            "_view_module_version": "1.2.0",
            "grid_template_areas": null,
            "object_position": null,
            "object_fit": null,
            "grid_auto_columns": null,
            "margin": null,
            "display": null,
            "left": null
          }
        },
        "d311076fb43940e9878619a786006869": {
          "model_module": "@jupyter-widgets/controls",
          "model_name": "HBoxModel",
          "state": {
            "_view_name": "HBoxView",
            "_dom_classes": [],
            "_model_name": "HBoxModel",
            "_view_module": "@jupyter-widgets/controls",
            "_model_module_version": "1.5.0",
            "_view_count": null,
            "_view_module_version": "1.5.0",
            "box_style": "",
            "layout": "IPY_MODEL_70c4add45e264b0fbb6f1cdd071acbb6",
            "_model_module": "@jupyter-widgets/controls",
            "children": [
              "IPY_MODEL_e90bd3905f924f9a95b71d1295de4c66",
              "IPY_MODEL_06cf47252ed74924abdee42bd81312cb"
            ]
          }
        },
        "70c4add45e264b0fbb6f1cdd071acbb6": {
          "model_module": "@jupyter-widgets/base",
          "model_name": "LayoutModel",
          "state": {
            "_view_name": "LayoutView",
            "grid_template_rows": null,
            "right": null,
            "justify_content": null,
            "_view_module": "@jupyter-widgets/base",
            "overflow": null,
            "_model_module_version": "1.2.0",
            "_view_count": null,
            "flex_flow": null,
            "width": null,
            "min_width": null,
            "border": null,
            "align_items": null,
            "bottom": null,
            "_model_module": "@jupyter-widgets/base",
            "top": null,
            "grid_column": null,
            "overflow_y": null,
            "overflow_x": null,
            "grid_auto_flow": null,
            "grid_area": null,
            "grid_template_columns": null,
            "flex": null,
            "_model_name": "LayoutModel",
            "justify_items": null,
            "grid_row": null,
            "max_height": null,
            "align_content": null,
            "visibility": null,
            "align_self": null,
            "height": null,
            "min_height": null,
            "padding": null,
            "grid_auto_rows": null,
            "grid_gap": null,
            "max_width": null,
            "order": null,
            "_view_module_version": "1.2.0",
            "grid_template_areas": null,
            "object_position": null,
            "object_fit": null,
            "grid_auto_columns": null,
            "margin": null,
            "display": null,
            "left": null
          }
        },
        "e90bd3905f924f9a95b71d1295de4c66": {
          "model_module": "@jupyter-widgets/controls",
          "model_name": "FloatProgressModel",
          "state": {
            "_view_name": "ProgressView",
            "style": "IPY_MODEL_f3eaef754fc14100ae010d61ae43c61d",
            "_dom_classes": [],
            "description": " #0: 100%",
            "_model_name": "FloatProgressModel",
            "bar_style": "success",
            "max": 33742,
            "_view_module": "@jupyter-widgets/controls",
            "_model_module_version": "1.5.0",
            "value": 33742,
            "_view_count": null,
            "_view_module_version": "1.5.0",
            "orientation": "horizontal",
            "min": 0,
            "description_tooltip": null,
            "_model_module": "@jupyter-widgets/controls",
            "layout": "IPY_MODEL_e078cb9c66ab407184bfe7d7d370538e"
          }
        },
        "06cf47252ed74924abdee42bd81312cb": {
          "model_module": "@jupyter-widgets/controls",
          "model_name": "HTMLModel",
          "state": {
            "_view_name": "HTMLView",
            "style": "IPY_MODEL_9a4c4e2f1f564c0cac1dd941595b264a",
            "_dom_classes": [],
            "description": "",
            "_model_name": "HTMLModel",
            "placeholder": "​",
            "_view_module": "@jupyter-widgets/controls",
            "_model_module_version": "1.5.0",
            "value": " 33742/33742 [01:17&lt;00:00, 437.72ex/s]",
            "_view_count": null,
            "_view_module_version": "1.5.0",
            "description_tooltip": null,
            "_model_module": "@jupyter-widgets/controls",
            "layout": "IPY_MODEL_8316c8246ec946239e19aa6e1f39992c"
          }
        },
        "f3eaef754fc14100ae010d61ae43c61d": {
          "model_module": "@jupyter-widgets/controls",
          "model_name": "ProgressStyleModel",
          "state": {
            "_view_name": "StyleView",
            "_model_name": "ProgressStyleModel",
            "description_width": "initial",
            "_view_module": "@jupyter-widgets/base",
            "_model_module_version": "1.5.0",
            "_view_count": null,
            "_view_module_version": "1.2.0",
            "bar_color": null,
            "_model_module": "@jupyter-widgets/controls"
          }
        },
        "e078cb9c66ab407184bfe7d7d370538e": {
          "model_module": "@jupyter-widgets/base",
          "model_name": "LayoutModel",
          "state": {
            "_view_name": "LayoutView",
            "grid_template_rows": null,
            "right": null,
            "justify_content": null,
            "_view_module": "@jupyter-widgets/base",
            "overflow": null,
            "_model_module_version": "1.2.0",
            "_view_count": null,
            "flex_flow": null,
            "width": null,
            "min_width": null,
            "border": null,
            "align_items": null,
            "bottom": null,
            "_model_module": "@jupyter-widgets/base",
            "top": null,
            "grid_column": null,
            "overflow_y": null,
            "overflow_x": null,
            "grid_auto_flow": null,
            "grid_area": null,
            "grid_template_columns": null,
            "flex": null,
            "_model_name": "LayoutModel",
            "justify_items": null,
            "grid_row": null,
            "max_height": null,
            "align_content": null,
            "visibility": null,
            "align_self": null,
            "height": null,
            "min_height": null,
            "padding": null,
            "grid_auto_rows": null,
            "grid_gap": null,
            "max_width": null,
            "order": null,
            "_view_module_version": "1.2.0",
            "grid_template_areas": null,
            "object_position": null,
            "object_fit": null,
            "grid_auto_columns": null,
            "margin": null,
            "display": null,
            "left": null
          }
        },
        "9a4c4e2f1f564c0cac1dd941595b264a": {
          "model_module": "@jupyter-widgets/controls",
          "model_name": "DescriptionStyleModel",
          "state": {
            "_view_name": "StyleView",
            "_model_name": "DescriptionStyleModel",
            "description_width": "",
            "_view_module": "@jupyter-widgets/base",
            "_model_module_version": "1.5.0",
            "_view_count": null,
            "_view_module_version": "1.2.0",
            "_model_module": "@jupyter-widgets/controls"
          }
        },
        "8316c8246ec946239e19aa6e1f39992c": {
          "model_module": "@jupyter-widgets/base",
          "model_name": "LayoutModel",
          "state": {
            "_view_name": "LayoutView",
            "grid_template_rows": null,
            "right": null,
            "justify_content": null,
            "_view_module": "@jupyter-widgets/base",
            "overflow": null,
            "_model_module_version": "1.2.0",
            "_view_count": null,
            "flex_flow": null,
            "width": null,
            "min_width": null,
            "border": null,
            "align_items": null,
            "bottom": null,
            "_model_module": "@jupyter-widgets/base",
            "top": null,
            "grid_column": null,
            "overflow_y": null,
            "overflow_x": null,
            "grid_auto_flow": null,
            "grid_area": null,
            "grid_template_columns": null,
            "flex": null,
            "_model_name": "LayoutModel",
            "justify_items": null,
            "grid_row": null,
            "max_height": null,
            "align_content": null,
            "visibility": null,
            "align_self": null,
            "height": null,
            "min_height": null,
            "padding": null,
            "grid_auto_rows": null,
            "grid_gap": null,
            "max_width": null,
            "order": null,
            "_view_module_version": "1.2.0",
            "grid_template_areas": null,
            "object_position": null,
            "object_fit": null,
            "grid_auto_columns": null,
            "margin": null,
            "display": null,
            "left": null
          }
        },
        "5a4e6b6be476433e88015693c316325b": {
          "model_module": "@jupyter-widgets/controls",
          "model_name": "HBoxModel",
          "state": {
            "_view_name": "HBoxView",
            "_dom_classes": [],
            "_model_name": "HBoxModel",
            "_view_module": "@jupyter-widgets/controls",
            "_model_module_version": "1.5.0",
            "_view_count": null,
            "_view_module_version": "1.5.0",
            "box_style": "",
            "layout": "IPY_MODEL_365ad4c150a5401fad90651a5151deec",
            "_model_module": "@jupyter-widgets/controls",
            "children": [
              "IPY_MODEL_b07a9b30ef814b4aad64b7e501769691",
              "IPY_MODEL_abff91a796b745489410c4d2b53ce884"
            ]
          }
        },
        "365ad4c150a5401fad90651a5151deec": {
          "model_module": "@jupyter-widgets/base",
          "model_name": "LayoutModel",
          "state": {
            "_view_name": "LayoutView",
            "grid_template_rows": null,
            "right": null,
            "justify_content": null,
            "_view_module": "@jupyter-widgets/base",
            "overflow": null,
            "_model_module_version": "1.2.0",
            "_view_count": null,
            "flex_flow": null,
            "width": null,
            "min_width": null,
            "border": null,
            "align_items": null,
            "bottom": null,
            "_model_module": "@jupyter-widgets/base",
            "top": null,
            "grid_column": null,
            "overflow_y": null,
            "overflow_x": null,
            "grid_auto_flow": null,
            "grid_area": null,
            "grid_template_columns": null,
            "flex": null,
            "_model_name": "LayoutModel",
            "justify_items": null,
            "grid_row": null,
            "max_height": null,
            "align_content": null,
            "visibility": null,
            "align_self": null,
            "height": null,
            "min_height": null,
            "padding": null,
            "grid_auto_rows": null,
            "grid_gap": null,
            "max_width": null,
            "order": null,
            "_view_module_version": "1.2.0",
            "grid_template_areas": null,
            "object_position": null,
            "object_fit": null,
            "grid_auto_columns": null,
            "margin": null,
            "display": null,
            "left": null
          }
        },
        "b07a9b30ef814b4aad64b7e501769691": {
          "model_module": "@jupyter-widgets/controls",
          "model_name": "FloatProgressModel",
          "state": {
            "_view_name": "ProgressView",
            "style": "IPY_MODEL_8914f1bb19cb47e7b36ab8be90aa81ed",
            "_dom_classes": [],
            "description": " #1: 100%",
            "_model_name": "FloatProgressModel",
            "bar_style": "success",
            "max": 33742,
            "_view_module": "@jupyter-widgets/controls",
            "_model_module_version": "1.5.0",
            "value": 33742,
            "_view_count": null,
            "_view_module_version": "1.5.0",
            "orientation": "horizontal",
            "min": 0,
            "description_tooltip": null,
            "_model_module": "@jupyter-widgets/controls",
            "layout": "IPY_MODEL_7537b611a66b49f2afeedd407bdbb049"
          }
        },
        "abff91a796b745489410c4d2b53ce884": {
          "model_module": "@jupyter-widgets/controls",
          "model_name": "HTMLModel",
          "state": {
            "_view_name": "HTMLView",
            "style": "IPY_MODEL_47da3b49f1624b2ebdf8a7ef397b707c",
            "_dom_classes": [],
            "description": "",
            "_model_name": "HTMLModel",
            "placeholder": "​",
            "_view_module": "@jupyter-widgets/controls",
            "_model_module_version": "1.5.0",
            "value": " 33742/33742 [01:17&lt;00:00, 433.83ex/s]",
            "_view_count": null,
            "_view_module_version": "1.5.0",
            "description_tooltip": null,
            "_model_module": "@jupyter-widgets/controls",
            "layout": "IPY_MODEL_2cd32a6b5c5040b5b6940a90bfc1429c"
          }
        },
        "8914f1bb19cb47e7b36ab8be90aa81ed": {
          "model_module": "@jupyter-widgets/controls",
          "model_name": "ProgressStyleModel",
          "state": {
            "_view_name": "StyleView",
            "_model_name": "ProgressStyleModel",
            "description_width": "initial",
            "_view_module": "@jupyter-widgets/base",
            "_model_module_version": "1.5.0",
            "_view_count": null,
            "_view_module_version": "1.2.0",
            "bar_color": null,
            "_model_module": "@jupyter-widgets/controls"
          }
        },
        "7537b611a66b49f2afeedd407bdbb049": {
          "model_module": "@jupyter-widgets/base",
          "model_name": "LayoutModel",
          "state": {
            "_view_name": "LayoutView",
            "grid_template_rows": null,
            "right": null,
            "justify_content": null,
            "_view_module": "@jupyter-widgets/base",
            "overflow": null,
            "_model_module_version": "1.2.0",
            "_view_count": null,
            "flex_flow": null,
            "width": null,
            "min_width": null,
            "border": null,
            "align_items": null,
            "bottom": null,
            "_model_module": "@jupyter-widgets/base",
            "top": null,
            "grid_column": null,
            "overflow_y": null,
            "overflow_x": null,
            "grid_auto_flow": null,
            "grid_area": null,
            "grid_template_columns": null,
            "flex": null,
            "_model_name": "LayoutModel",
            "justify_items": null,
            "grid_row": null,
            "max_height": null,
            "align_content": null,
            "visibility": null,
            "align_self": null,
            "height": null,
            "min_height": null,
            "padding": null,
            "grid_auto_rows": null,
            "grid_gap": null,
            "max_width": null,
            "order": null,
            "_view_module_version": "1.2.0",
            "grid_template_areas": null,
            "object_position": null,
            "object_fit": null,
            "grid_auto_columns": null,
            "margin": null,
            "display": null,
            "left": null
          }
        },
        "47da3b49f1624b2ebdf8a7ef397b707c": {
          "model_module": "@jupyter-widgets/controls",
          "model_name": "DescriptionStyleModel",
          "state": {
            "_view_name": "StyleView",
            "_model_name": "DescriptionStyleModel",
            "description_width": "",
            "_view_module": "@jupyter-widgets/base",
            "_model_module_version": "1.5.0",
            "_view_count": null,
            "_view_module_version": "1.2.0",
            "_model_module": "@jupyter-widgets/controls"
          }
        },
        "2cd32a6b5c5040b5b6940a90bfc1429c": {
          "model_module": "@jupyter-widgets/base",
          "model_name": "LayoutModel",
          "state": {
            "_view_name": "LayoutView",
            "grid_template_rows": null,
            "right": null,
            "justify_content": null,
            "_view_module": "@jupyter-widgets/base",
            "overflow": null,
            "_model_module_version": "1.2.0",
            "_view_count": null,
            "flex_flow": null,
            "width": null,
            "min_width": null,
            "border": null,
            "align_items": null,
            "bottom": null,
            "_model_module": "@jupyter-widgets/base",
            "top": null,
            "grid_column": null,
            "overflow_y": null,
            "overflow_x": null,
            "grid_auto_flow": null,
            "grid_area": null,
            "grid_template_columns": null,
            "flex": null,
            "_model_name": "LayoutModel",
            "justify_items": null,
            "grid_row": null,
            "max_height": null,
            "align_content": null,
            "visibility": null,
            "align_self": null,
            "height": null,
            "min_height": null,
            "padding": null,
            "grid_auto_rows": null,
            "grid_gap": null,
            "max_width": null,
            "order": null,
            "_view_module_version": "1.2.0",
            "grid_template_areas": null,
            "object_position": null,
            "object_fit": null,
            "grid_auto_columns": null,
            "margin": null,
            "display": null,
            "left": null
          }
        },
        "845b76dccfa34491846e337b2ec415ea": {
          "model_module": "@jupyter-widgets/controls",
          "model_name": "HBoxModel",
          "state": {
            "_view_name": "HBoxView",
            "_dom_classes": [],
            "_model_name": "HBoxModel",
            "_view_module": "@jupyter-widgets/controls",
            "_model_module_version": "1.5.0",
            "_view_count": null,
            "_view_module_version": "1.5.0",
            "box_style": "",
            "layout": "IPY_MODEL_375be6ad2d624e2b9c26a2ec9c675342",
            "_model_module": "@jupyter-widgets/controls",
            "children": [
              "IPY_MODEL_7bb8c9b96e284d50822fb85425c69cef",
              "IPY_MODEL_2aa86bba20f34261b6755da62d03c78f"
            ]
          }
        },
        "375be6ad2d624e2b9c26a2ec9c675342": {
          "model_module": "@jupyter-widgets/base",
          "model_name": "LayoutModel",
          "state": {
            "_view_name": "LayoutView",
            "grid_template_rows": null,
            "right": null,
            "justify_content": null,
            "_view_module": "@jupyter-widgets/base",
            "overflow": null,
            "_model_module_version": "1.2.0",
            "_view_count": null,
            "flex_flow": null,
            "width": null,
            "min_width": null,
            "border": null,
            "align_items": null,
            "bottom": null,
            "_model_module": "@jupyter-widgets/base",
            "top": null,
            "grid_column": null,
            "overflow_y": null,
            "overflow_x": null,
            "grid_auto_flow": null,
            "grid_area": null,
            "grid_template_columns": null,
            "flex": null,
            "_model_name": "LayoutModel",
            "justify_items": null,
            "grid_row": null,
            "max_height": null,
            "align_content": null,
            "visibility": null,
            "align_self": null,
            "height": null,
            "min_height": null,
            "padding": null,
            "grid_auto_rows": null,
            "grid_gap": null,
            "max_width": null,
            "order": null,
            "_view_module_version": "1.2.0",
            "grid_template_areas": null,
            "object_position": null,
            "object_fit": null,
            "grid_auto_columns": null,
            "margin": null,
            "display": null,
            "left": null
          }
        },
        "7bb8c9b96e284d50822fb85425c69cef": {
          "model_module": "@jupyter-widgets/controls",
          "model_name": "FloatProgressModel",
          "state": {
            "_view_name": "ProgressView",
            "style": "IPY_MODEL_3f03b79e6deb4c7ead81ab9888f59959",
            "_dom_classes": [],
            "description": " #3: 100%",
            "_model_name": "FloatProgressModel",
            "bar_style": "success",
            "max": 33741,
            "_view_module": "@jupyter-widgets/controls",
            "_model_module_version": "1.5.0",
            "value": 33741,
            "_view_count": null,
            "_view_module_version": "1.5.0",
            "orientation": "horizontal",
            "min": 0,
            "description_tooltip": null,
            "_model_module": "@jupyter-widgets/controls",
            "layout": "IPY_MODEL_d3ab16b1b99740569fe6eda8d25b8b97"
          }
        },
        "2aa86bba20f34261b6755da62d03c78f": {
          "model_module": "@jupyter-widgets/controls",
          "model_name": "HTMLModel",
          "state": {
            "_view_name": "HTMLView",
            "style": "IPY_MODEL_e31eb15253814f5abb054f0dd0d25b56",
            "_dom_classes": [],
            "description": "",
            "_model_name": "HTMLModel",
            "placeholder": "​",
            "_view_module": "@jupyter-widgets/controls",
            "_model_module_version": "1.5.0",
            "value": " 33741/33741 [01:17&lt;00:00, 437.39ex/s]",
            "_view_count": null,
            "_view_module_version": "1.5.0",
            "description_tooltip": null,
            "_model_module": "@jupyter-widgets/controls",
            "layout": "IPY_MODEL_66aa351c58b944db860f7edf28a738c8"
          }
        },
        "3f03b79e6deb4c7ead81ab9888f59959": {
          "model_module": "@jupyter-widgets/controls",
          "model_name": "ProgressStyleModel",
          "state": {
            "_view_name": "StyleView",
            "_model_name": "ProgressStyleModel",
            "description_width": "initial",
            "_view_module": "@jupyter-widgets/base",
            "_model_module_version": "1.5.0",
            "_view_count": null,
            "_view_module_version": "1.2.0",
            "bar_color": null,
            "_model_module": "@jupyter-widgets/controls"
          }
        },
        "d3ab16b1b99740569fe6eda8d25b8b97": {
          "model_module": "@jupyter-widgets/base",
          "model_name": "LayoutModel",
          "state": {
            "_view_name": "LayoutView",
            "grid_template_rows": null,
            "right": null,
            "justify_content": null,
            "_view_module": "@jupyter-widgets/base",
            "overflow": null,
            "_model_module_version": "1.2.0",
            "_view_count": null,
            "flex_flow": null,
            "width": null,
            "min_width": null,
            "border": null,
            "align_items": null,
            "bottom": null,
            "_model_module": "@jupyter-widgets/base",
            "top": null,
            "grid_column": null,
            "overflow_y": null,
            "overflow_x": null,
            "grid_auto_flow": null,
            "grid_area": null,
            "grid_template_columns": null,
            "flex": null,
            "_model_name": "LayoutModel",
            "justify_items": null,
            "grid_row": null,
            "max_height": null,
            "align_content": null,
            "visibility": null,
            "align_self": null,
            "height": null,
            "min_height": null,
            "padding": null,
            "grid_auto_rows": null,
            "grid_gap": null,
            "max_width": null,
            "order": null,
            "_view_module_version": "1.2.0",
            "grid_template_areas": null,
            "object_position": null,
            "object_fit": null,
            "grid_auto_columns": null,
            "margin": null,
            "display": null,
            "left": null
          }
        },
        "e31eb15253814f5abb054f0dd0d25b56": {
          "model_module": "@jupyter-widgets/controls",
          "model_name": "DescriptionStyleModel",
          "state": {
            "_view_name": "StyleView",
            "_model_name": "DescriptionStyleModel",
            "description_width": "",
            "_view_module": "@jupyter-widgets/base",
            "_model_module_version": "1.5.0",
            "_view_count": null,
            "_view_module_version": "1.2.0",
            "_model_module": "@jupyter-widgets/controls"
          }
        },
        "66aa351c58b944db860f7edf28a738c8": {
          "model_module": "@jupyter-widgets/base",
          "model_name": "LayoutModel",
          "state": {
            "_view_name": "LayoutView",
            "grid_template_rows": null,
            "right": null,
            "justify_content": null,
            "_view_module": "@jupyter-widgets/base",
            "overflow": null,
            "_model_module_version": "1.2.0",
            "_view_count": null,
            "flex_flow": null,
            "width": null,
            "min_width": null,
            "border": null,
            "align_items": null,
            "bottom": null,
            "_model_module": "@jupyter-widgets/base",
            "top": null,
            "grid_column": null,
            "overflow_y": null,
            "overflow_x": null,
            "grid_auto_flow": null,
            "grid_area": null,
            "grid_template_columns": null,
            "flex": null,
            "_model_name": "LayoutModel",
            "justify_items": null,
            "grid_row": null,
            "max_height": null,
            "align_content": null,
            "visibility": null,
            "align_self": null,
            "height": null,
            "min_height": null,
            "padding": null,
            "grid_auto_rows": null,
            "grid_gap": null,
            "max_width": null,
            "order": null,
            "_view_module_version": "1.2.0",
            "grid_template_areas": null,
            "object_position": null,
            "object_fit": null,
            "grid_auto_columns": null,
            "margin": null,
            "display": null,
            "left": null
          }
        },
        "2b459736f47447eba9163b1679d6f1d0": {
          "model_module": "@jupyter-widgets/controls",
          "model_name": "HBoxModel",
          "state": {
            "_view_name": "HBoxView",
            "_dom_classes": [],
            "_model_name": "HBoxModel",
            "_view_module": "@jupyter-widgets/controls",
            "_model_module_version": "1.5.0",
            "_view_count": null,
            "_view_module_version": "1.5.0",
            "box_style": "",
            "layout": "IPY_MODEL_32a482167e7d4178957a940b0114792e",
            "_model_module": "@jupyter-widgets/controls",
            "children": [
              "IPY_MODEL_831333c1e03e429cb61f869c8c308662",
              "IPY_MODEL_d6243255ba0d48888863a4b82230216e"
            ]
          }
        },
        "32a482167e7d4178957a940b0114792e": {
          "model_module": "@jupyter-widgets/base",
          "model_name": "LayoutModel",
          "state": {
            "_view_name": "LayoutView",
            "grid_template_rows": null,
            "right": null,
            "justify_content": null,
            "_view_module": "@jupyter-widgets/base",
            "overflow": null,
            "_model_module_version": "1.2.0",
            "_view_count": null,
            "flex_flow": null,
            "width": null,
            "min_width": null,
            "border": null,
            "align_items": null,
            "bottom": null,
            "_model_module": "@jupyter-widgets/base",
            "top": null,
            "grid_column": null,
            "overflow_y": null,
            "overflow_x": null,
            "grid_auto_flow": null,
            "grid_area": null,
            "grid_template_columns": null,
            "flex": null,
            "_model_name": "LayoutModel",
            "justify_items": null,
            "grid_row": null,
            "max_height": null,
            "align_content": null,
            "visibility": null,
            "align_self": null,
            "height": null,
            "min_height": null,
            "padding": null,
            "grid_auto_rows": null,
            "grid_gap": null,
            "max_width": null,
            "order": null,
            "_view_module_version": "1.2.0",
            "grid_template_areas": null,
            "object_position": null,
            "object_fit": null,
            "grid_auto_columns": null,
            "margin": null,
            "display": null,
            "left": null
          }
        },
        "831333c1e03e429cb61f869c8c308662": {
          "model_module": "@jupyter-widgets/controls",
          "model_name": "FloatProgressModel",
          "state": {
            "_view_name": "ProgressView",
            "style": "IPY_MODEL_aa240437d7614091b88d2ca44d59791b",
            "_dom_classes": [],
            "description": " #2: 100%",
            "_model_name": "FloatProgressModel",
            "bar_style": "success",
            "max": 33741,
            "_view_module": "@jupyter-widgets/controls",
            "_model_module_version": "1.5.0",
            "value": 33741,
            "_view_count": null,
            "_view_module_version": "1.5.0",
            "orientation": "horizontal",
            "min": 0,
            "description_tooltip": null,
            "_model_module": "@jupyter-widgets/controls",
            "layout": "IPY_MODEL_b2da589d739d45e4a02b1c717c323533"
          }
        },
        "d6243255ba0d48888863a4b82230216e": {
          "model_module": "@jupyter-widgets/controls",
          "model_name": "HTMLModel",
          "state": {
            "_view_name": "HTMLView",
            "style": "IPY_MODEL_f68a7354860f460281f26ab8372f7dc5",
            "_dom_classes": [],
            "description": "",
            "_model_name": "HTMLModel",
            "placeholder": "​",
            "_view_module": "@jupyter-widgets/controls",
            "_model_module_version": "1.5.0",
            "value": " 33741/33741 [01:17&lt;00:00, 435.48ex/s]",
            "_view_count": null,
            "_view_module_version": "1.5.0",
            "description_tooltip": null,
            "_model_module": "@jupyter-widgets/controls",
            "layout": "IPY_MODEL_f49203d5598d4a62879e3f2cee293bc8"
          }
        },
        "aa240437d7614091b88d2ca44d59791b": {
          "model_module": "@jupyter-widgets/controls",
          "model_name": "ProgressStyleModel",
          "state": {
            "_view_name": "StyleView",
            "_model_name": "ProgressStyleModel",
            "description_width": "initial",
            "_view_module": "@jupyter-widgets/base",
            "_model_module_version": "1.5.0",
            "_view_count": null,
            "_view_module_version": "1.2.0",
            "bar_color": null,
            "_model_module": "@jupyter-widgets/controls"
          }
        },
        "b2da589d739d45e4a02b1c717c323533": {
          "model_module": "@jupyter-widgets/base",
          "model_name": "LayoutModel",
          "state": {
            "_view_name": "LayoutView",
            "grid_template_rows": null,
            "right": null,
            "justify_content": null,
            "_view_module": "@jupyter-widgets/base",
            "overflow": null,
            "_model_module_version": "1.2.0",
            "_view_count": null,
            "flex_flow": null,
            "width": null,
            "min_width": null,
            "border": null,
            "align_items": null,
            "bottom": null,
            "_model_module": "@jupyter-widgets/base",
            "top": null,
            "grid_column": null,
            "overflow_y": null,
            "overflow_x": null,
            "grid_auto_flow": null,
            "grid_area": null,
            "grid_template_columns": null,
            "flex": null,
            "_model_name": "LayoutModel",
            "justify_items": null,
            "grid_row": null,
            "max_height": null,
            "align_content": null,
            "visibility": null,
            "align_self": null,
            "height": null,
            "min_height": null,
            "padding": null,
            "grid_auto_rows": null,
            "grid_gap": null,
            "max_width": null,
            "order": null,
            "_view_module_version": "1.2.0",
            "grid_template_areas": null,
            "object_position": null,
            "object_fit": null,
            "grid_auto_columns": null,
            "margin": null,
            "display": null,
            "left": null
          }
        },
        "f68a7354860f460281f26ab8372f7dc5": {
          "model_module": "@jupyter-widgets/controls",
          "model_name": "DescriptionStyleModel",
          "state": {
            "_view_name": "StyleView",
            "_model_name": "DescriptionStyleModel",
            "description_width": "",
            "_view_module": "@jupyter-widgets/base",
            "_model_module_version": "1.5.0",
            "_view_count": null,
            "_view_module_version": "1.2.0",
            "_model_module": "@jupyter-widgets/controls"
          }
        },
        "f49203d5598d4a62879e3f2cee293bc8": {
          "model_module": "@jupyter-widgets/base",
          "model_name": "LayoutModel",
          "state": {
            "_view_name": "LayoutView",
            "grid_template_rows": null,
            "right": null,
            "justify_content": null,
            "_view_module": "@jupyter-widgets/base",
            "overflow": null,
            "_model_module_version": "1.2.0",
            "_view_count": null,
            "flex_flow": null,
            "width": null,
            "min_width": null,
            "border": null,
            "align_items": null,
            "bottom": null,
            "_model_module": "@jupyter-widgets/base",
            "top": null,
            "grid_column": null,
            "overflow_y": null,
            "overflow_x": null,
            "grid_auto_flow": null,
            "grid_area": null,
            "grid_template_columns": null,
            "flex": null,
            "_model_name": "LayoutModel",
            "justify_items": null,
            "grid_row": null,
            "max_height": null,
            "align_content": null,
            "visibility": null,
            "align_self": null,
            "height": null,
            "min_height": null,
            "padding": null,
            "grid_auto_rows": null,
            "grid_gap": null,
            "max_width": null,
            "order": null,
            "_view_module_version": "1.2.0",
            "grid_template_areas": null,
            "object_position": null,
            "object_fit": null,
            "grid_auto_columns": null,
            "margin": null,
            "display": null,
            "left": null
          }
        },
        "02c59446975a43e98ee514e517456aa4": {
          "model_module": "@jupyter-widgets/controls",
          "model_name": "HBoxModel",
          "state": {
            "_view_name": "HBoxView",
            "_dom_classes": [],
            "_model_name": "HBoxModel",
            "_view_module": "@jupyter-widgets/controls",
            "_model_module_version": "1.5.0",
            "_view_count": null,
            "_view_module_version": "1.5.0",
            "box_style": "",
            "layout": "IPY_MODEL_88954c7eb5bc4d068c27308c5e48313a",
            "_model_module": "@jupyter-widgets/controls",
            "children": [
              "IPY_MODEL_260f703503064c8fb7171039f721fa60",
              "IPY_MODEL_2b908c714cb34ba98165824fe1e51edb"
            ]
          }
        },
        "88954c7eb5bc4d068c27308c5e48313a": {
          "model_module": "@jupyter-widgets/base",
          "model_name": "LayoutModel",
          "state": {
            "_view_name": "LayoutView",
            "grid_template_rows": null,
            "right": null,
            "justify_content": null,
            "_view_module": "@jupyter-widgets/base",
            "overflow": null,
            "_model_module_version": "1.2.0",
            "_view_count": null,
            "flex_flow": null,
            "width": null,
            "min_width": null,
            "border": null,
            "align_items": null,
            "bottom": null,
            "_model_module": "@jupyter-widgets/base",
            "top": null,
            "grid_column": null,
            "overflow_y": null,
            "overflow_x": null,
            "grid_auto_flow": null,
            "grid_area": null,
            "grid_template_columns": null,
            "flex": null,
            "_model_name": "LayoutModel",
            "justify_items": null,
            "grid_row": null,
            "max_height": null,
            "align_content": null,
            "visibility": null,
            "align_self": null,
            "height": null,
            "min_height": null,
            "padding": null,
            "grid_auto_rows": null,
            "grid_gap": null,
            "max_width": null,
            "order": null,
            "_view_module_version": "1.2.0",
            "grid_template_areas": null,
            "object_position": null,
            "object_fit": null,
            "grid_auto_columns": null,
            "margin": null,
            "display": null,
            "left": null
          }
        },
        "260f703503064c8fb7171039f721fa60": {
          "model_module": "@jupyter-widgets/controls",
          "model_name": "FloatProgressModel",
          "state": {
            "_view_name": "ProgressView",
            "style": "IPY_MODEL_a6975b95c077495e940d1161eff1fdfc",
            "_dom_classes": [],
            "description": " #3: 100%",
            "_model_name": "FloatProgressModel",
            "bar_style": "success",
            "max": 2509,
            "_view_module": "@jupyter-widgets/controls",
            "_model_module_version": "1.5.0",
            "value": 2509,
            "_view_count": null,
            "_view_module_version": "1.5.0",
            "orientation": "horizontal",
            "min": 0,
            "description_tooltip": null,
            "_model_module": "@jupyter-widgets/controls",
            "layout": "IPY_MODEL_3d1b93c0b72f47ffb2aace26993e8043"
          }
        },
        "2b908c714cb34ba98165824fe1e51edb": {
          "model_module": "@jupyter-widgets/controls",
          "model_name": "HTMLModel",
          "state": {
            "_view_name": "HTMLView",
            "style": "IPY_MODEL_9ced9f35e7cc4afc8476ccc31eefd338",
            "_dom_classes": [],
            "description": "",
            "_model_name": "HTMLModel",
            "placeholder": "​",
            "_view_module": "@jupyter-widgets/controls",
            "_model_module_version": "1.5.0",
            "value": " 2509/2509 [00:06&lt;00:00, 395.63ex/s]",
            "_view_count": null,
            "_view_module_version": "1.5.0",
            "description_tooltip": null,
            "_model_module": "@jupyter-widgets/controls",
            "layout": "IPY_MODEL_f7a4eb077b6147ef95eb1a03a7986201"
          }
        },
        "a6975b95c077495e940d1161eff1fdfc": {
          "model_module": "@jupyter-widgets/controls",
          "model_name": "ProgressStyleModel",
          "state": {
            "_view_name": "StyleView",
            "_model_name": "ProgressStyleModel",
            "description_width": "initial",
            "_view_module": "@jupyter-widgets/base",
            "_model_module_version": "1.5.0",
            "_view_count": null,
            "_view_module_version": "1.2.0",
            "bar_color": null,
            "_model_module": "@jupyter-widgets/controls"
          }
        },
        "3d1b93c0b72f47ffb2aace26993e8043": {
          "model_module": "@jupyter-widgets/base",
          "model_name": "LayoutModel",
          "state": {
            "_view_name": "LayoutView",
            "grid_template_rows": null,
            "right": null,
            "justify_content": null,
            "_view_module": "@jupyter-widgets/base",
            "overflow": null,
            "_model_module_version": "1.2.0",
            "_view_count": null,
            "flex_flow": null,
            "width": null,
            "min_width": null,
            "border": null,
            "align_items": null,
            "bottom": null,
            "_model_module": "@jupyter-widgets/base",
            "top": null,
            "grid_column": null,
            "overflow_y": null,
            "overflow_x": null,
            "grid_auto_flow": null,
            "grid_area": null,
            "grid_template_columns": null,
            "flex": null,
            "_model_name": "LayoutModel",
            "justify_items": null,
            "grid_row": null,
            "max_height": null,
            "align_content": null,
            "visibility": null,
            "align_self": null,
            "height": null,
            "min_height": null,
            "padding": null,
            "grid_auto_rows": null,
            "grid_gap": null,
            "max_width": null,
            "order": null,
            "_view_module_version": "1.2.0",
            "grid_template_areas": null,
            "object_position": null,
            "object_fit": null,
            "grid_auto_columns": null,
            "margin": null,
            "display": null,
            "left": null
          }
        },
        "9ced9f35e7cc4afc8476ccc31eefd338": {
          "model_module": "@jupyter-widgets/controls",
          "model_name": "DescriptionStyleModel",
          "state": {
            "_view_name": "StyleView",
            "_model_name": "DescriptionStyleModel",
            "description_width": "",
            "_view_module": "@jupyter-widgets/base",
            "_model_module_version": "1.5.0",
            "_view_count": null,
            "_view_module_version": "1.2.0",
            "_model_module": "@jupyter-widgets/controls"
          }
        },
        "f7a4eb077b6147ef95eb1a03a7986201": {
          "model_module": "@jupyter-widgets/base",
          "model_name": "LayoutModel",
          "state": {
            "_view_name": "LayoutView",
            "grid_template_rows": null,
            "right": null,
            "justify_content": null,
            "_view_module": "@jupyter-widgets/base",
            "overflow": null,
            "_model_module_version": "1.2.0",
            "_view_count": null,
            "flex_flow": null,
            "width": null,
            "min_width": null,
            "border": null,
            "align_items": null,
            "bottom": null,
            "_model_module": "@jupyter-widgets/base",
            "top": null,
            "grid_column": null,
            "overflow_y": null,
            "overflow_x": null,
            "grid_auto_flow": null,
            "grid_area": null,
            "grid_template_columns": null,
            "flex": null,
            "_model_name": "LayoutModel",
            "justify_items": null,
            "grid_row": null,
            "max_height": null,
            "align_content": null,
            "visibility": null,
            "align_self": null,
            "height": null,
            "min_height": null,
            "padding": null,
            "grid_auto_rows": null,
            "grid_gap": null,
            "max_width": null,
            "order": null,
            "_view_module_version": "1.2.0",
            "grid_template_areas": null,
            "object_position": null,
            "object_fit": null,
            "grid_auto_columns": null,
            "margin": null,
            "display": null,
            "left": null
          }
        },
        "694c251ebe1d4d7795ebf859664786b3": {
          "model_module": "@jupyter-widgets/controls",
          "model_name": "HBoxModel",
          "state": {
            "_view_name": "HBoxView",
            "_dom_classes": [],
            "_model_name": "HBoxModel",
            "_view_module": "@jupyter-widgets/controls",
            "_model_module_version": "1.5.0",
            "_view_count": null,
            "_view_module_version": "1.5.0",
            "box_style": "",
            "layout": "IPY_MODEL_792269fbba2944319a2735c1e3fd3514",
            "_model_module": "@jupyter-widgets/controls",
            "children": [
              "IPY_MODEL_70f8c28a42de4825a5e6f9c50eafdcc8",
              "IPY_MODEL_ae621658a5d94d17850a2e3612a681ba"
            ]
          }
        },
        "792269fbba2944319a2735c1e3fd3514": {
          "model_module": "@jupyter-widgets/base",
          "model_name": "LayoutModel",
          "state": {
            "_view_name": "LayoutView",
            "grid_template_rows": null,
            "right": null,
            "justify_content": null,
            "_view_module": "@jupyter-widgets/base",
            "overflow": null,
            "_model_module_version": "1.2.0",
            "_view_count": null,
            "flex_flow": null,
            "width": null,
            "min_width": null,
            "border": null,
            "align_items": null,
            "bottom": null,
            "_model_module": "@jupyter-widgets/base",
            "top": null,
            "grid_column": null,
            "overflow_y": null,
            "overflow_x": null,
            "grid_auto_flow": null,
            "grid_area": null,
            "grid_template_columns": null,
            "flex": null,
            "_model_name": "LayoutModel",
            "justify_items": null,
            "grid_row": null,
            "max_height": null,
            "align_content": null,
            "visibility": null,
            "align_self": null,
            "height": null,
            "min_height": null,
            "padding": null,
            "grid_auto_rows": null,
            "grid_gap": null,
            "max_width": null,
            "order": null,
            "_view_module_version": "1.2.0",
            "grid_template_areas": null,
            "object_position": null,
            "object_fit": null,
            "grid_auto_columns": null,
            "margin": null,
            "display": null,
            "left": null
          }
        },
        "70f8c28a42de4825a5e6f9c50eafdcc8": {
          "model_module": "@jupyter-widgets/controls",
          "model_name": "FloatProgressModel",
          "state": {
            "_view_name": "ProgressView",
            "style": "IPY_MODEL_280997d3fc9e4c979088cde096d2bc9d",
            "_dom_classes": [],
            "description": " #0: 100%",
            "_model_name": "FloatProgressModel",
            "bar_style": "success",
            "max": 2510,
            "_view_module": "@jupyter-widgets/controls",
            "_model_module_version": "1.5.0",
            "value": 2510,
            "_view_count": null,
            "_view_module_version": "1.5.0",
            "orientation": "horizontal",
            "min": 0,
            "description_tooltip": null,
            "_model_module": "@jupyter-widgets/controls",
            "layout": "IPY_MODEL_bb549c73693f498bb112e61937204579"
          }
        },
        "ae621658a5d94d17850a2e3612a681ba": {
          "model_module": "@jupyter-widgets/controls",
          "model_name": "HTMLModel",
          "state": {
            "_view_name": "HTMLView",
            "style": "IPY_MODEL_31ae1aca471a4595b935afc62f3ae852",
            "_dom_classes": [],
            "description": "",
            "_model_name": "HTMLModel",
            "placeholder": "​",
            "_view_module": "@jupyter-widgets/controls",
            "_model_module_version": "1.5.0",
            "value": " 2510/2510 [00:06&lt;00:00, 369.52ex/s]",
            "_view_count": null,
            "_view_module_version": "1.5.0",
            "description_tooltip": null,
            "_model_module": "@jupyter-widgets/controls",
            "layout": "IPY_MODEL_144278d8bf5d457c9ac31edefd68564c"
          }
        },
        "280997d3fc9e4c979088cde096d2bc9d": {
          "model_module": "@jupyter-widgets/controls",
          "model_name": "ProgressStyleModel",
          "state": {
            "_view_name": "StyleView",
            "_model_name": "ProgressStyleModel",
            "description_width": "initial",
            "_view_module": "@jupyter-widgets/base",
            "_model_module_version": "1.5.0",
            "_view_count": null,
            "_view_module_version": "1.2.0",
            "bar_color": null,
            "_model_module": "@jupyter-widgets/controls"
          }
        },
        "bb549c73693f498bb112e61937204579": {
          "model_module": "@jupyter-widgets/base",
          "model_name": "LayoutModel",
          "state": {
            "_view_name": "LayoutView",
            "grid_template_rows": null,
            "right": null,
            "justify_content": null,
            "_view_module": "@jupyter-widgets/base",
            "overflow": null,
            "_model_module_version": "1.2.0",
            "_view_count": null,
            "flex_flow": null,
            "width": null,
            "min_width": null,
            "border": null,
            "align_items": null,
            "bottom": null,
            "_model_module": "@jupyter-widgets/base",
            "top": null,
            "grid_column": null,
            "overflow_y": null,
            "overflow_x": null,
            "grid_auto_flow": null,
            "grid_area": null,
            "grid_template_columns": null,
            "flex": null,
            "_model_name": "LayoutModel",
            "justify_items": null,
            "grid_row": null,
            "max_height": null,
            "align_content": null,
            "visibility": null,
            "align_self": null,
            "height": null,
            "min_height": null,
            "padding": null,
            "grid_auto_rows": null,
            "grid_gap": null,
            "max_width": null,
            "order": null,
            "_view_module_version": "1.2.0",
            "grid_template_areas": null,
            "object_position": null,
            "object_fit": null,
            "grid_auto_columns": null,
            "margin": null,
            "display": null,
            "left": null
          }
        },
        "31ae1aca471a4595b935afc62f3ae852": {
          "model_module": "@jupyter-widgets/controls",
          "model_name": "DescriptionStyleModel",
          "state": {
            "_view_name": "StyleView",
            "_model_name": "DescriptionStyleModel",
            "description_width": "",
            "_view_module": "@jupyter-widgets/base",
            "_model_module_version": "1.5.0",
            "_view_count": null,
            "_view_module_version": "1.2.0",
            "_model_module": "@jupyter-widgets/controls"
          }
        },
        "144278d8bf5d457c9ac31edefd68564c": {
          "model_module": "@jupyter-widgets/base",
          "model_name": "LayoutModel",
          "state": {
            "_view_name": "LayoutView",
            "grid_template_rows": null,
            "right": null,
            "justify_content": null,
            "_view_module": "@jupyter-widgets/base",
            "overflow": null,
            "_model_module_version": "1.2.0",
            "_view_count": null,
            "flex_flow": null,
            "width": null,
            "min_width": null,
            "border": null,
            "align_items": null,
            "bottom": null,
            "_model_module": "@jupyter-widgets/base",
            "top": null,
            "grid_column": null,
            "overflow_y": null,
            "overflow_x": null,
            "grid_auto_flow": null,
            "grid_area": null,
            "grid_template_columns": null,
            "flex": null,
            "_model_name": "LayoutModel",
            "justify_items": null,
            "grid_row": null,
            "max_height": null,
            "align_content": null,
            "visibility": null,
            "align_self": null,
            "height": null,
            "min_height": null,
            "padding": null,
            "grid_auto_rows": null,
            "grid_gap": null,
            "max_width": null,
            "order": null,
            "_view_module_version": "1.2.0",
            "grid_template_areas": null,
            "object_position": null,
            "object_fit": null,
            "grid_auto_columns": null,
            "margin": null,
            "display": null,
            "left": null
          }
        },
        "8ace4b36dda044678dd63b0cc942807d": {
          "model_module": "@jupyter-widgets/controls",
          "model_name": "HBoxModel",
          "state": {
            "_view_name": "HBoxView",
            "_dom_classes": [],
            "_model_name": "HBoxModel",
            "_view_module": "@jupyter-widgets/controls",
            "_model_module_version": "1.5.0",
            "_view_count": null,
            "_view_module_version": "1.5.0",
            "box_style": "",
            "layout": "IPY_MODEL_6118d354a4ff4fb883fc8339ce0d7f0b",
            "_model_module": "@jupyter-widgets/controls",
            "children": [
              "IPY_MODEL_cb375928d7a0497e9d5621541bb8f2f5",
              "IPY_MODEL_a5cd4081bfec40f684679ce577f9a65c"
            ]
          }
        },
        "6118d354a4ff4fb883fc8339ce0d7f0b": {
          "model_module": "@jupyter-widgets/base",
          "model_name": "LayoutModel",
          "state": {
            "_view_name": "LayoutView",
            "grid_template_rows": null,
            "right": null,
            "justify_content": null,
            "_view_module": "@jupyter-widgets/base",
            "overflow": null,
            "_model_module_version": "1.2.0",
            "_view_count": null,
            "flex_flow": null,
            "width": null,
            "min_width": null,
            "border": null,
            "align_items": null,
            "bottom": null,
            "_model_module": "@jupyter-widgets/base",
            "top": null,
            "grid_column": null,
            "overflow_y": null,
            "overflow_x": null,
            "grid_auto_flow": null,
            "grid_area": null,
            "grid_template_columns": null,
            "flex": null,
            "_model_name": "LayoutModel",
            "justify_items": null,
            "grid_row": null,
            "max_height": null,
            "align_content": null,
            "visibility": null,
            "align_self": null,
            "height": null,
            "min_height": null,
            "padding": null,
            "grid_auto_rows": null,
            "grid_gap": null,
            "max_width": null,
            "order": null,
            "_view_module_version": "1.2.0",
            "grid_template_areas": null,
            "object_position": null,
            "object_fit": null,
            "grid_auto_columns": null,
            "margin": null,
            "display": null,
            "left": null
          }
        },
        "cb375928d7a0497e9d5621541bb8f2f5": {
          "model_module": "@jupyter-widgets/controls",
          "model_name": "FloatProgressModel",
          "state": {
            "_view_name": "ProgressView",
            "style": "IPY_MODEL_e099423af9a94d66be145268ed04a958",
            "_dom_classes": [],
            "description": " #2: 100%",
            "_model_name": "FloatProgressModel",
            "bar_style": "success",
            "max": 2509,
            "_view_module": "@jupyter-widgets/controls",
            "_model_module_version": "1.5.0",
            "value": 2509,
            "_view_count": null,
            "_view_module_version": "1.5.0",
            "orientation": "horizontal",
            "min": 0,
            "description_tooltip": null,
            "_model_module": "@jupyter-widgets/controls",
            "layout": "IPY_MODEL_75d0b20473854ec3a3b3680555503ca0"
          }
        },
        "a5cd4081bfec40f684679ce577f9a65c": {
          "model_module": "@jupyter-widgets/controls",
          "model_name": "HTMLModel",
          "state": {
            "_view_name": "HTMLView",
            "style": "IPY_MODEL_6f86142464574c7facc09fe562236e69",
            "_dom_classes": [],
            "description": "",
            "_model_name": "HTMLModel",
            "placeholder": "​",
            "_view_module": "@jupyter-widgets/controls",
            "_model_module_version": "1.5.0",
            "value": " 2509/2509 [00:06&lt;00:00, 368.37ex/s]",
            "_view_count": null,
            "_view_module_version": "1.5.0",
            "description_tooltip": null,
            "_model_module": "@jupyter-widgets/controls",
            "layout": "IPY_MODEL_b7853774b69c4d679783e894455c189a"
          }
        },
        "e099423af9a94d66be145268ed04a958": {
          "model_module": "@jupyter-widgets/controls",
          "model_name": "ProgressStyleModel",
          "state": {
            "_view_name": "StyleView",
            "_model_name": "ProgressStyleModel",
            "description_width": "initial",
            "_view_module": "@jupyter-widgets/base",
            "_model_module_version": "1.5.0",
            "_view_count": null,
            "_view_module_version": "1.2.0",
            "bar_color": null,
            "_model_module": "@jupyter-widgets/controls"
          }
        },
        "75d0b20473854ec3a3b3680555503ca0": {
          "model_module": "@jupyter-widgets/base",
          "model_name": "LayoutModel",
          "state": {
            "_view_name": "LayoutView",
            "grid_template_rows": null,
            "right": null,
            "justify_content": null,
            "_view_module": "@jupyter-widgets/base",
            "overflow": null,
            "_model_module_version": "1.2.0",
            "_view_count": null,
            "flex_flow": null,
            "width": null,
            "min_width": null,
            "border": null,
            "align_items": null,
            "bottom": null,
            "_model_module": "@jupyter-widgets/base",
            "top": null,
            "grid_column": null,
            "overflow_y": null,
            "overflow_x": null,
            "grid_auto_flow": null,
            "grid_area": null,
            "grid_template_columns": null,
            "flex": null,
            "_model_name": "LayoutModel",
            "justify_items": null,
            "grid_row": null,
            "max_height": null,
            "align_content": null,
            "visibility": null,
            "align_self": null,
            "height": null,
            "min_height": null,
            "padding": null,
            "grid_auto_rows": null,
            "grid_gap": null,
            "max_width": null,
            "order": null,
            "_view_module_version": "1.2.0",
            "grid_template_areas": null,
            "object_position": null,
            "object_fit": null,
            "grid_auto_columns": null,
            "margin": null,
            "display": null,
            "left": null
          }
        },
        "6f86142464574c7facc09fe562236e69": {
          "model_module": "@jupyter-widgets/controls",
          "model_name": "DescriptionStyleModel",
          "state": {
            "_view_name": "StyleView",
            "_model_name": "DescriptionStyleModel",
            "description_width": "",
            "_view_module": "@jupyter-widgets/base",
            "_model_module_version": "1.5.0",
            "_view_count": null,
            "_view_module_version": "1.2.0",
            "_model_module": "@jupyter-widgets/controls"
          }
        },
        "b7853774b69c4d679783e894455c189a": {
          "model_module": "@jupyter-widgets/base",
          "model_name": "LayoutModel",
          "state": {
            "_view_name": "LayoutView",
            "grid_template_rows": null,
            "right": null,
            "justify_content": null,
            "_view_module": "@jupyter-widgets/base",
            "overflow": null,
            "_model_module_version": "1.2.0",
            "_view_count": null,
            "flex_flow": null,
            "width": null,
            "min_width": null,
            "border": null,
            "align_items": null,
            "bottom": null,
            "_model_module": "@jupyter-widgets/base",
            "top": null,
            "grid_column": null,
            "overflow_y": null,
            "overflow_x": null,
            "grid_auto_flow": null,
            "grid_area": null,
            "grid_template_columns": null,
            "flex": null,
            "_model_name": "LayoutModel",
            "justify_items": null,
            "grid_row": null,
            "max_height": null,
            "align_content": null,
            "visibility": null,
            "align_self": null,
            "height": null,
            "min_height": null,
            "padding": null,
            "grid_auto_rows": null,
            "grid_gap": null,
            "max_width": null,
            "order": null,
            "_view_module_version": "1.2.0",
            "grid_template_areas": null,
            "object_position": null,
            "object_fit": null,
            "grid_auto_columns": null,
            "margin": null,
            "display": null,
            "left": null
          }
        },
        "8b3f2e68aefa4489afa9f5b0f687eb1f": {
          "model_module": "@jupyter-widgets/controls",
          "model_name": "HBoxModel",
          "state": {
            "_view_name": "HBoxView",
            "_dom_classes": [],
            "_model_name": "HBoxModel",
            "_view_module": "@jupyter-widgets/controls",
            "_model_module_version": "1.5.0",
            "_view_count": null,
            "_view_module_version": "1.5.0",
            "box_style": "",
            "layout": "IPY_MODEL_f4ef391154104ac89e8f1aab06ee6141",
            "_model_module": "@jupyter-widgets/controls",
            "children": [
              "IPY_MODEL_dbac948a840d4fb49e06eb481176de1c",
              "IPY_MODEL_6ee74cf1552c46a787ec2856921056b2"
            ]
          }
        },
        "f4ef391154104ac89e8f1aab06ee6141": {
          "model_module": "@jupyter-widgets/base",
          "model_name": "LayoutModel",
          "state": {
            "_view_name": "LayoutView",
            "grid_template_rows": null,
            "right": null,
            "justify_content": null,
            "_view_module": "@jupyter-widgets/base",
            "overflow": null,
            "_model_module_version": "1.2.0",
            "_view_count": null,
            "flex_flow": null,
            "width": null,
            "min_width": null,
            "border": null,
            "align_items": null,
            "bottom": null,
            "_model_module": "@jupyter-widgets/base",
            "top": null,
            "grid_column": null,
            "overflow_y": null,
            "overflow_x": null,
            "grid_auto_flow": null,
            "grid_area": null,
            "grid_template_columns": null,
            "flex": null,
            "_model_name": "LayoutModel",
            "justify_items": null,
            "grid_row": null,
            "max_height": null,
            "align_content": null,
            "visibility": null,
            "align_self": null,
            "height": null,
            "min_height": null,
            "padding": null,
            "grid_auto_rows": null,
            "grid_gap": null,
            "max_width": null,
            "order": null,
            "_view_module_version": "1.2.0",
            "grid_template_areas": null,
            "object_position": null,
            "object_fit": null,
            "grid_auto_columns": null,
            "margin": null,
            "display": null,
            "left": null
          }
        },
        "dbac948a840d4fb49e06eb481176de1c": {
          "model_module": "@jupyter-widgets/controls",
          "model_name": "FloatProgressModel",
          "state": {
            "_view_name": "ProgressView",
            "style": "IPY_MODEL_00f10da92aff4469a1f16bf05f3c33b1",
            "_dom_classes": [],
            "description": " #1: 100%",
            "_model_name": "FloatProgressModel",
            "bar_style": "success",
            "max": 2509,
            "_view_module": "@jupyter-widgets/controls",
            "_model_module_version": "1.5.0",
            "value": 2509,
            "_view_count": null,
            "_view_module_version": "1.5.0",
            "orientation": "horizontal",
            "min": 0,
            "description_tooltip": null,
            "_model_module": "@jupyter-widgets/controls",
            "layout": "IPY_MODEL_824345adb2954a93979befc9fbfe0989"
          }
        },
        "6ee74cf1552c46a787ec2856921056b2": {
          "model_module": "@jupyter-widgets/controls",
          "model_name": "HTMLModel",
          "state": {
            "_view_name": "HTMLView",
            "style": "IPY_MODEL_ed5a1c01944248ffa2d1c93e191fac53",
            "_dom_classes": [],
            "description": "",
            "_model_name": "HTMLModel",
            "placeholder": "​",
            "_view_module": "@jupyter-widgets/controls",
            "_model_module_version": "1.5.0",
            "value": " 2509/2509 [00:06&lt;00:00, 358.92ex/s]",
            "_view_count": null,
            "_view_module_version": "1.5.0",
            "description_tooltip": null,
            "_model_module": "@jupyter-widgets/controls",
            "layout": "IPY_MODEL_b069cdbeb5424c1a9c010f626526f24f"
          }
        },
        "00f10da92aff4469a1f16bf05f3c33b1": {
          "model_module": "@jupyter-widgets/controls",
          "model_name": "ProgressStyleModel",
          "state": {
            "_view_name": "StyleView",
            "_model_name": "ProgressStyleModel",
            "description_width": "initial",
            "_view_module": "@jupyter-widgets/base",
            "_model_module_version": "1.5.0",
            "_view_count": null,
            "_view_module_version": "1.2.0",
            "bar_color": null,
            "_model_module": "@jupyter-widgets/controls"
          }
        },
        "824345adb2954a93979befc9fbfe0989": {
          "model_module": "@jupyter-widgets/base",
          "model_name": "LayoutModel",
          "state": {
            "_view_name": "LayoutView",
            "grid_template_rows": null,
            "right": null,
            "justify_content": null,
            "_view_module": "@jupyter-widgets/base",
            "overflow": null,
            "_model_module_version": "1.2.0",
            "_view_count": null,
            "flex_flow": null,
            "width": null,
            "min_width": null,
            "border": null,
            "align_items": null,
            "bottom": null,
            "_model_module": "@jupyter-widgets/base",
            "top": null,
            "grid_column": null,
            "overflow_y": null,
            "overflow_x": null,
            "grid_auto_flow": null,
            "grid_area": null,
            "grid_template_columns": null,
            "flex": null,
            "_model_name": "LayoutModel",
            "justify_items": null,
            "grid_row": null,
            "max_height": null,
            "align_content": null,
            "visibility": null,
            "align_self": null,
            "height": null,
            "min_height": null,
            "padding": null,
            "grid_auto_rows": null,
            "grid_gap": null,
            "max_width": null,
            "order": null,
            "_view_module_version": "1.2.0",
            "grid_template_areas": null,
            "object_position": null,
            "object_fit": null,
            "grid_auto_columns": null,
            "margin": null,
            "display": null,
            "left": null
          }
        },
        "ed5a1c01944248ffa2d1c93e191fac53": {
          "model_module": "@jupyter-widgets/controls",
          "model_name": "DescriptionStyleModel",
          "state": {
            "_view_name": "StyleView",
            "_model_name": "DescriptionStyleModel",
            "description_width": "",
            "_view_module": "@jupyter-widgets/base",
            "_model_module_version": "1.5.0",
            "_view_count": null,
            "_view_module_version": "1.2.0",
            "_model_module": "@jupyter-widgets/controls"
          }
        },
        "b069cdbeb5424c1a9c010f626526f24f": {
          "model_module": "@jupyter-widgets/base",
          "model_name": "LayoutModel",
          "state": {
            "_view_name": "LayoutView",
            "grid_template_rows": null,
            "right": null,
            "justify_content": null,
            "_view_module": "@jupyter-widgets/base",
            "overflow": null,
            "_model_module_version": "1.2.0",
            "_view_count": null,
            "flex_flow": null,
            "width": null,
            "min_width": null,
            "border": null,
            "align_items": null,
            "bottom": null,
            "_model_module": "@jupyter-widgets/base",
            "top": null,
            "grid_column": null,
            "overflow_y": null,
            "overflow_x": null,
            "grid_auto_flow": null,
            "grid_area": null,
            "grid_template_columns": null,
            "flex": null,
            "_model_name": "LayoutModel",
            "justify_items": null,
            "grid_row": null,
            "max_height": null,
            "align_content": null,
            "visibility": null,
            "align_self": null,
            "height": null,
            "min_height": null,
            "padding": null,
            "grid_auto_rows": null,
            "grid_gap": null,
            "max_width": null,
            "order": null,
            "_view_module_version": "1.2.0",
            "grid_template_areas": null,
            "object_position": null,
            "object_fit": null,
            "grid_auto_columns": null,
            "margin": null,
            "display": null,
            "left": null
          }
        }
      }
    }
  },
  "cells": [
    {
      "cell_type": "markdown",
      "metadata": {
        "id": "KACDaYkdXpwH"
      },
      "source": [
        "# Установка библиотек"
      ]
    },
    {
      "cell_type": "code",
      "metadata": {
        "colab": {
          "base_uri": "https://localhost:8080/"
        },
        "id": "iiOcOm28J0Uz",
        "outputId": "1eb46eb7-2aae-45d7-d6b7-db8c8f0eb3ad"
      },
      "source": [
        "!pip install transformers\n",
        "!pip install datasets"
      ],
      "execution_count": null,
      "outputs": [
        {
          "output_type": "stream",
          "text": [
            "Collecting transformers\n",
            "\u001b[?25l  Downloading https://files.pythonhosted.org/packages/d5/43/cfe4ee779bbd6a678ac6a97c5a5cdeb03c35f9eaebbb9720b036680f9a2d/transformers-4.6.1-py3-none-any.whl (2.2MB)\n",
            "\u001b[K     |████████████████████████████████| 2.3MB 28.5MB/s \n",
            "\u001b[?25hCollecting tokenizers<0.11,>=0.10.1\n",
            "\u001b[?25l  Downloading https://files.pythonhosted.org/packages/d4/e2/df3543e8ffdab68f5acc73f613de9c2b155ac47f162e725dcac87c521c11/tokenizers-0.10.3-cp37-cp37m-manylinux_2_5_x86_64.manylinux1_x86_64.manylinux_2_12_x86_64.manylinux2010_x86_64.whl (3.3MB)\n",
            "\u001b[K     |████████████████████████████████| 3.3MB 47.9MB/s \n",
            "\u001b[?25hRequirement already satisfied: numpy>=1.17 in /usr/local/lib/python3.7/dist-packages (from transformers) (1.19.5)\n",
            "Requirement already satisfied: regex!=2019.12.17 in /usr/local/lib/python3.7/dist-packages (from transformers) (2019.12.20)\n",
            "Requirement already satisfied: requests in /usr/local/lib/python3.7/dist-packages (from transformers) (2.23.0)\n",
            "Requirement already satisfied: importlib-metadata; python_version < \"3.8\" in /usr/local/lib/python3.7/dist-packages (from transformers) (4.0.1)\n",
            "Requirement already satisfied: filelock in /usr/local/lib/python3.7/dist-packages (from transformers) (3.0.12)\n",
            "Requirement already satisfied: packaging in /usr/local/lib/python3.7/dist-packages (from transformers) (20.9)\n",
            "Collecting huggingface-hub==0.0.8\n",
            "  Downloading https://files.pythonhosted.org/packages/a1/88/7b1e45720ecf59c6c6737ff332f41c955963090a18e72acbcbeac6b25e86/huggingface_hub-0.0.8-py3-none-any.whl\n",
            "Requirement already satisfied: tqdm>=4.27 in /usr/local/lib/python3.7/dist-packages (from transformers) (4.41.1)\n",
            "Collecting sacremoses\n",
            "\u001b[?25l  Downloading https://files.pythonhosted.org/packages/75/ee/67241dc87f266093c533a2d4d3d69438e57d7a90abb216fa076e7d475d4a/sacremoses-0.0.45-py3-none-any.whl (895kB)\n",
            "\u001b[K     |████████████████████████████████| 901kB 49.4MB/s \n",
            "\u001b[?25hRequirement already satisfied: idna<3,>=2.5 in /usr/local/lib/python3.7/dist-packages (from requests->transformers) (2.10)\n",
            "Requirement already satisfied: chardet<4,>=3.0.2 in /usr/local/lib/python3.7/dist-packages (from requests->transformers) (3.0.4)\n",
            "Requirement already satisfied: certifi>=2017.4.17 in /usr/local/lib/python3.7/dist-packages (from requests->transformers) (2020.12.5)\n",
            "Requirement already satisfied: urllib3!=1.25.0,!=1.25.1,<1.26,>=1.21.1 in /usr/local/lib/python3.7/dist-packages (from requests->transformers) (1.24.3)\n",
            "Requirement already satisfied: typing-extensions>=3.6.4; python_version < \"3.8\" in /usr/local/lib/python3.7/dist-packages (from importlib-metadata; python_version < \"3.8\"->transformers) (3.7.4.3)\n",
            "Requirement already satisfied: zipp>=0.5 in /usr/local/lib/python3.7/dist-packages (from importlib-metadata; python_version < \"3.8\"->transformers) (3.4.1)\n",
            "Requirement already satisfied: pyparsing>=2.0.2 in /usr/local/lib/python3.7/dist-packages (from packaging->transformers) (2.4.7)\n",
            "Requirement already satisfied: six in /usr/local/lib/python3.7/dist-packages (from sacremoses->transformers) (1.15.0)\n",
            "Requirement already satisfied: click in /usr/local/lib/python3.7/dist-packages (from sacremoses->transformers) (7.1.2)\n",
            "Requirement already satisfied: joblib in /usr/local/lib/python3.7/dist-packages (from sacremoses->transformers) (1.0.1)\n",
            "Installing collected packages: tokenizers, huggingface-hub, sacremoses, transformers\n",
            "Successfully installed huggingface-hub-0.0.8 sacremoses-0.0.45 tokenizers-0.10.3 transformers-4.6.1\n",
            "Collecting datasets\n",
            "\u001b[?25l  Downloading https://files.pythonhosted.org/packages/94/f8/ff7cd6e3b400b33dcbbfd31c6c1481678a2b2f669f521ad20053009a9aa3/datasets-1.7.0-py3-none-any.whl (234kB)\n",
            "\u001b[K     |████████████████████████████████| 235kB 26.8MB/s \n",
            "\u001b[?25hRequirement already satisfied: pyarrow<4.0.0,>=1.0.0 in /usr/local/lib/python3.7/dist-packages (from datasets) (3.0.0)\n",
            "Requirement already satisfied: pandas in /usr/local/lib/python3.7/dist-packages (from datasets) (1.1.5)\n",
            "Requirement already satisfied: dill in /usr/local/lib/python3.7/dist-packages (from datasets) (0.3.3)\n",
            "Requirement already satisfied: numpy>=1.17 in /usr/local/lib/python3.7/dist-packages (from datasets) (1.19.5)\n",
            "Requirement already satisfied: requests>=2.19.0 in /usr/local/lib/python3.7/dist-packages (from datasets) (2.23.0)\n",
            "Requirement already satisfied: packaging in /usr/local/lib/python3.7/dist-packages (from datasets) (20.9)\n",
            "Requirement already satisfied: importlib-metadata; python_version < \"3.8\" in /usr/local/lib/python3.7/dist-packages (from datasets) (4.0.1)\n",
            "Requirement already satisfied: multiprocess in /usr/local/lib/python3.7/dist-packages (from datasets) (0.70.11.1)\n",
            "Requirement already satisfied: tqdm<4.50.0,>=4.27 in /usr/local/lib/python3.7/dist-packages (from datasets) (4.41.1)\n",
            "Collecting fsspec\n",
            "\u001b[?25l  Downloading https://files.pythonhosted.org/packages/bc/52/816d1a3a599176057bf29dfacb1f8fadb61d35fbd96cb1bab4aaa7df83c0/fsspec-2021.5.0-py3-none-any.whl (111kB)\n",
            "\u001b[K     |████████████████████████████████| 112kB 52.8MB/s \n",
            "\u001b[?25hCollecting xxhash\n",
            "\u001b[?25l  Downloading https://files.pythonhosted.org/packages/7d/4f/0a862cad26aa2ed7a7cd87178cbbfa824fc1383e472d63596a0d018374e7/xxhash-2.0.2-cp37-cp37m-manylinux2010_x86_64.whl (243kB)\n",
            "\u001b[K     |████████████████████████████████| 245kB 46.2MB/s \n",
            "\u001b[?25hRequirement already satisfied: huggingface-hub<0.1.0 in /usr/local/lib/python3.7/dist-packages (from datasets) (0.0.8)\n",
            "Requirement already satisfied: pytz>=2017.2 in /usr/local/lib/python3.7/dist-packages (from pandas->datasets) (2018.9)\n",
            "Requirement already satisfied: python-dateutil>=2.7.3 in /usr/local/lib/python3.7/dist-packages (from pandas->datasets) (2.8.1)\n",
            "Requirement already satisfied: urllib3!=1.25.0,!=1.25.1,<1.26,>=1.21.1 in /usr/local/lib/python3.7/dist-packages (from requests>=2.19.0->datasets) (1.24.3)\n",
            "Requirement already satisfied: chardet<4,>=3.0.2 in /usr/local/lib/python3.7/dist-packages (from requests>=2.19.0->datasets) (3.0.4)\n",
            "Requirement already satisfied: idna<3,>=2.5 in /usr/local/lib/python3.7/dist-packages (from requests>=2.19.0->datasets) (2.10)\n",
            "Requirement already satisfied: certifi>=2017.4.17 in /usr/local/lib/python3.7/dist-packages (from requests>=2.19.0->datasets) (2020.12.5)\n",
            "Requirement already satisfied: pyparsing>=2.0.2 in /usr/local/lib/python3.7/dist-packages (from packaging->datasets) (2.4.7)\n",
            "Requirement already satisfied: typing-extensions>=3.6.4; python_version < \"3.8\" in /usr/local/lib/python3.7/dist-packages (from importlib-metadata; python_version < \"3.8\"->datasets) (3.7.4.3)\n",
            "Requirement already satisfied: zipp>=0.5 in /usr/local/lib/python3.7/dist-packages (from importlib-metadata; python_version < \"3.8\"->datasets) (3.4.1)\n",
            "Requirement already satisfied: filelock in /usr/local/lib/python3.7/dist-packages (from huggingface-hub<0.1.0->datasets) (3.0.12)\n",
            "Requirement already satisfied: six>=1.5 in /usr/local/lib/python3.7/dist-packages (from python-dateutil>=2.7.3->pandas->datasets) (1.15.0)\n",
            "Installing collected packages: fsspec, xxhash, datasets\n",
            "Successfully installed datasets-1.7.0 fsspec-2021.5.0 xxhash-2.0.2\n"
          ],
          "name": "stdout"
        }
      ]
    },
    {
      "cell_type": "markdown",
      "metadata": {
        "id": "C65p4VclXv9u"
      },
      "source": [
        "# Загрузка модели"
      ]
    },
    {
      "cell_type": "code",
      "metadata": {
        "colab": {
          "base_uri": "https://localhost:8080/"
        },
        "id": "NbcncwiOV5EP",
        "outputId": "2b2b1afd-0aaf-49b7-f4ad-a6d2bbf3e512"
      },
      "source": [
        "from google.colab import drive\n",
        "drive.mount('/content/drive')"
      ],
      "execution_count": null,
      "outputs": [
        {
          "output_type": "stream",
          "text": [
            "Mounted at /content/drive\n"
          ],
          "name": "stdout"
        }
      ]
    },
    {
      "cell_type": "code",
      "metadata": {
        "colab": {
          "base_uri": "https://localhost:8080/",
          "height": 278,
          "referenced_widgets": [
            "9baa9e9d97524a5a8f2e315db04a2e5e",
            "f2feed96eafe4b7e8ae5c4a09cf99058",
            "c03d498d78c14b05884e00aa1af11720",
            "2921c4e7e42c4632bd0d5151a40e5f80",
            "d03cdfff5c2f42388130d30cccb7d90f",
            "280adbd91b0f4a5e9f70042439fa85fa",
            "7b9ba9ef954a4787a79a4b731f399dc9",
            "2fb71762cb8042ceaffefa3ee22b4f21",
            "d2184b1af83e45a193704443f24aba6e",
            "4756cb6a2086478b8e1b85549b6dd65c",
            "c7b36a9e66384a7aa11060180de5f668",
            "3ed1b3c9864246d9a4fa22539aa75b73",
            "df561bb2409c405880b5e3faa539f067",
            "35a6ae53f3e943d88d779c8478c7f75c",
            "8284b581cc4243c28e9ea41851ef80fc",
            "c6ebc41e053c4bd08dfaecef6728a8f3",
            "51824e80f58540e288f323a8404c0167",
            "a9e17b007c0847539fc893890b2e48f4",
            "09b119f4dc8f4d11b54f998edd896d7c",
            "9227eb9fdfaf431db4aa523b8e1196b2",
            "750fcbc0e9d743b686020792275b6317",
            "5741aefa0e6e4e81929ecfc18f1f084f",
            "fd2a62ffbb3c4dbb83ce20b36345b89d",
            "3792edf164334e08816161c8caaabfee"
          ]
        },
        "id": "J5HusS-VUQCe",
        "outputId": "5594756a-e889-46ff-8cfc-47957fbd85ee"
      },
      "source": [
        "from transformers import BertTokenizer, BertModel\n",
        "from transformers import BertForSequenceClassification\n",
        "tokenizer = BertTokenizer.from_pretrained('DeepPavlov/rubert-base-cased')\n",
        "#model_begin = BertModel.from_pretrained(\"DeepPavlov/rubert-base-cased-conversational\")\n",
        "model = BertForSequenceClassification.from_pretrained('/content/drive/MyDrive/chatbot_project/models/tuned0')\n",
        "\n",
        "import torch\n",
        "from torch import nn"
      ],
      "execution_count": null,
      "outputs": [
        {
          "output_type": "display_data",
          "data": {
            "application/vnd.jupyter.widget-view+json": {
              "model_id": "9baa9e9d97524a5a8f2e315db04a2e5e",
              "version_minor": 0,
              "version_major": 2
            },
            "text/plain": [
              "HBox(children=(FloatProgress(value=0.0, description='Downloading', max=1649718.0, style=ProgressStyle(descript…"
            ]
          },
          "metadata": {
            "tags": []
          }
        },
        {
          "output_type": "stream",
          "text": [
            "\n"
          ],
          "name": "stdout"
        },
        {
          "output_type": "display_data",
          "data": {
            "application/vnd.jupyter.widget-view+json": {
              "model_id": "d2184b1af83e45a193704443f24aba6e",
              "version_minor": 0,
              "version_major": 2
            },
            "text/plain": [
              "HBox(children=(FloatProgress(value=0.0, description='Downloading', max=112.0, style=ProgressStyle(description_…"
            ]
          },
          "metadata": {
            "tags": []
          }
        },
        {
          "output_type": "stream",
          "text": [
            "\n"
          ],
          "name": "stdout"
        },
        {
          "output_type": "display_data",
          "data": {
            "application/vnd.jupyter.widget-view+json": {
              "model_id": "51824e80f58540e288f323a8404c0167",
              "version_minor": 0,
              "version_major": 2
            },
            "text/plain": [
              "HBox(children=(FloatProgress(value=0.0, description='Downloading', max=2.0, style=ProgressStyle(description_wi…"
            ]
          },
          "metadata": {
            "tags": []
          }
        },
        {
          "output_type": "stream",
          "text": [
            "\n"
          ],
          "name": "stdout"
        },
        {
          "output_type": "stream",
          "text": [
            "Some weights of the model checkpoint at /content/drive/MyDrive/chatbot_project/models/tuned0 were not used when initializing BertForSequenceClassification: ['cls.predictions.transform.LayerNorm.weight', 'cls.predictions.decoder.weight', 'cls.predictions.bias', 'cls.predictions.transform.dense.weight', 'cls.predictions.transform.dense.bias', 'cls.predictions.decoder.bias', 'cls.predictions.transform.LayerNorm.bias']\n",
            "- This IS expected if you are initializing BertForSequenceClassification from the checkpoint of a model trained on another task or with another architecture (e.g. initializing a BertForSequenceClassification model from a BertForPreTraining model).\n",
            "- This IS NOT expected if you are initializing BertForSequenceClassification from the checkpoint of a model that you expect to be exactly identical (initializing a BertForSequenceClassification model from a BertForSequenceClassification model).\n",
            "Some weights of BertForSequenceClassification were not initialized from the model checkpoint at /content/drive/MyDrive/chatbot_project/models/tuned0 and are newly initialized: ['classifier.bias', 'classifier.weight', 'bert.pooler.dense.bias', 'bert.pooler.dense.weight']\n",
            "You should probably TRAIN this model on a down-stream task to be able to use it for predictions and inference.\n"
          ],
          "name": "stderr"
        }
      ]
    },
    {
      "cell_type": "markdown",
      "metadata": {
        "id": "jeHLLPAMXzZi"
      },
      "source": [
        "# Загрузка датасетов"
      ]
    },
    {
      "cell_type": "code",
      "metadata": {
        "id": "Ak8x9GwHbUiw"
      },
      "source": [
        "import pandas as pd\n",
        "import numpy as np"
      ],
      "execution_count": null,
      "outputs": []
    },
    {
      "cell_type": "code",
      "metadata": {
        "id": "QzGasRKDfBuj"
      },
      "source": [
        "url_facts4 = 'https://raw.githubusercontent.com/Koziev/NLP_Datasets/master/Samples/facts4.txt'\n",
        "url_facts5 = 'https://raw.githubusercontent.com/Koziev/NLP_Datasets/master/Samples/facts5.txt'\n",
        "url_facts6 = 'https://raw.githubusercontent.com/Koziev/NLP_Datasets/master/Samples/facts6.txt'\n",
        "url_facts7_1s = 'https://raw.githubusercontent.com/Koziev/NLP_Datasets/master/Samples/facts7_1s.txt'\n",
        "url_facts7_2s = 'https://raw.githubusercontent.com/Koziev/NLP_Datasets/master/Samples/facts7_2s.txt'\n",
        "url_big_data = '/content/drive/MyDrive/chatbot_project/data/data_concat.txt'\n",
        "url_lit = '/content/drive/MyDrive/chatbot_project/literature.txt'\n",
        "url_jokes = '/content/drive/MyDrive/chatbot_project/jokes.txt'"
      ],
      "execution_count": null,
      "outputs": []
    },
    {
      "cell_type": "code",
      "metadata": {
        "id": "GnpoXPSubZP4"
      },
      "source": [
        "data_facts4 = pd.read_csv(url_facts4, sep=\"\\t\", header=None)\n",
        "data_facts5 = pd.read_csv(url_facts5, sep=\"\\t\", header=None)\n",
        "data_facts6 = pd.read_csv(url_facts6, sep=\"\\t\", header=None)\n",
        "data_facts7_1s = pd.read_csv(url_facts7_1s, sep=\"\\t\", header=None)\n",
        "data_facts7_2s = pd.read_csv(url_facts7_2s, sep=\"\\t\", header=None)\n",
        "data_lit = pd.read_csv(url_lit, sep=\"\\t\", header=None)\n",
        "data_jokes = pd.read_csv(url_jokes, sep=\"\\t\", header=None)\n",
        "\n",
        "#data_facts4 = pd.read_csv(url_facts4, sep=\"\\t\", header=None)\n",
        "#data_big = data_facts4"
      ],
      "execution_count": null,
      "outputs": []
    },
    {
      "cell_type": "code",
      "metadata": {
        "colab": {
          "base_uri": "https://localhost:8080/"
        },
        "id": "7F753eHenemr",
        "outputId": "7ae68193-b2d0-42ed-b1e5-502f58474641"
      },
      "source": [
        "print(len(data_facts4))\n",
        "print(len(data_facts5))\n",
        "print(len(data_facts6))\n",
        "print(len(data_facts7_1s))\n",
        "print(len(data_facts7_2s))\n",
        "print(len(data_lit))\n",
        "print(len(data_jokes))"
      ],
      "execution_count": null,
      "outputs": [
        {
          "output_type": "stream",
          "text": [
            "98935\n",
            "100326\n",
            "103436\n",
            "19235\n",
            "59027\n",
            "1825451\n",
            "35037\n"
          ],
          "name": "stdout"
        }
      ]
    },
    {
      "cell_type": "code",
      "metadata": {
        "id": "Qm8J7L7ffFri"
      },
      "source": [
        "data_big = pd.concat([data_facts4, data_facts5, data_facts6, data_facts7_1s, data_facts7_2s, data_lit])"
      ],
      "execution_count": null,
      "outputs": []
    },
    {
      "cell_type": "code",
      "metadata": {
        "id": "T3l9qwOSgPWu"
      },
      "source": [
        "data_big[1] = 0\n",
        "data_jokes[1] = 1"
      ],
      "execution_count": null,
      "outputs": []
    },
    {
      "cell_type": "code",
      "metadata": {
        "colab": {
          "base_uri": "https://localhost:8080/",
          "height": 424
        },
        "id": "VzFhfYkUbmq_",
        "outputId": "e549cab5-f3e5-489d-ada5-2b514d6848e8"
      },
      "source": [
        "data_big"
      ],
      "execution_count": null,
      "outputs": [
        {
          "output_type": "execute_result",
          "data": {
            "text/html": [
              "<div>\n",
              "<style scoped>\n",
              "    .dataframe tbody tr th:only-of-type {\n",
              "        vertical-align: middle;\n",
              "    }\n",
              "\n",
              "    .dataframe tbody tr th {\n",
              "        vertical-align: top;\n",
              "    }\n",
              "\n",
              "    .dataframe thead th {\n",
              "        text-align: right;\n",
              "    }\n",
              "</style>\n",
              "<table border=\"1\" class=\"dataframe\">\n",
              "  <thead>\n",
              "    <tr style=\"text-align: right;\">\n",
              "      <th></th>\n",
              "      <th>0</th>\n",
              "      <th>1</th>\n",
              "    </tr>\n",
              "  </thead>\n",
              "  <tbody>\n",
              "    <tr>\n",
              "      <th>0</th>\n",
              "      <td>Дик покачал головой</td>\n",
              "      <td>0</td>\n",
              "    </tr>\n",
              "    <tr>\n",
              "      <th>1</th>\n",
              "      <td>Яр покачал головой</td>\n",
              "      <td>0</td>\n",
              "    </tr>\n",
              "    <tr>\n",
              "      <th>2</th>\n",
              "      <td>Кат покачал головой</td>\n",
              "      <td>0</td>\n",
              "    </tr>\n",
              "    <tr>\n",
              "      <th>3</th>\n",
              "      <td>Вася покачал головой</td>\n",
              "      <td>0</td>\n",
              "    </tr>\n",
              "    <tr>\n",
              "      <th>4</th>\n",
              "      <td>Рон покачал головой</td>\n",
              "      <td>0</td>\n",
              "    </tr>\n",
              "    <tr>\n",
              "      <th>...</th>\n",
              "      <td>...</td>\n",
              "      <td>...</td>\n",
              "    </tr>\n",
              "    <tr>\n",
              "      <th>1825446</th>\n",
              "      <td>Они были мертвы, зародыши в</td>\n",
              "      <td>0</td>\n",
              "    </tr>\n",
              "    <tr>\n",
              "      <th>1825447</th>\n",
              "      <td>них были прикончены.</td>\n",
              "      <td>0</td>\n",
              "    </tr>\n",
              "    <tr>\n",
              "      <th>1825448</th>\n",
              "      <td>Необозримые пространства земли еще  долго гнил...</td>\n",
              "      <td>0</td>\n",
              "    </tr>\n",
              "    <tr>\n",
              "      <th>1825449</th>\n",
              "      <td>крокодилов  и  змей,  вызванных  к  жизни таин...</td>\n",
              "      <td>0</td>\n",
              "    </tr>\n",
              "    <tr>\n",
              "      <th>1825450</th>\n",
              "      <td>Герцена в гениальных  глазах  лучом,</td>\n",
              "      <td>0</td>\n",
              "    </tr>\n",
              "  </tbody>\n",
              "</table>\n",
              "<p>2206410 rows × 2 columns</p>\n",
              "</div>"
            ],
            "text/plain": [
              "                                                         0  1\n",
              "0                                      Дик покачал головой  0\n",
              "1                                       Яр покачал головой  0\n",
              "2                                      Кат покачал головой  0\n",
              "3                                     Вася покачал головой  0\n",
              "4                                      Рон покачал головой  0\n",
              "...                                                    ... ..\n",
              "1825446                        Они были мертвы, зародыши в  0\n",
              "1825447                               них были прикончены.  0\n",
              "1825448  Необозримые пространства земли еще  долго гнил...  0\n",
              "1825449  крокодилов  и  змей,  вызванных  к  жизни таин...  0\n",
              "1825450               Герцена в гениальных  глазах  лучом,  0\n",
              "\n",
              "[2206410 rows x 2 columns]"
            ]
          },
          "metadata": {
            "tags": []
          },
          "execution_count": 32
        }
      ]
    },
    {
      "cell_type": "code",
      "metadata": {
        "id": "LLSVVAXebv_o"
      },
      "source": [
        "# уменьшаем размер датасета\n",
        "data = data_big\n",
        "msk = np.random.rand(len(data)) < 0.05\n",
        "data = data[msk]"
      ],
      "execution_count": null,
      "outputs": []
    },
    {
      "cell_type": "code",
      "metadata": {
        "id": "rDGw35gGpBf6"
      },
      "source": [
        "data = pd.concat([data, data_jokes])"
      ],
      "execution_count": null,
      "outputs": []
    },
    {
      "cell_type": "code",
      "metadata": {
        "colab": {
          "base_uri": "https://localhost:8080/",
          "height": 424
        },
        "id": "cTOa2poW5XdC",
        "outputId": "ea058ad2-d577-4993-b7e1-bd1dabb0ea30"
      },
      "source": [
        "data"
      ],
      "execution_count": null,
      "outputs": [
        {
          "output_type": "execute_result",
          "data": {
            "text/html": [
              "<div>\n",
              "<style scoped>\n",
              "    .dataframe tbody tr th:only-of-type {\n",
              "        vertical-align: middle;\n",
              "    }\n",
              "\n",
              "    .dataframe tbody tr th {\n",
              "        vertical-align: top;\n",
              "    }\n",
              "\n",
              "    .dataframe thead th {\n",
              "        text-align: right;\n",
              "    }\n",
              "</style>\n",
              "<table border=\"1\" class=\"dataframe\">\n",
              "  <thead>\n",
              "    <tr style=\"text-align: right;\">\n",
              "      <th></th>\n",
              "      <th>0</th>\n",
              "      <th>1</th>\n",
              "    </tr>\n",
              "  </thead>\n",
              "  <tbody>\n",
              "    <tr>\n",
              "      <th>0</th>\n",
              "      <td>Дик покачал головой</td>\n",
              "      <td>0</td>\n",
              "    </tr>\n",
              "    <tr>\n",
              "      <th>7</th>\n",
              "      <td>Толя покачал головой</td>\n",
              "      <td>0</td>\n",
              "    </tr>\n",
              "    <tr>\n",
              "      <th>46</th>\n",
              "      <td>Гоша покачал головой</td>\n",
              "      <td>0</td>\n",
              "    </tr>\n",
              "    <tr>\n",
              "      <th>58</th>\n",
              "      <td>Сыщик покачал головой</td>\n",
              "      <td>0</td>\n",
              "    </tr>\n",
              "    <tr>\n",
              "      <th>68</th>\n",
              "      <td>Лабан покачал головой</td>\n",
              "      <td>0</td>\n",
              "    </tr>\n",
              "    <tr>\n",
              "      <th>...</th>\n",
              "      <td>...</td>\n",
              "      <td>...</td>\n",
              "    </tr>\n",
              "    <tr>\n",
              "      <th>35032</th>\n",
              "      <td>Где у вас была совесть, там у вас член вырос!</td>\n",
              "      <td>1</td>\n",
              "    </tr>\n",
              "    <tr>\n",
              "      <th>35033</th>\n",
              "      <td>Лучшее окончание спора с женщиной - притворить...</td>\n",
              "      <td>1</td>\n",
              "    </tr>\n",
              "    <tr>\n",
              "      <th>35034</th>\n",
              "      <td>Жадность это не порок, а необходимость...</td>\n",
              "      <td>1</td>\n",
              "    </tr>\n",
              "    <tr>\n",
              "      <th>35035</th>\n",
              "      <td>Сколько здоровья ни желай, а хоронить придется.</td>\n",
              "      <td>1</td>\n",
              "    </tr>\n",
              "    <tr>\n",
              "      <th>35036</th>\n",
              "      <td>Россия - страна макроресурсов и нанопенсий...</td>\n",
              "      <td>1</td>\n",
              "    </tr>\n",
              "  </tbody>\n",
              "</table>\n",
              "<p>145003 rows × 2 columns</p>\n",
              "</div>"
            ],
            "text/plain": [
              "                                                       0  1\n",
              "0                                    Дик покачал головой  0\n",
              "7                                   Толя покачал головой  0\n",
              "46                                  Гоша покачал головой  0\n",
              "58                                 Сыщик покачал головой  0\n",
              "68                                 Лабан покачал головой  0\n",
              "...                                                  ... ..\n",
              "35032      Где у вас была совесть, там у вас член вырос!  1\n",
              "35033  Лучшее окончание спора с женщиной - притворить...  1\n",
              "35034          Жадность это не порок, а необходимость...  1\n",
              "35035    Сколько здоровья ни желай, а хоронить придется.  1\n",
              "35036      Россия - страна макроресурсов и нанопенсий...  1\n",
              "\n",
              "[145003 rows x 2 columns]"
            ]
          },
          "metadata": {
            "tags": []
          },
          "execution_count": 35
        }
      ]
    },
    {
      "cell_type": "code",
      "metadata": {
        "colab": {
          "base_uri": "https://localhost:8080/"
        },
        "id": "0dIP0h-G467s",
        "outputId": "55900e0c-948d-4f5b-f861-a6221ca16b9a"
      },
      "source": [
        "last = len(data)\n",
        "last"
      ],
      "execution_count": null,
      "outputs": [
        {
          "output_type": "execute_result",
          "data": {
            "text/plain": [
              "145003"
            ]
          },
          "metadata": {
            "tags": []
          },
          "execution_count": 36
        }
      ]
    },
    {
      "cell_type": "code",
      "metadata": {
        "colab": {
          "base_uri": "https://localhost:8080/"
        },
        "id": "u6YdXd2Dbo3p",
        "outputId": "0a60a5dd-3ac7-4460-a462-05398614409e"
      },
      "source": [
        "train_part = 0.93\n",
        "\n",
        "msk = np.random.rand(len(data)) < train_part\n",
        "data_train = data[msk] \n",
        "data_test = data[~msk]\n",
        "\n",
        "print(\"train len =\", len(data_train), \" test len =\", len(data_test))"
      ],
      "execution_count": null,
      "outputs": [
        {
          "output_type": "stream",
          "text": [
            "train len = 134966  test len = 10037\n"
          ],
          "name": "stdout"
        }
      ]
    },
    {
      "cell_type": "code",
      "metadata": {
        "id": "PEXBXj8Pb3rC"
      },
      "source": [
        "from datasets import Dataset\n",
        "\n",
        "dataset_train = Dataset.from_pandas(data_train)\n",
        "dataset_eval = Dataset.from_pandas(data_test)\n",
        "\n",
        "dataset_train = dataset_train.shuffle()\n",
        "dataset_eval = dataset_eval.shuffle()"
      ],
      "execution_count": null,
      "outputs": []
    },
    {
      "cell_type": "code",
      "metadata": {
        "id": "gVtrAUa1b3ob"
      },
      "source": [
        "def tokenize_function(examples):\n",
        "    res = tokenizer(examples[\"0\"])\n",
        "    if len(res['input_ids']) > 30:\n",
        "        for name in res:\n",
        "            res[name] = res[name][:30] + [res[name][-1]]\n",
        "    res['targets'] = examples[\"1\"]\n",
        "    return res"
      ],
      "execution_count": null,
      "outputs": []
    },
    {
      "cell_type": "code",
      "metadata": {
        "colab": {
          "base_uri": "https://localhost:8080/",
          "height": 473,
          "referenced_widgets": [
            "d311076fb43940e9878619a786006869",
            "70c4add45e264b0fbb6f1cdd071acbb6",
            "e90bd3905f924f9a95b71d1295de4c66",
            "06cf47252ed74924abdee42bd81312cb",
            "f3eaef754fc14100ae010d61ae43c61d",
            "e078cb9c66ab407184bfe7d7d370538e",
            "9a4c4e2f1f564c0cac1dd941595b264a",
            "8316c8246ec946239e19aa6e1f39992c",
            "5a4e6b6be476433e88015693c316325b",
            "365ad4c150a5401fad90651a5151deec",
            "b07a9b30ef814b4aad64b7e501769691",
            "abff91a796b745489410c4d2b53ce884",
            "8914f1bb19cb47e7b36ab8be90aa81ed",
            "7537b611a66b49f2afeedd407bdbb049",
            "47da3b49f1624b2ebdf8a7ef397b707c",
            "2cd32a6b5c5040b5b6940a90bfc1429c",
            "845b76dccfa34491846e337b2ec415ea",
            "375be6ad2d624e2b9c26a2ec9c675342",
            "7bb8c9b96e284d50822fb85425c69cef",
            "2aa86bba20f34261b6755da62d03c78f",
            "3f03b79e6deb4c7ead81ab9888f59959",
            "d3ab16b1b99740569fe6eda8d25b8b97",
            "e31eb15253814f5abb054f0dd0d25b56",
            "66aa351c58b944db860f7edf28a738c8",
            "2b459736f47447eba9163b1679d6f1d0",
            "32a482167e7d4178957a940b0114792e",
            "831333c1e03e429cb61f869c8c308662",
            "d6243255ba0d48888863a4b82230216e",
            "aa240437d7614091b88d2ca44d59791b",
            "b2da589d739d45e4a02b1c717c323533",
            "f68a7354860f460281f26ab8372f7dc5",
            "f49203d5598d4a62879e3f2cee293bc8",
            "02c59446975a43e98ee514e517456aa4",
            "88954c7eb5bc4d068c27308c5e48313a",
            "260f703503064c8fb7171039f721fa60",
            "2b908c714cb34ba98165824fe1e51edb",
            "a6975b95c077495e940d1161eff1fdfc",
            "3d1b93c0b72f47ffb2aace26993e8043",
            "9ced9f35e7cc4afc8476ccc31eefd338",
            "f7a4eb077b6147ef95eb1a03a7986201",
            "694c251ebe1d4d7795ebf859664786b3",
            "792269fbba2944319a2735c1e3fd3514",
            "70f8c28a42de4825a5e6f9c50eafdcc8",
            "ae621658a5d94d17850a2e3612a681ba",
            "280997d3fc9e4c979088cde096d2bc9d",
            "bb549c73693f498bb112e61937204579",
            "31ae1aca471a4595b935afc62f3ae852",
            "144278d8bf5d457c9ac31edefd68564c",
            "8ace4b36dda044678dd63b0cc942807d",
            "6118d354a4ff4fb883fc8339ce0d7f0b",
            "cb375928d7a0497e9d5621541bb8f2f5",
            "a5cd4081bfec40f684679ce577f9a65c",
            "e099423af9a94d66be145268ed04a958",
            "75d0b20473854ec3a3b3680555503ca0",
            "6f86142464574c7facc09fe562236e69",
            "b7853774b69c4d679783e894455c189a",
            "8b3f2e68aefa4489afa9f5b0f687eb1f",
            "f4ef391154104ac89e8f1aab06ee6141",
            "dbac948a840d4fb49e06eb481176de1c",
            "6ee74cf1552c46a787ec2856921056b2",
            "00f10da92aff4469a1f16bf05f3c33b1",
            "824345adb2954a93979befc9fbfe0989",
            "ed5a1c01944248ffa2d1c93e191fac53",
            "b069cdbeb5424c1a9c010f626526f24f"
          ]
        },
        "id": "dE5_XgDtb3mD",
        "outputId": "a72773bd-ef1d-4f59-bdf2-a2542316ea0d"
      },
      "source": [
        "tokenized_dataset_train = dataset_train.map(tokenize_function, batched=False, num_proc=4, remove_columns=[\"0\", \"__index_level_0__\"])\n",
        "tokenized_dataset_eval = dataset_eval.map(tokenize_function, batched=False, num_proc=4, remove_columns=[\"0\", \"__index_level_0__\"])"
      ],
      "execution_count": null,
      "outputs": [
        {
          "output_type": "stream",
          "text": [
            " "
          ],
          "name": "stdout"
        },
        {
          "output_type": "display_data",
          "data": {
            "application/vnd.jupyter.widget-view+json": {
              "model_id": "d311076fb43940e9878619a786006869",
              "version_minor": 0,
              "version_major": 2
            },
            "text/plain": [
              "HBox(children=(FloatProgress(value=0.0, description=' #0', max=33742.0, style=ProgressStyle(description_width=…"
            ]
          },
          "metadata": {
            "tags": []
          }
        },
        {
          "output_type": "stream",
          "text": [
            "   "
          ],
          "name": "stdout"
        },
        {
          "output_type": "display_data",
          "data": {
            "application/vnd.jupyter.widget-view+json": {
              "model_id": "5a4e6b6be476433e88015693c316325b",
              "version_minor": 0,
              "version_major": 2
            },
            "text/plain": [
              "HBox(children=(FloatProgress(value=0.0, description=' #1', max=33742.0, style=ProgressStyle(description_width=…"
            ]
          },
          "metadata": {
            "tags": []
          }
        },
        {
          "output_type": "display_data",
          "data": {
            "application/vnd.jupyter.widget-view+json": {
              "model_id": "845b76dccfa34491846e337b2ec415ea",
              "version_minor": 0,
              "version_major": 2
            },
            "text/plain": [
              "HBox(children=(FloatProgress(value=0.0, description=' #3', max=33741.0, style=ProgressStyle(description_width=…"
            ]
          },
          "metadata": {
            "tags": []
          }
        },
        {
          "output_type": "display_data",
          "data": {
            "application/vnd.jupyter.widget-view+json": {
              "model_id": "2b459736f47447eba9163b1679d6f1d0",
              "version_minor": 0,
              "version_major": 2
            },
            "text/plain": [
              "HBox(children=(FloatProgress(value=0.0, description=' #2', max=33741.0, style=ProgressStyle(description_width=…"
            ]
          },
          "metadata": {
            "tags": []
          }
        },
        {
          "output_type": "stream",
          "text": [
            "\n",
            "\n",
            "\n",
            "\n",
            "    "
          ],
          "name": "stdout"
        },
        {
          "output_type": "display_data",
          "data": {
            "application/vnd.jupyter.widget-view+json": {
              "model_id": "02c59446975a43e98ee514e517456aa4",
              "version_minor": 0,
              "version_major": 2
            },
            "text/plain": [
              "HBox(children=(FloatProgress(value=0.0, description=' #3', max=2509.0, style=ProgressStyle(description_width='…"
            ]
          },
          "metadata": {
            "tags": []
          }
        },
        {
          "output_type": "display_data",
          "data": {
            "application/vnd.jupyter.widget-view+json": {
              "model_id": "694c251ebe1d4d7795ebf859664786b3",
              "version_minor": 0,
              "version_major": 2
            },
            "text/plain": [
              "HBox(children=(FloatProgress(value=0.0, description=' #0', max=2510.0, style=ProgressStyle(description_width='…"
            ]
          },
          "metadata": {
            "tags": []
          }
        },
        {
          "output_type": "display_data",
          "data": {
            "application/vnd.jupyter.widget-view+json": {
              "model_id": "8ace4b36dda044678dd63b0cc942807d",
              "version_minor": 0,
              "version_major": 2
            },
            "text/plain": [
              "HBox(children=(FloatProgress(value=0.0, description=' #2', max=2509.0, style=ProgressStyle(description_width='…"
            ]
          },
          "metadata": {
            "tags": []
          }
        },
        {
          "output_type": "display_data",
          "data": {
            "application/vnd.jupyter.widget-view+json": {
              "model_id": "8b3f2e68aefa4489afa9f5b0f687eb1f",
              "version_minor": 0,
              "version_major": 2
            },
            "text/plain": [
              "HBox(children=(FloatProgress(value=0.0, description=' #1', max=2509.0, style=ProgressStyle(description_width='…"
            ]
          },
          "metadata": {
            "tags": []
          }
        },
        {
          "output_type": "stream",
          "text": [
            "\n",
            "\n",
            "\n",
            "\n"
          ],
          "name": "stdout"
        }
      ]
    },
    {
      "cell_type": "markdown",
      "metadata": {
        "id": "eAT_UFteX_8i"
      },
      "source": [
        "# Получение data_loader с хорошим семплером"
      ]
    },
    {
      "cell_type": "code",
      "metadata": {
        "id": "vjUO0Oo2b-1R"
      },
      "source": [
        "from transformers import Trainer, TrainingArguments\n",
        "from torch.utils.data.dataloader import DataLoader"
      ],
      "execution_count": null,
      "outputs": []
    },
    {
      "cell_type": "code",
      "metadata": {
        "id": "AeiZioBDzk_J"
      },
      "source": [
        "from transformers import DataCollatorForLanguageModeling\n",
        "\n",
        "data_collator = DataCollatorForLanguageModeling(tokenizer=tokenizer, mlm_probability=0.0)"
      ],
      "execution_count": null,
      "outputs": []
    },
    {
      "cell_type": "code",
      "metadata": {
        "id": "JavGqbs8y85n"
      },
      "source": [
        "# from https://github.com/huggingface/transformers/blob/master/src/transformers/trainer_pt_utils.py\n",
        "# тут лежат подобные функции от huggingface\n",
        "# их ещё не добавили в библиотеку и вообще там странный код с другим предназначением\n",
        "\n",
        "import math\n",
        "from torch.utils.data.distributed import DistributedSampler\n",
        "from typing import Iterator, List, Optional, Union\n",
        "\n",
        "def get_indices(lengths, batch_size, generator=None):\n",
        "    # применяем случайную перестановку к датасету и сортируем по длине\n",
        "    indices = torch.randperm(len(lengths), generator=generator)\n",
        "    len_sorted = list(sorted(indices.tolist(), key=lambda i: lengths[i], reverse=True)) \n",
        "\n",
        "    # делим на батчи (почти во всех батчах длина одинаковая)\n",
        "    batches = [len_sorted[i : i + batch_size] for i in range(0, len(lengths), batch_size)]\n",
        "    batches_cnt = len(batches)\n",
        "  \n",
        "    # применяем случайную перестановку к батчам\n",
        "    # в конец докидывается последний батч, так как он может быть меньше batch_size\n",
        "    batch_indices = torch.randperm(batches_cnt - 1, generator=generator)\n",
        "    rand_batches = [batches[batch_ind] for batch_ind in batch_indices]\n",
        "    res = sum(rand_batches, []) + batches[batches_cnt - 1]\n",
        "    return res \n",
        "\n",
        "class DistributedLengthSortedSampler(DistributedSampler):\n",
        "    # Copied and adapted from PyTorch DistributedSampler.\n",
        "    # https://github.com/pytorch/pytorch/blob/master/torch/utils/data/distributed.py\n",
        "\n",
        "    def __init__(\n",
        "        self,\n",
        "        dataset: Dataset,\n",
        "        batch_size: int,\n",
        "        num_replicas: Optional[int] = None,\n",
        "        rank: Optional[int] = None,\n",
        "        seed: int = 0,\n",
        "        drop_last: bool = False,\n",
        "        lengths: Optional[List[int]] = None,\n",
        "    ):\n",
        "        if num_replicas is None:\n",
        "            if not dist.is_available():\n",
        "                raise RuntimeError(\"Requires distributed package to be available\")\n",
        "            num_replicas = dist.get_world_size()\n",
        "        if rank is None:\n",
        "            if not dist.is_available():\n",
        "                raise RuntimeError(\"Requires distributed package to be available\")\n",
        "            rank = dist.get_rank()\n",
        "        self.dataset = dataset\n",
        "        self.batch_size = batch_size\n",
        "        self.num_replicas = num_replicas\n",
        "        self.rank = rank\n",
        "        self.epoch = 0\n",
        "        self.drop_last = drop_last\n",
        "\n",
        "        # If the dataset length is evenly divisible by # of replicas, then there\n",
        "        # is no need to drop any data, since the dataset will be split equally.\n",
        "        if self.drop_last and len(self.dataset) % self.num_replicas != 0:\n",
        "            # Split to nearest available length that is evenly divisible.\n",
        "            # This is to ensure each rank receives the same amount of data when\n",
        "            # using this Sampler.\n",
        "            self.num_samples = math.ceil((len(self.dataset) - self.num_replicas) / self.num_replicas)\n",
        "        else:\n",
        "            self.num_samples = math.ceil(len(self.dataset) / self.num_replicas)\n",
        "        self.total_size = self.num_samples * self.num_replicas\n",
        "        self.seed = seed\n",
        "\n",
        "        if lengths is None:\n",
        "            if not isinstance(dataset[0], dict) or \"input_ids\" not in dataset[0]:\n",
        "                raise ValueError(\n",
        "                    \"Can only automatically infer lengths for datasets whose items are dictionaries with an \"\n",
        "                    \"'input_ids' key.\"\n",
        "                )\n",
        "            lengths = [len(feature[\"input_ids\"]) for feature in dataset]\n",
        "        self.lengths = lengths\n",
        "\n",
        "    def __iter__(self) -> Iterator:\n",
        "        # Deterministically shuffle based on epoch and seed\n",
        "        g = torch.Generator()\n",
        "        g.manual_seed(self.seed + self.epoch)\n",
        "        indices = get_indices(self.lengths, self.batch_size, generator=g)\n",
        "\n",
        "        if not self.drop_last:\n",
        "            # add extra samples to make it evenly divisible\n",
        "            indices += indices[: (self.total_size - len(indices))]\n",
        "        else:\n",
        "            # remove tail of data to make it evenly divisible.\n",
        "            indices = indices[: self.total_size]\n",
        "        assert len(indices) == self.total_size\n",
        "\n",
        "        # subsample\n",
        "        indices = indices[self.rank : self.total_size : self.num_replicas]\n",
        "        assert len(indices) == self.num_samples\n",
        "\n",
        "        return iter(indices)"
      ],
      "execution_count": null,
      "outputs": []
    },
    {
      "cell_type": "code",
      "metadata": {
        "id": "8tvgztYfzA8R"
      },
      "source": [
        "# https://huggingface.co/transformers/master/_modules/transformers/trainer.html#Trainer.get_train_dataloader\n",
        "\n",
        "from typing import Optional\n",
        "from transformers.training_args import ParallelMode\n",
        "import torch\n",
        "class CustomTrainer(Trainer):\n",
        "    def get_processes_info(self):\n",
        "        # Gather the number of processes and this process index.\n",
        "        if self.args.parallel_mode == ParallelMode.TPU:\n",
        "            num_processes = xm.xrt_world_size()\n",
        "            process_index = xm.get_ordinal()\n",
        "        elif (\n",
        "            self.args.parallel_mode == ParallelMode.DISTRIBUTED\n",
        "        ):\n",
        "            num_processes = dist.get_world_size()\n",
        "            process_index = dist.get_rank()\n",
        "        else:\n",
        "            num_processes = 1\n",
        "            process_index = 0\n",
        "\n",
        "        return num_processes, process_index\n",
        "\n",
        "    def get_train_dataloader(self) -> DataLoader:\n",
        "        if self.train_dataset is None:\n",
        "            raise ValueError(\"Trainer: training requires a train_dataset.\")\n",
        "\n",
        "        num_processes, process_index = self.get_processes_info()\n",
        "\n",
        "        train_sampler = DistributedLengthSortedSampler(\n",
        "            self.train_dataset, \n",
        "            self.args.train_batch_size, \n",
        "            num_replicas=num_processes, \n",
        "            rank=process_index\n",
        "        )\n",
        "\n",
        "        return DataLoader(\n",
        "            self.train_dataset,\n",
        "            batch_size=self.args.train_batch_size,\n",
        "            sampler=train_sampler,\n",
        "            shuffle=False,\n",
        "            collate_fn=self.data_collator,\n",
        "            drop_last=self.args.dataloader_drop_last,\n",
        "            num_workers=self.args.dataloader_num_workers,\n",
        "        )\n",
        "\n",
        "    def get_eval_dataloader(self, eval_dataset: Optional[Dataset] = None) -> DataLoader:\n",
        "        if eval_dataset is None and self.eval_dataset is None:\n",
        "            raise ValueError(\"Trainer: evaluation requires an eval_dataset.\")\n",
        "        elif eval_dataset is not None and not isinstance(eval_dataset, collections.abc.Sized):\n",
        "            raise ValueError(\"eval_dataset must implement __len__\")\n",
        "        elif isinstance(eval_dataset, Dataset):\n",
        "            self._remove_unused_columns(eval_dataset, description=\"evaluation\")\n",
        "        eval_dataset = eval_dataset if eval_dataset is not None else self.eval_dataset\n",
        "\n",
        "        num_processes, process_index = self.get_processes_info()\n",
        "\n",
        "        eval_sampler = DistributedLengthSortedSampler(\n",
        "            eval_dataset, \n",
        "            self.args.eval_batch_size, \n",
        "            num_replicas=num_processes, \n",
        "            rank=process_index\n",
        "        )\n",
        "\n",
        "        return DataLoader(\n",
        "            eval_dataset,\n",
        "            sampler=eval_sampler,\n",
        "            batch_size=self.args.eval_batch_size,\n",
        "            collate_fn=self.data_collator,\n",
        "            drop_last=self.args.dataloader_drop_last,\n",
        "            num_workers=self.args.dataloader_num_workers,\n",
        "            pin_memory=self.args.dataloader_pin_memory,\n",
        "        )"
      ],
      "execution_count": null,
      "outputs": []
    },
    {
      "cell_type": "code",
      "metadata": {
        "id": "IL_Y-CZ4dpqX"
      },
      "source": [
        "training_args = TrainingArguments(\n",
        "    output_dir='./results',          # output directory\n",
        "    evaluation_strategy = \"steps\",   \n",
        "    num_train_epochs=1,              # total number of training epochs\n",
        "    learning_rate=0.015,\n",
        "    overwrite_output_dir=True, \n",
        "    logging_steps = 2000,\n",
        "    save_steps = 9000,\n",
        "    warmup_steps=500,                 # number of warmup steps for learning rate scheduler\n",
        "    weight_decay=0.01,               # strength of weight decay\n",
        ")"
      ],
      "execution_count": null,
      "outputs": []
    },
    {
      "cell_type": "code",
      "metadata": {
        "id": "g4C6fppEdk0y"
      },
      "source": [
        "cTrainer = CustomTrainer(model=model,\n",
        "    args=training_args,\n",
        "    train_dataset=tokenized_dataset_train,\n",
        "    eval_dataset=tokenized_dataset_eval,\n",
        "    data_collator=data_collator,\n",
        ")"
      ],
      "execution_count": null,
      "outputs": []
    },
    {
      "cell_type": "code",
      "metadata": {
        "id": "nvHjjvqFcpiV"
      },
      "source": [
        "from torch.utils.data.dataloader import DataLoader\n",
        "loader_train = cTrainer.get_train_dataloader()\n",
        "loader_eval = cTrainer.get_eval_dataloader()"
      ],
      "execution_count": null,
      "outputs": []
    },
    {
      "cell_type": "markdown",
      "metadata": {
        "id": "IJIklRgUYKr9"
      },
      "source": [
        "# Обучение"
      ]
    },
    {
      "cell_type": "code",
      "metadata": {
        "id": "RM9O1acwyFTJ"
      },
      "source": [
        "from tqdm import tqdm\n",
        "device = torch.device('cuda')"
      ],
      "execution_count": null,
      "outputs": []
    },
    {
      "cell_type": "code",
      "metadata": {
        "id": "5uAbaNXPXvuS"
      },
      "source": [
        "def tokenize_function(examples):\n",
        "    res = tokenizer(examples[\"0\"])\n",
        "    if len(res['input_ids']) > 30:\n",
        "        for name in res:\n",
        "            res[name] = res[name][:30] + [res[name][-1]]\n",
        "    res['targets'] = examples[\"1\"]\n",
        "    return res"
      ],
      "execution_count": null,
      "outputs": []
    },
    {
      "cell_type": "code",
      "metadata": {
        "id": "0D0guHJxSUjT"
      },
      "source": [
        "def calc_stats(data_loader,\n",
        "               model):\n",
        "  losses = []\n",
        "  correct = 0\n",
        "  all = 0\n",
        "  for batch in data_loader:\n",
        "    attention_mask = batch['attention_mask'].to(device)\n",
        "    input_ids = batch['input_ids'].to(device)\n",
        "    targets = batch['targets'].to(device)\n",
        "\n",
        "    outputs = model(input_ids = input_ids, attention_mask = attention_mask, labels = targets)\n",
        "    loss = outputs['loss']\n",
        "    \n",
        "    losses.append(loss.item())\n",
        "    prob = torch.softmax(outputs['logits'], dim=1);\n",
        "    predict = torch.argmax(prob, axis=-1)\n",
        "    #print(prob)\n",
        "    correct += (predict == targets).sum().item()\n",
        "    all += predict.shape[0]\n",
        "\n",
        "  accuracy = correct / all\n",
        "  print(\"correct:\", correct, \"all:\", all)\n",
        "  print(\"mean loss:\", np.mean(losses))\n",
        "  print(\"mean accuracy:\", np.mean(accuracy))\n",
        "  print()"
      ],
      "execution_count": null,
      "outputs": []
    },
    {
      "cell_type": "code",
      "metadata": {
        "colab": {
          "base_uri": "https://localhost:8080/"
        },
        "id": "XAtYq5L78vC2",
        "outputId": "3796ef58-5357-4a31-f4b3-51150cb2b845"
      },
      "source": [
        "calc_stats(data_loader = loader_eval,\n",
        "           model = model)"
      ],
      "execution_count": null,
      "outputs": [
        {
          "output_type": "stream",
          "text": [
            "correct: 6764 all: 10037\n",
            "mean loss: 0.6728996329573521\n",
            "mean accuracy: 0.6739065457806117\n"
          ],
          "name": "stdout"
        }
      ]
    },
    {
      "cell_type": "code",
      "metadata": {
        "id": "xD6D1kxZd96l"
      },
      "source": [
        "def model_train(num_train_epochs,\n",
        "                data_loader_train,\n",
        "                data_loader_eval,\n",
        "                model,\n",
        "                optimizer,\n",
        "                validate_iters):\n",
        "  iter = 1\n",
        "  losses = []\n",
        "  for epoch in range(num_train_epochs):\n",
        "    print(\"epoch iters = \", len(data_loader_train))\n",
        "    for batch in data_loader_train:\n",
        "      attention_mask = batch['attention_mask'].to(device)\n",
        "      input_ids = batch['input_ids'].to(device)\n",
        "      targets = batch['targets'].to(device)\n",
        "\n",
        "      outputs = model(input_ids = input_ids, attention_mask = attention_mask, labels = targets)\n",
        "      loss = outputs['loss']\n",
        "      losses.append(loss.item())\n",
        "\n",
        "      if (iter % validate_iters) == 0:\n",
        "        print(\"iter = \", iter)\n",
        "        calc_stats(data_loader = data_loader_eval,\n",
        "                   model = model)\n",
        "      iter += 1\n",
        "\n",
        "      optimizer.zero_grad()\n",
        "      loss.backward()\n",
        "      optimizer.step()\n",
        "    print(\"epoch \", epoch, \" mean loss:\", np.mean(losses))\n",
        "  return losses"
      ],
      "execution_count": null,
      "outputs": []
    },
    {
      "cell_type": "code",
      "metadata": {
        "id": "JwOeyyeIn5iA"
      },
      "source": [
        "import torch.optim as optim"
      ],
      "execution_count": null,
      "outputs": []
    },
    {
      "cell_type": "code",
      "metadata": {
        "colab": {
          "base_uri": "https://localhost:8080/"
        },
        "id": "Dy9yOlR9iDkM",
        "outputId": "fa48edbf-67d3-4a84-fe9e-b5bfe979128a"
      },
      "source": [
        "losses = model_train(num_train_epochs = 1,\n",
        "            data_loader_train = loader_train,\n",
        "            data_loader_eval = loader_eval,\n",
        "            model = model,\n",
        "            optimizer = optim.Adam(model.parameters(), lr=2e-5),\n",
        "            validate_iters=2000)"
      ],
      "execution_count": null,
      "outputs": [
        {
          "output_type": "stream",
          "text": [
            "epoch iters =  16871\n",
            "iter =  2000\n",
            "correct: 9488 all: 10037\n",
            "mean loss: 0.13605901897287523\n",
            "mean accuracy: 0.9453023811895985\n",
            "\n",
            "iter =  4000\n",
            "correct: 9579 all: 10037\n",
            "mean loss: 0.11320863222201036\n",
            "mean accuracy: 0.9543688353093553\n",
            "\n",
            "iter =  6000\n",
            "correct: 9678 all: 10037\n",
            "mean loss: 0.09875193217294327\n",
            "mean accuracy: 0.9642323403407392\n",
            "\n",
            "iter =  8000\n",
            "correct: 9640 all: 10037\n",
            "mean loss: 0.10387549314054705\n",
            "mean accuracy: 0.9604463485105111\n",
            "\n",
            "iter =  10000\n",
            "correct: 9673 all: 10037\n",
            "mean loss: 0.09226248204363491\n",
            "mean accuracy: 0.9637341835209724\n",
            "\n",
            "iter =  12000\n",
            "correct: 9717 all: 10037\n",
            "mean loss: 0.08483926032127653\n",
            "mean accuracy: 0.9681179635349207\n",
            "\n",
            "iter =  14000\n",
            "correct: 9612 all: 10037\n",
            "mean loss: 0.10455716958388211\n",
            "mean accuracy: 0.9576566703198167\n",
            "\n",
            "iter =  16000\n",
            "correct: 9700 all: 10037\n",
            "mean loss: 0.08752422273463747\n",
            "mean accuracy: 0.9664242303477134\n",
            "\n",
            "epoch  0  mean loss: 0.1010059182065751\n"
          ],
          "name": "stdout"
        }
      ]
    },
    {
      "cell_type": "code",
      "metadata": {
        "id": "kx2-gpz64FaS"
      },
      "source": [
        "#model.save_pretrained(\"/jokes_bert\")\n",
        "#model.save_pretrained(\"/content/drive/MyDrive/chatbot_project/jokes_bert\")"
      ],
      "execution_count": null,
      "outputs": []
    },
    {
      "cell_type": "markdown",
      "metadata": {
        "id": "RfjPN2-EZ5VY"
      },
      "source": [
        "# Проверка"
      ]
    },
    {
      "cell_type": "code",
      "metadata": {
        "colab": {
          "base_uri": "https://localhost:8080/",
          "height": 281
        },
        "id": "GUv3Bl5yd938",
        "outputId": "be997763-0380-4d72-c084-79a9a73c86fb"
      },
      "source": [
        "import matplotlib.pyplot as plt\n",
        "cnt = len(losses)\n",
        "plt.plot(range(cnt)[::50], losses[::50], label='Train')\n",
        "plt.xlabel('Global Steps')\n",
        "plt.ylabel('Loss')\n",
        "plt.legend()\n",
        "plt.show() "
      ],
      "execution_count": null,
      "outputs": [
        {
          "output_type": "display_data",
          "data": {
            "image/png": "[encoded data removed]",
            "text/plain": [
              "<Figure size 432x288 with 1 Axes>"
            ]
          },
          "metadata": {
            "tags": [],
            "needs_background": "light"
          }
        }
      ]
    },
    {
      "cell_type": "code",
      "metadata": {
        "colab": {
          "base_uri": "https://localhost:8080/"
        },
        "id": "zm-e1ZYTX0S2",
        "outputId": "4b0a7a6f-d93b-4feb-a255-2304deb71b5d"
      },
      "source": [
        "def calc_sentence(s, model):\n",
        "  tokenized = tokenizer(s, return_tensors=\"pt\")\n",
        "  outputs = model(**tokenized)\n",
        "  prob = torch.softmax(outputs['logits'], dim=1);\n",
        "  predict = torch.argmax(prob, axis=-1).item()\n",
        "  return predict, prob\n",
        "\n",
        "calc_sentence(\"Он добежал до моего дома.\", model)"
      ],
      "execution_count": null,
      "outputs": [
        {
          "output_type": "execute_result",
          "data": {
            "text/plain": [
              "(0, tensor([[0.9952, 0.0048]], grad_fn=<SoftmaxBackward>))"
            ]
          },
          "metadata": {
            "tags": []
          },
          "execution_count": 9
        }
      ]
    },
    {
      "cell_type": "code",
      "metadata": {
        "colab": {
          "base_uri": "https://localhost:8080/"
        },
        "id": "gCYVl4Xp9DUT",
        "outputId": "7bf604b3-984a-44e7-ccc5-821d28d90317"
      },
      "source": [
        "s_list = [\n",
        "          \"Он добежал до моего дома.\",\n",
        "          \"Он добежал до к моего дома.\",\n",
        "          \"Он добежал\",\n",
        "          \"Ладно, я пошёл по делам, пока\",\n",
        "          \"Я пишу тебе\",\n",
        "          \"Уже полгода как записался на фитнес. Завтра схожу.\",\n",
        "          \"Только в России все атеисты православные.\",\n",
        "          \"Не тот футбол назвали Мундиалем...\",\n",
        "          \"Необозримые пространства земли ещё долго гнили под солнцем.\",\n",
        "          \"Не страшна мама так, как её рисуют одноклассники.\",\n",
        "          \"Я люблю гулять по улицам.\",\n",
        "          \"Секс это конечно хорошо, но кого мы пытаемся обмануть.\",\n",
        "          \"Учёные доказали, то сначала появились негры, а потом люди.\",\n",
        "          \"Привет!!!!!!!!!!!!!!!!!!!!\",\n",
        "          \"Здарова\",\n",
        "          \"Привет!\",\n",
        "          \"Привет???\",\n",
        "          \"Ааааа, даааааааадааааа ааааа дааада\",\n",
        "          \"Купил мужик шляпу, а она ему как раз\",\n",
        "          \"Привет) расскажи о себе\",\n",
        "          \"Привет) под вкусный кофеек настроение поболтать появилось )\",\n",
        "          \"Что читаешь? Мне нравится классика\",\n",
        "          \"Я тоже люблю пообщаться\",\n",
        "          \"Люблю животных, просто обожаю, как и свою работу)\",\n",
        "          \"Я фантастику люблю\",\n",
        "          \"А я выращиваю фиалки\",\n",
        "          \"И веду здоровый и активный образ жизни!\",\n",
        "          \"Ух ты, интересно.\",\n",
        "          \"Ты случайно не принц на белом коне? Я его очень жду ..\",\n",
        "          \"А у меня из хобби каждую неделю тусить с моим лучшим другом)\",\n",
        "          \"Привет!\",\n",
        "          \"Привет,Как жизнь?\",\n",
        "          \"Отлично) Солнышко светит, птички поют!\",\n",
        "          \"Я вот сегодня понял, что меня тупо используют, всем нужны от меня лишь деньги, ненавижу людей\",\n",
        "          \"Чем занимаешься по жизни, я вот бизнесмен.\",\n",
        "          \"А я вот учу детей, работаю с начальными классами\",\n",
        "          \"Не все люди такие, как ты говоришь\",\n",
        "          \"Помимо работы чем еще ты занимаешься?\",\n",
        "          \"К свадьбе готовлюсь\",\n",
        "          \"А ты?\",\n",
        "          \"Вот видишь) значит, нашел такую женщину, которой не нужны от тебя деньги\",\n",
        "         ]\n",
        "for s in s_list:\n",
        "  ans, probs = calc_sentence(s, model)\n",
        "  print((\"ahah\" if ans else \"bruh\"), probs[0][1].item() * 100.0, \"%\\t\", s)"
      ],
      "execution_count": null,
      "outputs": [
        {
          "output_type": "stream",
          "text": [
            "bruh 0.47709420323371887 %\t Он добежал до моего дома.\n",
            "bruh 0.5230116192251444 %\t Он добежал до к моего дома.\n",
            "bruh 0.024336136993952096 %\t Он добежал\n",
            "bruh 0.024718831991776824 %\t Ладно, я пошёл по делам, пока\n",
            "bruh 0.026815308956429362 %\t Я пишу тебе\n",
            "ahah 99.94637370109558 %\t Уже полгода как записался на фитнес. Завтра схожу.\n",
            "ahah 82.23211169242859 %\t Только в России все атеисты православные.\n",
            "ahah 98.88302683830261 %\t Не тот футбол назвали Мундиалем...\n",
            "bruh 28.230944275856018 %\t Необозримые пространства земли ещё долго гнили под солнцем.\n",
            "ahah 98.7705647945404 %\t Не страшна мама так, как её рисуют одноклассники.\n",
            "bruh 6.010332331061363 %\t Я люблю гулять по улицам.\n",
            "ahah 97.49131202697754 %\t Секс это конечно хорошо, но кого мы пытаемся обмануть.\n",
            "ahah 96.6579020023346 %\t Учёные доказали, то сначала появились негры, а потом люди.\n",
            "bruh 1.860981434583664 %\t Привет!!!!!!!!!!!!!!!!!!!!\n",
            "bruh 0.024496697005815804 %\t Здарова\n",
            "bruh 0.0805006013251841 %\t Привет!\n",
            "bruh 0.08891484467312694 %\t Привет???\n",
            "bruh 0.11757285101339221 %\t Ааааа, даааааааадааааа ааааа дааада\n",
            "bruh 0.027290655998513103 %\t Купил мужик шляпу, а она ему как раз\n",
            "bruh 0.03406293399166316 %\t Привет) расскажи о себе\n",
            "bruh 0.048056308878585696 %\t Привет) под вкусный кофеек настроение поболтать появилось )\n",
            "bruh 3.0308986082673073 %\t Что читаешь? Мне нравится классика\n",
            "bruh 0.025787876802496612 %\t Я тоже люблю пообщаться\n",
            "bruh 0.043452816316857934 %\t Люблю животных, просто обожаю, как и свою работу)\n",
            "bruh 0.024691058206371963 %\t Я фантастику люблю\n",
            "bruh 0.031210717861540616 %\t А я выращиваю фиалки\n",
            "bruh 33.400461077690125 %\t И веду здоровый и активный образ жизни!\n",
            "bruh 0.11187955969944596 %\t Ух ты, интересно.\n",
            "ahah 99.93420243263245 %\t Ты случайно не принц на белом коне? Я его очень жду ..\n",
            "bruh 0.06898692226968706 %\t А у меня из хобби каждую неделю тусить с моим лучшим другом)\n",
            "bruh 0.0805006013251841 %\t Привет!\n",
            "bruh 0.22436834406107664 %\t Привет,Как жизнь?\n",
            "bruh 0.7273932453244925 %\t Отлично) Солнышко светит, птички поют!\n",
            "bruh 0.0643602223135531 %\t Я вот сегодня понял, что меня тупо используют, всем нужны от меня лишь деньги, ненавижу людей\n",
            "ahah 86.15042567253113 %\t Чем занимаешься по жизни, я вот бизнесмен.\n",
            "bruh 0.05429024458862841 %\t А я вот учу детей, работаю с начальными классами\n",
            "bruh 3.341861069202423 %\t Не все люди такие, как ты говоришь\n",
            "bruh 1.0790536180138588 %\t Помимо работы чем еще ты занимаешься?\n",
            "bruh 0.025764552992768586 %\t К свадьбе готовлюсь\n",
            "bruh 0.057930080220103264 %\t А ты?\n",
            "bruh 0.03489648806862533 %\t Вот видишь) значит, нашел такую женщину, которой не нужны от тебя деньги\n"
          ],
          "name": "stdout"
        }
      ]
    },
    {
      "cell_type": "code",
      "metadata": {
        "id": "2kH0DAM82jHH"
      },
      "source": [
        "file_in = open(\"/content/drive/MyDrive/chatbot_project/phrases.txt\", \"r\")"
      ],
      "execution_count": null,
      "outputs": []
    },
    {
      "cell_type": "code",
      "metadata": {
        "id": "jzJzmEjv2jCn"
      },
      "source": [
        "# 259964"
      ],
      "execution_count": null,
      "outputs": []
    },
    {
      "cell_type": "code",
      "metadata": {
        "id": "ZZxLVm4K9DRm",
        "colab": {
          "base_uri": "https://localhost:8080/",
          "height": 1000
        },
        "outputId": "e8df88b8-edef-4d38-c601-fe0e2aee30c1"
      },
      "source": [
        "good = []\n",
        "for s in tqdm(file_in):\n",
        "  ans, probs = calc_sentence(s[:-1], model)\n",
        "  if ans:\n",
        "    good.append([probs[0][1].item() * 100.0, s[:-1]])"
      ],
      "execution_count": null,
      "outputs": [
        {
          "output_type": "stream",
          "text": [
            "\n",
            "0it [00:00, ?it/s]\u001b[A\n",
            "8it [00:00, 77.17it/s]\u001b[A\n",
            "16it [00:00, 77.43it/s]\u001b[A\n",
            "24it [00:00, 77.39it/s]\u001b[A\n",
            "33it [00:00, 78.72it/s]\u001b[A\n",
            "41it [00:00, 78.77it/s]\u001b[A\n",
            "49it [00:00, 76.33it/s]\u001b[A\n",
            "57it [00:00, 76.45it/s]\u001b[A\n",
            "65it [00:00, 75.04it/s]\u001b[A\n",
            "73it [00:00, 74.60it/s]\u001b[A\n",
            "81it [00:01, 76.12it/s]\u001b[A\n",
            "89it [00:01, 76.18it/s]\u001b[A\n",
            "97it [00:01, 75.03it/s]\u001b[A\n",
            "105it [00:01, 74.75it/s]\u001b[A\n",
            "113it [00:01, 74.05it/s]\u001b[A\n",
            "121it [00:01, 74.45it/s]\u001b[A\n",
            "129it [00:01, 74.46it/s]\u001b[A\n",
            "137it [00:01, 72.41it/s]\u001b[A\n",
            "145it [00:01, 73.01it/s]\u001b[A\n",
            "153it [00:02, 74.97it/s]\u001b[A\n",
            "161it [00:02, 73.59it/s]\u001b[A\n",
            "169it [00:02, 74.58it/s]\u001b[A\n",
            "177it [00:02, 74.58it/s]\u001b[A\n",
            "185it [00:02, 75.64it/s]\u001b[A\n",
            "193it [00:02, 75.16it/s]\u001b[A\n",
            "201it [00:02, 75.68it/s]\u001b[A\n",
            "209it [00:02, 76.89it/s]\u001b[A\n",
            "217it [00:02, 76.59it/s]\u001b[A\n",
            "226it [00:02, 78.29it/s]\u001b[A\n",
            "234it [00:03, 76.09it/s]\u001b[A\n",
            "242it [00:03, 77.13it/s]\u001b[A\n",
            "251it [00:03, 78.29it/s]\u001b[A\n",
            "259it [00:03, 77.33it/s]\u001b[A\n",
            "267it [00:03, 76.95it/s]\u001b[A\n",
            "275it [00:03, 72.67it/s]\u001b[A\n",
            "283it [00:03, 73.91it/s]\u001b[A\n",
            "291it [00:03, 74.58it/s]\u001b[A\n",
            "299it [00:03, 75.63it/s]\u001b[A\n",
            "307it [00:04, 76.73it/s]\u001b[A\n",
            "315it [00:04, 77.20it/s]\u001b[A\n",
            "323it [00:04, 76.68it/s]\u001b[A\n",
            "332it [00:04, 78.54it/s]\u001b[A\n",
            "340it [00:04, 77.49it/s]\u001b[A\n",
            "348it [00:04, 77.98it/s]\u001b[A\n",
            "356it [00:04, 78.24it/s]\u001b[A\n",
            "364it [00:04, 77.48it/s]\u001b[A\n",
            "372it [00:04, 76.37it/s]\u001b[A\n",
            "381it [00:05, 77.79it/s]\u001b[A\n",
            "390it [00:05, 78.21it/s]\u001b[A\n",
            "398it [00:05, 78.66it/s]\u001b[A\n",
            "407it [00:05, 79.19it/s]\u001b[A\n",
            "415it [00:05, 77.98it/s]\u001b[A\n",
            "424it [00:05, 79.40it/s]\u001b[A\n",
            "432it [00:05, 78.86it/s]\u001b[A\n",
            "441it [00:05, 79.82it/s]\u001b[A\n",
            "449it [00:05, 78.51it/s]\u001b[A\n",
            "457it [00:05, 78.48it/s]\u001b[A\n",
            "465it [00:06, 78.86it/s]\u001b[A\n",
            "474it [00:06, 79.75it/s]\u001b[A\n",
            "483it [00:06, 80.30it/s]\u001b[A\n",
            "492it [00:06, 78.96it/s]\u001b[A\n",
            "500it [00:06, 79.26it/s]\u001b[A\n",
            "508it [00:06, 77.08it/s]\u001b[A\n",
            "516it [00:06, 77.26it/s]\u001b[A\n",
            "524it [00:06, 77.28it/s]\u001b[A\n",
            "532it [00:06, 74.68it/s]\u001b[A\n",
            "540it [00:07, 74.93it/s]\u001b[A\n",
            "548it [00:07, 75.93it/s]\u001b[A\n",
            "556it [00:07, 76.33it/s]\u001b[A\n",
            "564it [00:07, 76.95it/s]\u001b[A\n",
            "572it [00:07, 76.46it/s]\u001b[A\n",
            "580it [00:07, 75.88it/s]\u001b[A\n",
            "588it [00:07, 75.64it/s]\u001b[A\n",
            "596it [00:07, 75.12it/s]\u001b[A\n",
            "604it [00:07, 74.57it/s]"
          ],
          "name": "stderr"
        },
        {
          "output_type": "error",
          "ename": "KeyboardInterrupt",
          "evalue": "ignored",
          "traceback": [
            "\u001b[0;31m---------------------------------------------------------------------------\u001b[0m",
            "\u001b[0;31mKeyboardInterrupt\u001b[0m                         Traceback (most recent call last)",
            "\u001b[0;32m<ipython-input-105-47ec364ea0b1>\u001b[0m in \u001b[0;36m<module>\u001b[0;34m()\u001b[0m\n\u001b[1;32m      1\u001b[0m \u001b[0mgood\u001b[0m \u001b[0;34m=\u001b[0m \u001b[0;34m[\u001b[0m\u001b[0;34m]\u001b[0m\u001b[0;34m\u001b[0m\u001b[0;34m\u001b[0m\u001b[0m\n\u001b[0;32m----> 2\u001b[0;31m \u001b[0;32mfor\u001b[0m \u001b[0ms\u001b[0m \u001b[0;32min\u001b[0m \u001b[0mtqdm\u001b[0m\u001b[0;34m(\u001b[0m\u001b[0mfile_in\u001b[0m\u001b[0;34m)\u001b[0m\u001b[0;34m:\u001b[0m\u001b[0;34m\u001b[0m\u001b[0;34m\u001b[0m\u001b[0m\n\u001b[0m\u001b[1;32m      3\u001b[0m   \u001b[0mans\u001b[0m\u001b[0;34m,\u001b[0m \u001b[0mprobs\u001b[0m \u001b[0;34m=\u001b[0m \u001b[0mcalc_sentence\u001b[0m\u001b[0;34m(\u001b[0m\u001b[0ms\u001b[0m\u001b[0;34m[\u001b[0m\u001b[0;34m:\u001b[0m\u001b[0;34m-\u001b[0m\u001b[0;36m1\u001b[0m\u001b[0;34m]\u001b[0m\u001b[0;34m,\u001b[0m \u001b[0mmodel\u001b[0m\u001b[0;34m)\u001b[0m\u001b[0;34m\u001b[0m\u001b[0;34m\u001b[0m\u001b[0m\n\u001b[1;32m      4\u001b[0m   \u001b[0;32mif\u001b[0m \u001b[0mans\u001b[0m\u001b[0;34m:\u001b[0m\u001b[0;34m\u001b[0m\u001b[0;34m\u001b[0m\u001b[0m\n\u001b[1;32m      5\u001b[0m     \u001b[0mgood\u001b[0m\u001b[0;34m.\u001b[0m\u001b[0mappend\u001b[0m\u001b[0;34m(\u001b[0m\u001b[0;34m[\u001b[0m\u001b[0mprobs\u001b[0m\u001b[0;34m[\u001b[0m\u001b[0;36m0\u001b[0m\u001b[0;34m]\u001b[0m\u001b[0;34m[\u001b[0m\u001b[0;36m1\u001b[0m\u001b[0;34m]\u001b[0m\u001b[0;34m.\u001b[0m\u001b[0mitem\u001b[0m\u001b[0;34m(\u001b[0m\u001b[0;34m)\u001b[0m \u001b[0;34m*\u001b[0m \u001b[0;36m100.0\u001b[0m\u001b[0;34m,\u001b[0m \u001b[0ms\u001b[0m\u001b[0;34m[\u001b[0m\u001b[0;34m:\u001b[0m\u001b[0;34m-\u001b[0m\u001b[0;36m1\u001b[0m\u001b[0;34m]\u001b[0m\u001b[0;34m]\u001b[0m\u001b[0;34m)\u001b[0m\u001b[0;34m\u001b[0m\u001b[0;34m\u001b[0m\u001b[0m\n",
            "\u001b[0;32m/usr/local/lib/python3.7/dist-packages/tqdm/std.py\u001b[0m in \u001b[0;36m__iter__\u001b[0;34m(self)\u001b[0m\n\u001b[1;32m   1121\u001b[0m \u001b[0;34m\u001b[0m\u001b[0m\n\u001b[1;32m   1122\u001b[0m                     \u001b[0mself\u001b[0m\u001b[0;34m.\u001b[0m\u001b[0mn\u001b[0m \u001b[0;34m=\u001b[0m \u001b[0mn\u001b[0m\u001b[0;34m\u001b[0m\u001b[0;34m\u001b[0m\u001b[0m\n\u001b[0;32m-> 1123\u001b[0;31m                     \u001b[0mself\u001b[0m\u001b[0;34m.\u001b[0m\u001b[0mrefresh\u001b[0m\u001b[0;34m(\u001b[0m\u001b[0mlock_args\u001b[0m\u001b[0;34m=\u001b[0m\u001b[0mself\u001b[0m\u001b[0;34m.\u001b[0m\u001b[0mlock_args\u001b[0m\u001b[0;34m)\u001b[0m\u001b[0;34m\u001b[0m\u001b[0;34m\u001b[0m\u001b[0m\n\u001b[0m\u001b[1;32m   1124\u001b[0m \u001b[0;34m\u001b[0m\u001b[0m\n\u001b[1;32m   1125\u001b[0m                     \u001b[0;31m# If no `miniters` was specified, adjust automatically\u001b[0m\u001b[0;34m\u001b[0m\u001b[0;34m\u001b[0m\u001b[0;34m\u001b[0m\u001b[0m\n",
            "\u001b[0;32m/usr/local/lib/python3.7/dist-packages/tqdm/std.py\u001b[0m in \u001b[0;36mrefresh\u001b[0;34m(self, nolock, lock_args)\u001b[0m\n\u001b[1;32m   1309\u001b[0m             \u001b[0;32melse\u001b[0m\u001b[0;34m:\u001b[0m\u001b[0;34m\u001b[0m\u001b[0;34m\u001b[0m\u001b[0m\n\u001b[1;32m   1310\u001b[0m                 \u001b[0mself\u001b[0m\u001b[0;34m.\u001b[0m\u001b[0m_lock\u001b[0m\u001b[0;34m.\u001b[0m\u001b[0macquire\u001b[0m\u001b[0;34m(\u001b[0m\u001b[0;34m)\u001b[0m\u001b[0;34m\u001b[0m\u001b[0;34m\u001b[0m\u001b[0m\n\u001b[0;32m-> 1311\u001b[0;31m         \u001b[0mself\u001b[0m\u001b[0;34m.\u001b[0m\u001b[0mdisplay\u001b[0m\u001b[0;34m(\u001b[0m\u001b[0;34m)\u001b[0m\u001b[0;34m\u001b[0m\u001b[0;34m\u001b[0m\u001b[0m\n\u001b[0m\u001b[1;32m   1312\u001b[0m         \u001b[0;32mif\u001b[0m \u001b[0;32mnot\u001b[0m \u001b[0mnolock\u001b[0m\u001b[0;34m:\u001b[0m\u001b[0;34m\u001b[0m\u001b[0;34m\u001b[0m\u001b[0m\n\u001b[1;32m   1313\u001b[0m             \u001b[0mself\u001b[0m\u001b[0;34m.\u001b[0m\u001b[0m_lock\u001b[0m\u001b[0;34m.\u001b[0m\u001b[0mrelease\u001b[0m\u001b[0;34m(\u001b[0m\u001b[0;34m)\u001b[0m\u001b[0;34m\u001b[0m\u001b[0;34m\u001b[0m\u001b[0m\n",
            "\u001b[0;32m/usr/local/lib/python3.7/dist-packages/tqdm/std.py\u001b[0m in \u001b[0;36mdisplay\u001b[0;34m(self, msg, pos)\u001b[0m\n\u001b[1;32m   1433\u001b[0m         \u001b[0;32mif\u001b[0m \u001b[0mpos\u001b[0m\u001b[0;34m:\u001b[0m\u001b[0;34m\u001b[0m\u001b[0;34m\u001b[0m\u001b[0m\n\u001b[1;32m   1434\u001b[0m             \u001b[0mself\u001b[0m\u001b[0;34m.\u001b[0m\u001b[0mmoveto\u001b[0m\u001b[0;34m(\u001b[0m\u001b[0mpos\u001b[0m\u001b[0;34m)\u001b[0m\u001b[0;34m\u001b[0m\u001b[0;34m\u001b[0m\u001b[0m\n\u001b[0;32m-> 1435\u001b[0;31m         \u001b[0mself\u001b[0m\u001b[0;34m.\u001b[0m\u001b[0msp\u001b[0m\u001b[0;34m(\u001b[0m\u001b[0mself\u001b[0m\u001b[0;34m.\u001b[0m\u001b[0m__repr__\u001b[0m\u001b[0;34m(\u001b[0m\u001b[0;34m)\u001b[0m \u001b[0;32mif\u001b[0m \u001b[0mmsg\u001b[0m \u001b[0;32mis\u001b[0m \u001b[0;32mNone\u001b[0m \u001b[0;32melse\u001b[0m \u001b[0mmsg\u001b[0m\u001b[0;34m)\u001b[0m\u001b[0;34m\u001b[0m\u001b[0;34m\u001b[0m\u001b[0m\n\u001b[0m\u001b[1;32m   1436\u001b[0m         \u001b[0;32mif\u001b[0m \u001b[0mpos\u001b[0m\u001b[0;34m:\u001b[0m\u001b[0;34m\u001b[0m\u001b[0;34m\u001b[0m\u001b[0m\n\u001b[1;32m   1437\u001b[0m             \u001b[0mself\u001b[0m\u001b[0;34m.\u001b[0m\u001b[0mmoveto\u001b[0m\u001b[0;34m(\u001b[0m\u001b[0;34m-\u001b[0m\u001b[0mpos\u001b[0m\u001b[0;34m)\u001b[0m\u001b[0;34m\u001b[0m\u001b[0;34m\u001b[0m\u001b[0m\n",
            "\u001b[0;32m/usr/local/lib/python3.7/dist-packages/tqdm/std.py\u001b[0m in \u001b[0;36mprint_status\u001b[0;34m(s)\u001b[0m\n\u001b[1;32m    303\u001b[0m         \u001b[0;32mdef\u001b[0m \u001b[0mprint_status\u001b[0m\u001b[0;34m(\u001b[0m\u001b[0ms\u001b[0m\u001b[0;34m)\u001b[0m\u001b[0;34m:\u001b[0m\u001b[0;34m\u001b[0m\u001b[0;34m\u001b[0m\u001b[0m\n\u001b[1;32m    304\u001b[0m             \u001b[0mlen_s\u001b[0m \u001b[0;34m=\u001b[0m \u001b[0mlen\u001b[0m\u001b[0;34m(\u001b[0m\u001b[0ms\u001b[0m\u001b[0;34m)\u001b[0m\u001b[0;34m\u001b[0m\u001b[0;34m\u001b[0m\u001b[0m\n\u001b[0;32m--> 305\u001b[0;31m             \u001b[0mfp_write\u001b[0m\u001b[0;34m(\u001b[0m\u001b[0;34m'\\r'\u001b[0m \u001b[0;34m+\u001b[0m \u001b[0ms\u001b[0m \u001b[0;34m+\u001b[0m \u001b[0;34m(\u001b[0m\u001b[0;34m' '\u001b[0m \u001b[0;34m*\u001b[0m \u001b[0mmax\u001b[0m\u001b[0;34m(\u001b[0m\u001b[0mlast_len\u001b[0m\u001b[0;34m[\u001b[0m\u001b[0;36m0\u001b[0m\u001b[0;34m]\u001b[0m \u001b[0;34m-\u001b[0m \u001b[0mlen_s\u001b[0m\u001b[0;34m,\u001b[0m \u001b[0;36m0\u001b[0m\u001b[0;34m)\u001b[0m\u001b[0;34m)\u001b[0m\u001b[0;34m)\u001b[0m\u001b[0;34m\u001b[0m\u001b[0;34m\u001b[0m\u001b[0m\n\u001b[0m\u001b[1;32m    306\u001b[0m             \u001b[0mlast_len\u001b[0m\u001b[0;34m[\u001b[0m\u001b[0;36m0\u001b[0m\u001b[0;34m]\u001b[0m \u001b[0;34m=\u001b[0m \u001b[0mlen_s\u001b[0m\u001b[0;34m\u001b[0m\u001b[0;34m\u001b[0m\u001b[0m\n\u001b[1;32m    307\u001b[0m \u001b[0;34m\u001b[0m\u001b[0m\n",
            "\u001b[0;32m/usr/local/lib/python3.7/dist-packages/tqdm/std.py\u001b[0m in \u001b[0;36mfp_write\u001b[0;34m(s)\u001b[0m\n\u001b[1;32m    297\u001b[0m         \u001b[0;32mdef\u001b[0m \u001b[0mfp_write\u001b[0m\u001b[0;34m(\u001b[0m\u001b[0ms\u001b[0m\u001b[0;34m)\u001b[0m\u001b[0;34m:\u001b[0m\u001b[0;34m\u001b[0m\u001b[0;34m\u001b[0m\u001b[0m\n\u001b[1;32m    298\u001b[0m             \u001b[0mfp\u001b[0m\u001b[0;34m.\u001b[0m\u001b[0mwrite\u001b[0m\u001b[0;34m(\u001b[0m\u001b[0m_unicode\u001b[0m\u001b[0;34m(\u001b[0m\u001b[0ms\u001b[0m\u001b[0;34m)\u001b[0m\u001b[0;34m)\u001b[0m\u001b[0;34m\u001b[0m\u001b[0;34m\u001b[0m\u001b[0m\n\u001b[0;32m--> 299\u001b[0;31m             \u001b[0mfp_flush\u001b[0m\u001b[0;34m(\u001b[0m\u001b[0;34m)\u001b[0m\u001b[0;34m\u001b[0m\u001b[0;34m\u001b[0m\u001b[0m\n\u001b[0m\u001b[1;32m    300\u001b[0m \u001b[0;34m\u001b[0m\u001b[0m\n\u001b[1;32m    301\u001b[0m         \u001b[0mlast_len\u001b[0m \u001b[0;34m=\u001b[0m \u001b[0;34m[\u001b[0m\u001b[0;36m0\u001b[0m\u001b[0;34m]\u001b[0m\u001b[0;34m\u001b[0m\u001b[0;34m\u001b[0m\u001b[0m\n",
            "\u001b[0;32m/usr/local/lib/python3.7/dist-packages/ipykernel/iostream.py\u001b[0m in \u001b[0;36mflush\u001b[0;34m(self)\u001b[0m\n\u001b[1;32m    347\u001b[0m                 \u001b[0mself\u001b[0m\u001b[0;34m.\u001b[0m\u001b[0mpub_thread\u001b[0m\u001b[0;34m.\u001b[0m\u001b[0mschedule\u001b[0m\u001b[0;34m(\u001b[0m\u001b[0mevt\u001b[0m\u001b[0;34m.\u001b[0m\u001b[0mset\u001b[0m\u001b[0;34m)\u001b[0m\u001b[0;34m\u001b[0m\u001b[0;34m\u001b[0m\u001b[0m\n\u001b[1;32m    348\u001b[0m                 \u001b[0;31m# and give a timeout to avoid\u001b[0m\u001b[0;34m\u001b[0m\u001b[0;34m\u001b[0m\u001b[0;34m\u001b[0m\u001b[0m\n\u001b[0;32m--> 349\u001b[0;31m                 \u001b[0;32mif\u001b[0m \u001b[0;32mnot\u001b[0m \u001b[0mevt\u001b[0m\u001b[0;34m.\u001b[0m\u001b[0mwait\u001b[0m\u001b[0;34m(\u001b[0m\u001b[0mself\u001b[0m\u001b[0;34m.\u001b[0m\u001b[0mflush_timeout\u001b[0m\u001b[0;34m)\u001b[0m\u001b[0;34m:\u001b[0m\u001b[0;34m\u001b[0m\u001b[0;34m\u001b[0m\u001b[0m\n\u001b[0m\u001b[1;32m    350\u001b[0m                     \u001b[0;31m# write directly to __stderr__ instead of warning because\u001b[0m\u001b[0;34m\u001b[0m\u001b[0;34m\u001b[0m\u001b[0;34m\u001b[0m\u001b[0m\n\u001b[1;32m    351\u001b[0m                     \u001b[0;31m# if this is happening sys.stderr may be the problem.\u001b[0m\u001b[0;34m\u001b[0m\u001b[0;34m\u001b[0m\u001b[0;34m\u001b[0m\u001b[0m\n",
            "\u001b[0;32m/usr/lib/python3.7/threading.py\u001b[0m in \u001b[0;36mwait\u001b[0;34m(self, timeout)\u001b[0m\n\u001b[1;32m    550\u001b[0m             \u001b[0msignaled\u001b[0m \u001b[0;34m=\u001b[0m \u001b[0mself\u001b[0m\u001b[0;34m.\u001b[0m\u001b[0m_flag\u001b[0m\u001b[0;34m\u001b[0m\u001b[0;34m\u001b[0m\u001b[0m\n\u001b[1;32m    551\u001b[0m             \u001b[0;32mif\u001b[0m \u001b[0;32mnot\u001b[0m \u001b[0msignaled\u001b[0m\u001b[0;34m:\u001b[0m\u001b[0;34m\u001b[0m\u001b[0;34m\u001b[0m\u001b[0m\n\u001b[0;32m--> 552\u001b[0;31m                 \u001b[0msignaled\u001b[0m \u001b[0;34m=\u001b[0m \u001b[0mself\u001b[0m\u001b[0;34m.\u001b[0m\u001b[0m_cond\u001b[0m\u001b[0;34m.\u001b[0m\u001b[0mwait\u001b[0m\u001b[0;34m(\u001b[0m\u001b[0mtimeout\u001b[0m\u001b[0;34m)\u001b[0m\u001b[0;34m\u001b[0m\u001b[0;34m\u001b[0m\u001b[0m\n\u001b[0m\u001b[1;32m    553\u001b[0m             \u001b[0;32mreturn\u001b[0m \u001b[0msignaled\u001b[0m\u001b[0;34m\u001b[0m\u001b[0;34m\u001b[0m\u001b[0m\n\u001b[1;32m    554\u001b[0m \u001b[0;34m\u001b[0m\u001b[0m\n",
            "\u001b[0;32m/usr/lib/python3.7/threading.py\u001b[0m in \u001b[0;36mwait\u001b[0;34m(self, timeout)\u001b[0m\n\u001b[1;32m    298\u001b[0m             \u001b[0;32melse\u001b[0m\u001b[0;34m:\u001b[0m\u001b[0;34m\u001b[0m\u001b[0;34m\u001b[0m\u001b[0m\n\u001b[1;32m    299\u001b[0m                 \u001b[0;32mif\u001b[0m \u001b[0mtimeout\u001b[0m \u001b[0;34m>\u001b[0m \u001b[0;36m0\u001b[0m\u001b[0;34m:\u001b[0m\u001b[0;34m\u001b[0m\u001b[0;34m\u001b[0m\u001b[0m\n\u001b[0;32m--> 300\u001b[0;31m                     \u001b[0mgotit\u001b[0m \u001b[0;34m=\u001b[0m \u001b[0mwaiter\u001b[0m\u001b[0;34m.\u001b[0m\u001b[0macquire\u001b[0m\u001b[0;34m(\u001b[0m\u001b[0;32mTrue\u001b[0m\u001b[0;34m,\u001b[0m \u001b[0mtimeout\u001b[0m\u001b[0;34m)\u001b[0m\u001b[0;34m\u001b[0m\u001b[0;34m\u001b[0m\u001b[0m\n\u001b[0m\u001b[1;32m    301\u001b[0m                 \u001b[0;32melse\u001b[0m\u001b[0;34m:\u001b[0m\u001b[0;34m\u001b[0m\u001b[0;34m\u001b[0m\u001b[0m\n\u001b[1;32m    302\u001b[0m                     \u001b[0mgotit\u001b[0m \u001b[0;34m=\u001b[0m \u001b[0mwaiter\u001b[0m\u001b[0;34m.\u001b[0m\u001b[0macquire\u001b[0m\u001b[0;34m(\u001b[0m\u001b[0;32mFalse\u001b[0m\u001b[0;34m)\u001b[0m\u001b[0;34m\u001b[0m\u001b[0;34m\u001b[0m\u001b[0m\n",
            "\u001b[0;31mKeyboardInterrupt\u001b[0m: "
          ]
        }
      ]
    },
    {
      "cell_type": "code",
      "metadata": {
        "colab": {
          "base_uri": "https://localhost:8080/"
        },
        "id": "wuH8aMR2_Jsb",
        "outputId": "1db5633f-ec1e-4033-a536-ce1a6a8f94b2"
      },
      "source": [
        "len(good)"
      ],
      "execution_count": null,
      "outputs": [
        {
          "output_type": "execute_result",
          "data": {
            "text/plain": [
              "79"
            ]
          },
          "metadata": {
            "tags": []
          },
          "execution_count": 106
        }
      ]
    },
    {
      "cell_type": "code",
      "metadata": {
        "colab": {
          "base_uri": "https://localhost:8080/"
        },
        "id": "YJzzVS9t_JqB",
        "outputId": "7f0538db-246e-40c1-eb46-6d30a8b645ee"
      },
      "source": [
        "good"
      ],
      "execution_count": null,
      "outputs": [
        {
          "output_type": "execute_result",
          "data": {
            "text/plain": [
              "[[99.93420243263245, 'Ты случайно не принц на белом коне? Я его очень жду ..'],\n",
              " [86.15042567253113, 'Чем занимаешься по жизни, я вот бизнесмен.'],\n",
              " [90.67810773849487, 'Люблю готовить пасту,  у меня классно получается!'],\n",
              " [94.92220878601074, 'А я тоже хочу. На машину скопить.'],\n",
              " [99.94688630104065,\n",
              "  'Нормально, готовлюсь ко сну. Завтра снова в школу . Не люблю учиться.'],\n",
              " [99.69730377197266,\n",
              "  'Ещё не решила, может быть детектив какой нибудь. А как в школе у тебя?'],\n",
              " [99.94181394577026,\n",
              "  'Хорошо, ещё учусь, но скоро закончу. Уже мечтаю работать , а не сидеть за учебниками. А ты работаешь или учишься ещё?'],\n",
              " [71.2326169013977,\n",
              "  'А я работаю, мне нравится моя работа, кем планируешь работать?'],\n",
              " [99.91023540496826, 'Хочу быть психологом. А кем ты работаешь?'],\n",
              " [99.82820749282837, 'Это классно. Хочу также. А ты одна живешь?'],\n",
              " [96.67087197303772,\n",
              "  'Я тоже с родителями живу, обожаю их. Но иногда хочется пожить одной.'],\n",
              " [99.94394183158875,\n",
              "  'А у меня мама домохозяйка, поэтому редко бываю дома одна. В Питере, а ты?'],\n",
              " [99.94747042655945,\n",
              "  'У меня все замечательно. А твои дела как? Чем занимаешься по жизни?'],\n",
              " [99.92213249206543,\n",
              "  'Рада новому знакомству! У меня тоже всё неплохо. Недавно нашла работу по специальности. Я дизайнер'],\n",
              " [99.90735054016113,\n",
              "  'Я продавец, выращиванию овощи и фрукты на даче и продаю их. Я ещё кстати и дачница.'],\n",
              " [99.23227429389954, 'Круто! Я из Беларуси, Минск'],\n",
              " [99.94646906852722,\n",
              "  'Я продавец, выращиваю овощи и фрукты на даче и продаю их. Я ещё кстати и дачница.'],\n",
              " [94.4674551486969,\n",
              "  'О да, я люблю животных. Но я больше кошатница) У меня кот Вегас и черепаха Матильда. А у тебя есть собака ?'],\n",
              " [99.93778467178345,\n",
              "  'Я тоже. Планирую новое путешествие летом. Я уже побывала в 12 странах. А ты любишь путешествовать?'],\n",
              " [84.74821448326111,\n",
              "  'Пока что не удавалось побывать в других странах, но на это лето грандиозные планы ..'],\n",
              " [95.71120142936707,\n",
              "  'Кстати, когда я была во Львове, ходила на концерт Океан Эльзи. Очень люблю эту группу и вообще рок. А какую музыку ты слушаешь?'],\n",
              " [99.71844553947449, 'Как дела? Я и Норвегии,а ты?'],\n",
              " [99.7092604637146,\n",
              "  'Живу в Норвегии с 11 лет, сейчас мне 21, уехали с родителями, отцу надо было по работе, остались. Периодически бываем в России'],\n",
              " [99.88086223602295,\n",
              "  'Круто. Я бы тоже поехал. Когда последний раз был в России?'],\n",
              " [99.9249517917633,\n",
              "  'Да тоже неплохо. Вот только с рыбалки вернулся! Люблю это дело, расслабляет и помогает отвлечься от ежедневной рутины. А ты чем любишь заниматься в свободное время ?'],\n",
              " [99.9329686164856,\n",
              "  'Ух ты! Готовка- это здорово! Я вот в этом не особо силён. Жена всегда у нас главной по кухне была, дочку даже учила потихоньку. Но в прошлом году её, к несчастью , не стало. Теперь вот с дочкой вдвоём периодически пытаемся что- то кошеварить, но так вкусно, как у неё, конечно, не получается'],\n",
              " [99.94727969169617,\n",
              "  'Я вот не замужем, и никогда не была. Живу со своими любимыми собачками. Обожаю просто собак, они офигенные . Вот ты любишь собак? Или может других каких животных ?'],\n",
              " [99.91567134857178, 'Здрорво! Ты где территориально?'],\n",
              " [99.94556307792664,\n",
              "  'Увлекаюсь ботаникой. Сажаю разные виды деревьев. А ты любишь растения?'],\n",
              " [99.94993209838867,\n",
              "  'Ну, думаю, что современная медицина реашет почти все проблемы. Ты замужем?'],\n",
              " [99.79738593101501,\n",
              "  'Класс, обожаю животных !!! Ты живёшь в частном доме ? Я в многоэтажке на первом, так что никакой поляны своей'],\n",
              " [99.0676999092102, 'Главное - путешествовать! Хочу много повидать'],\n",
              " [99.86706972122192, 'Хорошо пообщались. Спасибо'],\n",
              " [74.44881796836853, 'А у тебя есть время на хобби?'],\n",
              " [99.87469911575317, 'Чем занимаешься сейчас? Какие планы на вечер?'],\n",
              " [99.84405636787415, 'Как твои дела? Чем занимаешься?'],\n",
              " [89.43419456481934,\n",
              "  'Я вот сейчас пирожки ем, только кофе к ним не хватает .'],\n",
              " [99.43466782569885, 'Как ваши дела ?сколько лет ?'],\n",
              " [99.9548614025116,\n",
              "  'Хочу поехать за границу учится поэтому хорошо знаю немецкий! А у вас есть какая то цель?'],\n",
              " [99.41973686218262,\n",
              "  'Да, очень хочу детей, но пока не получается. Мечтаю о большой семье'],\n",
              " [97.74327278137207, 'до свидания! Удачи!'],\n",
              " [60.8503520488739,\n",
              "  'я скоро на тренировку иду со своими друзьями, пойдешь со мной?'],\n",
              " [95.58720588684082, 'где работаешь? кем?'],\n",
              " [99.34547543525696, 'Добрый день! Как у вас дела?'],\n",
              " [62.90286183357239, 'Сын это хорошо, а я не женат!'],\n",
              " [68.80258321762085, 'Люблю рыбалку и гулять с друзьями.'],\n",
              " [99.735426902771, 'Здравствуйте! Как вас зовут, откуда вы?'],\n",
              " [99.7537612915039,\n",
              "  'Меня зовут Аня, а вас? Я с прекрасного города Йошкар - Ола, сейчас сижу жую вяляенную дыню. Вы это пробовали ? Это вкусно, ням: 3'],\n",
              " [99.94261264801025,\n",
              "  'Меня зовут Александра, я из Екатеринбурга. Дыню никогда такую не пробовала. Что планируете на выходных делать ? Я, наверное, пойду в лес со своими собаками. Они любят гулять в лесу.'],\n",
              " [99.94786381721497,\n",
              "  'Очень приятно познакомиться. Ой, мои выходные это прекрасная возможность посидеть послушать классическую музыку, а что слушаете вы? А много у вас собак?'],\n",
              " [74.8074471950531,\n",
              "  'О, вы любите музыку- какое совпадение! Я играю домашним на пианино, когда они просят ))) Я тоже люблю классическую музыку, но все просят сыграть Мурку . У меня две собаки. Дерутся постоянно, не могут жить мирно. У вас есть питомцы? Хотела взять отпуск и уехать на море. Люблю наслаждаться солнышком, медитировать, ходить по песку и собирать ракушки. А у вас отпуск скоро?'],\n",
              " [99.94702935218811,\n",
              "  'Домашних животных, к сожалению, у меня нет. Ого, это здорово, а как их зовут? Я безумно люблю плавать, поэтому летом вместе с семьёй еду на чёрное море! Ни дня не могу провести без произведений Моцарта! На днях, пойдем с подругой на органный концерт, это прекрасная возможность! А кем вы работаете?'],\n",
              " [56.53609037399292,\n",
              "  'Собачек зовут Мальвина и Пьеро- они пудели. Люблю собак, еще хочу! Лучшие друзья и помогают не нервничать , как и занятия йогой. О, Моцарт творил прекрасные вещи! Я не работаю пока, в поисках :-('],\n",
              " [99.86180067062378, 'Добрый день, меня зовут Юлия. А как вас зовут?'],\n",
              " [98.83819222450256,\n",
              "  'Но так же нравится спорт, есть конечно вариант ... что можно на преподавателя физкультуры пойти!'],\n",
              " [99.91028308868408,\n",
              "  'да, я вот и думаю. что мне будет ближе. Но в переди у меня еще минимум полгода решить.'],\n",
              " [99.93676543235779,\n",
              "  'мне нравится волейбол. не увлекаюсь конечно профессионально , но играю. Атлетика тоже нравится, т. к. общая физ . подготовка. ну и плавание мне нравится, но бассейн посещаю ооочень редко.'],\n",
              " [96.00564241409302,\n",
              "  'А у тебя есть хобби, или может просто, что- то нравится ?'],\n",
              " [52.63448357582092, 'А у тебя есть домашние питомцы?'],\n",
              " [99.83102083206177,\n",
              "  'Да, животные требуют к себе внимание. Но у меня тоже очень мало времени, на все не хватает. И приходится чем то жертвовать. например бассейном.'],\n",
              " [84.19742584228516, 'а как у тебя проходят вечера, или выходные?'],\n",
              " [62.99097537994385,\n",
              "  'А почему то люблю больше собак, вообще мечтаю открыть приемник дл бездомных собак. Думаю, что это будет интересно'],\n",
              " [57.352542877197266,\n",
              "  'Понятно, ну да тяжело так жить. А я вот меломан, поэтому вечера и по возможности выходные провожу за компьютером , и с включенной музыкой. Мне тяжело без музыки ))) по возможности всегда включаю!'],\n",
              " [99.50474500656128,\n",
              "  'ну ладно, приятно было пообщаться, мне нужно бежать . Пока.'],\n",
              " [81.40626549720764, 'Хорошо! А у тебя?'],\n",
              " [99.91734623908997, 'Привет. У меня неочень. Грустно как-то..'],\n",
              " [99.95098114013672,\n",
              "  'Чем любишь заниматься? Я художник. Очень люблю рисовать пейзажи.'],\n",
              " [99.95131492614746,\n",
              "  'Почему грустишь? Кстати, моя любимая пора года осень . Тоже люблю погрустить когда идёт теплый дождь.'],\n",
              " [99.52772855758667,\n",
              "  'А я пока сижу в декрете со своим ребеночком, но скоро собираюсь выйти на работу, так как наш папа нас бросил и теперь я в разводе. Ты художник .. интересно ..'],\n",
              " [99.9402642250061, 'Я живу в Питере. Это прекрасный город, где белые ночи !'],\n",
              " [99.9165415763855,\n",
              "  'Сколько твоему ребеночку лет? У тебя мальчик или девочка ?'],\n",
              " [99.93911981582642,\n",
              "  'Я чувствую что ты замечательный человек, просто слегка устала от жизненных проблем. Как будешь в Питере обязательно заходите!'],\n",
              " [99.92156028747559,\n",
              "  'Я очень люблю готовить мясо. Сейчас как раз должны прийти гости и я готовлю мясо по- французски. А ты смотришь кулинарные программы?'],\n",
              " [55.375951528549194,\n",
              "  'Ты писала, что у тебя намечается новоселье, а в каком городе ты планируешь жить?'],\n",
              " [99.93317723274231,\n",
              "  'Я мечтаю жить в Питере и присматриваю квартиру там . Какой район посоветуешь для жизни с ребенком?'],\n",
              " [99.93263483047485,\n",
              "  'Я двигаюсь в этом направлении. Необходимо выбрать породу собаки, которая станет для меня настоящим другом . А какая порода собаки у тебя?'],\n",
              " [99.94064569473267,\n",
              "  'У меня цвергшнауцер- это самая маленькая в мире служебная собака. Так что моя любовь полностью отдана этой породе . Она у меня очень умная и сообразительная. А ты мечтаешь о маленькой собаке или о крупной?'],\n",
              " [89.40222263336182,\n",
              "  'В этом районе много детских площадок и есть детский сад и школа в шаговой доступности?'],\n",
              " [99.7829020023346, 'Как тебя зовут? Чем занимаешься?']]"
            ]
          },
          "metadata": {
            "tags": []
          },
          "execution_count": 107
        }
      ]
    },
    {
      "cell_type": "code",
      "metadata": {
        "id": "vX5uSZby2xxy"
      },
      "source": [
        ""
      ],
      "execution_count": null,
      "outputs": []
    },
    {
      "cell_type": "markdown",
      "metadata": {
        "id": "7mE3aNBzaXat"
      },
      "source": [
        "## тесты LM"
      ]
    },
    {
      "cell_type": "code",
      "metadata": {
        "id": "Nwiyer4Jqlqh"
      },
      "source": [
        "device = torch.device('cuda')\n",
        "\n",
        "def make_sentence(tokens):\n",
        "  s = ''\n",
        "  for token in tokens:\n",
        "    if (token == '[CLS]' or token == '[SEP]' or token == '[PAD]'):\n",
        "      continue\n",
        "    if ('##' in token):\n",
        "      s += token.replace('##', '')\n",
        "    else:\n",
        "      s += ' ' + token\n",
        "  if s[0] == ' ':\n",
        "    s = s[1:]\n",
        "  return s\n",
        "\n",
        "def swap_sample(target=\"Вася покачал головой\", swaps = 1):\n",
        "  inputs = tokenizer(target, return_tensors=\"pt\").to(device)\n",
        "  #print(tokenizer.convert_ids_to_tokens(inputs['input_ids'][0]))\n",
        "  #print()\n",
        "  res = inputs['input_ids'][0]\n",
        "  #print(res)\n",
        "  #print()\n",
        "  tokens_cnt = len(res)\n",
        "  for i in range(swaps):\n",
        "    ind1 = np.random.randint(1, tokens_cnt - 1)\n",
        "    ind2 = np.random.randint(1, tokens_cnt - 1)\n",
        "    #print(ind1, ind2)\n",
        "    tmp = res[ind1].item()\n",
        "    res[ind1] = res[ind2].item()\n",
        "    res[ind2] = tmp\n",
        "\n",
        "  tokens = tokenizer.convert_ids_to_tokens(res)\n",
        "  #print(tokens)\n",
        "  #print()\n",
        "  s = make_sentence(tokens)\n",
        "  #print(s)\n",
        "  #print()\n",
        "  return s\n",
        "\n",
        "swap_sample(swaps = 5)\n",
        "\n",
        "bad = np.random.rand(len(data)) < 0.5\n",
        "for i in range(len(data)):\n",
        "  if bad[i]:\n",
        "    data[0].iloc[i] = swap_sample(str(data[0].iloc[i]), swaps=1) \n",
        "    data[1].iloc[i] = 0"
      ],
      "execution_count": null,
      "outputs": []
    }
  ]
}