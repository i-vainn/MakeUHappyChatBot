{
  "nbformat": 4,
  "nbformat_minor": 0,
  "metadata": {
    "colab": {
      "name": "fine_tuning_bert.ipynb",
      "provenance": [],
      "collapsed_sections": [
        "iU6YRwUFbTwg",
        "ybGqdShkjoI4",
        "HVSk5KRFTw9X",
        "gSRWOdScaEB9",
        "n195zeqAD49A",
        "Im-hKwASwLxx",
        "6dY-6zPHjxak",
        "E5WOIG1P8LM4"
      ],
      "toc_visible": true
    },
    "kernelspec": {
      "name": "python3",
      "display_name": "Python 3"
    },
    "widgets": {
      "application/vnd.jupyter.widget-state+json": {
        "6429571abb4f4fe1a71288d8ee6b4401": {
          "model_module": "@jupyter-widgets/controls",
          "model_name": "HBoxModel",
          "state": {
            "_view_name": "HBoxView",
            "_dom_classes": [],
            "_model_name": "HBoxModel",
            "_view_module": "@jupyter-widgets/controls",
            "_model_module_version": "1.5.0",
            "_view_count": null,
            "_view_module_version": "1.5.0",
            "box_style": "",
            "layout": "IPY_MODEL_b82b11ba56c04eb983163328b59f03d0",
            "_model_module": "@jupyter-widgets/controls",
            "children": [
              "IPY_MODEL_5b6c8f1adaa64d84846d11ea8f48ac14",
              "IPY_MODEL_36ed40355eb6419999b456e0c2447824"
            ]
          }
        },
        "b82b11ba56c04eb983163328b59f03d0": {
          "model_module": "@jupyter-widgets/base",
          "model_name": "LayoutModel",
          "state": {
            "_view_name": "LayoutView",
            "grid_template_rows": null,
            "right": null,
            "justify_content": null,
            "_view_module": "@jupyter-widgets/base",
            "overflow": null,
            "_model_module_version": "1.2.0",
            "_view_count": null,
            "flex_flow": null,
            "width": null,
            "min_width": null,
            "border": null,
            "align_items": null,
            "bottom": null,
            "_model_module": "@jupyter-widgets/base",
            "top": null,
            "grid_column": null,
            "overflow_y": null,
            "overflow_x": null,
            "grid_auto_flow": null,
            "grid_area": null,
            "grid_template_columns": null,
            "flex": null,
            "_model_name": "LayoutModel",
            "justify_items": null,
            "grid_row": null,
            "max_height": null,
            "align_content": null,
            "visibility": null,
            "align_self": null,
            "height": null,
            "min_height": null,
            "padding": null,
            "grid_auto_rows": null,
            "grid_gap": null,
            "max_width": null,
            "order": null,
            "_view_module_version": "1.2.0",
            "grid_template_areas": null,
            "object_position": null,
            "object_fit": null,
            "grid_auto_columns": null,
            "margin": null,
            "display": null,
            "left": null
          }
        },
        "5b6c8f1adaa64d84846d11ea8f48ac14": {
          "model_module": "@jupyter-widgets/controls",
          "model_name": "FloatProgressModel",
          "state": {
            "_view_name": "ProgressView",
            "style": "IPY_MODEL_ca1cdb688c57470ea9996c3feb2f1ae3",
            "_dom_classes": [],
            "description": "Downloading: 100%",
            "_model_name": "FloatProgressModel",
            "bar_style": "success",
            "max": 1649718,
            "_view_module": "@jupyter-widgets/controls",
            "_model_module_version": "1.5.0",
            "value": 1649718,
            "_view_count": null,
            "_view_module_version": "1.5.0",
            "orientation": "horizontal",
            "min": 0,
            "description_tooltip": null,
            "_model_module": "@jupyter-widgets/controls",
            "layout": "IPY_MODEL_ea76ee2715a348139cbd17ee171a03e9"
          }
        },
        "36ed40355eb6419999b456e0c2447824": {
          "model_module": "@jupyter-widgets/controls",
          "model_name": "HTMLModel",
          "state": {
            "_view_name": "HTMLView",
            "style": "IPY_MODEL_ede8664bea0e48e99af257f74b7e9ba0",
            "_dom_classes": [],
            "description": "",
            "_model_name": "HTMLModel",
            "placeholder": "​",
            "_view_module": "@jupyter-widgets/controls",
            "_model_module_version": "1.5.0",
            "value": " 1.65M/1.65M [00:01&lt;00:00, 921kB/s]",
            "_view_count": null,
            "_view_module_version": "1.5.0",
            "description_tooltip": null,
            "_model_module": "@jupyter-widgets/controls",
            "layout": "IPY_MODEL_dedc7510053648bcb88693195f0efe42"
          }
        },
        "ca1cdb688c57470ea9996c3feb2f1ae3": {
          "model_module": "@jupyter-widgets/controls",
          "model_name": "ProgressStyleModel",
          "state": {
            "_view_name": "StyleView",
            "_model_name": "ProgressStyleModel",
            "description_width": "initial",
            "_view_module": "@jupyter-widgets/base",
            "_model_module_version": "1.5.0",
            "_view_count": null,
            "_view_module_version": "1.2.0",
            "bar_color": null,
            "_model_module": "@jupyter-widgets/controls"
          }
        },
        "ea76ee2715a348139cbd17ee171a03e9": {
          "model_module": "@jupyter-widgets/base",
          "model_name": "LayoutModel",
          "state": {
            "_view_name": "LayoutView",
            "grid_template_rows": null,
            "right": null,
            "justify_content": null,
            "_view_module": "@jupyter-widgets/base",
            "overflow": null,
            "_model_module_version": "1.2.0",
            "_view_count": null,
            "flex_flow": null,
            "width": null,
            "min_width": null,
            "border": null,
            "align_items": null,
            "bottom": null,
            "_model_module": "@jupyter-widgets/base",
            "top": null,
            "grid_column": null,
            "overflow_y": null,
            "overflow_x": null,
            "grid_auto_flow": null,
            "grid_area": null,
            "grid_template_columns": null,
            "flex": null,
            "_model_name": "LayoutModel",
            "justify_items": null,
            "grid_row": null,
            "max_height": null,
            "align_content": null,
            "visibility": null,
            "align_self": null,
            "height": null,
            "min_height": null,
            "padding": null,
            "grid_auto_rows": null,
            "grid_gap": null,
            "max_width": null,
            "order": null,
            "_view_module_version": "1.2.0",
            "grid_template_areas": null,
            "object_position": null,
            "object_fit": null,
            "grid_auto_columns": null,
            "margin": null,
            "display": null,
            "left": null
          }
        },
        "ede8664bea0e48e99af257f74b7e9ba0": {
          "model_module": "@jupyter-widgets/controls",
          "model_name": "DescriptionStyleModel",
          "state": {
            "_view_name": "StyleView",
            "_model_name": "DescriptionStyleModel",
            "description_width": "",
            "_view_module": "@jupyter-widgets/base",
            "_model_module_version": "1.5.0",
            "_view_count": null,
            "_view_module_version": "1.2.0",
            "_model_module": "@jupyter-widgets/controls"
          }
        },
        "dedc7510053648bcb88693195f0efe42": {
          "model_module": "@jupyter-widgets/base",
          "model_name": "LayoutModel",
          "state": {
            "_view_name": "LayoutView",
            "grid_template_rows": null,
            "right": null,
            "justify_content": null,
            "_view_module": "@jupyter-widgets/base",
            "overflow": null,
            "_model_module_version": "1.2.0",
            "_view_count": null,
            "flex_flow": null,
            "width": null,
            "min_width": null,
            "border": null,
            "align_items": null,
            "bottom": null,
            "_model_module": "@jupyter-widgets/base",
            "top": null,
            "grid_column": null,
            "overflow_y": null,
            "overflow_x": null,
            "grid_auto_flow": null,
            "grid_area": null,
            "grid_template_columns": null,
            "flex": null,
            "_model_name": "LayoutModel",
            "justify_items": null,
            "grid_row": null,
            "max_height": null,
            "align_content": null,
            "visibility": null,
            "align_self": null,
            "height": null,
            "min_height": null,
            "padding": null,
            "grid_auto_rows": null,
            "grid_gap": null,
            "max_width": null,
            "order": null,
            "_view_module_version": "1.2.0",
            "grid_template_areas": null,
            "object_position": null,
            "object_fit": null,
            "grid_auto_columns": null,
            "margin": null,
            "display": null,
            "left": null
          }
        },
        "33d8afd26bcb4221869ad6d6e98f7c26": {
          "model_module": "@jupyter-widgets/controls",
          "model_name": "HBoxModel",
          "state": {
            "_view_name": "HBoxView",
            "_dom_classes": [],
            "_model_name": "HBoxModel",
            "_view_module": "@jupyter-widgets/controls",
            "_model_module_version": "1.5.0",
            "_view_count": null,
            "_view_module_version": "1.5.0",
            "box_style": "",
            "layout": "IPY_MODEL_b7572806301541d09d1a01028e2ae047",
            "_model_module": "@jupyter-widgets/controls",
            "children": [
              "IPY_MODEL_2f07d684675c4e76bd3755c1b8a86653",
              "IPY_MODEL_d3b4f2562406447485c8d0d54e00355a"
            ]
          }
        },
        "b7572806301541d09d1a01028e2ae047": {
          "model_module": "@jupyter-widgets/base",
          "model_name": "LayoutModel",
          "state": {
            "_view_name": "LayoutView",
            "grid_template_rows": null,
            "right": null,
            "justify_content": null,
            "_view_module": "@jupyter-widgets/base",
            "overflow": null,
            "_model_module_version": "1.2.0",
            "_view_count": null,
            "flex_flow": null,
            "width": null,
            "min_width": null,
            "border": null,
            "align_items": null,
            "bottom": null,
            "_model_module": "@jupyter-widgets/base",
            "top": null,
            "grid_column": null,
            "overflow_y": null,
            "overflow_x": null,
            "grid_auto_flow": null,
            "grid_area": null,
            "grid_template_columns": null,
            "flex": null,
            "_model_name": "LayoutModel",
            "justify_items": null,
            "grid_row": null,
            "max_height": null,
            "align_content": null,
            "visibility": null,
            "align_self": null,
            "height": null,
            "min_height": null,
            "padding": null,
            "grid_auto_rows": null,
            "grid_gap": null,
            "max_width": null,
            "order": null,
            "_view_module_version": "1.2.0",
            "grid_template_areas": null,
            "object_position": null,
            "object_fit": null,
            "grid_auto_columns": null,
            "margin": null,
            "display": null,
            "left": null
          }
        },
        "2f07d684675c4e76bd3755c1b8a86653": {
          "model_module": "@jupyter-widgets/controls",
          "model_name": "FloatProgressModel",
          "state": {
            "_view_name": "ProgressView",
            "style": "IPY_MODEL_38641fc328844cba8f9d2f2196ee6508",
            "_dom_classes": [],
            "description": "Downloading: 100%",
            "_model_name": "FloatProgressModel",
            "bar_style": "success",
            "max": 112,
            "_view_module": "@jupyter-widgets/controls",
            "_model_module_version": "1.5.0",
            "value": 112,
            "_view_count": null,
            "_view_module_version": "1.5.0",
            "orientation": "horizontal",
            "min": 0,
            "description_tooltip": null,
            "_model_module": "@jupyter-widgets/controls",
            "layout": "IPY_MODEL_ca1fa9744027461fb92668254e8151e9"
          }
        },
        "d3b4f2562406447485c8d0d54e00355a": {
          "model_module": "@jupyter-widgets/controls",
          "model_name": "HTMLModel",
          "state": {
            "_view_name": "HTMLView",
            "style": "IPY_MODEL_acc6886b07f140359a33bf05cc525e75",
            "_dom_classes": [],
            "description": "",
            "_model_name": "HTMLModel",
            "placeholder": "​",
            "_view_module": "@jupyter-widgets/controls",
            "_model_module_version": "1.5.0",
            "value": " 112/112 [00:00&lt;00:00, 146B/s]",
            "_view_count": null,
            "_view_module_version": "1.5.0",
            "description_tooltip": null,
            "_model_module": "@jupyter-widgets/controls",
            "layout": "IPY_MODEL_45501bd2fb6e4b02a9d34ec5d69842dc"
          }
        },
        "38641fc328844cba8f9d2f2196ee6508": {
          "model_module": "@jupyter-widgets/controls",
          "model_name": "ProgressStyleModel",
          "state": {
            "_view_name": "StyleView",
            "_model_name": "ProgressStyleModel",
            "description_width": "initial",
            "_view_module": "@jupyter-widgets/base",
            "_model_module_version": "1.5.0",
            "_view_count": null,
            "_view_module_version": "1.2.0",
            "bar_color": null,
            "_model_module": "@jupyter-widgets/controls"
          }
        },
        "ca1fa9744027461fb92668254e8151e9": {
          "model_module": "@jupyter-widgets/base",
          "model_name": "LayoutModel",
          "state": {
            "_view_name": "LayoutView",
            "grid_template_rows": null,
            "right": null,
            "justify_content": null,
            "_view_module": "@jupyter-widgets/base",
            "overflow": null,
            "_model_module_version": "1.2.0",
            "_view_count": null,
            "flex_flow": null,
            "width": null,
            "min_width": null,
            "border": null,
            "align_items": null,
            "bottom": null,
            "_model_module": "@jupyter-widgets/base",
            "top": null,
            "grid_column": null,
            "overflow_y": null,
            "overflow_x": null,
            "grid_auto_flow": null,
            "grid_area": null,
            "grid_template_columns": null,
            "flex": null,
            "_model_name": "LayoutModel",
            "justify_items": null,
            "grid_row": null,
            "max_height": null,
            "align_content": null,
            "visibility": null,
            "align_self": null,
            "height": null,
            "min_height": null,
            "padding": null,
            "grid_auto_rows": null,
            "grid_gap": null,
            "max_width": null,
            "order": null,
            "_view_module_version": "1.2.0",
            "grid_template_areas": null,
            "object_position": null,
            "object_fit": null,
            "grid_auto_columns": null,
            "margin": null,
            "display": null,
            "left": null
          }
        },
        "acc6886b07f140359a33bf05cc525e75": {
          "model_module": "@jupyter-widgets/controls",
          "model_name": "DescriptionStyleModel",
          "state": {
            "_view_name": "StyleView",
            "_model_name": "DescriptionStyleModel",
            "description_width": "",
            "_view_module": "@jupyter-widgets/base",
            "_model_module_version": "1.5.0",
            "_view_count": null,
            "_view_module_version": "1.2.0",
            "_model_module": "@jupyter-widgets/controls"
          }
        },
        "45501bd2fb6e4b02a9d34ec5d69842dc": {
          "model_module": "@jupyter-widgets/base",
          "model_name": "LayoutModel",
          "state": {
            "_view_name": "LayoutView",
            "grid_template_rows": null,
            "right": null,
            "justify_content": null,
            "_view_module": "@jupyter-widgets/base",
            "overflow": null,
            "_model_module_version": "1.2.0",
            "_view_count": null,
            "flex_flow": null,
            "width": null,
            "min_width": null,
            "border": null,
            "align_items": null,
            "bottom": null,
            "_model_module": "@jupyter-widgets/base",
            "top": null,
            "grid_column": null,
            "overflow_y": null,
            "overflow_x": null,
            "grid_auto_flow": null,
            "grid_area": null,
            "grid_template_columns": null,
            "flex": null,
            "_model_name": "LayoutModel",
            "justify_items": null,
            "grid_row": null,
            "max_height": null,
            "align_content": null,
            "visibility": null,
            "align_self": null,
            "height": null,
            "min_height": null,
            "padding": null,
            "grid_auto_rows": null,
            "grid_gap": null,
            "max_width": null,
            "order": null,
            "_view_module_version": "1.2.0",
            "grid_template_areas": null,
            "object_position": null,
            "object_fit": null,
            "grid_auto_columns": null,
            "margin": null,
            "display": null,
            "left": null
          }
        },
        "963dbdf07bd34fa398e96da0b0343f27": {
          "model_module": "@jupyter-widgets/controls",
          "model_name": "HBoxModel",
          "state": {
            "_view_name": "HBoxView",
            "_dom_classes": [],
            "_model_name": "HBoxModel",
            "_view_module": "@jupyter-widgets/controls",
            "_model_module_version": "1.5.0",
            "_view_count": null,
            "_view_module_version": "1.5.0",
            "box_style": "",
            "layout": "IPY_MODEL_7a6601564c1544b083f5e77b44f7ea01",
            "_model_module": "@jupyter-widgets/controls",
            "children": [
              "IPY_MODEL_04754dd36dd34221b74f054851d58dcd",
              "IPY_MODEL_287ffec54ace427bbfd26f4626402ca0"
            ]
          }
        },
        "7a6601564c1544b083f5e77b44f7ea01": {
          "model_module": "@jupyter-widgets/base",
          "model_name": "LayoutModel",
          "state": {
            "_view_name": "LayoutView",
            "grid_template_rows": null,
            "right": null,
            "justify_content": null,
            "_view_module": "@jupyter-widgets/base",
            "overflow": null,
            "_model_module_version": "1.2.0",
            "_view_count": null,
            "flex_flow": null,
            "width": null,
            "min_width": null,
            "border": null,
            "align_items": null,
            "bottom": null,
            "_model_module": "@jupyter-widgets/base",
            "top": null,
            "grid_column": null,
            "overflow_y": null,
            "overflow_x": null,
            "grid_auto_flow": null,
            "grid_area": null,
            "grid_template_columns": null,
            "flex": null,
            "_model_name": "LayoutModel",
            "justify_items": null,
            "grid_row": null,
            "max_height": null,
            "align_content": null,
            "visibility": null,
            "align_self": null,
            "height": null,
            "min_height": null,
            "padding": null,
            "grid_auto_rows": null,
            "grid_gap": null,
            "max_width": null,
            "order": null,
            "_view_module_version": "1.2.0",
            "grid_template_areas": null,
            "object_position": null,
            "object_fit": null,
            "grid_auto_columns": null,
            "margin": null,
            "display": null,
            "left": null
          }
        },
        "04754dd36dd34221b74f054851d58dcd": {
          "model_module": "@jupyter-widgets/controls",
          "model_name": "FloatProgressModel",
          "state": {
            "_view_name": "ProgressView",
            "style": "IPY_MODEL_be33f0c4001343769e1b57c12f69fb01",
            "_dom_classes": [],
            "description": "Downloading: 100%",
            "_model_name": "FloatProgressModel",
            "bar_style": "success",
            "max": 2,
            "_view_module": "@jupyter-widgets/controls",
            "_model_module_version": "1.5.0",
            "value": 2,
            "_view_count": null,
            "_view_module_version": "1.5.0",
            "orientation": "horizontal",
            "min": 0,
            "description_tooltip": null,
            "_model_module": "@jupyter-widgets/controls",
            "layout": "IPY_MODEL_6c2bbf03549940f695a946f0bc113542"
          }
        },
        "287ffec54ace427bbfd26f4626402ca0": {
          "model_module": "@jupyter-widgets/controls",
          "model_name": "HTMLModel",
          "state": {
            "_view_name": "HTMLView",
            "style": "IPY_MODEL_25133e68b94b4e4b8e21edb65d0d48ec",
            "_dom_classes": [],
            "description": "",
            "_model_name": "HTMLModel",
            "placeholder": "​",
            "_view_module": "@jupyter-widgets/controls",
            "_model_module_version": "1.5.0",
            "value": " 2.00/2.00 [00:00&lt;00:00, 6.17B/s]",
            "_view_count": null,
            "_view_module_version": "1.5.0",
            "description_tooltip": null,
            "_model_module": "@jupyter-widgets/controls",
            "layout": "IPY_MODEL_a0fea463898a4ba68f2ff8536cbd41e9"
          }
        },
        "be33f0c4001343769e1b57c12f69fb01": {
          "model_module": "@jupyter-widgets/controls",
          "model_name": "ProgressStyleModel",
          "state": {
            "_view_name": "StyleView",
            "_model_name": "ProgressStyleModel",
            "description_width": "initial",
            "_view_module": "@jupyter-widgets/base",
            "_model_module_version": "1.5.0",
            "_view_count": null,
            "_view_module_version": "1.2.0",
            "bar_color": null,
            "_model_module": "@jupyter-widgets/controls"
          }
        },
        "6c2bbf03549940f695a946f0bc113542": {
          "model_module": "@jupyter-widgets/base",
          "model_name": "LayoutModel",
          "state": {
            "_view_name": "LayoutView",
            "grid_template_rows": null,
            "right": null,
            "justify_content": null,
            "_view_module": "@jupyter-widgets/base",
            "overflow": null,
            "_model_module_version": "1.2.0",
            "_view_count": null,
            "flex_flow": null,
            "width": null,
            "min_width": null,
            "border": null,
            "align_items": null,
            "bottom": null,
            "_model_module": "@jupyter-widgets/base",
            "top": null,
            "grid_column": null,
            "overflow_y": null,
            "overflow_x": null,
            "grid_auto_flow": null,
            "grid_area": null,
            "grid_template_columns": null,
            "flex": null,
            "_model_name": "LayoutModel",
            "justify_items": null,
            "grid_row": null,
            "max_height": null,
            "align_content": null,
            "visibility": null,
            "align_self": null,
            "height": null,
            "min_height": null,
            "padding": null,
            "grid_auto_rows": null,
            "grid_gap": null,
            "max_width": null,
            "order": null,
            "_view_module_version": "1.2.0",
            "grid_template_areas": null,
            "object_position": null,
            "object_fit": null,
            "grid_auto_columns": null,
            "margin": null,
            "display": null,
            "left": null
          }
        },
        "25133e68b94b4e4b8e21edb65d0d48ec": {
          "model_module": "@jupyter-widgets/controls",
          "model_name": "DescriptionStyleModel",
          "state": {
            "_view_name": "StyleView",
            "_model_name": "DescriptionStyleModel",
            "description_width": "",
            "_view_module": "@jupyter-widgets/base",
            "_model_module_version": "1.5.0",
            "_view_count": null,
            "_view_module_version": "1.2.0",
            "_model_module": "@jupyter-widgets/controls"
          }
        },
        "a0fea463898a4ba68f2ff8536cbd41e9": {
          "model_module": "@jupyter-widgets/base",
          "model_name": "LayoutModel",
          "state": {
            "_view_name": "LayoutView",
            "grid_template_rows": null,
            "right": null,
            "justify_content": null,
            "_view_module": "@jupyter-widgets/base",
            "overflow": null,
            "_model_module_version": "1.2.0",
            "_view_count": null,
            "flex_flow": null,
            "width": null,
            "min_width": null,
            "border": null,
            "align_items": null,
            "bottom": null,
            "_model_module": "@jupyter-widgets/base",
            "top": null,
            "grid_column": null,
            "overflow_y": null,
            "overflow_x": null,
            "grid_auto_flow": null,
            "grid_area": null,
            "grid_template_columns": null,
            "flex": null,
            "_model_name": "LayoutModel",
            "justify_items": null,
            "grid_row": null,
            "max_height": null,
            "align_content": null,
            "visibility": null,
            "align_self": null,
            "height": null,
            "min_height": null,
            "padding": null,
            "grid_auto_rows": null,
            "grid_gap": null,
            "max_width": null,
            "order": null,
            "_view_module_version": "1.2.0",
            "grid_template_areas": null,
            "object_position": null,
            "object_fit": null,
            "grid_auto_columns": null,
            "margin": null,
            "display": null,
            "left": null
          }
        },
        "27d3a7cbf7ba4dd1ba7f033435ab65f3": {
          "model_module": "@jupyter-widgets/controls",
          "model_name": "HBoxModel",
          "state": {
            "_view_name": "HBoxView",
            "_dom_classes": [],
            "_model_name": "HBoxModel",
            "_view_module": "@jupyter-widgets/controls",
            "_model_module_version": "1.5.0",
            "_view_count": null,
            "_view_module_version": "1.5.0",
            "box_style": "",
            "layout": "IPY_MODEL_a9fd65a0c9b94c2293fe9d280273a25f",
            "_model_module": "@jupyter-widgets/controls",
            "children": [
              "IPY_MODEL_b8c2d0603ae3450ca1c4bb3b455095aa",
              "IPY_MODEL_a39799d4a25c44b1a9811f7a28986231"
            ]
          }
        },
        "a9fd65a0c9b94c2293fe9d280273a25f": {
          "model_module": "@jupyter-widgets/base",
          "model_name": "LayoutModel",
          "state": {
            "_view_name": "LayoutView",
            "grid_template_rows": null,
            "right": null,
            "justify_content": null,
            "_view_module": "@jupyter-widgets/base",
            "overflow": null,
            "_model_module_version": "1.2.0",
            "_view_count": null,
            "flex_flow": null,
            "width": null,
            "min_width": null,
            "border": null,
            "align_items": null,
            "bottom": null,
            "_model_module": "@jupyter-widgets/base",
            "top": null,
            "grid_column": null,
            "overflow_y": null,
            "overflow_x": null,
            "grid_auto_flow": null,
            "grid_area": null,
            "grid_template_columns": null,
            "flex": null,
            "_model_name": "LayoutModel",
            "justify_items": null,
            "grid_row": null,
            "max_height": null,
            "align_content": null,
            "visibility": null,
            "align_self": null,
            "height": null,
            "min_height": null,
            "padding": null,
            "grid_auto_rows": null,
            "grid_gap": null,
            "max_width": null,
            "order": null,
            "_view_module_version": "1.2.0",
            "grid_template_areas": null,
            "object_position": null,
            "object_fit": null,
            "grid_auto_columns": null,
            "margin": null,
            "display": null,
            "left": null
          }
        },
        "b8c2d0603ae3450ca1c4bb3b455095aa": {
          "model_module": "@jupyter-widgets/controls",
          "model_name": "FloatProgressModel",
          "state": {
            "_view_name": "ProgressView",
            "style": "IPY_MODEL_ec0166df80ef44dfb095b781464fc2a4",
            "_dom_classes": [],
            "description": "Downloading: 100%",
            "_model_name": "FloatProgressModel",
            "bar_style": "success",
            "max": 642,
            "_view_module": "@jupyter-widgets/controls",
            "_model_module_version": "1.5.0",
            "value": 642,
            "_view_count": null,
            "_view_module_version": "1.5.0",
            "orientation": "horizontal",
            "min": 0,
            "description_tooltip": null,
            "_model_module": "@jupyter-widgets/controls",
            "layout": "IPY_MODEL_e30b8914310941fd95a8f64511994bed"
          }
        },
        "a39799d4a25c44b1a9811f7a28986231": {
          "model_module": "@jupyter-widgets/controls",
          "model_name": "HTMLModel",
          "state": {
            "_view_name": "HTMLView",
            "style": "IPY_MODEL_680f750719cd44aba0c58136587ae808",
            "_dom_classes": [],
            "description": "",
            "_model_name": "HTMLModel",
            "placeholder": "​",
            "_view_module": "@jupyter-widgets/controls",
            "_model_module_version": "1.5.0",
            "value": " 642/642 [00:00&lt;00:00, 1.94kB/s]",
            "_view_count": null,
            "_view_module_version": "1.5.0",
            "description_tooltip": null,
            "_model_module": "@jupyter-widgets/controls",
            "layout": "IPY_MODEL_ec8976dd25c34b57b1a95f2908a9837e"
          }
        },
        "ec0166df80ef44dfb095b781464fc2a4": {
          "model_module": "@jupyter-widgets/controls",
          "model_name": "ProgressStyleModel",
          "state": {
            "_view_name": "StyleView",
            "_model_name": "ProgressStyleModel",
            "description_width": "initial",
            "_view_module": "@jupyter-widgets/base",
            "_model_module_version": "1.5.0",
            "_view_count": null,
            "_view_module_version": "1.2.0",
            "bar_color": null,
            "_model_module": "@jupyter-widgets/controls"
          }
        },
        "e30b8914310941fd95a8f64511994bed": {
          "model_module": "@jupyter-widgets/base",
          "model_name": "LayoutModel",
          "state": {
            "_view_name": "LayoutView",
            "grid_template_rows": null,
            "right": null,
            "justify_content": null,
            "_view_module": "@jupyter-widgets/base",
            "overflow": null,
            "_model_module_version": "1.2.0",
            "_view_count": null,
            "flex_flow": null,
            "width": null,
            "min_width": null,
            "border": null,
            "align_items": null,
            "bottom": null,
            "_model_module": "@jupyter-widgets/base",
            "top": null,
            "grid_column": null,
            "overflow_y": null,
            "overflow_x": null,
            "grid_auto_flow": null,
            "grid_area": null,
            "grid_template_columns": null,
            "flex": null,
            "_model_name": "LayoutModel",
            "justify_items": null,
            "grid_row": null,
            "max_height": null,
            "align_content": null,
            "visibility": null,
            "align_self": null,
            "height": null,
            "min_height": null,
            "padding": null,
            "grid_auto_rows": null,
            "grid_gap": null,
            "max_width": null,
            "order": null,
            "_view_module_version": "1.2.0",
            "grid_template_areas": null,
            "object_position": null,
            "object_fit": null,
            "grid_auto_columns": null,
            "margin": null,
            "display": null,
            "left": null
          }
        },
        "680f750719cd44aba0c58136587ae808": {
          "model_module": "@jupyter-widgets/controls",
          "model_name": "DescriptionStyleModel",
          "state": {
            "_view_name": "StyleView",
            "_model_name": "DescriptionStyleModel",
            "description_width": "",
            "_view_module": "@jupyter-widgets/base",
            "_model_module_version": "1.5.0",
            "_view_count": null,
            "_view_module_version": "1.2.0",
            "_model_module": "@jupyter-widgets/controls"
          }
        },
        "ec8976dd25c34b57b1a95f2908a9837e": {
          "model_module": "@jupyter-widgets/base",
          "model_name": "LayoutModel",
          "state": {
            "_view_name": "LayoutView",
            "grid_template_rows": null,
            "right": null,
            "justify_content": null,
            "_view_module": "@jupyter-widgets/base",
            "overflow": null,
            "_model_module_version": "1.2.0",
            "_view_count": null,
            "flex_flow": null,
            "width": null,
            "min_width": null,
            "border": null,
            "align_items": null,
            "bottom": null,
            "_model_module": "@jupyter-widgets/base",
            "top": null,
            "grid_column": null,
            "overflow_y": null,
            "overflow_x": null,
            "grid_auto_flow": null,
            "grid_area": null,
            "grid_template_columns": null,
            "flex": null,
            "_model_name": "LayoutModel",
            "justify_items": null,
            "grid_row": null,
            "max_height": null,
            "align_content": null,
            "visibility": null,
            "align_self": null,
            "height": null,
            "min_height": null,
            "padding": null,
            "grid_auto_rows": null,
            "grid_gap": null,
            "max_width": null,
            "order": null,
            "_view_module_version": "1.2.0",
            "grid_template_areas": null,
            "object_position": null,
            "object_fit": null,
            "grid_auto_columns": null,
            "margin": null,
            "display": null,
            "left": null
          }
        },
        "360eddedf3ce4d4794e321cadc757451": {
          "model_module": "@jupyter-widgets/controls",
          "model_name": "HBoxModel",
          "state": {
            "_view_name": "HBoxView",
            "_dom_classes": [],
            "_model_name": "HBoxModel",
            "_view_module": "@jupyter-widgets/controls",
            "_model_module_version": "1.5.0",
            "_view_count": null,
            "_view_module_version": "1.5.0",
            "box_style": "",
            "layout": "IPY_MODEL_2ceb0fe232e54d3aacc8d9b768f1269d",
            "_model_module": "@jupyter-widgets/controls",
            "children": [
              "IPY_MODEL_542c9ea0f1e646299d9e532ad82cd5b4",
              "IPY_MODEL_139742d27e5140f29f340631e831621c"
            ]
          }
        },
        "2ceb0fe232e54d3aacc8d9b768f1269d": {
          "model_module": "@jupyter-widgets/base",
          "model_name": "LayoutModel",
          "state": {
            "_view_name": "LayoutView",
            "grid_template_rows": null,
            "right": null,
            "justify_content": null,
            "_view_module": "@jupyter-widgets/base",
            "overflow": null,
            "_model_module_version": "1.2.0",
            "_view_count": null,
            "flex_flow": null,
            "width": null,
            "min_width": null,
            "border": null,
            "align_items": null,
            "bottom": null,
            "_model_module": "@jupyter-widgets/base",
            "top": null,
            "grid_column": null,
            "overflow_y": null,
            "overflow_x": null,
            "grid_auto_flow": null,
            "grid_area": null,
            "grid_template_columns": null,
            "flex": null,
            "_model_name": "LayoutModel",
            "justify_items": null,
            "grid_row": null,
            "max_height": null,
            "align_content": null,
            "visibility": null,
            "align_self": null,
            "height": null,
            "min_height": null,
            "padding": null,
            "grid_auto_rows": null,
            "grid_gap": null,
            "max_width": null,
            "order": null,
            "_view_module_version": "1.2.0",
            "grid_template_areas": null,
            "object_position": null,
            "object_fit": null,
            "grid_auto_columns": null,
            "margin": null,
            "display": null,
            "left": null
          }
        },
        "542c9ea0f1e646299d9e532ad82cd5b4": {
          "model_module": "@jupyter-widgets/controls",
          "model_name": "FloatProgressModel",
          "state": {
            "_view_name": "ProgressView",
            "style": "IPY_MODEL_1bb3506021454b8283e9afc381a423a3",
            "_dom_classes": [],
            "description": "Downloading: 100%",
            "_model_name": "FloatProgressModel",
            "bar_style": "success",
            "max": 711456782,
            "_view_module": "@jupyter-widgets/controls",
            "_model_module_version": "1.5.0",
            "value": 711456782,
            "_view_count": null,
            "_view_module_version": "1.5.0",
            "orientation": "horizontal",
            "min": 0,
            "description_tooltip": null,
            "_model_module": "@jupyter-widgets/controls",
            "layout": "IPY_MODEL_b100761673e3446996f6b900ac0aa1c9"
          }
        },
        "139742d27e5140f29f340631e831621c": {
          "model_module": "@jupyter-widgets/controls",
          "model_name": "HTMLModel",
          "state": {
            "_view_name": "HTMLView",
            "style": "IPY_MODEL_bb6eda4e87184f5eb7518245e5709588",
            "_dom_classes": [],
            "description": "",
            "_model_name": "HTMLModel",
            "placeholder": "​",
            "_view_module": "@jupyter-widgets/controls",
            "_model_module_version": "1.5.0",
            "value": " 711M/711M [00:10&lt;00:00, 65.9MB/s]",
            "_view_count": null,
            "_view_module_version": "1.5.0",
            "description_tooltip": null,
            "_model_module": "@jupyter-widgets/controls",
            "layout": "IPY_MODEL_24e8d8d4a7964d2f81b4b0931059f836"
          }
        },
        "1bb3506021454b8283e9afc381a423a3": {
          "model_module": "@jupyter-widgets/controls",
          "model_name": "ProgressStyleModel",
          "state": {
            "_view_name": "StyleView",
            "_model_name": "ProgressStyleModel",
            "description_width": "initial",
            "_view_module": "@jupyter-widgets/base",
            "_model_module_version": "1.5.0",
            "_view_count": null,
            "_view_module_version": "1.2.0",
            "bar_color": null,
            "_model_module": "@jupyter-widgets/controls"
          }
        },
        "b100761673e3446996f6b900ac0aa1c9": {
          "model_module": "@jupyter-widgets/base",
          "model_name": "LayoutModel",
          "state": {
            "_view_name": "LayoutView",
            "grid_template_rows": null,
            "right": null,
            "justify_content": null,
            "_view_module": "@jupyter-widgets/base",
            "overflow": null,
            "_model_module_version": "1.2.0",
            "_view_count": null,
            "flex_flow": null,
            "width": null,
            "min_width": null,
            "border": null,
            "align_items": null,
            "bottom": null,
            "_model_module": "@jupyter-widgets/base",
            "top": null,
            "grid_column": null,
            "overflow_y": null,
            "overflow_x": null,
            "grid_auto_flow": null,
            "grid_area": null,
            "grid_template_columns": null,
            "flex": null,
            "_model_name": "LayoutModel",
            "justify_items": null,
            "grid_row": null,
            "max_height": null,
            "align_content": null,
            "visibility": null,
            "align_self": null,
            "height": null,
            "min_height": null,
            "padding": null,
            "grid_auto_rows": null,
            "grid_gap": null,
            "max_width": null,
            "order": null,
            "_view_module_version": "1.2.0",
            "grid_template_areas": null,
            "object_position": null,
            "object_fit": null,
            "grid_auto_columns": null,
            "margin": null,
            "display": null,
            "left": null
          }
        },
        "bb6eda4e87184f5eb7518245e5709588": {
          "model_module": "@jupyter-widgets/controls",
          "model_name": "DescriptionStyleModel",
          "state": {
            "_view_name": "StyleView",
            "_model_name": "DescriptionStyleModel",
            "description_width": "",
            "_view_module": "@jupyter-widgets/base",
            "_model_module_version": "1.5.0",
            "_view_count": null,
            "_view_module_version": "1.2.0",
            "_model_module": "@jupyter-widgets/controls"
          }
        },
        "24e8d8d4a7964d2f81b4b0931059f836": {
          "model_module": "@jupyter-widgets/base",
          "model_name": "LayoutModel",
          "state": {
            "_view_name": "LayoutView",
            "grid_template_rows": null,
            "right": null,
            "justify_content": null,
            "_view_module": "@jupyter-widgets/base",
            "overflow": null,
            "_model_module_version": "1.2.0",
            "_view_count": null,
            "flex_flow": null,
            "width": null,
            "min_width": null,
            "border": null,
            "align_items": null,
            "bottom": null,
            "_model_module": "@jupyter-widgets/base",
            "top": null,
            "grid_column": null,
            "overflow_y": null,
            "overflow_x": null,
            "grid_auto_flow": null,
            "grid_area": null,
            "grid_template_columns": null,
            "flex": null,
            "_model_name": "LayoutModel",
            "justify_items": null,
            "grid_row": null,
            "max_height": null,
            "align_content": null,
            "visibility": null,
            "align_self": null,
            "height": null,
            "min_height": null,
            "padding": null,
            "grid_auto_rows": null,
            "grid_gap": null,
            "max_width": null,
            "order": null,
            "_view_module_version": "1.2.0",
            "grid_template_areas": null,
            "object_position": null,
            "object_fit": null,
            "grid_auto_columns": null,
            "margin": null,
            "display": null,
            "left": null
          }
        },
        "425c436da08146fab00a41312b06d139": {
          "model_module": "@jupyter-widgets/controls",
          "model_name": "HBoxModel",
          "state": {
            "_view_name": "HBoxView",
            "_dom_classes": [],
            "_model_name": "HBoxModel",
            "_view_module": "@jupyter-widgets/controls",
            "_model_module_version": "1.5.0",
            "_view_count": null,
            "_view_module_version": "1.5.0",
            "box_style": "",
            "layout": "IPY_MODEL_6a0f0986606545fd9203e111740e723d",
            "_model_module": "@jupyter-widgets/controls",
            "children": [
              "IPY_MODEL_1a76c56da7694c5ca99790d7a7164656",
              "IPY_MODEL_b1846ca1441d435590edd9df4b709069"
            ]
          }
        },
        "6a0f0986606545fd9203e111740e723d": {
          "model_module": "@jupyter-widgets/base",
          "model_name": "LayoutModel",
          "state": {
            "_view_name": "LayoutView",
            "grid_template_rows": null,
            "right": null,
            "justify_content": null,
            "_view_module": "@jupyter-widgets/base",
            "overflow": null,
            "_model_module_version": "1.2.0",
            "_view_count": null,
            "flex_flow": null,
            "width": null,
            "min_width": null,
            "border": null,
            "align_items": null,
            "bottom": null,
            "_model_module": "@jupyter-widgets/base",
            "top": null,
            "grid_column": null,
            "overflow_y": null,
            "overflow_x": null,
            "grid_auto_flow": null,
            "grid_area": null,
            "grid_template_columns": null,
            "flex": null,
            "_model_name": "LayoutModel",
            "justify_items": null,
            "grid_row": null,
            "max_height": null,
            "align_content": null,
            "visibility": null,
            "align_self": null,
            "height": null,
            "min_height": null,
            "padding": null,
            "grid_auto_rows": null,
            "grid_gap": null,
            "max_width": null,
            "order": null,
            "_view_module_version": "1.2.0",
            "grid_template_areas": null,
            "object_position": null,
            "object_fit": null,
            "grid_auto_columns": null,
            "margin": null,
            "display": null,
            "left": null
          }
        },
        "1a76c56da7694c5ca99790d7a7164656": {
          "model_module": "@jupyter-widgets/controls",
          "model_name": "FloatProgressModel",
          "state": {
            "_view_name": "ProgressView",
            "style": "IPY_MODEL_9cd7bebfd0e34f68a72429a88696eafa",
            "_dom_classes": [],
            "description": "#0: 100%",
            "_model_name": "FloatProgressModel",
            "bar_style": "success",
            "max": 99174,
            "_view_module": "@jupyter-widgets/controls",
            "_model_module_version": "1.5.0",
            "value": 99174,
            "_view_count": null,
            "_view_module_version": "1.5.0",
            "orientation": "horizontal",
            "min": 0,
            "description_tooltip": null,
            "_model_module": "@jupyter-widgets/controls",
            "layout": "IPY_MODEL_7545db0738b84a20a619cff15258c527"
          }
        },
        "b1846ca1441d435590edd9df4b709069": {
          "model_module": "@jupyter-widgets/controls",
          "model_name": "HTMLModel",
          "state": {
            "_view_name": "HTMLView",
            "style": "IPY_MODEL_9b94adf65dfc41919953532e7c20599b",
            "_dom_classes": [],
            "description": "",
            "_model_name": "HTMLModel",
            "placeholder": "​",
            "_view_module": "@jupyter-widgets/controls",
            "_model_module_version": "1.5.0",
            "value": " 99174/99174 [02:52&lt;00:00, 574.54ex/s]",
            "_view_count": null,
            "_view_module_version": "1.5.0",
            "description_tooltip": null,
            "_model_module": "@jupyter-widgets/controls",
            "layout": "IPY_MODEL_b09ea6e274ad44e98cb1d54b692b9b91"
          }
        },
        "9cd7bebfd0e34f68a72429a88696eafa": {
          "model_module": "@jupyter-widgets/controls",
          "model_name": "ProgressStyleModel",
          "state": {
            "_view_name": "StyleView",
            "_model_name": "ProgressStyleModel",
            "description_width": "initial",
            "_view_module": "@jupyter-widgets/base",
            "_model_module_version": "1.5.0",
            "_view_count": null,
            "_view_module_version": "1.2.0",
            "bar_color": null,
            "_model_module": "@jupyter-widgets/controls"
          }
        },
        "7545db0738b84a20a619cff15258c527": {
          "model_module": "@jupyter-widgets/base",
          "model_name": "LayoutModel",
          "state": {
            "_view_name": "LayoutView",
            "grid_template_rows": null,
            "right": null,
            "justify_content": null,
            "_view_module": "@jupyter-widgets/base",
            "overflow": null,
            "_model_module_version": "1.2.0",
            "_view_count": null,
            "flex_flow": null,
            "width": null,
            "min_width": null,
            "border": null,
            "align_items": null,
            "bottom": null,
            "_model_module": "@jupyter-widgets/base",
            "top": null,
            "grid_column": null,
            "overflow_y": null,
            "overflow_x": null,
            "grid_auto_flow": null,
            "grid_area": null,
            "grid_template_columns": null,
            "flex": null,
            "_model_name": "LayoutModel",
            "justify_items": null,
            "grid_row": null,
            "max_height": null,
            "align_content": null,
            "visibility": null,
            "align_self": null,
            "height": null,
            "min_height": null,
            "padding": null,
            "grid_auto_rows": null,
            "grid_gap": null,
            "max_width": null,
            "order": null,
            "_view_module_version": "1.2.0",
            "grid_template_areas": null,
            "object_position": null,
            "object_fit": null,
            "grid_auto_columns": null,
            "margin": null,
            "display": null,
            "left": null
          }
        },
        "9b94adf65dfc41919953532e7c20599b": {
          "model_module": "@jupyter-widgets/controls",
          "model_name": "DescriptionStyleModel",
          "state": {
            "_view_name": "StyleView",
            "_model_name": "DescriptionStyleModel",
            "description_width": "",
            "_view_module": "@jupyter-widgets/base",
            "_model_module_version": "1.5.0",
            "_view_count": null,
            "_view_module_version": "1.2.0",
            "_model_module": "@jupyter-widgets/controls"
          }
        },
        "b09ea6e274ad44e98cb1d54b692b9b91": {
          "model_module": "@jupyter-widgets/base",
          "model_name": "LayoutModel",
          "state": {
            "_view_name": "LayoutView",
            "grid_template_rows": null,
            "right": null,
            "justify_content": null,
            "_view_module": "@jupyter-widgets/base",
            "overflow": null,
            "_model_module_version": "1.2.0",
            "_view_count": null,
            "flex_flow": null,
            "width": null,
            "min_width": null,
            "border": null,
            "align_items": null,
            "bottom": null,
            "_model_module": "@jupyter-widgets/base",
            "top": null,
            "grid_column": null,
            "overflow_y": null,
            "overflow_x": null,
            "grid_auto_flow": null,
            "grid_area": null,
            "grid_template_columns": null,
            "flex": null,
            "_model_name": "LayoutModel",
            "justify_items": null,
            "grid_row": null,
            "max_height": null,
            "align_content": null,
            "visibility": null,
            "align_self": null,
            "height": null,
            "min_height": null,
            "padding": null,
            "grid_auto_rows": null,
            "grid_gap": null,
            "max_width": null,
            "order": null,
            "_view_module_version": "1.2.0",
            "grid_template_areas": null,
            "object_position": null,
            "object_fit": null,
            "grid_auto_columns": null,
            "margin": null,
            "display": null,
            "left": null
          }
        },
        "5609e669bcf1427191a2ce9f3432ee12": {
          "model_module": "@jupyter-widgets/controls",
          "model_name": "HBoxModel",
          "state": {
            "_view_name": "HBoxView",
            "_dom_classes": [],
            "_model_name": "HBoxModel",
            "_view_module": "@jupyter-widgets/controls",
            "_model_module_version": "1.5.0",
            "_view_count": null,
            "_view_module_version": "1.5.0",
            "box_style": "",
            "layout": "IPY_MODEL_d3b6176c7d5e4d8facd016ebdae00831",
            "_model_module": "@jupyter-widgets/controls",
            "children": [
              "IPY_MODEL_d427a86eeb2440b6a53031a8837d7beb",
              "IPY_MODEL_8877e6f1100d4b06acf5c2e6623ce0a6"
            ]
          }
        },
        "d3b6176c7d5e4d8facd016ebdae00831": {
          "model_module": "@jupyter-widgets/base",
          "model_name": "LayoutModel",
          "state": {
            "_view_name": "LayoutView",
            "grid_template_rows": null,
            "right": null,
            "justify_content": null,
            "_view_module": "@jupyter-widgets/base",
            "overflow": null,
            "_model_module_version": "1.2.0",
            "_view_count": null,
            "flex_flow": null,
            "width": null,
            "min_width": null,
            "border": null,
            "align_items": null,
            "bottom": null,
            "_model_module": "@jupyter-widgets/base",
            "top": null,
            "grid_column": null,
            "overflow_y": null,
            "overflow_x": null,
            "grid_auto_flow": null,
            "grid_area": null,
            "grid_template_columns": null,
            "flex": null,
            "_model_name": "LayoutModel",
            "justify_items": null,
            "grid_row": null,
            "max_height": null,
            "align_content": null,
            "visibility": null,
            "align_self": null,
            "height": null,
            "min_height": null,
            "padding": null,
            "grid_auto_rows": null,
            "grid_gap": null,
            "max_width": null,
            "order": null,
            "_view_module_version": "1.2.0",
            "grid_template_areas": null,
            "object_position": null,
            "object_fit": null,
            "grid_auto_columns": null,
            "margin": null,
            "display": null,
            "left": null
          }
        },
        "d427a86eeb2440b6a53031a8837d7beb": {
          "model_module": "@jupyter-widgets/controls",
          "model_name": "FloatProgressModel",
          "state": {
            "_view_name": "ProgressView",
            "style": "IPY_MODEL_a03ad8af151243dd9d248ba3e435e253",
            "_dom_classes": [],
            "description": "#2: 100%",
            "_model_name": "FloatProgressModel",
            "bar_style": "success",
            "max": 99173,
            "_view_module": "@jupyter-widgets/controls",
            "_model_module_version": "1.5.0",
            "value": 99173,
            "_view_count": null,
            "_view_module_version": "1.5.0",
            "orientation": "horizontal",
            "min": 0,
            "description_tooltip": null,
            "_model_module": "@jupyter-widgets/controls",
            "layout": "IPY_MODEL_7bfd6dedf4d54226b80ca805083a42cd"
          }
        },
        "8877e6f1100d4b06acf5c2e6623ce0a6": {
          "model_module": "@jupyter-widgets/controls",
          "model_name": "HTMLModel",
          "state": {
            "_view_name": "HTMLView",
            "style": "IPY_MODEL_c8abcd0d6a954b56aa85f2815d38060c",
            "_dom_classes": [],
            "description": "",
            "_model_name": "HTMLModel",
            "placeholder": "​",
            "_view_module": "@jupyter-widgets/controls",
            "_model_module_version": "1.5.0",
            "value": " 99173/99173 [02:54&lt;00:00, 567.98ex/s]",
            "_view_count": null,
            "_view_module_version": "1.5.0",
            "description_tooltip": null,
            "_model_module": "@jupyter-widgets/controls",
            "layout": "IPY_MODEL_9d2da0842cf94f4a8f4dec9fc10e9fd3"
          }
        },
        "a03ad8af151243dd9d248ba3e435e253": {
          "model_module": "@jupyter-widgets/controls",
          "model_name": "ProgressStyleModel",
          "state": {
            "_view_name": "StyleView",
            "_model_name": "ProgressStyleModel",
            "description_width": "initial",
            "_view_module": "@jupyter-widgets/base",
            "_model_module_version": "1.5.0",
            "_view_count": null,
            "_view_module_version": "1.2.0",
            "bar_color": null,
            "_model_module": "@jupyter-widgets/controls"
          }
        },
        "7bfd6dedf4d54226b80ca805083a42cd": {
          "model_module": "@jupyter-widgets/base",
          "model_name": "LayoutModel",
          "state": {
            "_view_name": "LayoutView",
            "grid_template_rows": null,
            "right": null,
            "justify_content": null,
            "_view_module": "@jupyter-widgets/base",
            "overflow": null,
            "_model_module_version": "1.2.0",
            "_view_count": null,
            "flex_flow": null,
            "width": null,
            "min_width": null,
            "border": null,
            "align_items": null,
            "bottom": null,
            "_model_module": "@jupyter-widgets/base",
            "top": null,
            "grid_column": null,
            "overflow_y": null,
            "overflow_x": null,
            "grid_auto_flow": null,
            "grid_area": null,
            "grid_template_columns": null,
            "flex": null,
            "_model_name": "LayoutModel",
            "justify_items": null,
            "grid_row": null,
            "max_height": null,
            "align_content": null,
            "visibility": null,
            "align_self": null,
            "height": null,
            "min_height": null,
            "padding": null,
            "grid_auto_rows": null,
            "grid_gap": null,
            "max_width": null,
            "order": null,
            "_view_module_version": "1.2.0",
            "grid_template_areas": null,
            "object_position": null,
            "object_fit": null,
            "grid_auto_columns": null,
            "margin": null,
            "display": null,
            "left": null
          }
        },
        "c8abcd0d6a954b56aa85f2815d38060c": {
          "model_module": "@jupyter-widgets/controls",
          "model_name": "DescriptionStyleModel",
          "state": {
            "_view_name": "StyleView",
            "_model_name": "DescriptionStyleModel",
            "description_width": "",
            "_view_module": "@jupyter-widgets/base",
            "_model_module_version": "1.5.0",
            "_view_count": null,
            "_view_module_version": "1.2.0",
            "_model_module": "@jupyter-widgets/controls"
          }
        },
        "9d2da0842cf94f4a8f4dec9fc10e9fd3": {
          "model_module": "@jupyter-widgets/base",
          "model_name": "LayoutModel",
          "state": {
            "_view_name": "LayoutView",
            "grid_template_rows": null,
            "right": null,
            "justify_content": null,
            "_view_module": "@jupyter-widgets/base",
            "overflow": null,
            "_model_module_version": "1.2.0",
            "_view_count": null,
            "flex_flow": null,
            "width": null,
            "min_width": null,
            "border": null,
            "align_items": null,
            "bottom": null,
            "_model_module": "@jupyter-widgets/base",
            "top": null,
            "grid_column": null,
            "overflow_y": null,
            "overflow_x": null,
            "grid_auto_flow": null,
            "grid_area": null,
            "grid_template_columns": null,
            "flex": null,
            "_model_name": "LayoutModel",
            "justify_items": null,
            "grid_row": null,
            "max_height": null,
            "align_content": null,
            "visibility": null,
            "align_self": null,
            "height": null,
            "min_height": null,
            "padding": null,
            "grid_auto_rows": null,
            "grid_gap": null,
            "max_width": null,
            "order": null,
            "_view_module_version": "1.2.0",
            "grid_template_areas": null,
            "object_position": null,
            "object_fit": null,
            "grid_auto_columns": null,
            "margin": null,
            "display": null,
            "left": null
          }
        },
        "1a3e8263b8fa4c22bdf7776a646c1080": {
          "model_module": "@jupyter-widgets/controls",
          "model_name": "HBoxModel",
          "state": {
            "_view_name": "HBoxView",
            "_dom_classes": [],
            "_model_name": "HBoxModel",
            "_view_module": "@jupyter-widgets/controls",
            "_model_module_version": "1.5.0",
            "_view_count": null,
            "_view_module_version": "1.5.0",
            "box_style": "",
            "layout": "IPY_MODEL_b5feccac7d974263b466e3c0b5cd1048",
            "_model_module": "@jupyter-widgets/controls",
            "children": [
              "IPY_MODEL_d2976a0e3c63414cb7bc511e94d8a672",
              "IPY_MODEL_9e842388b7744430b4a53f5ef7a82ddf"
            ]
          }
        },
        "b5feccac7d974263b466e3c0b5cd1048": {
          "model_module": "@jupyter-widgets/base",
          "model_name": "LayoutModel",
          "state": {
            "_view_name": "LayoutView",
            "grid_template_rows": null,
            "right": null,
            "justify_content": null,
            "_view_module": "@jupyter-widgets/base",
            "overflow": null,
            "_model_module_version": "1.2.0",
            "_view_count": null,
            "flex_flow": null,
            "width": null,
            "min_width": null,
            "border": null,
            "align_items": null,
            "bottom": null,
            "_model_module": "@jupyter-widgets/base",
            "top": null,
            "grid_column": null,
            "overflow_y": null,
            "overflow_x": null,
            "grid_auto_flow": null,
            "grid_area": null,
            "grid_template_columns": null,
            "flex": null,
            "_model_name": "LayoutModel",
            "justify_items": null,
            "grid_row": null,
            "max_height": null,
            "align_content": null,
            "visibility": null,
            "align_self": null,
            "height": null,
            "min_height": null,
            "padding": null,
            "grid_auto_rows": null,
            "grid_gap": null,
            "max_width": null,
            "order": null,
            "_view_module_version": "1.2.0",
            "grid_template_areas": null,
            "object_position": null,
            "object_fit": null,
            "grid_auto_columns": null,
            "margin": null,
            "display": null,
            "left": null
          }
        },
        "d2976a0e3c63414cb7bc511e94d8a672": {
          "model_module": "@jupyter-widgets/controls",
          "model_name": "FloatProgressModel",
          "state": {
            "_view_name": "ProgressView",
            "style": "IPY_MODEL_1f81528ac3e64052a2246d3c702ad738",
            "_dom_classes": [],
            "description": "#1: 100%",
            "_model_name": "FloatProgressModel",
            "bar_style": "success",
            "max": 99173,
            "_view_module": "@jupyter-widgets/controls",
            "_model_module_version": "1.5.0",
            "value": 99173,
            "_view_count": null,
            "_view_module_version": "1.5.0",
            "orientation": "horizontal",
            "min": 0,
            "description_tooltip": null,
            "_model_module": "@jupyter-widgets/controls",
            "layout": "IPY_MODEL_9439d85e89794c24801a08b91295316a"
          }
        },
        "9e842388b7744430b4a53f5ef7a82ddf": {
          "model_module": "@jupyter-widgets/controls",
          "model_name": "HTMLModel",
          "state": {
            "_view_name": "HTMLView",
            "style": "IPY_MODEL_785741f3df174b82addb79c44b246d2d",
            "_dom_classes": [],
            "description": "",
            "_model_name": "HTMLModel",
            "placeholder": "​",
            "_view_module": "@jupyter-widgets/controls",
            "_model_module_version": "1.5.0",
            "value": " 99173/99173 [02:53&lt;00:00, 571.88ex/s]",
            "_view_count": null,
            "_view_module_version": "1.5.0",
            "description_tooltip": null,
            "_model_module": "@jupyter-widgets/controls",
            "layout": "IPY_MODEL_214ff6724679437989c762a1e4bc3c30"
          }
        },
        "1f81528ac3e64052a2246d3c702ad738": {
          "model_module": "@jupyter-widgets/controls",
          "model_name": "ProgressStyleModel",
          "state": {
            "_view_name": "StyleView",
            "_model_name": "ProgressStyleModel",
            "description_width": "initial",
            "_view_module": "@jupyter-widgets/base",
            "_model_module_version": "1.5.0",
            "_view_count": null,
            "_view_module_version": "1.2.0",
            "bar_color": null,
            "_model_module": "@jupyter-widgets/controls"
          }
        },
        "9439d85e89794c24801a08b91295316a": {
          "model_module": "@jupyter-widgets/base",
          "model_name": "LayoutModel",
          "state": {
            "_view_name": "LayoutView",
            "grid_template_rows": null,
            "right": null,
            "justify_content": null,
            "_view_module": "@jupyter-widgets/base",
            "overflow": null,
            "_model_module_version": "1.2.0",
            "_view_count": null,
            "flex_flow": null,
            "width": null,
            "min_width": null,
            "border": null,
            "align_items": null,
            "bottom": null,
            "_model_module": "@jupyter-widgets/base",
            "top": null,
            "grid_column": null,
            "overflow_y": null,
            "overflow_x": null,
            "grid_auto_flow": null,
            "grid_area": null,
            "grid_template_columns": null,
            "flex": null,
            "_model_name": "LayoutModel",
            "justify_items": null,
            "grid_row": null,
            "max_height": null,
            "align_content": null,
            "visibility": null,
            "align_self": null,
            "height": null,
            "min_height": null,
            "padding": null,
            "grid_auto_rows": null,
            "grid_gap": null,
            "max_width": null,
            "order": null,
            "_view_module_version": "1.2.0",
            "grid_template_areas": null,
            "object_position": null,
            "object_fit": null,
            "grid_auto_columns": null,
            "margin": null,
            "display": null,
            "left": null
          }
        },
        "785741f3df174b82addb79c44b246d2d": {
          "model_module": "@jupyter-widgets/controls",
          "model_name": "DescriptionStyleModel",
          "state": {
            "_view_name": "StyleView",
            "_model_name": "DescriptionStyleModel",
            "description_width": "",
            "_view_module": "@jupyter-widgets/base",
            "_model_module_version": "1.5.0",
            "_view_count": null,
            "_view_module_version": "1.2.0",
            "_model_module": "@jupyter-widgets/controls"
          }
        },
        "214ff6724679437989c762a1e4bc3c30": {
          "model_module": "@jupyter-widgets/base",
          "model_name": "LayoutModel",
          "state": {
            "_view_name": "LayoutView",
            "grid_template_rows": null,
            "right": null,
            "justify_content": null,
            "_view_module": "@jupyter-widgets/base",
            "overflow": null,
            "_model_module_version": "1.2.0",
            "_view_count": null,
            "flex_flow": null,
            "width": null,
            "min_width": null,
            "border": null,
            "align_items": null,
            "bottom": null,
            "_model_module": "@jupyter-widgets/base",
            "top": null,
            "grid_column": null,
            "overflow_y": null,
            "overflow_x": null,
            "grid_auto_flow": null,
            "grid_area": null,
            "grid_template_columns": null,
            "flex": null,
            "_model_name": "LayoutModel",
            "justify_items": null,
            "grid_row": null,
            "max_height": null,
            "align_content": null,
            "visibility": null,
            "align_self": null,
            "height": null,
            "min_height": null,
            "padding": null,
            "grid_auto_rows": null,
            "grid_gap": null,
            "max_width": null,
            "order": null,
            "_view_module_version": "1.2.0",
            "grid_template_areas": null,
            "object_position": null,
            "object_fit": null,
            "grid_auto_columns": null,
            "margin": null,
            "display": null,
            "left": null
          }
        },
        "973943d0fa0e4dd2bbfacbb658c3ea31": {
          "model_module": "@jupyter-widgets/controls",
          "model_name": "HBoxModel",
          "state": {
            "_view_name": "HBoxView",
            "_dom_classes": [],
            "_model_name": "HBoxModel",
            "_view_module": "@jupyter-widgets/controls",
            "_model_module_version": "1.5.0",
            "_view_count": null,
            "_view_module_version": "1.5.0",
            "box_style": "",
            "layout": "IPY_MODEL_2f5c6417e8e04d4e944c699e13083900",
            "_model_module": "@jupyter-widgets/controls",
            "children": [
              "IPY_MODEL_76cf352463e0461bbc7a2026b4470cfc",
              "IPY_MODEL_282040dede35458c90968ddafcac0dae"
            ]
          }
        },
        "2f5c6417e8e04d4e944c699e13083900": {
          "model_module": "@jupyter-widgets/base",
          "model_name": "LayoutModel",
          "state": {
            "_view_name": "LayoutView",
            "grid_template_rows": null,
            "right": null,
            "justify_content": null,
            "_view_module": "@jupyter-widgets/base",
            "overflow": null,
            "_model_module_version": "1.2.0",
            "_view_count": null,
            "flex_flow": null,
            "width": null,
            "min_width": null,
            "border": null,
            "align_items": null,
            "bottom": null,
            "_model_module": "@jupyter-widgets/base",
            "top": null,
            "grid_column": null,
            "overflow_y": null,
            "overflow_x": null,
            "grid_auto_flow": null,
            "grid_area": null,
            "grid_template_columns": null,
            "flex": null,
            "_model_name": "LayoutModel",
            "justify_items": null,
            "grid_row": null,
            "max_height": null,
            "align_content": null,
            "visibility": null,
            "align_self": null,
            "height": null,
            "min_height": null,
            "padding": null,
            "grid_auto_rows": null,
            "grid_gap": null,
            "max_width": null,
            "order": null,
            "_view_module_version": "1.2.0",
            "grid_template_areas": null,
            "object_position": null,
            "object_fit": null,
            "grid_auto_columns": null,
            "margin": null,
            "display": null,
            "left": null
          }
        },
        "76cf352463e0461bbc7a2026b4470cfc": {
          "model_module": "@jupyter-widgets/controls",
          "model_name": "FloatProgressModel",
          "state": {
            "_view_name": "ProgressView",
            "style": "IPY_MODEL_d7071f8d3a1e42f2884b86e5e2e54eab",
            "_dom_classes": [],
            "description": "#3: 100%",
            "_model_name": "FloatProgressModel",
            "bar_style": "success",
            "max": 99173,
            "_view_module": "@jupyter-widgets/controls",
            "_model_module_version": "1.5.0",
            "value": 99173,
            "_view_count": null,
            "_view_module_version": "1.5.0",
            "orientation": "horizontal",
            "min": 0,
            "description_tooltip": null,
            "_model_module": "@jupyter-widgets/controls",
            "layout": "IPY_MODEL_552914cebe8849c48619fa6ce81965b0"
          }
        },
        "282040dede35458c90968ddafcac0dae": {
          "model_module": "@jupyter-widgets/controls",
          "model_name": "HTMLModel",
          "state": {
            "_view_name": "HTMLView",
            "style": "IPY_MODEL_2aba686e881842a984fa0ee8431716f9",
            "_dom_classes": [],
            "description": "",
            "_model_name": "HTMLModel",
            "placeholder": "​",
            "_view_module": "@jupyter-widgets/controls",
            "_model_module_version": "1.5.0",
            "value": " 99173/99173 [02:54&lt;00:00, 569.06ex/s]",
            "_view_count": null,
            "_view_module_version": "1.5.0",
            "description_tooltip": null,
            "_model_module": "@jupyter-widgets/controls",
            "layout": "IPY_MODEL_e947b3dbfebb4ec9a204cc8c7d423b65"
          }
        },
        "d7071f8d3a1e42f2884b86e5e2e54eab": {
          "model_module": "@jupyter-widgets/controls",
          "model_name": "ProgressStyleModel",
          "state": {
            "_view_name": "StyleView",
            "_model_name": "ProgressStyleModel",
            "description_width": "initial",
            "_view_module": "@jupyter-widgets/base",
            "_model_module_version": "1.5.0",
            "_view_count": null,
            "_view_module_version": "1.2.0",
            "bar_color": null,
            "_model_module": "@jupyter-widgets/controls"
          }
        },
        "552914cebe8849c48619fa6ce81965b0": {
          "model_module": "@jupyter-widgets/base",
          "model_name": "LayoutModel",
          "state": {
            "_view_name": "LayoutView",
            "grid_template_rows": null,
            "right": null,
            "justify_content": null,
            "_view_module": "@jupyter-widgets/base",
            "overflow": null,
            "_model_module_version": "1.2.0",
            "_view_count": null,
            "flex_flow": null,
            "width": null,
            "min_width": null,
            "border": null,
            "align_items": null,
            "bottom": null,
            "_model_module": "@jupyter-widgets/base",
            "top": null,
            "grid_column": null,
            "overflow_y": null,
            "overflow_x": null,
            "grid_auto_flow": null,
            "grid_area": null,
            "grid_template_columns": null,
            "flex": null,
            "_model_name": "LayoutModel",
            "justify_items": null,
            "grid_row": null,
            "max_height": null,
            "align_content": null,
            "visibility": null,
            "align_self": null,
            "height": null,
            "min_height": null,
            "padding": null,
            "grid_auto_rows": null,
            "grid_gap": null,
            "max_width": null,
            "order": null,
            "_view_module_version": "1.2.0",
            "grid_template_areas": null,
            "object_position": null,
            "object_fit": null,
            "grid_auto_columns": null,
            "margin": null,
            "display": null,
            "left": null
          }
        },
        "2aba686e881842a984fa0ee8431716f9": {
          "model_module": "@jupyter-widgets/controls",
          "model_name": "DescriptionStyleModel",
          "state": {
            "_view_name": "StyleView",
            "_model_name": "DescriptionStyleModel",
            "description_width": "",
            "_view_module": "@jupyter-widgets/base",
            "_model_module_version": "1.5.0",
            "_view_count": null,
            "_view_module_version": "1.2.0",
            "_model_module": "@jupyter-widgets/controls"
          }
        },
        "e947b3dbfebb4ec9a204cc8c7d423b65": {
          "model_module": "@jupyter-widgets/base",
          "model_name": "LayoutModel",
          "state": {
            "_view_name": "LayoutView",
            "grid_template_rows": null,
            "right": null,
            "justify_content": null,
            "_view_module": "@jupyter-widgets/base",
            "overflow": null,
            "_model_module_version": "1.2.0",
            "_view_count": null,
            "flex_flow": null,
            "width": null,
            "min_width": null,
            "border": null,
            "align_items": null,
            "bottom": null,
            "_model_module": "@jupyter-widgets/base",
            "top": null,
            "grid_column": null,
            "overflow_y": null,
            "overflow_x": null,
            "grid_auto_flow": null,
            "grid_area": null,
            "grid_template_columns": null,
            "flex": null,
            "_model_name": "LayoutModel",
            "justify_items": null,
            "grid_row": null,
            "max_height": null,
            "align_content": null,
            "visibility": null,
            "align_self": null,
            "height": null,
            "min_height": null,
            "padding": null,
            "grid_auto_rows": null,
            "grid_gap": null,
            "max_width": null,
            "order": null,
            "_view_module_version": "1.2.0",
            "grid_template_areas": null,
            "object_position": null,
            "object_fit": null,
            "grid_auto_columns": null,
            "margin": null,
            "display": null,
            "left": null
          }
        },
        "fc6d2b0b189b4e8fa1dacd66dffece3a": {
          "model_module": "@jupyter-widgets/controls",
          "model_name": "HBoxModel",
          "state": {
            "_view_name": "HBoxView",
            "_dom_classes": [],
            "_model_name": "HBoxModel",
            "_view_module": "@jupyter-widgets/controls",
            "_model_module_version": "1.5.0",
            "_view_count": null,
            "_view_module_version": "1.5.0",
            "box_style": "",
            "layout": "IPY_MODEL_943bcdc888f44939a630bfe11744c959",
            "_model_module": "@jupyter-widgets/controls",
            "children": [
              "IPY_MODEL_5744885d5772458bac208262daea177d",
              "IPY_MODEL_6b096dbd28724e7baaa05dad3940481f"
            ]
          }
        },
        "943bcdc888f44939a630bfe11744c959": {
          "model_module": "@jupyter-widgets/base",
          "model_name": "LayoutModel",
          "state": {
            "_view_name": "LayoutView",
            "grid_template_rows": null,
            "right": null,
            "justify_content": null,
            "_view_module": "@jupyter-widgets/base",
            "overflow": null,
            "_model_module_version": "1.2.0",
            "_view_count": null,
            "flex_flow": null,
            "width": null,
            "min_width": null,
            "border": null,
            "align_items": null,
            "bottom": null,
            "_model_module": "@jupyter-widgets/base",
            "top": null,
            "grid_column": null,
            "overflow_y": null,
            "overflow_x": null,
            "grid_auto_flow": null,
            "grid_area": null,
            "grid_template_columns": null,
            "flex": null,
            "_model_name": "LayoutModel",
            "justify_items": null,
            "grid_row": null,
            "max_height": null,
            "align_content": null,
            "visibility": null,
            "align_self": null,
            "height": null,
            "min_height": null,
            "padding": null,
            "grid_auto_rows": null,
            "grid_gap": null,
            "max_width": null,
            "order": null,
            "_view_module_version": "1.2.0",
            "grid_template_areas": null,
            "object_position": null,
            "object_fit": null,
            "grid_auto_columns": null,
            "margin": null,
            "display": null,
            "left": null
          }
        },
        "5744885d5772458bac208262daea177d": {
          "model_module": "@jupyter-widgets/controls",
          "model_name": "FloatProgressModel",
          "state": {
            "_view_name": "ProgressView",
            "style": "IPY_MODEL_cffd17ded81e41348bf3867824fa4a78",
            "_dom_classes": [],
            "description": "#0: 100%",
            "_model_name": "FloatProgressModel",
            "bar_style": "success",
            "max": 11134,
            "_view_module": "@jupyter-widgets/controls",
            "_model_module_version": "1.5.0",
            "value": 11134,
            "_view_count": null,
            "_view_module_version": "1.5.0",
            "orientation": "horizontal",
            "min": 0,
            "description_tooltip": null,
            "_model_module": "@jupyter-widgets/controls",
            "layout": "IPY_MODEL_d52f306e9b2848c6a78125c8d9213540"
          }
        },
        "6b096dbd28724e7baaa05dad3940481f": {
          "model_module": "@jupyter-widgets/controls",
          "model_name": "HTMLModel",
          "state": {
            "_view_name": "HTMLView",
            "style": "IPY_MODEL_34e871a012c747c78415a58eaa3f7eb9",
            "_dom_classes": [],
            "description": "",
            "_model_name": "HTMLModel",
            "placeholder": "​",
            "_view_module": "@jupyter-widgets/controls",
            "_model_module_version": "1.5.0",
            "value": " 11134/11134 [00:24&lt;00:00, 452.87ex/s]",
            "_view_count": null,
            "_view_module_version": "1.5.0",
            "description_tooltip": null,
            "_model_module": "@jupyter-widgets/controls",
            "layout": "IPY_MODEL_babc4064a5e44450a6ec16a6ef93b538"
          }
        },
        "cffd17ded81e41348bf3867824fa4a78": {
          "model_module": "@jupyter-widgets/controls",
          "model_name": "ProgressStyleModel",
          "state": {
            "_view_name": "StyleView",
            "_model_name": "ProgressStyleModel",
            "description_width": "initial",
            "_view_module": "@jupyter-widgets/base",
            "_model_module_version": "1.5.0",
            "_view_count": null,
            "_view_module_version": "1.2.0",
            "bar_color": null,
            "_model_module": "@jupyter-widgets/controls"
          }
        },
        "d52f306e9b2848c6a78125c8d9213540": {
          "model_module": "@jupyter-widgets/base",
          "model_name": "LayoutModel",
          "state": {
            "_view_name": "LayoutView",
            "grid_template_rows": null,
            "right": null,
            "justify_content": null,
            "_view_module": "@jupyter-widgets/base",
            "overflow": null,
            "_model_module_version": "1.2.0",
            "_view_count": null,
            "flex_flow": null,
            "width": null,
            "min_width": null,
            "border": null,
            "align_items": null,
            "bottom": null,
            "_model_module": "@jupyter-widgets/base",
            "top": null,
            "grid_column": null,
            "overflow_y": null,
            "overflow_x": null,
            "grid_auto_flow": null,
            "grid_area": null,
            "grid_template_columns": null,
            "flex": null,
            "_model_name": "LayoutModel",
            "justify_items": null,
            "grid_row": null,
            "max_height": null,
            "align_content": null,
            "visibility": null,
            "align_self": null,
            "height": null,
            "min_height": null,
            "padding": null,
            "grid_auto_rows": null,
            "grid_gap": null,
            "max_width": null,
            "order": null,
            "_view_module_version": "1.2.0",
            "grid_template_areas": null,
            "object_position": null,
            "object_fit": null,
            "grid_auto_columns": null,
            "margin": null,
            "display": null,
            "left": null
          }
        },
        "34e871a012c747c78415a58eaa3f7eb9": {
          "model_module": "@jupyter-widgets/controls",
          "model_name": "DescriptionStyleModel",
          "state": {
            "_view_name": "StyleView",
            "_model_name": "DescriptionStyleModel",
            "description_width": "",
            "_view_module": "@jupyter-widgets/base",
            "_model_module_version": "1.5.0",
            "_view_count": null,
            "_view_module_version": "1.2.0",
            "_model_module": "@jupyter-widgets/controls"
          }
        },
        "babc4064a5e44450a6ec16a6ef93b538": {
          "model_module": "@jupyter-widgets/base",
          "model_name": "LayoutModel",
          "state": {
            "_view_name": "LayoutView",
            "grid_template_rows": null,
            "right": null,
            "justify_content": null,
            "_view_module": "@jupyter-widgets/base",
            "overflow": null,
            "_model_module_version": "1.2.0",
            "_view_count": null,
            "flex_flow": null,
            "width": null,
            "min_width": null,
            "border": null,
            "align_items": null,
            "bottom": null,
            "_model_module": "@jupyter-widgets/base",
            "top": null,
            "grid_column": null,
            "overflow_y": null,
            "overflow_x": null,
            "grid_auto_flow": null,
            "grid_area": null,
            "grid_template_columns": null,
            "flex": null,
            "_model_name": "LayoutModel",
            "justify_items": null,
            "grid_row": null,
            "max_height": null,
            "align_content": null,
            "visibility": null,
            "align_self": null,
            "height": null,
            "min_height": null,
            "padding": null,
            "grid_auto_rows": null,
            "grid_gap": null,
            "max_width": null,
            "order": null,
            "_view_module_version": "1.2.0",
            "grid_template_areas": null,
            "object_position": null,
            "object_fit": null,
            "grid_auto_columns": null,
            "margin": null,
            "display": null,
            "left": null
          }
        },
        "eb3937a40380440f819ae331bd70363f": {
          "model_module": "@jupyter-widgets/controls",
          "model_name": "HBoxModel",
          "state": {
            "_view_name": "HBoxView",
            "_dom_classes": [],
            "_model_name": "HBoxModel",
            "_view_module": "@jupyter-widgets/controls",
            "_model_module_version": "1.5.0",
            "_view_count": null,
            "_view_module_version": "1.5.0",
            "box_style": "",
            "layout": "IPY_MODEL_f1836e7c768b40369c6bcdfb356cd7c6",
            "_model_module": "@jupyter-widgets/controls",
            "children": [
              "IPY_MODEL_f0d5552318854f0599f5dea4fb0db3b1",
              "IPY_MODEL_8d029cee646a484eadbb371630b6a7de"
            ]
          }
        },
        "f1836e7c768b40369c6bcdfb356cd7c6": {
          "model_module": "@jupyter-widgets/base",
          "model_name": "LayoutModel",
          "state": {
            "_view_name": "LayoutView",
            "grid_template_rows": null,
            "right": null,
            "justify_content": null,
            "_view_module": "@jupyter-widgets/base",
            "overflow": null,
            "_model_module_version": "1.2.0",
            "_view_count": null,
            "flex_flow": null,
            "width": null,
            "min_width": null,
            "border": null,
            "align_items": null,
            "bottom": null,
            "_model_module": "@jupyter-widgets/base",
            "top": null,
            "grid_column": null,
            "overflow_y": null,
            "overflow_x": null,
            "grid_auto_flow": null,
            "grid_area": null,
            "grid_template_columns": null,
            "flex": null,
            "_model_name": "LayoutModel",
            "justify_items": null,
            "grid_row": null,
            "max_height": null,
            "align_content": null,
            "visibility": null,
            "align_self": null,
            "height": null,
            "min_height": null,
            "padding": null,
            "grid_auto_rows": null,
            "grid_gap": null,
            "max_width": null,
            "order": null,
            "_view_module_version": "1.2.0",
            "grid_template_areas": null,
            "object_position": null,
            "object_fit": null,
            "grid_auto_columns": null,
            "margin": null,
            "display": null,
            "left": null
          }
        },
        "f0d5552318854f0599f5dea4fb0db3b1": {
          "model_module": "@jupyter-widgets/controls",
          "model_name": "FloatProgressModel",
          "state": {
            "_view_name": "ProgressView",
            "style": "IPY_MODEL_aa1ada3e8515448cb79c685f7c0603ff",
            "_dom_classes": [],
            "description": "#1: 100%",
            "_model_name": "FloatProgressModel",
            "bar_style": "success",
            "max": 11133,
            "_view_module": "@jupyter-widgets/controls",
            "_model_module_version": "1.5.0",
            "value": 11133,
            "_view_count": null,
            "_view_module_version": "1.5.0",
            "orientation": "horizontal",
            "min": 0,
            "description_tooltip": null,
            "_model_module": "@jupyter-widgets/controls",
            "layout": "IPY_MODEL_76b7a6338ca842a9950c90af1e418008"
          }
        },
        "8d029cee646a484eadbb371630b6a7de": {
          "model_module": "@jupyter-widgets/controls",
          "model_name": "HTMLModel",
          "state": {
            "_view_name": "HTMLView",
            "style": "IPY_MODEL_483e8b9912464fd5901bedffdc7dc390",
            "_dom_classes": [],
            "description": "",
            "_model_name": "HTMLModel",
            "placeholder": "​",
            "_view_module": "@jupyter-widgets/controls",
            "_model_module_version": "1.5.0",
            "value": " 11133/11133 [00:25&lt;00:00, 436.35ex/s]",
            "_view_count": null,
            "_view_module_version": "1.5.0",
            "description_tooltip": null,
            "_model_module": "@jupyter-widgets/controls",
            "layout": "IPY_MODEL_642df5670bcb45f29e39e0061c92219b"
          }
        },
        "aa1ada3e8515448cb79c685f7c0603ff": {
          "model_module": "@jupyter-widgets/controls",
          "model_name": "ProgressStyleModel",
          "state": {
            "_view_name": "StyleView",
            "_model_name": "ProgressStyleModel",
            "description_width": "initial",
            "_view_module": "@jupyter-widgets/base",
            "_model_module_version": "1.5.0",
            "_view_count": null,
            "_view_module_version": "1.2.0",
            "bar_color": null,
            "_model_module": "@jupyter-widgets/controls"
          }
        },
        "76b7a6338ca842a9950c90af1e418008": {
          "model_module": "@jupyter-widgets/base",
          "model_name": "LayoutModel",
          "state": {
            "_view_name": "LayoutView",
            "grid_template_rows": null,
            "right": null,
            "justify_content": null,
            "_view_module": "@jupyter-widgets/base",
            "overflow": null,
            "_model_module_version": "1.2.0",
            "_view_count": null,
            "flex_flow": null,
            "width": null,
            "min_width": null,
            "border": null,
            "align_items": null,
            "bottom": null,
            "_model_module": "@jupyter-widgets/base",
            "top": null,
            "grid_column": null,
            "overflow_y": null,
            "overflow_x": null,
            "grid_auto_flow": null,
            "grid_area": null,
            "grid_template_columns": null,
            "flex": null,
            "_model_name": "LayoutModel",
            "justify_items": null,
            "grid_row": null,
            "max_height": null,
            "align_content": null,
            "visibility": null,
            "align_self": null,
            "height": null,
            "min_height": null,
            "padding": null,
            "grid_auto_rows": null,
            "grid_gap": null,
            "max_width": null,
            "order": null,
            "_view_module_version": "1.2.0",
            "grid_template_areas": null,
            "object_position": null,
            "object_fit": null,
            "grid_auto_columns": null,
            "margin": null,
            "display": null,
            "left": null
          }
        },
        "483e8b9912464fd5901bedffdc7dc390": {
          "model_module": "@jupyter-widgets/controls",
          "model_name": "DescriptionStyleModel",
          "state": {
            "_view_name": "StyleView",
            "_model_name": "DescriptionStyleModel",
            "description_width": "",
            "_view_module": "@jupyter-widgets/base",
            "_model_module_version": "1.5.0",
            "_view_count": null,
            "_view_module_version": "1.2.0",
            "_model_module": "@jupyter-widgets/controls"
          }
        },
        "642df5670bcb45f29e39e0061c92219b": {
          "model_module": "@jupyter-widgets/base",
          "model_name": "LayoutModel",
          "state": {
            "_view_name": "LayoutView",
            "grid_template_rows": null,
            "right": null,
            "justify_content": null,
            "_view_module": "@jupyter-widgets/base",
            "overflow": null,
            "_model_module_version": "1.2.0",
            "_view_count": null,
            "flex_flow": null,
            "width": null,
            "min_width": null,
            "border": null,
            "align_items": null,
            "bottom": null,
            "_model_module": "@jupyter-widgets/base",
            "top": null,
            "grid_column": null,
            "overflow_y": null,
            "overflow_x": null,
            "grid_auto_flow": null,
            "grid_area": null,
            "grid_template_columns": null,
            "flex": null,
            "_model_name": "LayoutModel",
            "justify_items": null,
            "grid_row": null,
            "max_height": null,
            "align_content": null,
            "visibility": null,
            "align_self": null,
            "height": null,
            "min_height": null,
            "padding": null,
            "grid_auto_rows": null,
            "grid_gap": null,
            "max_width": null,
            "order": null,
            "_view_module_version": "1.2.0",
            "grid_template_areas": null,
            "object_position": null,
            "object_fit": null,
            "grid_auto_columns": null,
            "margin": null,
            "display": null,
            "left": null
          }
        },
        "5d9756ba569540b7b5a8c75e80cb498d": {
          "model_module": "@jupyter-widgets/controls",
          "model_name": "HBoxModel",
          "state": {
            "_view_name": "HBoxView",
            "_dom_classes": [],
            "_model_name": "HBoxModel",
            "_view_module": "@jupyter-widgets/controls",
            "_model_module_version": "1.5.0",
            "_view_count": null,
            "_view_module_version": "1.5.0",
            "box_style": "",
            "layout": "IPY_MODEL_04b75874f0b5408aa6305f31e5f58c28",
            "_model_module": "@jupyter-widgets/controls",
            "children": [
              "IPY_MODEL_ba48b0d5c6db4b78bfb8c94269022cb5",
              "IPY_MODEL_7e18dcb2eda742e09fb0ff517e2bb544"
            ]
          }
        },
        "04b75874f0b5408aa6305f31e5f58c28": {
          "model_module": "@jupyter-widgets/base",
          "model_name": "LayoutModel",
          "state": {
            "_view_name": "LayoutView",
            "grid_template_rows": null,
            "right": null,
            "justify_content": null,
            "_view_module": "@jupyter-widgets/base",
            "overflow": null,
            "_model_module_version": "1.2.0",
            "_view_count": null,
            "flex_flow": null,
            "width": null,
            "min_width": null,
            "border": null,
            "align_items": null,
            "bottom": null,
            "_model_module": "@jupyter-widgets/base",
            "top": null,
            "grid_column": null,
            "overflow_y": null,
            "overflow_x": null,
            "grid_auto_flow": null,
            "grid_area": null,
            "grid_template_columns": null,
            "flex": null,
            "_model_name": "LayoutModel",
            "justify_items": null,
            "grid_row": null,
            "max_height": null,
            "align_content": null,
            "visibility": null,
            "align_self": null,
            "height": null,
            "min_height": null,
            "padding": null,
            "grid_auto_rows": null,
            "grid_gap": null,
            "max_width": null,
            "order": null,
            "_view_module_version": "1.2.0",
            "grid_template_areas": null,
            "object_position": null,
            "object_fit": null,
            "grid_auto_columns": null,
            "margin": null,
            "display": null,
            "left": null
          }
        },
        "ba48b0d5c6db4b78bfb8c94269022cb5": {
          "model_module": "@jupyter-widgets/controls",
          "model_name": "FloatProgressModel",
          "state": {
            "_view_name": "ProgressView",
            "style": "IPY_MODEL_add6b58279ce40b2872963b4bbce27d6",
            "_dom_classes": [],
            "description": "#2: 100%",
            "_model_name": "FloatProgressModel",
            "bar_style": "success",
            "max": 11133,
            "_view_module": "@jupyter-widgets/controls",
            "_model_module_version": "1.5.0",
            "value": 11133,
            "_view_count": null,
            "_view_module_version": "1.5.0",
            "orientation": "horizontal",
            "min": 0,
            "description_tooltip": null,
            "_model_module": "@jupyter-widgets/controls",
            "layout": "IPY_MODEL_48d4e304645044099555e7687644a447"
          }
        },
        "7e18dcb2eda742e09fb0ff517e2bb544": {
          "model_module": "@jupyter-widgets/controls",
          "model_name": "HTMLModel",
          "state": {
            "_view_name": "HTMLView",
            "style": "IPY_MODEL_e88f520ba0974f2db82cb02723166f96",
            "_dom_classes": [],
            "description": "",
            "_model_name": "HTMLModel",
            "placeholder": "​",
            "_view_module": "@jupyter-widgets/controls",
            "_model_module_version": "1.5.0",
            "value": " 11133/11133 [00:25&lt;00:00, 441.48ex/s]",
            "_view_count": null,
            "_view_module_version": "1.5.0",
            "description_tooltip": null,
            "_model_module": "@jupyter-widgets/controls",
            "layout": "IPY_MODEL_ef5b243e54ec450fa16126bdd1404b15"
          }
        },
        "add6b58279ce40b2872963b4bbce27d6": {
          "model_module": "@jupyter-widgets/controls",
          "model_name": "ProgressStyleModel",
          "state": {
            "_view_name": "StyleView",
            "_model_name": "ProgressStyleModel",
            "description_width": "initial",
            "_view_module": "@jupyter-widgets/base",
            "_model_module_version": "1.5.0",
            "_view_count": null,
            "_view_module_version": "1.2.0",
            "bar_color": null,
            "_model_module": "@jupyter-widgets/controls"
          }
        },
        "48d4e304645044099555e7687644a447": {
          "model_module": "@jupyter-widgets/base",
          "model_name": "LayoutModel",
          "state": {
            "_view_name": "LayoutView",
            "grid_template_rows": null,
            "right": null,
            "justify_content": null,
            "_view_module": "@jupyter-widgets/base",
            "overflow": null,
            "_model_module_version": "1.2.0",
            "_view_count": null,
            "flex_flow": null,
            "width": null,
            "min_width": null,
            "border": null,
            "align_items": null,
            "bottom": null,
            "_model_module": "@jupyter-widgets/base",
            "top": null,
            "grid_column": null,
            "overflow_y": null,
            "overflow_x": null,
            "grid_auto_flow": null,
            "grid_area": null,
            "grid_template_columns": null,
            "flex": null,
            "_model_name": "LayoutModel",
            "justify_items": null,
            "grid_row": null,
            "max_height": null,
            "align_content": null,
            "visibility": null,
            "align_self": null,
            "height": null,
            "min_height": null,
            "padding": null,
            "grid_auto_rows": null,
            "grid_gap": null,
            "max_width": null,
            "order": null,
            "_view_module_version": "1.2.0",
            "grid_template_areas": null,
            "object_position": null,
            "object_fit": null,
            "grid_auto_columns": null,
            "margin": null,
            "display": null,
            "left": null
          }
        },
        "e88f520ba0974f2db82cb02723166f96": {
          "model_module": "@jupyter-widgets/controls",
          "model_name": "DescriptionStyleModel",
          "state": {
            "_view_name": "StyleView",
            "_model_name": "DescriptionStyleModel",
            "description_width": "",
            "_view_module": "@jupyter-widgets/base",
            "_model_module_version": "1.5.0",
            "_view_count": null,
            "_view_module_version": "1.2.0",
            "_model_module": "@jupyter-widgets/controls"
          }
        },
        "ef5b243e54ec450fa16126bdd1404b15": {
          "model_module": "@jupyter-widgets/base",
          "model_name": "LayoutModel",
          "state": {
            "_view_name": "LayoutView",
            "grid_template_rows": null,
            "right": null,
            "justify_content": null,
            "_view_module": "@jupyter-widgets/base",
            "overflow": null,
            "_model_module_version": "1.2.0",
            "_view_count": null,
            "flex_flow": null,
            "width": null,
            "min_width": null,
            "border": null,
            "align_items": null,
            "bottom": null,
            "_model_module": "@jupyter-widgets/base",
            "top": null,
            "grid_column": null,
            "overflow_y": null,
            "overflow_x": null,
            "grid_auto_flow": null,
            "grid_area": null,
            "grid_template_columns": null,
            "flex": null,
            "_model_name": "LayoutModel",
            "justify_items": null,
            "grid_row": null,
            "max_height": null,
            "align_content": null,
            "visibility": null,
            "align_self": null,
            "height": null,
            "min_height": null,
            "padding": null,
            "grid_auto_rows": null,
            "grid_gap": null,
            "max_width": null,
            "order": null,
            "_view_module_version": "1.2.0",
            "grid_template_areas": null,
            "object_position": null,
            "object_fit": null,
            "grid_auto_columns": null,
            "margin": null,
            "display": null,
            "left": null
          }
        },
        "0a1628cfc870463097a68b37e27831d6": {
          "model_module": "@jupyter-widgets/controls",
          "model_name": "HBoxModel",
          "state": {
            "_view_name": "HBoxView",
            "_dom_classes": [],
            "_model_name": "HBoxModel",
            "_view_module": "@jupyter-widgets/controls",
            "_model_module_version": "1.5.0",
            "_view_count": null,
            "_view_module_version": "1.5.0",
            "box_style": "",
            "layout": "IPY_MODEL_e37064284a534012ad49a9a752453faf",
            "_model_module": "@jupyter-widgets/controls",
            "children": [
              "IPY_MODEL_9b27027da08946a296824c51de9643b4",
              "IPY_MODEL_a26ef17691d04431837f78cc553dea1e"
            ]
          }
        },
        "e37064284a534012ad49a9a752453faf": {
          "model_module": "@jupyter-widgets/base",
          "model_name": "LayoutModel",
          "state": {
            "_view_name": "LayoutView",
            "grid_template_rows": null,
            "right": null,
            "justify_content": null,
            "_view_module": "@jupyter-widgets/base",
            "overflow": null,
            "_model_module_version": "1.2.0",
            "_view_count": null,
            "flex_flow": null,
            "width": null,
            "min_width": null,
            "border": null,
            "align_items": null,
            "bottom": null,
            "_model_module": "@jupyter-widgets/base",
            "top": null,
            "grid_column": null,
            "overflow_y": null,
            "overflow_x": null,
            "grid_auto_flow": null,
            "grid_area": null,
            "grid_template_columns": null,
            "flex": null,
            "_model_name": "LayoutModel",
            "justify_items": null,
            "grid_row": null,
            "max_height": null,
            "align_content": null,
            "visibility": null,
            "align_self": null,
            "height": null,
            "min_height": null,
            "padding": null,
            "grid_auto_rows": null,
            "grid_gap": null,
            "max_width": null,
            "order": null,
            "_view_module_version": "1.2.0",
            "grid_template_areas": null,
            "object_position": null,
            "object_fit": null,
            "grid_auto_columns": null,
            "margin": null,
            "display": null,
            "left": null
          }
        },
        "9b27027da08946a296824c51de9643b4": {
          "model_module": "@jupyter-widgets/controls",
          "model_name": "FloatProgressModel",
          "state": {
            "_view_name": "ProgressView",
            "style": "IPY_MODEL_7952d26e9e624ac5aa6f6fb84ff9cdf3",
            "_dom_classes": [],
            "description": "#3: 100%",
            "_model_name": "FloatProgressModel",
            "bar_style": "success",
            "max": 11133,
            "_view_module": "@jupyter-widgets/controls",
            "_model_module_version": "1.5.0",
            "value": 11133,
            "_view_count": null,
            "_view_module_version": "1.5.0",
            "orientation": "horizontal",
            "min": 0,
            "description_tooltip": null,
            "_model_module": "@jupyter-widgets/controls",
            "layout": "IPY_MODEL_10c00e1e7f0940d8a8ea41bf9059eb1a"
          }
        },
        "a26ef17691d04431837f78cc553dea1e": {
          "model_module": "@jupyter-widgets/controls",
          "model_name": "HTMLModel",
          "state": {
            "_view_name": "HTMLView",
            "style": "IPY_MODEL_336c41f86b864cdebdefa39a362cac84",
            "_dom_classes": [],
            "description": "",
            "_model_name": "HTMLModel",
            "placeholder": "​",
            "_view_module": "@jupyter-widgets/controls",
            "_model_module_version": "1.5.0",
            "value": " 11133/11133 [00:25&lt;00:00, 441.43ex/s]",
            "_view_count": null,
            "_view_module_version": "1.5.0",
            "description_tooltip": null,
            "_model_module": "@jupyter-widgets/controls",
            "layout": "IPY_MODEL_93d236c3cda64e70bfe62e4a59452c0f"
          }
        },
        "7952d26e9e624ac5aa6f6fb84ff9cdf3": {
          "model_module": "@jupyter-widgets/controls",
          "model_name": "ProgressStyleModel",
          "state": {
            "_view_name": "StyleView",
            "_model_name": "ProgressStyleModel",
            "description_width": "initial",
            "_view_module": "@jupyter-widgets/base",
            "_model_module_version": "1.5.0",
            "_view_count": null,
            "_view_module_version": "1.2.0",
            "bar_color": null,
            "_model_module": "@jupyter-widgets/controls"
          }
        },
        "10c00e1e7f0940d8a8ea41bf9059eb1a": {
          "model_module": "@jupyter-widgets/base",
          "model_name": "LayoutModel",
          "state": {
            "_view_name": "LayoutView",
            "grid_template_rows": null,
            "right": null,
            "justify_content": null,
            "_view_module": "@jupyter-widgets/base",
            "overflow": null,
            "_model_module_version": "1.2.0",
            "_view_count": null,
            "flex_flow": null,
            "width": null,
            "min_width": null,
            "border": null,
            "align_items": null,
            "bottom": null,
            "_model_module": "@jupyter-widgets/base",
            "top": null,
            "grid_column": null,
            "overflow_y": null,
            "overflow_x": null,
            "grid_auto_flow": null,
            "grid_area": null,
            "grid_template_columns": null,
            "flex": null,
            "_model_name": "LayoutModel",
            "justify_items": null,
            "grid_row": null,
            "max_height": null,
            "align_content": null,
            "visibility": null,
            "align_self": null,
            "height": null,
            "min_height": null,
            "padding": null,
            "grid_auto_rows": null,
            "grid_gap": null,
            "max_width": null,
            "order": null,
            "_view_module_version": "1.2.0",
            "grid_template_areas": null,
            "object_position": null,
            "object_fit": null,
            "grid_auto_columns": null,
            "margin": null,
            "display": null,
            "left": null
          }
        },
        "336c41f86b864cdebdefa39a362cac84": {
          "model_module": "@jupyter-widgets/controls",
          "model_name": "DescriptionStyleModel",
          "state": {
            "_view_name": "StyleView",
            "_model_name": "DescriptionStyleModel",
            "description_width": "",
            "_view_module": "@jupyter-widgets/base",
            "_model_module_version": "1.5.0",
            "_view_count": null,
            "_view_module_version": "1.2.0",
            "_model_module": "@jupyter-widgets/controls"
          }
        },
        "93d236c3cda64e70bfe62e4a59452c0f": {
          "model_module": "@jupyter-widgets/base",
          "model_name": "LayoutModel",
          "state": {
            "_view_name": "LayoutView",
            "grid_template_rows": null,
            "right": null,
            "justify_content": null,
            "_view_module": "@jupyter-widgets/base",
            "overflow": null,
            "_model_module_version": "1.2.0",
            "_view_count": null,
            "flex_flow": null,
            "width": null,
            "min_width": null,
            "border": null,
            "align_items": null,
            "bottom": null,
            "_model_module": "@jupyter-widgets/base",
            "top": null,
            "grid_column": null,
            "overflow_y": null,
            "overflow_x": null,
            "grid_auto_flow": null,
            "grid_area": null,
            "grid_template_columns": null,
            "flex": null,
            "_model_name": "LayoutModel",
            "justify_items": null,
            "grid_row": null,
            "max_height": null,
            "align_content": null,
            "visibility": null,
            "align_self": null,
            "height": null,
            "min_height": null,
            "padding": null,
            "grid_auto_rows": null,
            "grid_gap": null,
            "max_width": null,
            "order": null,
            "_view_module_version": "1.2.0",
            "grid_template_areas": null,
            "object_position": null,
            "object_fit": null,
            "grid_auto_columns": null,
            "margin": null,
            "display": null,
            "left": null
          }
        }
      }
    },
    "accelerator": "GPU"
  },
  "cells": [
    {
      "cell_type": "markdown",
      "metadata": {
        "id": "iU6YRwUFbTwg"
      },
      "source": [
        "## Загрузка модели"
      ]
    },
    {
      "cell_type": "code",
      "metadata": {
        "colab": {
          "base_uri": "https://localhost:8080/"
        },
        "id": "ibHgnqucTV1N",
        "outputId": "eb0a9a93-9f74-4627-f0c6-1cbbb356b29d"
      },
      "source": [
        "!pip install transformers\n",
        "!pip install datasets"
      ],
      "execution_count": null,
      "outputs": [
        {
          "output_type": "stream",
          "text": [
            "Collecting transformers\n",
            "\u001b[?25l  Downloading https://files.pythonhosted.org/packages/98/87/ef312eef26f5cecd8b17ae9654cdd8d1fae1eb6dbd87257d6d73c128a4d0/transformers-4.3.2-py3-none-any.whl (1.8MB)\n",
            "\u001b[K     |████████████████████████████████| 1.8MB 7.9MB/s \n",
            "\u001b[?25hRequirement already satisfied: packaging in /usr/local/lib/python3.6/dist-packages (from transformers) (20.9)\n",
            "Requirement already satisfied: regex!=2019.12.17 in /usr/local/lib/python3.6/dist-packages (from transformers) (2019.12.20)\n",
            "Requirement already satisfied: dataclasses; python_version < \"3.7\" in /usr/local/lib/python3.6/dist-packages (from transformers) (0.8)\n",
            "Requirement already satisfied: requests in /usr/local/lib/python3.6/dist-packages (from transformers) (2.23.0)\n",
            "Requirement already satisfied: filelock in /usr/local/lib/python3.6/dist-packages (from transformers) (3.0.12)\n",
            "Requirement already satisfied: numpy>=1.17 in /usr/local/lib/python3.6/dist-packages (from transformers) (1.19.5)\n",
            "Collecting sacremoses\n",
            "\u001b[?25l  Downloading https://files.pythonhosted.org/packages/7d/34/09d19aff26edcc8eb2a01bed8e98f13a1537005d31e95233fd48216eed10/sacremoses-0.0.43.tar.gz (883kB)\n",
            "\u001b[K     |████████████████████████████████| 890kB 54.0MB/s \n",
            "\u001b[?25hCollecting tokenizers<0.11,>=0.10.1\n",
            "\u001b[?25l  Downloading https://files.pythonhosted.org/packages/fd/5b/44baae602e0a30bcc53fbdbc60bd940c15e143d252d658dfdefce736ece5/tokenizers-0.10.1-cp36-cp36m-manylinux2010_x86_64.whl (3.2MB)\n",
            "\u001b[K     |████████████████████████████████| 3.2MB 54.5MB/s \n",
            "\u001b[?25hRequirement already satisfied: tqdm>=4.27 in /usr/local/lib/python3.6/dist-packages (from transformers) (4.41.1)\n",
            "Requirement already satisfied: importlib-metadata; python_version < \"3.8\" in /usr/local/lib/python3.6/dist-packages (from transformers) (3.4.0)\n",
            "Requirement already satisfied: pyparsing>=2.0.2 in /usr/local/lib/python3.6/dist-packages (from packaging->transformers) (2.4.7)\n",
            "Requirement already satisfied: urllib3!=1.25.0,!=1.25.1,<1.26,>=1.21.1 in /usr/local/lib/python3.6/dist-packages (from requests->transformers) (1.24.3)\n",
            "Requirement already satisfied: idna<3,>=2.5 in /usr/local/lib/python3.6/dist-packages (from requests->transformers) (2.10)\n",
            "Requirement already satisfied: certifi>=2017.4.17 in /usr/local/lib/python3.6/dist-packages (from requests->transformers) (2020.12.5)\n",
            "Requirement already satisfied: chardet<4,>=3.0.2 in /usr/local/lib/python3.6/dist-packages (from requests->transformers) (3.0.4)\n",
            "Requirement already satisfied: six in /usr/local/lib/python3.6/dist-packages (from sacremoses->transformers) (1.15.0)\n",
            "Requirement already satisfied: click in /usr/local/lib/python3.6/dist-packages (from sacremoses->transformers) (7.1.2)\n",
            "Requirement already satisfied: joblib in /usr/local/lib/python3.6/dist-packages (from sacremoses->transformers) (1.0.0)\n",
            "Requirement already satisfied: typing-extensions>=3.6.4; python_version < \"3.8\" in /usr/local/lib/python3.6/dist-packages (from importlib-metadata; python_version < \"3.8\"->transformers) (3.7.4.3)\n",
            "Requirement already satisfied: zipp>=0.5 in /usr/local/lib/python3.6/dist-packages (from importlib-metadata; python_version < \"3.8\"->transformers) (3.4.0)\n",
            "Building wheels for collected packages: sacremoses\n",
            "  Building wheel for sacremoses (setup.py) ... \u001b[?25l\u001b[?25hdone\n",
            "  Created wheel for sacremoses: filename=sacremoses-0.0.43-cp36-none-any.whl size=893261 sha256=fae258af31a5bee372670787858c6c497db548acd5c30c12ef61026084e638e1\n",
            "  Stored in directory: /root/.cache/pip/wheels/29/3c/fd/7ce5c3f0666dab31a50123635e6fb5e19ceb42ce38d4e58f45\n",
            "Successfully built sacremoses\n",
            "Installing collected packages: sacremoses, tokenizers, transformers\n",
            "Successfully installed sacremoses-0.0.43 tokenizers-0.10.1 transformers-4.3.2\n",
            "Collecting datasets\n",
            "\u001b[?25l  Downloading https://files.pythonhosted.org/packages/06/9b/d097f2238fc3c028495cf5f8c65378972b9f1b2cbb27f3c57c7219195aa9/datasets-1.2.1-py3-none-any.whl (159kB)\n",
            "\u001b[K     |████████████████████████████████| 163kB 6.7MB/s \n",
            "\u001b[?25hCollecting xxhash\n",
            "\u001b[?25l  Downloading https://files.pythonhosted.org/packages/f7/73/826b19f3594756cb1c6c23d2fbd8ca6a77a9cd3b650c9dec5acc85004c38/xxhash-2.0.0-cp36-cp36m-manylinux2010_x86_64.whl (242kB)\n",
            "\u001b[K     |████████████████████████████████| 245kB 32.2MB/s \n",
            "\u001b[?25hCollecting pyarrow>=0.17.1\n",
            "\u001b[?25l  Downloading https://files.pythonhosted.org/packages/33/67/2f4fcce1b41bcc7e88a6bfdb42046597ae72e5bc95c2789b7c5ac893c433/pyarrow-3.0.0-cp36-cp36m-manylinux2014_x86_64.whl (20.7MB)\n",
            "\u001b[K     |████████████████████████████████| 20.7MB 1.4MB/s \n",
            "\u001b[?25hRequirement already satisfied: dill in /usr/local/lib/python3.6/dist-packages (from datasets) (0.3.3)\n",
            "Requirement already satisfied: requests>=2.19.0 in /usr/local/lib/python3.6/dist-packages (from datasets) (2.23.0)\n",
            "Requirement already satisfied: pandas in /usr/local/lib/python3.6/dist-packages (from datasets) (1.1.5)\n",
            "Requirement already satisfied: multiprocess in /usr/local/lib/python3.6/dist-packages (from datasets) (0.70.11.1)\n",
            "Requirement already satisfied: tqdm<4.50.0,>=4.27 in /usr/local/lib/python3.6/dist-packages (from datasets) (4.41.1)\n",
            "Requirement already satisfied: numpy>=1.17 in /usr/local/lib/python3.6/dist-packages (from datasets) (1.19.5)\n",
            "Requirement already satisfied: importlib-metadata; python_version < \"3.8\" in /usr/local/lib/python3.6/dist-packages (from datasets) (3.4.0)\n",
            "Requirement already satisfied: dataclasses; python_version < \"3.7\" in /usr/local/lib/python3.6/dist-packages (from datasets) (0.8)\n",
            "Requirement already satisfied: idna<3,>=2.5 in /usr/local/lib/python3.6/dist-packages (from requests>=2.19.0->datasets) (2.10)\n",
            "Requirement already satisfied: chardet<4,>=3.0.2 in /usr/local/lib/python3.6/dist-packages (from requests>=2.19.0->datasets) (3.0.4)\n",
            "Requirement already satisfied: certifi>=2017.4.17 in /usr/local/lib/python3.6/dist-packages (from requests>=2.19.0->datasets) (2020.12.5)\n",
            "Requirement already satisfied: urllib3!=1.25.0,!=1.25.1,<1.26,>=1.21.1 in /usr/local/lib/python3.6/dist-packages (from requests>=2.19.0->datasets) (1.24.3)\n",
            "Requirement already satisfied: pytz>=2017.2 in /usr/local/lib/python3.6/dist-packages (from pandas->datasets) (2018.9)\n",
            "Requirement already satisfied: python-dateutil>=2.7.3 in /usr/local/lib/python3.6/dist-packages (from pandas->datasets) (2.8.1)\n",
            "Requirement already satisfied: typing-extensions>=3.6.4; python_version < \"3.8\" in /usr/local/lib/python3.6/dist-packages (from importlib-metadata; python_version < \"3.8\"->datasets) (3.7.4.3)\n",
            "Requirement already satisfied: zipp>=0.5 in /usr/local/lib/python3.6/dist-packages (from importlib-metadata; python_version < \"3.8\"->datasets) (3.4.0)\n",
            "Requirement already satisfied: six>=1.5 in /usr/local/lib/python3.6/dist-packages (from python-dateutil>=2.7.3->pandas->datasets) (1.15.0)\n",
            "Installing collected packages: xxhash, pyarrow, datasets\n",
            "  Found existing installation: pyarrow 0.14.1\n",
            "    Uninstalling pyarrow-0.14.1:\n",
            "      Successfully uninstalled pyarrow-0.14.1\n",
            "Successfully installed datasets-1.2.1 pyarrow-3.0.0 xxhash-2.0.0\n"
          ],
          "name": "stdout"
        }
      ]
    },
    {
      "cell_type": "code",
      "metadata": {
        "id": "nFo89Hd9TfhS",
        "colab": {
          "base_uri": "https://localhost:8080/",
          "referenced_widgets": [
            "6429571abb4f4fe1a71288d8ee6b4401",
            "b82b11ba56c04eb983163328b59f03d0",
            "5b6c8f1adaa64d84846d11ea8f48ac14",
            "36ed40355eb6419999b456e0c2447824",
            "ca1cdb688c57470ea9996c3feb2f1ae3",
            "ea76ee2715a348139cbd17ee171a03e9",
            "ede8664bea0e48e99af257f74b7e9ba0",
            "dedc7510053648bcb88693195f0efe42",
            "33d8afd26bcb4221869ad6d6e98f7c26",
            "b7572806301541d09d1a01028e2ae047",
            "2f07d684675c4e76bd3755c1b8a86653",
            "d3b4f2562406447485c8d0d54e00355a",
            "38641fc328844cba8f9d2f2196ee6508",
            "ca1fa9744027461fb92668254e8151e9",
            "acc6886b07f140359a33bf05cc525e75",
            "45501bd2fb6e4b02a9d34ec5d69842dc",
            "963dbdf07bd34fa398e96da0b0343f27",
            "7a6601564c1544b083f5e77b44f7ea01",
            "04754dd36dd34221b74f054851d58dcd",
            "287ffec54ace427bbfd26f4626402ca0",
            "be33f0c4001343769e1b57c12f69fb01",
            "6c2bbf03549940f695a946f0bc113542",
            "25133e68b94b4e4b8e21edb65d0d48ec",
            "a0fea463898a4ba68f2ff8536cbd41e9",
            "27d3a7cbf7ba4dd1ba7f033435ab65f3",
            "a9fd65a0c9b94c2293fe9d280273a25f",
            "b8c2d0603ae3450ca1c4bb3b455095aa",
            "a39799d4a25c44b1a9811f7a28986231",
            "ec0166df80ef44dfb095b781464fc2a4",
            "e30b8914310941fd95a8f64511994bed",
            "680f750719cd44aba0c58136587ae808",
            "ec8976dd25c34b57b1a95f2908a9837e",
            "360eddedf3ce4d4794e321cadc757451",
            "2ceb0fe232e54d3aacc8d9b768f1269d",
            "542c9ea0f1e646299d9e532ad82cd5b4",
            "139742d27e5140f29f340631e831621c",
            "1bb3506021454b8283e9afc381a423a3",
            "b100761673e3446996f6b900ac0aa1c9",
            "bb6eda4e87184f5eb7518245e5709588",
            "24e8d8d4a7964d2f81b4b0931059f836"
          ]
        },
        "outputId": "a0190d4f-2f73-44b1-87a5-b6fe54f657d5"
      },
      "source": [
        "from transformers import BertTokenizer, BertModel\n",
        "tokenizer = BertTokenizer.from_pretrained('DeepPavlov/rubert-base-cased')\n",
        "model_begin = BertModel.from_pretrained(\"DeepPavlov/rubert-base-cased-conversational\")\n",
        "\n",
        "import torch\n",
        "from torch import nn"
      ],
      "execution_count": null,
      "outputs": [
        {
          "output_type": "display_data",
          "data": {
            "application/vnd.jupyter.widget-view+json": {
              "model_id": "6429571abb4f4fe1a71288d8ee6b4401",
              "version_minor": 0,
              "version_major": 2
            },
            "text/plain": [
              "HBox(children=(FloatProgress(value=0.0, description='Downloading', max=1649718.0, style=ProgressStyle(descript…"
            ]
          },
          "metadata": {
            "tags": []
          }
        },
        {
          "output_type": "stream",
          "text": [
            "\n"
          ],
          "name": "stdout"
        },
        {
          "output_type": "display_data",
          "data": {
            "application/vnd.jupyter.widget-view+json": {
              "model_id": "33d8afd26bcb4221869ad6d6e98f7c26",
              "version_minor": 0,
              "version_major": 2
            },
            "text/plain": [
              "HBox(children=(FloatProgress(value=0.0, description='Downloading', max=112.0, style=ProgressStyle(description_…"
            ]
          },
          "metadata": {
            "tags": []
          }
        },
        {
          "output_type": "stream",
          "text": [
            "\n"
          ],
          "name": "stdout"
        },
        {
          "output_type": "display_data",
          "data": {
            "application/vnd.jupyter.widget-view+json": {
              "model_id": "963dbdf07bd34fa398e96da0b0343f27",
              "version_minor": 0,
              "version_major": 2
            },
            "text/plain": [
              "HBox(children=(FloatProgress(value=0.0, description='Downloading', max=2.0, style=ProgressStyle(description_wi…"
            ]
          },
          "metadata": {
            "tags": []
          }
        },
        {
          "output_type": "stream",
          "text": [
            "\n"
          ],
          "name": "stdout"
        },
        {
          "output_type": "display_data",
          "data": {
            "application/vnd.jupyter.widget-view+json": {
              "model_id": "27d3a7cbf7ba4dd1ba7f033435ab65f3",
              "version_minor": 0,
              "version_major": 2
            },
            "text/plain": [
              "HBox(children=(FloatProgress(value=0.0, description='Downloading', max=642.0, style=ProgressStyle(description_…"
            ]
          },
          "metadata": {
            "tags": []
          }
        },
        {
          "output_type": "stream",
          "text": [
            "\n"
          ],
          "name": "stdout"
        },
        {
          "output_type": "display_data",
          "data": {
            "application/vnd.jupyter.widget-view+json": {
              "model_id": "360eddedf3ce4d4794e321cadc757451",
              "version_minor": 0,
              "version_major": 2
            },
            "text/plain": [
              "HBox(children=(FloatProgress(value=0.0, description='Downloading', max=711456782.0, style=ProgressStyle(descri…"
            ]
          },
          "metadata": {
            "tags": []
          }
        },
        {
          "output_type": "stream",
          "text": [
            "\n"
          ],
          "name": "stdout"
        }
      ]
    },
    {
      "cell_type": "markdown",
      "metadata": {
        "id": "ybGqdShkjoI4"
      },
      "source": [
        "## Тесты(функции)"
      ]
    },
    {
      "cell_type": "code",
      "metadata": {
        "colab": {
          "base_uri": "https://localhost:8080/"
        },
        "id": "d5o3XnHQcjbf",
        "outputId": "faf3596f-5eb3-496a-8efd-17e7a9be755b"
      },
      "source": [
        "\"\"\"\n",
        "Класс, который берёт слово и выдаёт эмбед этого слова.\n",
        "Нужен для check_similarity\n",
        "\"\"\"\n",
        "class EmbedModel:\n",
        "    \"\"\"\n",
        "    @param word_to_token Объект, преобразовывающий слово в токены (BertTokenizer)\n",
        "    @param model Объект, преобразовывающий токены в эмбед (BertModel.embeddings.word_embeddings)\n",
        "    Если подаётся BertModel, конвертирует его в BertModel.embeddings.word_embeddings\n",
        "    \"\"\"\n",
        "    def __init__(self, word_to_token, token_to_embed):\n",
        "        self.word_to_token = word_to_token\n",
        "        if isinstance(token_to_embed, BertModel):\n",
        "            self.token_to_embed = token_to_embed.embeddings.word_embeddings\n",
        "        else:\n",
        "            self.token_to_embed = token_to_embed\n",
        "\n",
        "    def __call__(self, word):\n",
        "        tokens = torch.Tensor(self.word_to_token.encode(word, add_special_tokens=False)).long()\n",
        "        out = self.token_to_embed(tokens)\n",
        "        return out.mean(dim=0)\n",
        "\n",
        "baseline_model = EmbedModel(tokenizer, model_begin)\n",
        "\n",
        "\"\"\"\n",
        "Обрабатывает тест.\n",
        "Также, если silent=False, выводит расстояния между каждой парой слов. \n",
        "@param model Модель, которая берёт слово и выдаёт эмбед этого слова\n",
        "@param similar_word1 Первое слово, похожее на второе по смыслу\n",
        "@param similar_word2 Второе слово, похожее на первое по смыслу\n",
        "@param different_word Третье слово, отличающиеся от двух других по смыслу\n",
        "@param silent Отключить вывод расстояний\n",
        "@returns True если эмбеды первых двух слов ближе, чем к третьему; False иначе \n",
        "\"\"\"\n",
        "def check_similarity(model, similar_word1, similar_word2, different_word, silent=False):\n",
        "    v1, v2, v3 = model(similar_word1), model(similar_word2), model(different_word)\n",
        "    d12 = float(nn.CosineSimilarity(dim=0)(v1, v2))\n",
        "    d13 = float(nn.CosineSimilarity(dim=0)(v1, v3))\n",
        "    d23 = float(nn.CosineSimilarity(dim=0)(v2, v3))\n",
        "    if not silent:\n",
        "        print('Distance between similar words:', d12)\n",
        "        print('Distance between first and third words:', d13)\n",
        "        print('Distance between second and third words:', d23)\n",
        "    return (d12 > d13) and (d12 > d23)\n",
        "  \n",
        "print(check_similarity(baseline_model, \"вошёл\", \"зашёл\", \"красивый\"))\n",
        "print(check_similarity(baseline_model, \"вошёл\", \"пришёл\", \"красивый\"))"
      ],
      "execution_count": null,
      "outputs": [
        {
          "output_type": "stream",
          "text": [
            "Distance between similar words: 0.576931357383728\n",
            "Distance between first and third words: 0.5771180391311646\n",
            "Distance between second and third words: 0.5649428367614746\n",
            "False\n",
            "Distance between similar words: 0.5449704527854919\n",
            "Distance between first and third words: 0.5771180391311646\n",
            "Distance between second and third words: 0.58338463306427\n",
            "False\n"
          ],
          "name": "stdout"
        }
      ]
    },
    {
      "cell_type": "code",
      "metadata": {
        "colab": {
          "base_uri": "https://localhost:8080/"
        },
        "id": "HQMT75Nyr8HP",
        "outputId": "1a5f674e-b176-41e9-cda9-4750c3c11542"
      },
      "source": [
        "from google.colab import drive\n",
        "drive.mount('/content/drive')"
      ],
      "execution_count": null,
      "outputs": [
        {
          "output_type": "stream",
          "text": [
            "Mounted at /content/drive\n"
          ],
          "name": "stdout"
        }
      ]
    },
    {
      "cell_type": "code",
      "metadata": {
        "id": "KRmMjOlVsjKy"
      },
      "source": [
        "model_test = BertModel.from_pretrained('/content/drive/MyDrive/chatbot_project/models/saved_model_tuned/')"
      ],
      "execution_count": null,
      "outputs": []
    },
    {
      "cell_type": "code",
      "metadata": {
        "colab": {
          "base_uri": "https://localhost:8080/"
        },
        "id": "Vhh4UwzMskAJ",
        "outputId": "136a2533-bb70-4149-83d8-4a8a3f2ffd61"
      },
      "source": [
        "print(check_similarity(EmbedModel(tokenizer, model_test), \"сидеть\", \"сидя\", \"котики\"))\n",
        "print(check_similarity(EmbedModel(tokenizer, model_test), \"первый\", \"второй\", \"синий\"))\n",
        "print(check_similarity(EmbedModel(tokenizer, model_test), \"животное\", \"корова\", \"выпендриваться\"))\n",
        "print(check_similarity(EmbedModel(tokenizer, model_test), \"а\", \"о\", \"союзы\"))\n",
        "print(check_similarity(EmbedModel(tokenizer, model_test), \"король\", \"королева\", \"тридцатидевятимиллиметровый\"))"
      ],
      "execution_count": null,
      "outputs": [
        {
          "output_type": "stream",
          "text": [
            "Distance between similar words: 0.5600447058677673\n",
            "Distance between first and third words: 0.5069496631622314\n",
            "Distance between second and third words: 0.650918185710907\n",
            "False\n",
            "Distance between similar words: 0.6366925239562988\n",
            "Distance between first and third words: 0.610293984413147\n",
            "Distance between second and third words: 0.6655640006065369\n",
            "False\n",
            "Distance between similar words: 0.5550908446311951\n",
            "Distance between first and third words: 0.6973404884338379\n",
            "Distance between second and third words: 0.6581167578697205\n",
            "False\n",
            "Distance between similar words: 0.6205568909645081\n",
            "Distance between first and third words: 0.6041322350502014\n",
            "Distance between second and third words: 0.6441978812217712\n",
            "False\n",
            "Distance between similar words: 0.7035229206085205\n",
            "Distance between first and third words: 0.6949911117553711\n",
            "Distance between second and third words: 0.7271926403045654\n",
            "False\n"
          ],
          "name": "stdout"
        }
      ]
    },
    {
      "cell_type": "code",
      "metadata": {
        "id": "Nx6HvcxxqMJr"
      },
      "source": [
        "import torch\n",
        "cuda = torch.device('cuda:0')\n",
        "\n",
        "def make_sentence(tokens):\n",
        "  s = ''\n",
        "  for token in tokens:\n",
        "    if ('##' in token):\n",
        "      s += token.replace('##', '')\n",
        "    else:\n",
        "      s += ' ' + token\n",
        "  return s\n",
        "\n",
        "def predict(target=\"Вася покачал головой\", pos=2, num_out=5):\n",
        "  inputs = tokenizer(target, return_tensors=\"pt\").to(cuda)\n",
        "  print(tokenizer.convert_ids_to_tokens(inputs['input_ids'][0]))\n",
        "  print(f\"Pos = {pos}\")\n",
        "  print()\n",
        "  outputs = model.forward(**inputs, output_hidden_states=True)\n",
        "  predictions = outputs.logits\n",
        "  predicted_index = torch.argsort(predictions[0, pos])\n",
        "  splited = target.split()\n",
        "  for i in range(num_out):\n",
        "      ind = predicted_index[-1-i]\n",
        "      res = inputs['input_ids'][0]\n",
        "      tokens_cnt = len(res)\n",
        "      res[pos] = ind.item()\n",
        "      tokens = tokenizer.convert_ids_to_tokens(res)\n",
        "      predicted_token = tokenizer.convert_ids_to_tokens([ind])[0]\n",
        "      print(f\"Index = {ind.item()}\")\n",
        "      print(f\"Value = {predictions[0, pos, ind].item()}\")\n",
        "      print(f\"Token = {predicted_token}\")\n",
        "      s = make_sentence(tokens)\n",
        "      print(s)\n",
        "      print()"
      ],
      "execution_count": null,
      "outputs": []
    },
    {
      "cell_type": "markdown",
      "metadata": {
        "id": "HVSk5KRFTw9X"
      },
      "source": [
        "## Загрузка датасета\n",
        "\n"
      ]
    },
    {
      "cell_type": "code",
      "metadata": {
        "id": "nywcjaFcUNDQ"
      },
      "source": [
        "import pandas as pd\n",
        "import numpy as np"
      ],
      "execution_count": null,
      "outputs": []
    },
    {
      "cell_type": "code",
      "metadata": {
        "id": "ArV3QxR5Tfec",
        "colab": {
          "base_uri": "https://localhost:8080/"
        },
        "outputId": "4c855777-31a2-403e-ef00-49e4b71dc212"
      },
      "source": [
        "from google.colab import drive\n",
        "drive.mount('/content/drive')\n",
        "\n",
        "url_facts4 = 'https://raw.githubusercontent.com/Koziev/NLP_Datasets/master/Samples/facts4.txt'\n",
        "url_facts5 = 'https://raw.githubusercontent.com/Koziev/NLP_Datasets/master/Samples/facts5.txt'\n",
        "url_facts6 = 'https://raw.githubusercontent.com/Koziev/NLP_Datasets/master/Samples/facts6.txt'\n",
        "url_facts7_1s = 'https://raw.githubusercontent.com/Koziev/NLP_Datasets/master/Samples/facts7_1s.txt'\n",
        "url_facts7_2s = 'https://raw.githubusercontent.com/Koziev/NLP_Datasets/master/Samples/facts7_2s.txt'\n",
        "url_big_data = '/content/drive/MyDrive/chatbot_project/data/data_concat.txt'\n",
        "url_lit = '/content/drive/MyDrive/chatbot_project/literature.txt'"
      ],
      "execution_count": null,
      "outputs": [
        {
          "output_type": "stream",
          "text": [
            "Mounted at /content/drive\n"
          ],
          "name": "stdout"
        }
      ]
    },
    {
      "cell_type": "code",
      "metadata": {
        "id": "-ECF6y3mTfbr"
      },
      "source": [
        "data_facts4 = pd.read_csv(url_facts4, sep=\"\\t\", header=None)\n",
        "data_facts5 = pd.read_csv(url_facts5, sep=\"\\t\", header=None)\n",
        "data_facts6 = pd.read_csv(url_facts6, sep=\"\\t\", header=None)\n",
        "data_facts7_1s = pd.read_csv(url_facts7_1s, sep=\"\\t\", header=None)\n",
        "data_facts7_2s = pd.read_csv(url_facts7_2s, sep=\"\\t\", header=None)\n",
        "data_lit = pd.read_csv(url_lit, sep=\"\\t\", header=None)\n",
        "# data_big = pd.read_csv(url_big_data, sep=\"\\t\", header=None)"
      ],
      "execution_count": null,
      "outputs": []
    },
    {
      "cell_type": "code",
      "metadata": {
        "id": "saK9svQZc9FG"
      },
      "source": [
        "data_big = pd.concat([data_facts4, data_facts5, data_facts6, data_facts7_1s, data_facts7_2s, data_lit])"
      ],
      "execution_count": null,
      "outputs": []
    },
    {
      "cell_type": "code",
      "metadata": {
        "colab": {
          "base_uri": "https://localhost:8080/",
          "height": 424
        },
        "id": "UDwjnhZVO6Ht",
        "outputId": "42c705bd-1069-4c6f-fcab-e2fdf3ecd1bc"
      },
      "source": [
        "data_big"
      ],
      "execution_count": null,
      "outputs": [
        {
          "output_type": "execute_result",
          "data": {
            "text/html": [
              "<div>\n",
              "<style scoped>\n",
              "    .dataframe tbody tr th:only-of-type {\n",
              "        vertical-align: middle;\n",
              "    }\n",
              "\n",
              "    .dataframe tbody tr th {\n",
              "        vertical-align: top;\n",
              "    }\n",
              "\n",
              "    .dataframe thead th {\n",
              "        text-align: right;\n",
              "    }\n",
              "</style>\n",
              "<table border=\"1\" class=\"dataframe\">\n",
              "  <thead>\n",
              "    <tr style=\"text-align: right;\">\n",
              "      <th></th>\n",
              "      <th>0</th>\n",
              "    </tr>\n",
              "  </thead>\n",
              "  <tbody>\n",
              "    <tr>\n",
              "      <th>0</th>\n",
              "      <td>Дик покачал головой</td>\n",
              "    </tr>\n",
              "    <tr>\n",
              "      <th>1</th>\n",
              "      <td>Яр покачал головой</td>\n",
              "    </tr>\n",
              "    <tr>\n",
              "      <th>2</th>\n",
              "      <td>Кат покачал головой</td>\n",
              "    </tr>\n",
              "    <tr>\n",
              "      <th>3</th>\n",
              "      <td>Вася покачал головой</td>\n",
              "    </tr>\n",
              "    <tr>\n",
              "      <th>4</th>\n",
              "      <td>Рон покачал головой</td>\n",
              "    </tr>\n",
              "    <tr>\n",
              "      <th>...</th>\n",
              "      <td>...</td>\n",
              "    </tr>\n",
              "    <tr>\n",
              "      <th>1825446</th>\n",
              "      <td>Они были мертвы, зародыши в</td>\n",
              "    </tr>\n",
              "    <tr>\n",
              "      <th>1825447</th>\n",
              "      <td>них были прикончены.</td>\n",
              "    </tr>\n",
              "    <tr>\n",
              "      <th>1825448</th>\n",
              "      <td>Необозримые пространства земли еще  долго гнил...</td>\n",
              "    </tr>\n",
              "    <tr>\n",
              "      <th>1825449</th>\n",
              "      <td>крокодилов  и  змей,  вызванных  к  жизни таин...</td>\n",
              "    </tr>\n",
              "    <tr>\n",
              "      <th>1825450</th>\n",
              "      <td>Герцена в гениальных  глазах  лучом,</td>\n",
              "    </tr>\n",
              "  </tbody>\n",
              "</table>\n",
              "<p>2206410 rows × 1 columns</p>\n",
              "</div>"
            ],
            "text/plain": [
              "                                                         0\n",
              "0                                      Дик покачал головой\n",
              "1                                       Яр покачал головой\n",
              "2                                      Кат покачал головой\n",
              "3                                     Вася покачал головой\n",
              "4                                      Рон покачал головой\n",
              "...                                                    ...\n",
              "1825446                        Они были мертвы, зародыши в\n",
              "1825447                               них были прикончены.\n",
              "1825448  Необозримые пространства земли еще  долго гнил...\n",
              "1825449  крокодилов  и  змей,  вызванных  к  жизни таин...\n",
              "1825450               Герцена в гениальных  глазах  лучом,\n",
              "\n",
              "[2206410 rows x 1 columns]"
            ]
          },
          "metadata": {
            "tags": []
          },
          "execution_count": 8
        }
      ]
    },
    {
      "cell_type": "code",
      "metadata": {
        "id": "5gSQgIHWZQMy"
      },
      "source": [
        "# порежем датасет, иначе очень долго обучаться и слишком много однотипных вариантов\n",
        "data = data_big\n",
        "msk = np.random.rand(len(data)) < 0.2\n",
        "data = data[msk]"
      ],
      "execution_count": null,
      "outputs": []
    },
    {
      "cell_type": "code",
      "metadata": {
        "colab": {
          "base_uri": "https://localhost:8080/"
        },
        "id": "JQNCdgx6TfY2",
        "outputId": "1b902af0-cd80-4225-bf0c-79e0a4434da4"
      },
      "source": [
        "train_part = 0.9\n",
        "\n",
        "msk = np.random.rand(len(data)) < train_part\n",
        "data_train = data[msk] \n",
        "data_test = data[~msk]\n",
        "\n",
        "print(\"train len =\", len(data_train), \" test len =\", len(data_test))"
      ],
      "execution_count": null,
      "outputs": [
        {
          "output_type": "stream",
          "text": [
            "train len = 396693  test len = 44533\n"
          ],
          "name": "stdout"
        }
      ]
    },
    {
      "cell_type": "code",
      "metadata": {
        "id": "L8R7BYbxTfWM"
      },
      "source": [
        "from datasets import Dataset\n",
        "\n",
        "dataset_train = Dataset.from_pandas(data_train)\n",
        "dataset_eval = Dataset.from_pandas(data_test)\n",
        "\n",
        "dataset_train = dataset_train.shuffle()\n",
        "dataset_eval = dataset_eval.shuffle()"
      ],
      "execution_count": null,
      "outputs": []
    },
    {
      "cell_type": "code",
      "metadata": {
        "colab": {
          "base_uri": "https://localhost:8080/"
        },
        "id": "PmQt4cDLYAB7",
        "outputId": "315b41bd-00aa-49e5-b063-810124dcf008"
      },
      "source": [
        "dataset_train"
      ],
      "execution_count": null,
      "outputs": [
        {
          "output_type": "execute_result",
          "data": {
            "text/plain": [
              "Dataset({\n",
              "    features: ['0', '__index_level_0__'],\n",
              "    num_rows: 396693\n",
              "})"
            ]
          },
          "metadata": {
            "tags": []
          },
          "execution_count": 12
        }
      ]
    },
    {
      "cell_type": "code",
      "metadata": {
        "id": "FWsU7avJTfQa"
      },
      "source": [
        "def tokenize_function(examples):\n",
        "    res = tokenizer(examples[\"0\"])\n",
        "    if len(res['input_ids']) > 30:\n",
        "        for name in res:\n",
        "            res[name] = res[name][:30] + [res[name][-1]]\n",
        "    return res"
      ],
      "execution_count": null,
      "outputs": []
    },
    {
      "cell_type": "code",
      "metadata": {
        "colab": {
          "base_uri": "https://localhost:8080/",
          "height": 509,
          "referenced_widgets": [
            "425c436da08146fab00a41312b06d139",
            "6a0f0986606545fd9203e111740e723d",
            "1a76c56da7694c5ca99790d7a7164656",
            "b1846ca1441d435590edd9df4b709069",
            "9cd7bebfd0e34f68a72429a88696eafa",
            "7545db0738b84a20a619cff15258c527",
            "9b94adf65dfc41919953532e7c20599b",
            "b09ea6e274ad44e98cb1d54b692b9b91",
            "5609e669bcf1427191a2ce9f3432ee12",
            "d3b6176c7d5e4d8facd016ebdae00831",
            "d427a86eeb2440b6a53031a8837d7beb",
            "8877e6f1100d4b06acf5c2e6623ce0a6",
            "a03ad8af151243dd9d248ba3e435e253",
            "7bfd6dedf4d54226b80ca805083a42cd",
            "c8abcd0d6a954b56aa85f2815d38060c",
            "9d2da0842cf94f4a8f4dec9fc10e9fd3",
            "1a3e8263b8fa4c22bdf7776a646c1080",
            "b5feccac7d974263b466e3c0b5cd1048",
            "d2976a0e3c63414cb7bc511e94d8a672",
            "9e842388b7744430b4a53f5ef7a82ddf",
            "1f81528ac3e64052a2246d3c702ad738",
            "9439d85e89794c24801a08b91295316a",
            "785741f3df174b82addb79c44b246d2d",
            "214ff6724679437989c762a1e4bc3c30",
            "973943d0fa0e4dd2bbfacbb658c3ea31",
            "2f5c6417e8e04d4e944c699e13083900",
            "76cf352463e0461bbc7a2026b4470cfc",
            "282040dede35458c90968ddafcac0dae",
            "d7071f8d3a1e42f2884b86e5e2e54eab",
            "552914cebe8849c48619fa6ce81965b0",
            "2aba686e881842a984fa0ee8431716f9",
            "e947b3dbfebb4ec9a204cc8c7d423b65",
            "fc6d2b0b189b4e8fa1dacd66dffece3a",
            "943bcdc888f44939a630bfe11744c959",
            "5744885d5772458bac208262daea177d",
            "6b096dbd28724e7baaa05dad3940481f",
            "cffd17ded81e41348bf3867824fa4a78",
            "d52f306e9b2848c6a78125c8d9213540",
            "34e871a012c747c78415a58eaa3f7eb9",
            "babc4064a5e44450a6ec16a6ef93b538",
            "eb3937a40380440f819ae331bd70363f",
            "f1836e7c768b40369c6bcdfb356cd7c6",
            "f0d5552318854f0599f5dea4fb0db3b1",
            "8d029cee646a484eadbb371630b6a7de",
            "aa1ada3e8515448cb79c685f7c0603ff",
            "76b7a6338ca842a9950c90af1e418008",
            "483e8b9912464fd5901bedffdc7dc390",
            "642df5670bcb45f29e39e0061c92219b",
            "5d9756ba569540b7b5a8c75e80cb498d",
            "04b75874f0b5408aa6305f31e5f58c28",
            "ba48b0d5c6db4b78bfb8c94269022cb5",
            "7e18dcb2eda742e09fb0ff517e2bb544",
            "add6b58279ce40b2872963b4bbce27d6",
            "48d4e304645044099555e7687644a447",
            "e88f520ba0974f2db82cb02723166f96",
            "ef5b243e54ec450fa16126bdd1404b15",
            "0a1628cfc870463097a68b37e27831d6",
            "e37064284a534012ad49a9a752453faf",
            "9b27027da08946a296824c51de9643b4",
            "a26ef17691d04431837f78cc553dea1e",
            "7952d26e9e624ac5aa6f6fb84ff9cdf3",
            "10c00e1e7f0940d8a8ea41bf9059eb1a",
            "336c41f86b864cdebdefa39a362cac84",
            "93d236c3cda64e70bfe62e4a59452c0f"
          ]
        },
        "id": "QF4kvEKNTfJi",
        "outputId": "845fcc43-53b2-441e-e944-df718270650f"
      },
      "source": [
        "tokenized_dataset_train = dataset_train.map(tokenize_function, batched=False, num_proc=4, remove_columns=[\"0\", \"__index_level_0__\"])\n",
        "tokenized_dataset_eval = dataset_eval.map(tokenize_function, batched=False, num_proc=4, remove_columns=[\"0\", \"__index_level_0__\"])"
      ],
      "execution_count": null,
      "outputs": [
        {
          "output_type": "stream",
          "text": [
            " "
          ],
          "name": "stdout"
        },
        {
          "output_type": "display_data",
          "data": {
            "application/vnd.jupyter.widget-view+json": {
              "model_id": "425c436da08146fab00a41312b06d139",
              "version_minor": 0,
              "version_major": 2
            },
            "text/plain": [
              "HBox(children=(FloatProgress(value=0.0, description='#0', max=99174.0, style=ProgressStyle(description_width='…"
            ]
          },
          "metadata": {
            "tags": []
          }
        },
        {
          "output_type": "stream",
          "text": [
            " "
          ],
          "name": "stdout"
        },
        {
          "output_type": "display_data",
          "data": {
            "application/vnd.jupyter.widget-view+json": {
              "model_id": "5609e669bcf1427191a2ce9f3432ee12",
              "version_minor": 0,
              "version_major": 2
            },
            "text/plain": [
              "HBox(children=(FloatProgress(value=0.0, description='#2', max=99173.0, style=ProgressStyle(description_width='…"
            ]
          },
          "metadata": {
            "tags": []
          }
        },
        {
          "output_type": "stream",
          "text": [
            "  "
          ],
          "name": "stdout"
        },
        {
          "output_type": "display_data",
          "data": {
            "application/vnd.jupyter.widget-view+json": {
              "model_id": "1a3e8263b8fa4c22bdf7776a646c1080",
              "version_minor": 0,
              "version_major": 2
            },
            "text/plain": [
              "HBox(children=(FloatProgress(value=0.0, description='#1', max=99173.0, style=ProgressStyle(description_width='…"
            ]
          },
          "metadata": {
            "tags": []
          }
        },
        {
          "output_type": "display_data",
          "data": {
            "application/vnd.jupyter.widget-view+json": {
              "model_id": "973943d0fa0e4dd2bbfacbb658c3ea31",
              "version_minor": 0,
              "version_major": 2
            },
            "text/plain": [
              "HBox(children=(FloatProgress(value=0.0, description='#3', max=99173.0, style=ProgressStyle(description_width='…"
            ]
          },
          "metadata": {
            "tags": []
          }
        },
        {
          "output_type": "stream",
          "text": [
            "\n",
            "\n",
            "\n",
            "\n",
            "   "
          ],
          "name": "stdout"
        },
        {
          "output_type": "display_data",
          "data": {
            "application/vnd.jupyter.widget-view+json": {
              "model_id": "fc6d2b0b189b4e8fa1dacd66dffece3a",
              "version_minor": 0,
              "version_major": 2
            },
            "text/plain": [
              "HBox(children=(FloatProgress(value=0.0, description='#0', max=11134.0, style=ProgressStyle(description_width='…"
            ]
          },
          "metadata": {
            "tags": []
          }
        },
        {
          "output_type": "display_data",
          "data": {
            "application/vnd.jupyter.widget-view+json": {
              "model_id": "eb3937a40380440f819ae331bd70363f",
              "version_minor": 0,
              "version_major": 2
            },
            "text/plain": [
              "HBox(children=(FloatProgress(value=0.0, description='#1', max=11133.0, style=ProgressStyle(description_width='…"
            ]
          },
          "metadata": {
            "tags": []
          }
        },
        {
          "output_type": "stream",
          "text": [
            " "
          ],
          "name": "stdout"
        },
        {
          "output_type": "display_data",
          "data": {
            "application/vnd.jupyter.widget-view+json": {
              "model_id": "5d9756ba569540b7b5a8c75e80cb498d",
              "version_minor": 0,
              "version_major": 2
            },
            "text/plain": [
              "HBox(children=(FloatProgress(value=0.0, description='#2', max=11133.0, style=ProgressStyle(description_width='…"
            ]
          },
          "metadata": {
            "tags": []
          }
        },
        {
          "output_type": "display_data",
          "data": {
            "application/vnd.jupyter.widget-view+json": {
              "model_id": "0a1628cfc870463097a68b37e27831d6",
              "version_minor": 0,
              "version_major": 2
            },
            "text/plain": [
              "HBox(children=(FloatProgress(value=0.0, description='#3', max=11133.0, style=ProgressStyle(description_width='…"
            ]
          },
          "metadata": {
            "tags": []
          }
        },
        {
          "output_type": "stream",
          "text": [
            "\n",
            "\n",
            "\n",
            "\n"
          ],
          "name": "stdout"
        }
      ]
    },
    {
      "cell_type": "code",
      "metadata": {
        "colab": {
          "base_uri": "https://localhost:8080/"
        },
        "id": "kowMvWFTTe_K",
        "outputId": "e9b6c466-95e5-477d-c0ac-5ddbde7aaab2"
      },
      "source": [
        "tokenized_dataset_train"
      ],
      "execution_count": null,
      "outputs": [
        {
          "output_type": "execute_result",
          "data": {
            "text/plain": [
              "Dataset({\n",
              "    features: ['attention_mask', 'input_ids', 'token_type_ids'],\n",
              "    num_rows: 396693\n",
              "})"
            ]
          },
          "metadata": {
            "tags": []
          },
          "execution_count": 15
        }
      ]
    },
    {
      "cell_type": "markdown",
      "metadata": {
        "id": "zDXZGoLyZ4eZ"
      },
      "source": [
        "## Дообучение"
      ]
    },
    {
      "cell_type": "markdown",
      "metadata": {
        "id": "gSRWOdScaEB9"
      },
      "source": [
        "### перезагрузка модели "
      ]
    },
    {
      "cell_type": "code",
      "metadata": {
        "id": "hWUqfiB2WD7r"
      },
      "source": [
        "model_begin.save_pretrained('./saved_model')"
      ],
      "execution_count": null,
      "outputs": []
    },
    {
      "cell_type": "code",
      "metadata": {
        "id": "X1LBc17BWD1A"
      },
      "source": [
        "from transformers import AutoModelForMaskedLM\n",
        "# model = AutoModelForMaskedLM.from_pretrained('./saved_model')"
      ],
      "execution_count": null,
      "outputs": []
    },
    {
      "cell_type": "code",
      "metadata": {
        "id": "S9vrNKVqnTSU"
      },
      "source": [
        "model = AutoModelForMaskedLM.from_pretrained('/content/drive/MyDrive/chatbot_project/models/tuned0')"
      ],
      "execution_count": null,
      "outputs": []
    },
    {
      "cell_type": "markdown",
      "metadata": {
        "id": "ADq7XjZea98b"
      },
      "source": [
        "### заморозка\n",
        "\n"
      ]
    },
    {
      "cell_type": "markdown",
      "metadata": {
        "id": "n195zeqAD49A"
      },
      "source": [
        "#### замораживаем параметры"
      ]
    },
    {
      "cell_type": "code",
      "metadata": {
        "id": "Gm5uO4x2a9yL"
      },
      "source": [
        "for param in model.base_model.parameters():\n",
        "     param.requires_grad = False"
      ],
      "execution_count": null,
      "outputs": []
    },
    {
      "cell_type": "code",
      "metadata": {
        "id": "dnrPZiQsiA9G"
      },
      "source": [
        "model.cls.predictions.decoder.weight = torch.nn.parameter.Parameter(\\\n",
        "                          model.cls.predictions.decoder.weight.clone().detach()\\\n",
        "                                                                    )"
      ],
      "execution_count": null,
      "outputs": []
    },
    {
      "cell_type": "code",
      "metadata": {
        "id": "JSfMOphNiQLw"
      },
      "source": [
        "def check(model):\n",
        "    for param in model.named_parameters():\n",
        "        print('1' if param[1].requires_grad else '0', param[0])"
      ],
      "execution_count": null,
      "outputs": []
    },
    {
      "cell_type": "markdown",
      "metadata": {
        "id": "Im-hKwASwLxx"
      },
      "source": [
        "#### custom trainer"
      ]
    },
    {
      "cell_type": "markdown",
      "metadata": {
        "id": "U-vrKGeJlHk0"
      },
      "source": [
        "Всё тут написанное ради кастомного разбиения на батчи, чтобы не было [PAD] вместо половины токенов.\n",
        "\n",
        "Код взять с гитхаба huggingface и модифицирован под задачу.\n",
        "Основная функция get_indices, а остально обёртки для совместимости с библиотекой."
      ]
    },
    {
      "cell_type": "code",
      "metadata": {
        "id": "nYsbIfBza9uh"
      },
      "source": [
        "from transformers import Trainer, TrainingArguments\n",
        "from torch.utils.data.dataloader import DataLoader"
      ],
      "execution_count": null,
      "outputs": []
    },
    {
      "cell_type": "code",
      "metadata": {
        "id": "r5Z5NPura9on"
      },
      "source": [
        "from transformers import DataCollatorForLanguageModeling\n",
        "\n",
        "data_collator = DataCollatorForLanguageModeling(tokenizer=tokenizer, mlm_probability=0.15)"
      ],
      "execution_count": null,
      "outputs": []
    },
    {
      "cell_type": "code",
      "metadata": {
        "id": "Jpq-rHGLwPgw"
      },
      "source": [
        "# from https://github.com/huggingface/transformers/blob/master/src/transformers/trainer_pt_utils.py\n",
        "# тут лежат подобные функции от huggingface\n",
        "# их ещё не добавили в библиотеку и вообще там странный код с другим предназначением\n",
        "\n",
        "import math\n",
        "from torch.utils.data.distributed import DistributedSampler\n",
        "from typing import Iterator, List, Optional, Union\n",
        "\n",
        "def get_indices(lengths, batch_size, generator=None):\n",
        "    # применяем случайную перестановку к датасету и сортируем по длине\n",
        "    indices = torch.randperm(len(lengths), generator=generator)\n",
        "    len_sorted = list(sorted(indices.tolist(), key=lambda i: lengths[i], reverse=True)) \n",
        "\n",
        "    # делим на батчи (почти во всех батчах длина одинаковая)\n",
        "    batches = [len_sorted[i : i + batch_size] for i in range(0, len(lengths), batch_size)]\n",
        "    batches_cnt = len(batches)\n",
        "  \n",
        "    # применяем случайную перестановку к батчам\n",
        "    # в конец докидывается последний батч, так как он может быть меньше batch_size\n",
        "    batch_indices = torch.randperm(batches_cnt - 1, generator=generator)\n",
        "    rand_batches = [batches[batch_ind] for batch_ind in batch_indices]\n",
        "    res = sum(rand_batches, []) + batches[batches_cnt - 1]\n",
        "    return res \n",
        "\n",
        "class DistributedLengthSortedSampler(DistributedSampler):\n",
        "    # Copied and adapted from PyTorch DistributedSampler.\n",
        "    # https://github.com/pytorch/pytorch/blob/master/torch/utils/data/distributed.py\n",
        "\n",
        "    def __init__(\n",
        "        self,\n",
        "        dataset: Dataset,\n",
        "        batch_size: int,\n",
        "        num_replicas: Optional[int] = None,\n",
        "        rank: Optional[int] = None,\n",
        "        seed: int = 0,\n",
        "        drop_last: bool = False,\n",
        "        lengths: Optional[List[int]] = None,\n",
        "    ):\n",
        "        if num_replicas is None:\n",
        "            if not dist.is_available():\n",
        "                raise RuntimeError(\"Requires distributed package to be available\")\n",
        "            num_replicas = dist.get_world_size()\n",
        "        if rank is None:\n",
        "            if not dist.is_available():\n",
        "                raise RuntimeError(\"Requires distributed package to be available\")\n",
        "            rank = dist.get_rank()\n",
        "        self.dataset = dataset\n",
        "        self.batch_size = batch_size\n",
        "        self.num_replicas = num_replicas\n",
        "        self.rank = rank\n",
        "        self.epoch = 0\n",
        "        self.drop_last = drop_last\n",
        "\n",
        "        # If the dataset length is evenly divisible by # of replicas, then there\n",
        "        # is no need to drop any data, since the dataset will be split equally.\n",
        "        if self.drop_last and len(self.dataset) % self.num_replicas != 0:\n",
        "            # Split to nearest available length that is evenly divisible.\n",
        "            # This is to ensure each rank receives the same amount of data when\n",
        "            # using this Sampler.\n",
        "            self.num_samples = math.ceil((len(self.dataset) - self.num_replicas) / self.num_replicas)\n",
        "        else:\n",
        "            self.num_samples = math.ceil(len(self.dataset) / self.num_replicas)\n",
        "        self.total_size = self.num_samples * self.num_replicas\n",
        "        self.seed = seed\n",
        "\n",
        "        if lengths is None:\n",
        "            if not isinstance(dataset[0], dict) or \"input_ids\" not in dataset[0]:\n",
        "                raise ValueError(\n",
        "                    \"Can only automatically infer lengths for datasets whose items are dictionaries with an \"\n",
        "                    \"'input_ids' key.\"\n",
        "                )\n",
        "            lengths = [len(feature[\"input_ids\"]) for feature in dataset]\n",
        "        self.lengths = lengths\n",
        "\n",
        "    def __iter__(self) -> Iterator:\n",
        "        # Deterministically shuffle based on epoch and seed\n",
        "        g = torch.Generator()\n",
        "        g.manual_seed(self.seed + self.epoch)\n",
        "        indices = get_indices(self.lengths, self.batch_size, generator=g)\n",
        "\n",
        "        if not self.drop_last:\n",
        "            # add extra samples to make it evenly divisible\n",
        "            indices += indices[: (self.total_size - len(indices))]\n",
        "        else:\n",
        "            # remove tail of data to make it evenly divisible.\n",
        "            indices = indices[: self.total_size]\n",
        "        assert len(indices) == self.total_size\n",
        "\n",
        "        # subsample\n",
        "        indices = indices[self.rank : self.total_size : self.num_replicas]\n",
        "        assert len(indices) == self.num_samples\n",
        "\n",
        "        return iter(indices)"
      ],
      "execution_count": null,
      "outputs": []
    },
    {
      "cell_type": "code",
      "metadata": {
        "id": "mhjqe95RMyHK"
      },
      "source": [
        "# https://huggingface.co/transformers/master/_modules/transformers/trainer.html#Trainer.get_train_dataloader\n",
        "\n",
        "from typing import Optional\n",
        "from transformers.training_args import ParallelMode\n",
        "import torch\n",
        "class CustomTrainer(Trainer):\n",
        "    def get_processes_info(self):\n",
        "        # Gather the number of processes and this process index.\n",
        "        if self.args.parallel_mode == ParallelMode.TPU:\n",
        "            num_processes = xm.xrt_world_size()\n",
        "            process_index = xm.get_ordinal()\n",
        "        elif (\n",
        "            self.args.parallel_mode == ParallelMode.DISTRIBUTED\n",
        "        ):\n",
        "            num_processes = dist.get_world_size()\n",
        "            process_index = dist.get_rank()\n",
        "        else:\n",
        "            num_processes = 1\n",
        "            process_index = 0\n",
        "\n",
        "        return num_processes, process_index\n",
        "\n",
        "    def get_train_dataloader(self) -> DataLoader:\n",
        "        if self.train_dataset is None:\n",
        "            raise ValueError(\"Trainer: training requires a train_dataset.\")\n",
        "\n",
        "        num_processes, process_index = self.get_processes_info()\n",
        "\n",
        "        train_sampler = DistributedLengthSortedSampler(\n",
        "            self.train_dataset, \n",
        "            self.args.train_batch_size, \n",
        "            num_replicas=num_processes, \n",
        "            rank=process_index\n",
        "        )\n",
        "\n",
        "        return DataLoader(\n",
        "            self.train_dataset,\n",
        "            batch_size=self.args.train_batch_size,\n",
        "            sampler=train_sampler,\n",
        "            shuffle=False,\n",
        "            collate_fn=self.data_collator,\n",
        "            drop_last=self.args.dataloader_drop_last,\n",
        "            num_workers=self.args.dataloader_num_workers,\n",
        "        )\n",
        "\n",
        "    def get_eval_dataloader(self, eval_dataset: Optional[Dataset] = None) -> DataLoader:\n",
        "        if eval_dataset is None and self.eval_dataset is None:\n",
        "            raise ValueError(\"Trainer: evaluation requires an eval_dataset.\")\n",
        "        elif eval_dataset is not None and not isinstance(eval_dataset, collections.abc.Sized):\n",
        "            raise ValueError(\"eval_dataset must implement __len__\")\n",
        "        elif isinstance(eval_dataset, Dataset):\n",
        "            self._remove_unused_columns(eval_dataset, description=\"evaluation\")\n",
        "        eval_dataset = eval_dataset if eval_dataset is not None else self.eval_dataset\n",
        "\n",
        "        num_processes, process_index = self.get_processes_info()\n",
        "\n",
        "        eval_sampler = DistributedLengthSortedSampler(\n",
        "            eval_dataset, \n",
        "            self.args.eval_batch_size, \n",
        "            num_replicas=num_processes, \n",
        "            rank=process_index\n",
        "        )\n",
        "\n",
        "        return DataLoader(\n",
        "            eval_dataset,\n",
        "            sampler=eval_sampler,\n",
        "            batch_size=self.args.eval_batch_size,\n",
        "            collate_fn=self.data_collator,\n",
        "            drop_last=self.args.dataloader_drop_last,\n",
        "            num_workers=self.args.dataloader_num_workers,\n",
        "            pin_memory=self.args.dataloader_pin_memory,\n",
        "        )"
      ],
      "execution_count": null,
      "outputs": []
    },
    {
      "cell_type": "markdown",
      "metadata": {
        "id": "6dY-6zPHjxak"
      },
      "source": [
        "#### обучение1"
      ]
    },
    {
      "cell_type": "code",
      "metadata": {
        "id": "OZiu3g7rlyg-"
      },
      "source": [
        "training_args = TrainingArguments(\n",
        "    output_dir='./results',          # output directory\n",
        "    evaluation_strategy = \"steps\",   \n",
        "    num_train_epochs=3,              # total number of training epochs\n",
        "    learning_rate=0.00005,     #5e-5,  0.00005\n",
        "    overwrite_output_dir=True, \n",
        "    logging_steps = 1000,\n",
        "    save_steps = 9000,\n",
        "    weight_decay=0.01,               # strength of weight decay\n",
        "    warmup_steps=3000,\n",
        "    per_device_train_batch_size=64,\n",
        "    per_device_eval_batch_size=64,\n",
        ")"
      ],
      "execution_count": null,
      "outputs": []
    },
    {
      "cell_type": "code",
      "metadata": {
        "id": "h_JwwLn-M8Pv"
      },
      "source": [
        "cTrainer = CustomTrainer(model=model,\n",
        "    args=training_args,\n",
        "    train_dataset=tokenized_dataset_train,\n",
        "    eval_dataset=tokenized_dataset_eval,\n",
        "    data_collator=data_collator,\n",
        ")"
      ],
      "execution_count": null,
      "outputs": []
    },
    {
      "cell_type": "code",
      "metadata": {
        "colab": {
          "base_uri": "https://localhost:8080/",
          "height": 615
        },
        "id": "jnKLbGEq4SrZ",
        "outputId": "396e8fe5-07da-463e-cfe8-5668e7a09896"
      },
      "source": [
        "cTrainer.train()"
      ],
      "execution_count": null,
      "outputs": [
        {
          "output_type": "display_data",
          "data": {
            "text/html": [
              "\n",
              "    <div>\n",
              "        <style>\n",
              "            /* Turns off some styling */\n",
              "            progress {\n",
              "                /* gets rid of default border in Firefox and Opera. */\n",
              "                border: none;\n",
              "                /* Needs to be in here for Safari polyfill so background images work as expected. */\n",
              "                background-size: auto;\n",
              "            }\n",
              "        </style>\n",
              "      \n",
              "      <progress value='16089' max='16089' style='width:300px; height:20px; vertical-align: middle;'></progress>\n",
              "      [16089/16089 23:30, Epoch 3/3]\n",
              "    </div>\n",
              "    <table border=\"1\" class=\"dataframe\">\n",
              "  <thead>\n",
              "    <tr style=\"text-align: left;\">\n",
              "      <th>Step</th>\n",
              "      <th>Training Loss</th>\n",
              "      <th>Validation Loss</th>\n",
              "      <th>Runtime</th>\n",
              "      <th>Samples Per Second</th>\n",
              "    </tr>\n",
              "  </thead>\n",
              "  <tbody>\n",
              "    <tr>\n",
              "      <td>1000</td>\n",
              "      <td>11.305600</td>\n",
              "      <td>10.797035</td>\n",
              "      <td>20.574000</td>\n",
              "      <td>1834.066000</td>\n",
              "    </tr>\n",
              "    <tr>\n",
              "      <td>2000</td>\n",
              "      <td>10.658100</td>\n",
              "      <td>10.528041</td>\n",
              "      <td>20.554000</td>\n",
              "      <td>1835.848000</td>\n",
              "    </tr>\n",
              "    <tr>\n",
              "      <td>3000</td>\n",
              "      <td>10.441400</td>\n",
              "      <td>10.333051</td>\n",
              "      <td>20.568900</td>\n",
              "      <td>1834.520000</td>\n",
              "    </tr>\n",
              "    <tr>\n",
              "      <td>4000</td>\n",
              "      <td>10.263500</td>\n",
              "      <td>10.141434</td>\n",
              "      <td>20.561500</td>\n",
              "      <td>1835.178000</td>\n",
              "    </tr>\n",
              "    <tr>\n",
              "      <td>5000</td>\n",
              "      <td>10.099300</td>\n",
              "      <td>10.007213</td>\n",
              "      <td>20.577100</td>\n",
              "      <td>1833.784000</td>\n",
              "    </tr>\n",
              "    <tr>\n",
              "      <td>6000</td>\n",
              "      <td>10.003700</td>\n",
              "      <td>9.938433</td>\n",
              "      <td>20.599200</td>\n",
              "      <td>1831.819000</td>\n",
              "    </tr>\n",
              "    <tr>\n",
              "      <td>7000</td>\n",
              "      <td>9.925300</td>\n",
              "      <td>9.861758</td>\n",
              "      <td>20.571300</td>\n",
              "      <td>1834.299000</td>\n",
              "    </tr>\n",
              "    <tr>\n",
              "      <td>8000</td>\n",
              "      <td>9.898600</td>\n",
              "      <td>9.777792</td>\n",
              "      <td>20.576300</td>\n",
              "      <td>1833.860000</td>\n",
              "    </tr>\n",
              "    <tr>\n",
              "      <td>9000</td>\n",
              "      <td>9.783100</td>\n",
              "      <td>9.717603</td>\n",
              "      <td>20.571400</td>\n",
              "      <td>1834.291000</td>\n",
              "    </tr>\n",
              "    <tr>\n",
              "      <td>10000</td>\n",
              "      <td>9.743300</td>\n",
              "      <td>9.701392</td>\n",
              "      <td>20.565900</td>\n",
              "      <td>1834.786000</td>\n",
              "    </tr>\n",
              "    <tr>\n",
              "      <td>11000</td>\n",
              "      <td>9.679900</td>\n",
              "      <td>9.641347</td>\n",
              "      <td>20.570800</td>\n",
              "      <td>1834.346000</td>\n",
              "    </tr>\n",
              "    <tr>\n",
              "      <td>12000</td>\n",
              "      <td>9.677600</td>\n",
              "      <td>9.609688</td>\n",
              "      <td>20.581600</td>\n",
              "      <td>1833.386000</td>\n",
              "    </tr>\n",
              "    <tr>\n",
              "      <td>13000</td>\n",
              "      <td>9.617900</td>\n",
              "      <td>9.612021</td>\n",
              "      <td>20.569100</td>\n",
              "      <td>1834.503000</td>\n",
              "    </tr>\n",
              "    <tr>\n",
              "      <td>14000</td>\n",
              "      <td>9.627900</td>\n",
              "      <td>9.578172</td>\n",
              "      <td>20.572900</td>\n",
              "      <td>1834.161000</td>\n",
              "    </tr>\n",
              "    <tr>\n",
              "      <td>15000</td>\n",
              "      <td>9.643700</td>\n",
              "      <td>9.565864</td>\n",
              "      <td>20.585500</td>\n",
              "      <td>1833.040000</td>\n",
              "    </tr>\n",
              "    <tr>\n",
              "      <td>16000</td>\n",
              "      <td>9.646200</td>\n",
              "      <td>9.582111</td>\n",
              "      <td>20.590500</td>\n",
              "      <td>1832.593000</td>\n",
              "    </tr>\n",
              "  </tbody>\n",
              "</table><p>"
            ],
            "text/plain": [
              "<IPython.core.display.HTML object>"
            ]
          },
          "metadata": {
            "tags": []
          }
        },
        {
          "output_type": "execute_result",
          "data": {
            "text/plain": [
              "TrainOutput(global_step=16089, training_loss=9.999799261899872, metrics={'train_runtime': 1419.7196, 'train_samples_per_second': 11.333, 'total_flos': 9151684899030360, 'epoch': 3.0})"
            ]
          },
          "metadata": {
            "tags": []
          },
          "execution_count": 99
        }
      ]
    },
    {
      "cell_type": "code",
      "metadata": {
        "id": "zYR0flHSnJ62"
      },
      "source": [
        "# cTrainer.save_model('/content/drive/MyDrive/chatbot_project/models/tuned0')"
      ],
      "execution_count": null,
      "outputs": []
    },
    {
      "cell_type": "code",
      "metadata": {
        "colab": {
          "base_uri": "https://localhost:8080/"
        },
        "id": "0-i4rrkHqHmj",
        "outputId": "c4dbfdf5-b8f9-4dc7-f0d2-86c6b641398c"
      },
      "source": [
        "predict(\"Вася покачал головой\", 3)"
      ],
      "execution_count": null,
      "outputs": [
        {
          "output_type": "stream",
          "text": [
            "['[CLS]', 'вас', '##я', 'пока', '##чал', 'голово', '##и', '[SEP]']\n",
            "Pos = 3\n",
            "\n",
            "Index = 852\n",
            "Value = 6.0784010887146\n",
            "Token = ##и\n",
            " [CLS] васяичал головои [SEP]\n",
            "\n",
            "Index = 851\n",
            "Value = 4.550236225128174\n",
            "Token = и\n",
            " [CLS] вася ичал головои [SEP]\n",
            "\n",
            "Index = 845\n",
            "Value = 4.23728084564209\n",
            "Token = в\n",
            " [CLS] вася вчал головои [SEP]\n",
            "\n",
            "Index = 869\n",
            "Value = 3.987553119659424\n",
            "Token = с\n",
            " [CLS] вася счал головои [SEP]\n",
            "\n",
            "Index = 1516\n",
            "Value = 3.4218595027923584\n",
            "Token = по\n",
            " [CLS] вася почал головои [SEP]\n",
            "\n"
          ],
          "name": "stdout"
        }
      ]
    },
    {
      "cell_type": "markdown",
      "metadata": {
        "id": "ySICxyvVwIJa"
      },
      "source": [
        "### разморозка"
      ]
    },
    {
      "cell_type": "code",
      "metadata": {
        "id": "NiZaikYIMhOP"
      },
      "source": [
        "for param in model.base_model.parameters():\n",
        "     param.requires_grad = True"
      ],
      "execution_count": null,
      "outputs": []
    },
    {
      "cell_type": "markdown",
      "metadata": {
        "id": "f20SidKZRT1r"
      },
      "source": [
        "#### обучение2"
      ]
    },
    {
      "cell_type": "code",
      "metadata": {
        "id": "h97COBkcc7a2"
      },
      "source": [
        "training_args = TrainingArguments(\n",
        "    output_dir='./results',          # output directory\n",
        "    evaluation_strategy = \"steps\",   \n",
        "    num_train_epochs=1,              # total number of training epochs\n",
        "    learning_rate=0.00005,\n",
        "    overwrite_output_dir=True, \n",
        "    logging_steps = 1000,\n",
        "    save_steps = 9000,\n",
        "    weight_decay=0.01,               # strength of weight decay\n",
        "    per_device_train_batch_size=64,\n",
        "    per_device_eval_batch_size=64,\n",
        ")\n",
        "cTrainer = CustomTrainer(model=model,\n",
        "    args=training_args,\n",
        "    train_dataset=tokenized_dataset_train,\n",
        "    eval_dataset=tokenized_dataset_eval,\n",
        "    data_collator=data_collator,\n",
        ")"
      ],
      "execution_count": null,
      "outputs": []
    },
    {
      "cell_type": "code",
      "metadata": {
        "colab": {
          "base_uri": "https://localhost:8080/",
          "height": 302
        },
        "id": "50XvY3j0YoFm",
        "outputId": "a1b11b5e-45a3-4428-af3b-26242ecd39a5"
      },
      "source": [
        "cTrainer.train()"
      ],
      "execution_count": null,
      "outputs": [
        {
          "output_type": "display_data",
          "data": {
            "text/html": [
              "\n",
              "    <div>\n",
              "        <style>\n",
              "            /* Turns off some styling */\n",
              "            progress {\n",
              "                /* gets rid of default border in Firefox and Opera. */\n",
              "                border: none;\n",
              "                /* Needs to be in here for Safari polyfill so background images work as expected. */\n",
              "                background-size: auto;\n",
              "            }\n",
              "        </style>\n",
              "      \n",
              "      <progress value='6199' max='6199' style='width:300px; height:20px; vertical-align: middle;'></progress>\n",
              "      [6199/6199 47:59, Epoch 1/1]\n",
              "    </div>\n",
              "    <table border=\"1\" class=\"dataframe\">\n",
              "  <thead>\n",
              "    <tr style=\"text-align: left;\">\n",
              "      <th>Step</th>\n",
              "      <th>Training Loss</th>\n",
              "      <th>Validation Loss</th>\n",
              "      <th>Runtime</th>\n",
              "      <th>Samples Per Second</th>\n",
              "    </tr>\n",
              "  </thead>\n",
              "  <tbody>\n",
              "    <tr>\n",
              "      <td>1000</td>\n",
              "      <td>4.539700</td>\n",
              "      <td>4.383358</td>\n",
              "      <td>85.526500</td>\n",
              "      <td>520.692000</td>\n",
              "    </tr>\n",
              "    <tr>\n",
              "      <td>2000</td>\n",
              "      <td>4.449500</td>\n",
              "      <td>4.304394</td>\n",
              "      <td>85.748200</td>\n",
              "      <td>519.346000</td>\n",
              "    </tr>\n",
              "    <tr>\n",
              "      <td>3000</td>\n",
              "      <td>4.344300</td>\n",
              "      <td>4.216086</td>\n",
              "      <td>85.619800</td>\n",
              "      <td>520.125000</td>\n",
              "    </tr>\n",
              "    <tr>\n",
              "      <td>4000</td>\n",
              "      <td>4.265000</td>\n",
              "      <td>4.155223</td>\n",
              "      <td>85.646100</td>\n",
              "      <td>519.965000</td>\n",
              "    </tr>\n",
              "    <tr>\n",
              "      <td>5000</td>\n",
              "      <td>4.193600</td>\n",
              "      <td>4.107662</td>\n",
              "      <td>85.679600</td>\n",
              "      <td>519.762000</td>\n",
              "    </tr>\n",
              "    <tr>\n",
              "      <td>6000</td>\n",
              "      <td>4.183100</td>\n",
              "      <td>4.069064</td>\n",
              "      <td>85.756800</td>\n",
              "      <td>519.294000</td>\n",
              "    </tr>\n",
              "  </tbody>\n",
              "</table><p>"
            ],
            "text/plain": [
              "<IPython.core.display.HTML object>"
            ]
          },
          "metadata": {
            "tags": []
          }
        },
        {
          "output_type": "execute_result",
          "data": {
            "text/plain": [
              "TrainOutput(global_step=6199, training_loss=4.322434404585165, metrics={'train_runtime': 2891.4315, 'train_samples_per_second': 2.144, 'total_flos': 5362539318092574, 'epoch': 1.0})"
            ]
          },
          "metadata": {
            "tags": []
          },
          "execution_count": 25
        }
      ]
    },
    {
      "cell_type": "code",
      "metadata": {
        "colab": {
          "base_uri": "https://localhost:8080/",
          "height": 1000
        },
        "id": "sncqVWkizlDD",
        "outputId": "b865d315-c576-4965-ef41-71645b6cf0e4"
      },
      "source": [
        "cTrainer.train()"
      ],
      "execution_count": null,
      "outputs": [
        {
          "output_type": "display_data",
          "data": {
            "text/html": [
              "\n",
              "    <div>\n",
              "        <style>\n",
              "            /* Turns off some styling */\n",
              "            progress {\n",
              "                /* gets rid of default border in Firefox and Opera. */\n",
              "                border: none;\n",
              "                /* Needs to be in here for Safari polyfill so background images work as expected. */\n",
              "                background-size: auto;\n",
              "            }\n",
              "        </style>\n",
              "      \n",
              "      <progress value='37541' max='37541' style='width:300px; height:20px; vertical-align: middle;'></progress>\n",
              "      [37541/37541 1:53:49, Epoch 7/7]\n",
              "    </div>\n",
              "    <table border=\"1\" class=\"dataframe\">\n",
              "  <thead>\n",
              "    <tr style=\"text-align: left;\">\n",
              "      <th>Step</th>\n",
              "      <th>Training Loss</th>\n",
              "      <th>Validation Loss</th>\n",
              "      <th>Runtime</th>\n",
              "      <th>Samples Per Second</th>\n",
              "    </tr>\n",
              "  </thead>\n",
              "  <tbody>\n",
              "    <tr>\n",
              "      <td>1000</td>\n",
              "      <td>7.708500</td>\n",
              "      <td>7.069294</td>\n",
              "      <td>20.602600</td>\n",
              "      <td>1831.513000</td>\n",
              "    </tr>\n",
              "    <tr>\n",
              "      <td>2000</td>\n",
              "      <td>6.748700</td>\n",
              "      <td>6.407361</td>\n",
              "      <td>20.601200</td>\n",
              "      <td>1831.642000</td>\n",
              "    </tr>\n",
              "    <tr>\n",
              "      <td>3000</td>\n",
              "      <td>6.237100</td>\n",
              "      <td>6.081542</td>\n",
              "      <td>20.608100</td>\n",
              "      <td>1831.030000</td>\n",
              "    </tr>\n",
              "    <tr>\n",
              "      <td>4000</td>\n",
              "      <td>5.934900</td>\n",
              "      <td>5.694358</td>\n",
              "      <td>20.616600</td>\n",
              "      <td>1830.272000</td>\n",
              "    </tr>\n",
              "    <tr>\n",
              "      <td>5000</td>\n",
              "      <td>5.650800</td>\n",
              "      <td>5.472235</td>\n",
              "      <td>20.598300</td>\n",
              "      <td>1831.902000</td>\n",
              "    </tr>\n",
              "    <tr>\n",
              "      <td>6000</td>\n",
              "      <td>5.359100</td>\n",
              "      <td>5.331687</td>\n",
              "      <td>20.613800</td>\n",
              "      <td>1830.524000</td>\n",
              "    </tr>\n",
              "    <tr>\n",
              "      <td>7000</td>\n",
              "      <td>5.208300</td>\n",
              "      <td>5.139632</td>\n",
              "      <td>20.608600</td>\n",
              "      <td>1830.987000</td>\n",
              "    </tr>\n",
              "    <tr>\n",
              "      <td>8000</td>\n",
              "      <td>5.103800</td>\n",
              "      <td>4.967333</td>\n",
              "      <td>20.608700</td>\n",
              "      <td>1830.974000</td>\n",
              "    </tr>\n",
              "    <tr>\n",
              "      <td>9000</td>\n",
              "      <td>4.915700</td>\n",
              "      <td>4.881063</td>\n",
              "      <td>20.621800</td>\n",
              "      <td>1829.815000</td>\n",
              "    </tr>\n",
              "    <tr>\n",
              "      <td>10000</td>\n",
              "      <td>4.834300</td>\n",
              "      <td>4.829659</td>\n",
              "      <td>20.626000</td>\n",
              "      <td>1829.440000</td>\n",
              "    </tr>\n",
              "    <tr>\n",
              "      <td>11000</td>\n",
              "      <td>4.672400</td>\n",
              "      <td>4.667469</td>\n",
              "      <td>20.632100</td>\n",
              "      <td>1828.894000</td>\n",
              "    </tr>\n",
              "    <tr>\n",
              "      <td>12000</td>\n",
              "      <td>4.567300</td>\n",
              "      <td>4.611244</td>\n",
              "      <td>20.643900</td>\n",
              "      <td>1827.855000</td>\n",
              "    </tr>\n",
              "    <tr>\n",
              "      <td>13000</td>\n",
              "      <td>4.493700</td>\n",
              "      <td>4.561394</td>\n",
              "      <td>20.631200</td>\n",
              "      <td>1828.980000</td>\n",
              "    </tr>\n",
              "    <tr>\n",
              "      <td>14000</td>\n",
              "      <td>4.438900</td>\n",
              "      <td>4.468336</td>\n",
              "      <td>20.624500</td>\n",
              "      <td>1829.574000</td>\n",
              "    </tr>\n",
              "    <tr>\n",
              "      <td>15000</td>\n",
              "      <td>4.410500</td>\n",
              "      <td>4.416694</td>\n",
              "      <td>20.644700</td>\n",
              "      <td>1827.781000</td>\n",
              "    </tr>\n",
              "    <tr>\n",
              "      <td>16000</td>\n",
              "      <td>4.349800</td>\n",
              "      <td>4.373544</td>\n",
              "      <td>20.626000</td>\n",
              "      <td>1829.442000</td>\n",
              "    </tr>\n",
              "    <tr>\n",
              "      <td>17000</td>\n",
              "      <td>4.227000</td>\n",
              "      <td>4.289206</td>\n",
              "      <td>20.630100</td>\n",
              "      <td>1829.078000</td>\n",
              "    </tr>\n",
              "    <tr>\n",
              "      <td>18000</td>\n",
              "      <td>4.179000</td>\n",
              "      <td>4.268092</td>\n",
              "      <td>20.644000</td>\n",
              "      <td>1827.840000</td>\n",
              "    </tr>\n",
              "    <tr>\n",
              "      <td>19000</td>\n",
              "      <td>4.130100</td>\n",
              "      <td>4.223629</td>\n",
              "      <td>20.619300</td>\n",
              "      <td>1830.029000</td>\n",
              "    </tr>\n",
              "    <tr>\n",
              "      <td>20000</td>\n",
              "      <td>4.092900</td>\n",
              "      <td>4.150672</td>\n",
              "      <td>20.871000</td>\n",
              "      <td>1807.963000</td>\n",
              "    </tr>\n",
              "    <tr>\n",
              "      <td>21000</td>\n",
              "      <td>4.086200</td>\n",
              "      <td>4.130792</td>\n",
              "      <td>20.866200</td>\n",
              "      <td>1808.381000</td>\n",
              "    </tr>\n",
              "    <tr>\n",
              "      <td>22000</td>\n",
              "      <td>3.983100</td>\n",
              "      <td>4.087279</td>\n",
              "      <td>20.855000</td>\n",
              "      <td>1809.351000</td>\n",
              "    </tr>\n",
              "    <tr>\n",
              "      <td>23000</td>\n",
              "      <td>3.893500</td>\n",
              "      <td>4.037254</td>\n",
              "      <td>20.834600</td>\n",
              "      <td>1811.125000</td>\n",
              "    </tr>\n",
              "    <tr>\n",
              "      <td>24000</td>\n",
              "      <td>3.944200</td>\n",
              "      <td>4.018177</td>\n",
              "      <td>20.812400</td>\n",
              "      <td>1813.056000</td>\n",
              "    </tr>\n",
              "    <tr>\n",
              "      <td>25000</td>\n",
              "      <td>3.882200</td>\n",
              "      <td>4.040600</td>\n",
              "      <td>20.807300</td>\n",
              "      <td>1813.496000</td>\n",
              "    </tr>\n",
              "    <tr>\n",
              "      <td>26000</td>\n",
              "      <td>3.878900</td>\n",
              "      <td>3.982947</td>\n",
              "      <td>20.839200</td>\n",
              "      <td>1810.719000</td>\n",
              "    </tr>\n",
              "    <tr>\n",
              "      <td>27000</td>\n",
              "      <td>3.821500</td>\n",
              "      <td>3.940016</td>\n",
              "      <td>20.851000</td>\n",
              "      <td>1809.698000</td>\n",
              "    </tr>\n",
              "    <tr>\n",
              "      <td>28000</td>\n",
              "      <td>3.738800</td>\n",
              "      <td>3.897980</td>\n",
              "      <td>20.880300</td>\n",
              "      <td>1807.158000</td>\n",
              "    </tr>\n",
              "    <tr>\n",
              "      <td>29000</td>\n",
              "      <td>3.708000</td>\n",
              "      <td>3.906370</td>\n",
              "      <td>20.866800</td>\n",
              "      <td>1808.329000</td>\n",
              "    </tr>\n",
              "    <tr>\n",
              "      <td>30000</td>\n",
              "      <td>3.724100</td>\n",
              "      <td>3.851194</td>\n",
              "      <td>20.820600</td>\n",
              "      <td>1812.340000</td>\n",
              "    </tr>\n",
              "    <tr>\n",
              "      <td>31000</td>\n",
              "      <td>3.665100</td>\n",
              "      <td>3.837717</td>\n",
              "      <td>20.868700</td>\n",
              "      <td>1808.159000</td>\n",
              "    </tr>\n",
              "    <tr>\n",
              "      <td>32000</td>\n",
              "      <td>3.700200</td>\n",
              "      <td>3.818010</td>\n",
              "      <td>20.815000</td>\n",
              "      <td>1812.831000</td>\n",
              "    </tr>\n",
              "    <tr>\n",
              "      <td>33000</td>\n",
              "      <td>3.603100</td>\n",
              "      <td>3.826941</td>\n",
              "      <td>20.820900</td>\n",
              "      <td>1812.315000</td>\n",
              "    </tr>\n",
              "    <tr>\n",
              "      <td>34000</td>\n",
              "      <td>3.595500</td>\n",
              "      <td>3.772962</td>\n",
              "      <td>20.813800</td>\n",
              "      <td>1812.935000</td>\n",
              "    </tr>\n",
              "    <tr>\n",
              "      <td>35000</td>\n",
              "      <td>3.619000</td>\n",
              "      <td>3.782665</td>\n",
              "      <td>20.839100</td>\n",
              "      <td>1810.727000</td>\n",
              "    </tr>\n",
              "    <tr>\n",
              "      <td>36000</td>\n",
              "      <td>3.569500</td>\n",
              "      <td>3.762085</td>\n",
              "      <td>20.629800</td>\n",
              "      <td>1829.103000</td>\n",
              "    </tr>\n",
              "    <tr>\n",
              "      <td>37000</td>\n",
              "      <td>3.598000</td>\n",
              "      <td>3.749826</td>\n",
              "      <td>20.633600</td>\n",
              "      <td>1828.766000</td>\n",
              "    </tr>\n",
              "  </tbody>\n",
              "</table><p>"
            ],
            "text/plain": [
              "<IPython.core.display.HTML object>"
            ]
          },
          "metadata": {
            "tags": []
          }
        },
        {
          "output_type": "execute_result",
          "data": {
            "text/plain": [
              "TrainOutput(global_step=37541, training_loss=4.454563163935555, metrics={'train_runtime': 6837.7303, 'train_samples_per_second': 5.49, 'total_flos': 21353931431070840, 'epoch': 7.0})"
            ]
          },
          "metadata": {
            "tags": []
          },
          "execution_count": 131
        }
      ]
    },
    {
      "cell_type": "code",
      "metadata": {
        "colab": {
          "base_uri": "https://localhost:8080/",
          "height": 929
        },
        "id": "zHfOQTKQr-c5",
        "outputId": "31a33fba-5b75-4240-a988-21cfa79d9c5d"
      },
      "source": [
        "cTrainer.train()"
      ],
      "execution_count": null,
      "outputs": [
        {
          "output_type": "display_data",
          "data": {
            "text/html": [
              "\n",
              "    <div>\n",
              "        <style>\n",
              "            /* Turns off some styling */\n",
              "            progress {\n",
              "                /* gets rid of default border in Firefox and Opera. */\n",
              "                border: none;\n",
              "                /* Needs to be in here for Safari polyfill so background images work as expected. */\n",
              "                background-size: auto;\n",
              "            }\n",
              "        </style>\n",
              "      \n",
              "      <progress value='26780' max='26780' style='width:300px; height:20px; vertical-align: middle;'></progress>\n",
              "      [26780/26780 1:25:14, Epoch 5/5]\n",
              "    </div>\n",
              "    <table border=\"1\" class=\"dataframe\">\n",
              "  <thead>\n",
              "    <tr style=\"text-align: left;\">\n",
              "      <th>Step</th>\n",
              "      <th>Training Loss</th>\n",
              "      <th>Validation Loss</th>\n",
              "      <th>Runtime</th>\n",
              "      <th>Samples Per Second</th>\n",
              "    </tr>\n",
              "  </thead>\n",
              "  <tbody>\n",
              "    <tr>\n",
              "      <td>1000</td>\n",
              "      <td>7.752700</td>\n",
              "      <td>8.703333</td>\n",
              "      <td>33.065300</td>\n",
              "      <td>1155.017000</td>\n",
              "    </tr>\n",
              "    <tr>\n",
              "      <td>2000</td>\n",
              "      <td>6.743100</td>\n",
              "      <td>7.438605</td>\n",
              "      <td>33.057500</td>\n",
              "      <td>1155.290000</td>\n",
              "    </tr>\n",
              "    <tr>\n",
              "      <td>3000</td>\n",
              "      <td>6.319500</td>\n",
              "      <td>7.193581</td>\n",
              "      <td>33.056600</td>\n",
              "      <td>1155.321000</td>\n",
              "    </tr>\n",
              "    <tr>\n",
              "      <td>4000</td>\n",
              "      <td>5.976200</td>\n",
              "      <td>7.203521</td>\n",
              "      <td>33.049900</td>\n",
              "      <td>1155.557000</td>\n",
              "    </tr>\n",
              "    <tr>\n",
              "      <td>5000</td>\n",
              "      <td>5.679000</td>\n",
              "      <td>6.745315</td>\n",
              "      <td>33.087200</td>\n",
              "      <td>1154.252000</td>\n",
              "    </tr>\n",
              "    <tr>\n",
              "      <td>6000</td>\n",
              "      <td>5.460900</td>\n",
              "      <td>5.876411</td>\n",
              "      <td>33.059700</td>\n",
              "      <td>1155.213000</td>\n",
              "    </tr>\n",
              "    <tr>\n",
              "      <td>7000</td>\n",
              "      <td>5.185100</td>\n",
              "      <td>6.115569</td>\n",
              "      <td>33.049700</td>\n",
              "      <td>1155.563000</td>\n",
              "    </tr>\n",
              "    <tr>\n",
              "      <td>8000</td>\n",
              "      <td>5.041800</td>\n",
              "      <td>6.003054</td>\n",
              "      <td>33.050300</td>\n",
              "      <td>1155.540000</td>\n",
              "    </tr>\n",
              "    <tr>\n",
              "      <td>9000</td>\n",
              "      <td>4.919800</td>\n",
              "      <td>5.810862</td>\n",
              "      <td>33.063300</td>\n",
              "      <td>1155.086000</td>\n",
              "    </tr>\n",
              "    <tr>\n",
              "      <td>10000</td>\n",
              "      <td>4.810400</td>\n",
              "      <td>5.861529</td>\n",
              "      <td>33.058700</td>\n",
              "      <td>1155.248000</td>\n",
              "    </tr>\n",
              "    <tr>\n",
              "      <td>11000</td>\n",
              "      <td>4.725200</td>\n",
              "      <td>5.457868</td>\n",
              "      <td>33.064800</td>\n",
              "      <td>1155.033000</td>\n",
              "    </tr>\n",
              "    <tr>\n",
              "      <td>12000</td>\n",
              "      <td>4.603700</td>\n",
              "      <td>5.089938</td>\n",
              "      <td>33.057300</td>\n",
              "      <td>1155.295000</td>\n",
              "    </tr>\n",
              "    <tr>\n",
              "      <td>13000</td>\n",
              "      <td>4.526300</td>\n",
              "      <td>5.124679</td>\n",
              "      <td>33.055900</td>\n",
              "      <td>1155.347000</td>\n",
              "    </tr>\n",
              "    <tr>\n",
              "      <td>14000</td>\n",
              "      <td>4.444700</td>\n",
              "      <td>4.894298</td>\n",
              "      <td>33.050800</td>\n",
              "      <td>1155.523000</td>\n",
              "    </tr>\n",
              "    <tr>\n",
              "      <td>15000</td>\n",
              "      <td>4.385700</td>\n",
              "      <td>4.862568</td>\n",
              "      <td>33.052600</td>\n",
              "      <td>1155.463000</td>\n",
              "    </tr>\n",
              "    <tr>\n",
              "      <td>16000</td>\n",
              "      <td>4.311200</td>\n",
              "      <td>4.440798</td>\n",
              "      <td>33.050300</td>\n",
              "      <td>1155.543000</td>\n",
              "    </tr>\n",
              "    <tr>\n",
              "      <td>17000</td>\n",
              "      <td>4.148900</td>\n",
              "      <td>4.763831</td>\n",
              "      <td>33.048000</td>\n",
              "      <td>1155.620000</td>\n",
              "    </tr>\n",
              "    <tr>\n",
              "      <td>18000</td>\n",
              "      <td>4.190700</td>\n",
              "      <td>3.739970</td>\n",
              "      <td>33.044300</td>\n",
              "      <td>1155.751000</td>\n",
              "    </tr>\n",
              "    <tr>\n",
              "      <td>19000</td>\n",
              "      <td>4.164200</td>\n",
              "      <td>3.935683</td>\n",
              "      <td>33.051300</td>\n",
              "      <td>1155.507000</td>\n",
              "    </tr>\n",
              "    <tr>\n",
              "      <td>20000</td>\n",
              "      <td>4.094500</td>\n",
              "      <td>3.633215</td>\n",
              "      <td>33.067700</td>\n",
              "      <td>1154.935000</td>\n",
              "    </tr>\n",
              "    <tr>\n",
              "      <td>21000</td>\n",
              "      <td>4.083900</td>\n",
              "      <td>3.468130</td>\n",
              "      <td>33.055000</td>\n",
              "      <td>1155.376000</td>\n",
              "    </tr>\n",
              "    <tr>\n",
              "      <td>22000</td>\n",
              "      <td>4.062100</td>\n",
              "      <td>3.344772</td>\n",
              "      <td>33.072800</td>\n",
              "      <td>1154.755000</td>\n",
              "    </tr>\n",
              "    <tr>\n",
              "      <td>23000</td>\n",
              "      <td>3.943100</td>\n",
              "      <td>3.198444</td>\n",
              "      <td>33.057600</td>\n",
              "      <td>1155.287000</td>\n",
              "    </tr>\n",
              "    <tr>\n",
              "      <td>24000</td>\n",
              "      <td>3.953500</td>\n",
              "      <td>3.321167</td>\n",
              "      <td>33.049700</td>\n",
              "      <td>1155.562000</td>\n",
              "    </tr>\n",
              "    <tr>\n",
              "      <td>25000</td>\n",
              "      <td>3.914600</td>\n",
              "      <td>3.286762</td>\n",
              "      <td>33.050700</td>\n",
              "      <td>1155.529000</td>\n",
              "    </tr>\n",
              "    <tr>\n",
              "      <td>26000</td>\n",
              "      <td>3.886900</td>\n",
              "      <td>3.213224</td>\n",
              "      <td>33.039600</td>\n",
              "      <td>1155.918000</td>\n",
              "    </tr>\n",
              "  </tbody>\n",
              "</table><p>"
            ],
            "text/plain": [
              "<IPython.core.display.HTML object>"
            ]
          },
          "metadata": {
            "tags": []
          }
        },
        {
          "output_type": "execute_result",
          "data": {
            "text/plain": [
              "TrainOutput(global_step=26780, training_loss=4.793068521284541, metrics={'train_runtime': 5123.1253, 'train_samples_per_second': 5.227, 'total_flos': 15230404732095360, 'epoch': 5.0})"
            ]
          },
          "metadata": {
            "tags": []
          },
          "execution_count": 145
        }
      ]
    },
    {
      "cell_type": "code",
      "metadata": {
        "colab": {
          "base_uri": "https://localhost:8080/",
          "height": 110
        },
        "id": "BkXhxqznlDr0",
        "outputId": "d31f6af7-b822-4612-aade-0418a58aa15d"
      },
      "source": [
        "cTrainer.evaluate()"
      ],
      "execution_count": null,
      "outputs": [
        {
          "output_type": "display_data",
          "data": {
            "text/html": [
              "\n",
              "    <div>\n",
              "        <style>\n",
              "            /* Turns off some styling */\n",
              "            progress {\n",
              "                /* gets rid of default border in Firefox and Opera. */\n",
              "                border: none;\n",
              "                /* Needs to be in here for Safari polyfill so background images work as expected. */\n",
              "                background-size: auto;\n",
              "            }\n",
              "        </style>\n",
              "      \n",
              "      <progress value='590' max='590' style='width:300px; height:20px; vertical-align: middle;'></progress>\n",
              "      [590/590 00:20]\n",
              "    </div>\n",
              "    "
            ],
            "text/plain": [
              "<IPython.core.display.HTML object>"
            ]
          },
          "metadata": {
            "tags": []
          }
        },
        {
          "output_type": "execute_result",
          "data": {
            "text/plain": [
              "{'epoch': 7.0,\n",
              " 'eval_loss': 3.7531611919403076,\n",
              " 'eval_runtime': 20.6445,\n",
              " 'eval_samples_per_second': 1827.795}"
            ]
          },
          "metadata": {
            "tags": []
          },
          "execution_count": 132
        }
      ]
    },
    {
      "cell_type": "code",
      "metadata": {
        "id": "FZ1v17zBK903"
      },
      "source": [
        "# cTrainer.save_model('/content/drive/MyDrive/chatbot_project/models/tuned0')"
      ],
      "execution_count": null,
      "outputs": []
    },
    {
      "cell_type": "markdown",
      "metadata": {
        "id": "E5WOIG1P8LM4"
      },
      "source": [
        "### проверки (для дебага)"
      ]
    },
    {
      "cell_type": "code",
      "metadata": {
        "id": "dguU87Vxupfd"
      },
      "source": [
        "from torch.utils.data.dataloader import DataLoader\n",
        "loader = cTrainer.get_train_dataloader()"
      ],
      "execution_count": null,
      "outputs": []
    },
    {
      "cell_type": "code",
      "metadata": {
        "id": "vS3f9uXjwVhj"
      },
      "source": [
        "token_stats = {}\n",
        "bad = 0\n",
        "all = 0\n",
        "for batch in loader:\n",
        "    l = batch['input_ids'].size()[1]\n",
        "    b_size = batch['input_ids'].size()[0]\n",
        "    is_bad = False\n",
        "    for pos in range(b_size):\n",
        "        tokens = tokenizer.convert_ids_to_tokens(batch['input_ids'].tolist()[pos])\n",
        "        for token in tokens:\n",
        "            if (token == '[PAD]'):\n",
        "                is_bad = True\n",
        "            if (token_stats.get(token) == None):\n",
        "                token_stats[token] = 0\n",
        "            token_stats[token] += 1\n",
        "    all += 1\n",
        "    if is_bad:\n",
        "        bad += 1"
      ],
      "execution_count": null,
      "outputs": []
    },
    {
      "cell_type": "code",
      "metadata": {
        "colab": {
          "base_uri": "https://localhost:8080/"
        },
        "id": "BG_k398uzAXT",
        "outputId": "aa1b70fa-b053-457d-e912-c63c85b54134"
      },
      "source": [
        "print(all, bad)"
      ],
      "execution_count": null,
      "outputs": [
        {
          "output_type": "stream",
          "text": [
            "5363 14\n"
          ],
          "name": "stdout"
        }
      ]
    },
    {
      "cell_type": "code",
      "metadata": {
        "colab": {
          "base_uri": "https://localhost:8080/"
        },
        "id": "gGIBUfzxxhAT",
        "outputId": "a361ee50-358e-43d0-a5ec-659874e38f6a"
      },
      "source": [
        "sort_stats = [[k, v] for k, v in sorted(token_stats.items(), key=lambda item: -item[1])]\n",
        "sort_stats[:25]"
      ],
      "execution_count": null,
      "outputs": [
        {
          "output_type": "execute_result",
          "data": {
            "text/plain": [
              "[['[CLS]', 343226],\n",
              " ['[SEP]', 343225],\n",
              " ['[MASK]', 260727],\n",
              " ['ты', 46188],\n",
              " ['.', 39754],\n",
              " ['##и', 39262],\n",
              " ['не', 28790],\n",
              " ['в', 28408],\n",
              " ['и', 23700],\n",
              " [',', 22971],\n",
              " ['?', 20600],\n",
              " ['есть', 19684],\n",
              " ['на', 19553],\n",
              " ['я', 16174],\n",
              " ['##а', 11384],\n",
              " ['##ка', 9017],\n",
              " ['а', 8893],\n",
              " ['-', 8478],\n",
              " ['с', 8359],\n",
              " ['##ы', 8180],\n",
              " ['_', 7358],\n",
              " ['##ои', 7225],\n",
              " ['что', 7007],\n",
              " ['##ся', 6997],\n",
              " ['но', 6843]]"
            ]
          },
          "metadata": {
            "tags": []
          },
          "execution_count": 124
        }
      ]
    },
    {
      "cell_type": "code",
      "metadata": {
        "id": "XjP5ScD-Lp4h"
      },
      "source": [
        "stats = {}\n",
        "for i in range(1, 210):\n",
        "  stats[i] = 0"
      ],
      "execution_count": null,
      "outputs": []
    },
    {
      "cell_type": "code",
      "metadata": {
        "id": "L80Hn5651BcE"
      },
      "source": [
        "ind = 0\n",
        "for batch in loader:\n",
        "    l = batch['input_ids'].size()[1]\n",
        "    stats[l] += 1\n",
        "    if np.random.rand(1) < 0.00001:\n",
        "        print(\"--- batch begin ---\")\n",
        "        b_size = batch['input_ids'].size()[0]\n",
        "        for pos in range(b_size):\n",
        "            print(ind, l)\n",
        "            print(tokenizer.convert_ids_to_tokens(batch['input_ids'].tolist()[pos]))\n",
        "            print(tokenizer.convert_ids_to_tokens(batch['labels'].tolist()[pos]))\n",
        "            print()\n",
        "            ind += 1\n",
        "        print(\"--- batch end ---\")"
      ],
      "execution_count": null,
      "outputs": []
    },
    {
      "cell_type": "code",
      "metadata": {
        "colab": {
          "base_uri": "https://localhost:8080/"
        },
        "id": "UfO0GjOk2Z-A",
        "outputId": "fcf1c1eb-bdb8-4da2-995b-8829590bd502"
      },
      "source": [
        "stats"
      ],
      "execution_count": null,
      "outputs": [
        {
          "output_type": "execute_result",
          "data": {
            "text/plain": [
              "{1: 0,\n",
              " 2: 0,\n",
              " 3: 44,\n",
              " 4: 56,\n",
              " 5: 328,\n",
              " 6: 613,\n",
              " 7: 743,\n",
              " 8: 670,\n",
              " 9: 663,\n",
              " 10: 546,\n",
              " 11: 405,\n",
              " 12: 260,\n",
              " 13: 172,\n",
              " 14: 129,\n",
              " 15: 106,\n",
              " 16: 98,\n",
              " 17: 92,\n",
              " 18: 91,\n",
              " 19: 84,\n",
              " 20: 83,\n",
              " 21: 76,\n",
              " 22: 69,\n",
              " 23: 63,\n",
              " 24: 56,\n",
              " 25: 53,\n",
              " 26: 47,\n",
              " 27: 45,\n",
              " 28: 43,\n",
              " 29: 42,\n",
              " 30: 38,\n",
              " 31: 34,\n",
              " 32: 34,\n",
              " 33: 32,\n",
              " 34: 29,\n",
              " 35: 30,\n",
              " 36: 29,\n",
              " 37: 25,\n",
              " 38: 25,\n",
              " 39: 22,\n",
              " 40: 23,\n",
              " 41: 21,\n",
              " 42: 19,\n",
              " 43: 18,\n",
              " 44: 17,\n",
              " 45: 18,\n",
              " 46: 18,\n",
              " 47: 14,\n",
              " 48: 14,\n",
              " 49: 14,\n",
              " 50: 13,\n",
              " 51: 11,\n",
              " 52: 13,\n",
              " 53: 11,\n",
              " 54: 11,\n",
              " 55: 9,\n",
              " 56: 10,\n",
              " 57: 8,\n",
              " 58: 8,\n",
              " 59: 8,\n",
              " 60: 8,\n",
              " 61: 7,\n",
              " 62: 8,\n",
              " 63: 6,\n",
              " 64: 6,\n",
              " 65: 5,\n",
              " 66: 6,\n",
              " 67: 5,\n",
              " 68: 5,\n",
              " 69: 4,\n",
              " 70: 5,\n",
              " 71: 4,\n",
              " 72: 4,\n",
              " 73: 4,\n",
              " 74: 4,\n",
              " 75: 3,\n",
              " 76: 3,\n",
              " 77: 4,\n",
              " 78: 3,\n",
              " 79: 2,\n",
              " 80: 3,\n",
              " 81: 2,\n",
              " 82: 3,\n",
              " 83: 2,\n",
              " 84: 2,\n",
              " 85: 2,\n",
              " 86: 2,\n",
              " 87: 2,\n",
              " 88: 1,\n",
              " 89: 2,\n",
              " 90: 2,\n",
              " 91: 1,\n",
              " 92: 1,\n",
              " 93: 1,\n",
              " 94: 1,\n",
              " 95: 2,\n",
              " 96: 1,\n",
              " 97: 1,\n",
              " 98: 1,\n",
              " 99: 2,\n",
              " 100: 1,\n",
              " 101: 1,\n",
              " 102: 1,\n",
              " 103: 0,\n",
              " 104: 1,\n",
              " 105: 1,\n",
              " 106: 0,\n",
              " 107: 1,\n",
              " 108: 1,\n",
              " 109: 0,\n",
              " 110: 1,\n",
              " 111: 1,\n",
              " 112: 0,\n",
              " 113: 1,\n",
              " 114: 0,\n",
              " 115: 1,\n",
              " 116: 0,\n",
              " 117: 1,\n",
              " 118: 0,\n",
              " 119: 1,\n",
              " 120: 0,\n",
              " 121: 1,\n",
              " 122: 0,\n",
              " 123: 1,\n",
              " 124: 0,\n",
              " 125: 1,\n",
              " 126: 0,\n",
              " 127: 0,\n",
              " 128: 0,\n",
              " 129: 1,\n",
              " 130: 0,\n",
              " 131: 0,\n",
              " 132: 0,\n",
              " 133: 1,\n",
              " 134: 0,\n",
              " 135: 0,\n",
              " 136: 1,\n",
              " 137: 0,\n",
              " 138: 0,\n",
              " 139: 0,\n",
              " 140: 1,\n",
              " 141: 0,\n",
              " 142: 0,\n",
              " 143: 0,\n",
              " 144: 1,\n",
              " 145: 0,\n",
              " 146: 0,\n",
              " 147: 0,\n",
              " 148: 0,\n",
              " 149: 0,\n",
              " 150: 1,\n",
              " 151: 0,\n",
              " 152: 0,\n",
              " 153: 0,\n",
              " 154: 0,\n",
              " 155: 0,\n",
              " 156: 0,\n",
              " 157: 0,\n",
              " 158: 1,\n",
              " 159: 0,\n",
              " 160: 0,\n",
              " 161: 0,\n",
              " 162: 0,\n",
              " 163: 0,\n",
              " 164: 0,\n",
              " 165: 0,\n",
              " 166: 0,\n",
              " 167: 0,\n",
              " 168: 0,\n",
              " 169: 1,\n",
              " 170: 0,\n",
              " 171: 0,\n",
              " 172: 0,\n",
              " 173: 0,\n",
              " 174: 0,\n",
              " 175: 0,\n",
              " 176: 0,\n",
              " 177: 0,\n",
              " 178: 0,\n",
              " 179: 0,\n",
              " 180: 0,\n",
              " 181: 0,\n",
              " 182: 0,\n",
              " 183: 0,\n",
              " 184: 1,\n",
              " 185: 0,\n",
              " 186: 0,\n",
              " 187: 0,\n",
              " 188: 0,\n",
              " 189: 0,\n",
              " 190: 0,\n",
              " 191: 0,\n",
              " 192: 0,\n",
              " 193: 0,\n",
              " 194: 0,\n",
              " 195: 0,\n",
              " 196: 0,\n",
              " 197: 0,\n",
              " 198: 0,\n",
              " 199: 0,\n",
              " 200: 0,\n",
              " 201: 2,\n",
              " 202: 0,\n",
              " 203: 0,\n",
              " 204: 0,\n",
              " 205: 0,\n",
              " 206: 0,\n",
              " 207: 0,\n",
              " 208: 0,\n",
              " 209: 0}"
            ]
          },
          "metadata": {
            "tags": []
          },
          "execution_count": 59
        }
      ]
    },
    {
      "cell_type": "code",
      "metadata": {
        "colab": {
          "base_uri": "https://localhost:8080/"
        },
        "id": "6YMvs9e00EsY",
        "outputId": "3f3c289b-4b92-4d31-efd5-e05c24b39ab4"
      },
      "source": [
        "stats"
      ],
      "execution_count": null,
      "outputs": [
        {
          "output_type": "execute_result",
          "data": {
            "text/plain": [
              "{1: 0,\n",
              " 2: 0,\n",
              " 3: 0,\n",
              " 4: 0,\n",
              " 5: 0,\n",
              " 6: 0,\n",
              " 7: 0,\n",
              " 8: 0,\n",
              " 9: 0,\n",
              " 10: 0,\n",
              " 11: 34,\n",
              " 12: 764,\n",
              " 13: 1939,\n",
              " 14: 1558,\n",
              " 15: 735,\n",
              " 16: 245,\n",
              " 17: 58,\n",
              " 18: 24,\n",
              " 19: 3,\n",
              " 20: 2,\n",
              " 21: 0,\n",
              " 22: 0,\n",
              " 23: 0,\n",
              " 24: 0,\n",
              " 25: 0,\n",
              " 26: 0,\n",
              " 27: 0,\n",
              " 28: 0,\n",
              " 29: 0,\n",
              " 30: 0,\n",
              " 31: 0,\n",
              " 32: 0,\n",
              " 33: 0,\n",
              " 34: 0,\n",
              " 35: 0,\n",
              " 36: 1,\n",
              " 37: 0,\n",
              " 38: 0,\n",
              " 39: 0,\n",
              " 40: 0,\n",
              " 41: 0,\n",
              " 42: 0,\n",
              " 43: 0,\n",
              " 44: 0,\n",
              " 45: 0,\n",
              " 46: 0,\n",
              " 47: 0,\n",
              " 48: 0,\n",
              " 49: 0}"
            ]
          },
          "metadata": {
            "tags": []
          },
          "execution_count": 117
        }
      ]
    },
    {
      "cell_type": "code",
      "metadata": {
        "colab": {
          "base_uri": "https://localhost:8080/"
        },
        "id": "NY0rggdgyGc6",
        "outputId": "77047ffb-12f1-49eb-ab07-1fbd5957590e"
      },
      "source": [
        "ind = 0\n",
        "for elem in loader:\n",
        "    if np.random.rand(1) < 0.0001:\n",
        "        print(ind)\n",
        "        l = len(elem['input_ids'].tolist()[0])\n",
        "        print(tokenizer.convert_ids_to_tokens(elem['input_ids'].tolist()[0]))\n",
        "        print(tokenizer.convert_ids_to_tokens(elem['labels'].tolist()[0]))\n",
        "        elem.to(cuda)\n",
        "        outputs = model(**elem)\n",
        "        print(\"loss =\", outputs.loss.item())\n",
        "        pred = outputs.logits\n",
        "        print(pred.size())\n",
        "        for ind in range(l):\n",
        "            print(\"word number\", ind)\n",
        "            for num_best in range(3):\n",
        "                pred_sort = torch.argsort(pred[0, ind])\n",
        "                best = pred_sort[-1-num_best]\n",
        "                token = tokenizer.convert_ids_to_tokens([best])[0]\n",
        "                print(pred[0, ind, best].item(), token)\n",
        "        print()\n",
        "    ind += 1"
      ],
      "execution_count": null,
      "outputs": [
        {
          "output_type": "stream",
          "text": [
            "1248\n",
            "['[CLS]', 'мак', '##ле', '##од', 'успел', 'ух', '##вати', '##ть', '[SEP]']\n",
            "['[UNK]', '[UNK]', '[UNK]', '[UNK]', '[UNK]', '[UNK]', '##вати', '[UNK]', '[UNK]']\n",
            "loss = 9.81553840637207\n",
            "torch.Size([8, 9, 119547])\n",
            "word number 0\n",
            "2.827181339263916 в\n",
            "2.559532403945923 с\n",
            "1.752619743347168 по\n",
            "word number 1\n",
            "5.105445861816406 с\n",
            "4.560785293579102 в\n",
            "3.836024761199951 за\n",
            "word number 2\n",
            "4.479654312133789 в\n",
            "4.025650501251221 с\n",
            "3.282163143157959 я\n",
            "word number 3\n",
            "4.103397846221924 в\n",
            "3.868391275405884 с\n",
            "3.0620367527008057 за\n",
            "word number 4\n",
            "3.578986167907715 за\n",
            "3.3578600883483887 в\n",
            "2.7325286865234375 о\n",
            "word number 5\n",
            "2.9740023612976074 за\n",
            "2.7133827209472656 тем\n",
            "2.4391937255859375 этого\n",
            "word number 6\n",
            "3.463263511657715 за\n",
            "3.3294191360473633 тем\n",
            "3.2184057235717773 этого\n",
            "word number 7\n",
            "2.9255802631378174 за\n",
            "2.216721534729004 ##а\n",
            "2.145681858062744 помимо\n",
            "word number 8\n",
            "2.562978506088257 за\n",
            "2.4669344425201416 в\n",
            "1.9445308446884155 с\n",
            "\n",
            "5044\n",
            "['[CLS]', '[MASK]', '##ски', '##и', 'полк', '[SEP]']\n",
            "['[UNK]', 'волын', '[UNK]', '[UNK]', '[UNK]', '[UNK]']\n",
            "loss = 8.754240036010742\n",
            "torch.Size([8, 6, 119547])\n",
            "word number 0\n",
            "1.6356172561645508 для\n",
            "1.3685640096664429 на\n",
            "1.2605022192001343 от\n",
            "word number 1\n",
            "3.126197099685669 для\n",
            "3.0280075073242188 на\n",
            "3.001654624938965 по\n",
            "word number 2\n",
            "2.391200065612793 в\n",
            "2.239293098449707 за\n",
            "2.1342549324035645 из\n",
            "word number 3\n",
            "4.406328201293945 ##и\n",
            "2.244511842727661 из\n",
            "1.704757809638977 у\n",
            "word number 4\n",
            "2.47524356842041 за\n",
            "2.2335574626922607 о\n",
            "2.19586443901062 кроме\n",
            "word number 5\n",
            "1.8179211616516113 за\n",
            "1.734117031097412 без\n",
            "1.5584204196929932 на\n",
            "\n"
          ],
          "name": "stdout"
        }
      ]
    },
    {
      "cell_type": "code",
      "metadata": {
        "colab": {
          "base_uri": "https://localhost:8080/"
        },
        "id": "KHXNy9_EloEO",
        "outputId": "fe473d7f-eed3-4ec4-b62a-8ebacf3c87af"
      },
      "source": [
        "res = tokenized_dataset_eval[10]\n",
        "tokenizer.convert_ids_to_tokens(res['input_ids'])"
      ],
      "execution_count": null,
      "outputs": [
        {
          "output_type": "execute_result",
          "data": {
            "text/plain": [
              "['[CLS]', 'дже', '##ими', 'попросил', 'уделить', '[SEP]']"
            ]
          },
          "metadata": {
            "tags": []
          },
          "execution_count": 301
        }
      ]
    },
    {
      "cell_type": "code",
      "metadata": {
        "id": "Jh--O_q09Na-"
      },
      "source": [
        "import torch\n",
        "cuda = torch.device('cuda:0')"
      ],
      "execution_count": null,
      "outputs": []
    },
    {
      "cell_type": "code",
      "metadata": {
        "colab": {
          "base_uri": "https://localhost:8080/"
        },
        "id": "IOF9uDFYHuIO",
        "outputId": "4a547697-1181-45f7-c845-2c947a741d0e"
      },
      "source": [
        "tokenizer.tokenize(\"Вася кивнул головой\")"
      ],
      "execution_count": null,
      "outputs": [
        {
          "output_type": "execute_result",
          "data": {
            "text/plain": [
              "['вас', '##я', 'ки', '##в', '##нул', 'голово', '##и']"
            ]
          },
          "metadata": {
            "tags": []
          },
          "execution_count": 163
        }
      ]
    },
    {
      "cell_type": "code",
      "metadata": {
        "colab": {
          "base_uri": "https://localhost:8080/"
        },
        "id": "Q4Y2xi2QHIiK",
        "outputId": "6ac0f637-1599-4605-8659-d51ff4e46b12"
      },
      "source": [
        "inputs = tokenizer(\"Вася покачал головой\", return_tensors=\"pt\").to(cuda)\n",
        "outputs = model.forward(**inputs, output_hidden_states=True)\n",
        "outputs.logits.size()"
      ],
      "execution_count": null,
      "outputs": [
        {
          "output_type": "execute_result",
          "data": {
            "text/plain": [
              "torch.Size([1, 8, 119547])"
            ]
          },
          "metadata": {
            "tags": []
          },
          "execution_count": 181
        }
      ]
    },
    {
      "cell_type": "code",
      "metadata": {
        "colab": {
          "base_uri": "https://localhost:8080/"
        },
        "id": "Xu5M10fN77-_",
        "outputId": "44d5cd5d-bcb3-4e34-e136-927a16d1139e"
      },
      "source": [
        "pos = 7\n",
        "predictions = outputs.logits\n",
        "predicted_index = torch.argsort(predictions[0, pos])\n",
        "for i in range(10):\n",
        "    ind = predicted_index[-1-i]\n",
        "    predicted_token = tokenizer.convert_ids_to_tokens([ind])[0]\n",
        "    print(ind.item())\n",
        "    print(predictions[0, pos, ind].item(), predicted_token)"
      ],
      "execution_count": null,
      "outputs": [
        {
          "output_type": "stream",
          "text": [
            "845\n",
            "-88.8191909790039 в\n",
            "1469\n",
            "-88.86975860595703 на\n",
            "1703\n",
            "-89.49671936035156 из\n",
            "1641\n",
            "-89.55485534667969 от\n",
            "3468\n",
            "-89.68830871582031 после\n",
            "869\n",
            "-89.68840789794922 с\n",
            "2748\n",
            "-89.74311828613281 для\n",
            "875\n",
            "-89.74755096435547 у\n",
            "1758\n",
            "-89.76760864257812 за\n",
            "612\n",
            "-89.89922332763672 о\n"
          ],
          "name": "stdout"
        }
      ]
    },
    {
      "cell_type": "markdown",
      "metadata": {
        "id": "HPQHsd0HgknH"
      },
      "source": [
        "## Сохранение"
      ]
    },
    {
      "cell_type": "code",
      "metadata": {
        "id": "FMROZVHCbvMK"
      },
      "source": [
        "# сохранение на выделенной машине\n",
        "cTrainer.save_model('./saved_model_tuned')"
      ],
      "execution_count": null,
      "outputs": []
    },
    {
      "cell_type": "code",
      "metadata": {
        "id": "U0AQ86PsPRKz"
      },
      "source": [
        "# сохранение на гугл диске\n",
        "# cTrainer.save_model('/content/drive/MyDrive/chatbot_project/models/tuned1_simple')"
      ],
      "execution_count": null,
      "outputs": []
    },
    {
      "cell_type": "code",
      "metadata": {
        "colab": {
          "base_uri": "https://localhost:8080/"
        },
        "id": "u7cAvH_SbvJM",
        "outputId": "ebb96b4e-16b7-4687-9993-00b5c002f95c"
      },
      "source": [
        "model_end = BertModel.from_pretrained('./saved_model_tuned')"
      ],
      "execution_count": null,
      "outputs": [
        {
          "output_type": "stream",
          "text": [
            "Some weights of BertModel were not initialized from the model checkpoint at ./saved_model_tuned and are newly initialized: ['bert.pooler.dense.weight', 'bert.pooler.dense.bias']\n",
            "You should probably TRAIN this model on a down-stream task to be able to use it for predictions and inference.\n"
          ],
          "name": "stderr"
        }
      ]
    },
    {
      "cell_type": "markdown",
      "metadata": {
        "id": "sGWdVsigj2qj"
      },
      "source": [
        "## Проверка"
      ]
    },
    {
      "cell_type": "code",
      "metadata": {
        "id": "v-u7KmPuRsDT"
      },
      "source": [
        "# model = model_end"
      ],
      "execution_count": null,
      "outputs": []
    },
    {
      "cell_type": "markdown",
      "metadata": {
        "id": "ANfAd8M_PmF5"
      },
      "source": [
        "### угадывание слов"
      ]
    },
    {
      "cell_type": "code",
      "metadata": {
        "colab": {
          "base_uri": "https://localhost:8080/"
        },
        "id": "hc-8hSaoPcXk",
        "outputId": "cd1e383c-ede0-4e6f-caf8-6d1d1da32d9a"
      },
      "source": [
        "predict(\"Вася покачал головой и [MASK]\", 8)"
      ],
      "execution_count": null,
      "outputs": [
        {
          "output_type": "stream",
          "text": [
            "['[CLS]', 'вас', '##я', 'пока', '##чал', 'голово', '##и', 'и', '[MASK]', '[SEP]']\n",
            "Pos = 8\n",
            "\n",
            "Index = 132\n",
            "Value = 5.023471355438232\n",
            "Token = .\n",
            " [CLS] вася покачал головои и . [SEP]\n",
            "\n",
            "Index = 33410\n",
            "Value = 4.5508294105529785\n",
            "Token = встал\n",
            " [CLS] вася покачал головои и встал [SEP]\n",
            "\n",
            "Index = 128\n",
            "Value = 4.336976051330566\n",
            "Token = ,\n",
            " [CLS] вася покачал головои и , [SEP]\n",
            "\n",
            "Index = 39846\n",
            "Value = 4.303760051727295\n",
            "Token = остановился\n",
            " [CLS] вася покачал головои и остановился [SEP]\n",
            "\n",
            "Index = 26654\n",
            "Value = 4.060601234436035\n",
            "Token = поднялся\n",
            " [CLS] вася покачал головои и поднялся [SEP]\n",
            "\n"
          ],
          "name": "stdout"
        }
      ]
    },
    {
      "cell_type": "code",
      "metadata": {
        "colab": {
          "base_uri": "https://localhost:8080/"
        },
        "id": "fzQbyiHqQgZI",
        "outputId": "0d8987c4-f1d6-4c3b-da0e-7e05d699821a"
      },
      "source": [
        "predict(\"Наконец-то ящерица пошевелилась.\", 4)"
      ],
      "execution_count": null,
      "outputs": [
        {
          "output_type": "stream",
          "text": [
            "['[CLS]', 'наконец', '-', 'то', 'ящерица', 'пош', '##еве', '##ли', '##лась', '.', '[SEP]']\n",
            "Pos = 4\n",
            "\n",
            "Index = 1699\n",
            "Value = 6.0463786125183105\n",
            "Token = не\n",
            " [CLS] наконец - то не пошевелилась . [SEP]\n",
            "\n",
            "Index = 28952\n",
            "Value = 5.701249599456787\n",
            "Token = голова\n",
            " [CLS] наконец - то голова пошевелилась . [SEP]\n",
            "\n",
            "Index = 877\n",
            "Value = 5.089743137359619\n",
            "Token = я\n",
            " [CLS] наконец - то я пошевелилась . [SEP]\n",
            "\n",
            "Index = 878\n",
            "Value = 4.593038082122803\n",
            "Token = ##я\n",
            " [CLS] наконец - тоя пошевелилась . [SEP]\n",
            "\n",
            "Index = 23725\n",
            "Value = 4.467600345611572\n",
            "Token = опять\n",
            " [CLS] наконец - то опять пошевелилась . [SEP]\n",
            "\n"
          ],
          "name": "stdout"
        }
      ]
    },
    {
      "cell_type": "code",
      "metadata": {
        "colab": {
          "base_uri": "https://localhost:8080/"
        },
        "id": "jICuhZbOQg9m",
        "outputId": "99492eb4-ed7b-44a8-a0c4-6a9c149c8430"
      },
      "source": [
        "predict(\"Он посмотрел под холодильник\", 4)"
      ],
      "execution_count": null,
      "outputs": [
        {
          "output_type": "stream",
          "text": [
            "['[CLS]', 'он', 'посмотрел', 'под', 'холодильник', '[SEP]']\n",
            "Pos = 4\n",
            "\n",
            "Index = 114485\n",
            "Value = 9.993294715881348\n",
            "Token = холодильник\n",
            " [CLS] он посмотрел под холодильник [SEP]\n",
            "\n",
            "Index = 111578\n",
            "Value = 6.426549911499023\n",
            "Token = диван\n",
            " [CLS] он посмотрел под диван [SEP]\n",
            "\n",
            "Index = 74989\n",
            "Value = 5.867487907409668\n",
            "Token = шкаф\n",
            " [CLS] он посмотрел под шкаф [SEP]\n",
            "\n",
            "Index = 111871\n",
            "Value = 5.091196537017822\n",
            "Token = хороши\n",
            " [CLS] он посмотрел под хороши [SEP]\n",
            "\n",
            "Index = 851\n",
            "Value = 4.8505096435546875\n",
            "Token = и\n",
            " [CLS] он посмотрел под и [SEP]\n",
            "\n"
          ],
          "name": "stdout"
        }
      ]
    },
    {
      "cell_type": "code",
      "metadata": {
        "colab": {
          "base_uri": "https://localhost:8080/"
        },
        "id": "gjv-NeA923R7",
        "outputId": "439cd121-cf2d-4566-f95c-dc6203a4c9d3"
      },
      "source": [
        "predict(\"Николай [MASK] в магазин\", 3)"
      ],
      "execution_count": null,
      "outputs": [
        {
          "output_type": "stream",
          "text": [
            "['[CLS]', 'никол', '##аи', '[MASK]', 'в', 'магазин', '[SEP]']\n",
            "Pos = 3\n",
            "\n",
            "Index = 26901\n",
            "Value = 8.24205493927002\n",
            "Token = вошел\n",
            " [CLS] николаи вошел в магазин [SEP]\n",
            "\n",
            "Index = 40794\n",
            "Value = 7.135937213897705\n",
            "Token = пошел\n",
            " [CLS] николаи пошел в магазин [SEP]\n",
            "\n",
            "Index = 24651\n",
            "Value = 6.9975385665893555\n",
            "Token = пришел\n",
            " [CLS] николаи пришел в магазин [SEP]\n",
            "\n",
            "Index = 11346\n",
            "Value = 6.926224231719971\n",
            "Token = вернулся\n",
            " [CLS] николаи вернулся в магазин [SEP]\n",
            "\n",
            "Index = 16505\n",
            "Value = 6.588040828704834\n",
            "Token = отправился\n",
            " [CLS] николаи отправился в магазин [SEP]\n",
            "\n"
          ],
          "name": "stdout"
        }
      ]
    },
    {
      "cell_type": "code",
      "metadata": {
        "colab": {
          "base_uri": "https://localhost:8080/"
        },
        "id": "fU2sR_Q_A2sN",
        "outputId": "7b6a6e1b-271f-4f67-fca1-da53c2389056"
      },
      "source": [
        "predict(\"Вчера ты [MASK] дома.\", 3)"
      ],
      "execution_count": null,
      "outputs": [
        {
          "output_type": "stream",
          "text": [
            "['[CLS]', 'вчера', 'ты', '[MASK]', 'дома', '.', '[SEP]']\n",
            "Pos = 3\n",
            "\n",
            "Index = 2067\n",
            "Value = 6.697117328643799\n",
            "Token = был\n",
            " [CLS] вчера ты был дома . [SEP]\n",
            "\n",
            "Index = 3370\n",
            "Value = 6.029049873352051\n",
            "Token = была\n",
            " [CLS] вчера ты была дома . [SEP]\n",
            "\n",
            "Index = 16311\n",
            "Value = 5.569386005401611\n",
            "Token = остался\n",
            " [CLS] вчера ты остался дома . [SEP]\n",
            "\n",
            "Index = 23532\n",
            "Value = 5.548834323883057\n",
            "Token = видел\n",
            " [CLS] вчера ты видел дома . [SEP]\n",
            "\n",
            "Index = 107835\n",
            "Value = 5.067227363586426\n",
            "Token = будешь\n",
            " [CLS] вчера ты будешь дома . [SEP]\n",
            "\n"
          ],
          "name": "stdout"
        }
      ]
    },
    {
      "cell_type": "markdown",
      "metadata": {
        "id": "0QWUc6aEPmqV"
      },
      "source": [
        "### близость по смыслу"
      ]
    },
    {
      "cell_type": "code",
      "metadata": {
        "id": "BamFR1FtNAoA"
      },
      "source": [
        ""
      ],
      "execution_count": null,
      "outputs": []
    },
    {
      "cell_type": "code",
      "metadata": {
        "colab": {
          "base_uri": "https://localhost:8080/"
        },
        "id": "di5Sig4fLhOX",
        "outputId": "c39749a7-f3e3-49f9-baa5-c584efbbcc74"
      },
      "source": [
        "\"\"\"\n",
        "Класс, который берёт слово и выдаёт эмбед этого слова.\n",
        "Нужен для check_similarity\n",
        "\"\"\"\n",
        "class EmbedModel:\n",
        "    def __init__(self, word_to_token, token_to_embed):\n",
        "        self.word_to_token = word_to_token\n",
        "        self.token_to_embed = token_to_embed\n",
        "\n",
        "    def __call__(self, word):\n",
        "        tokens = torch.Tensor(self.word_to_token.encode(word, add_special_tokens=False)).long().to(cuda)\n",
        "        out = self.token_to_embed(tokens)\n",
        "        return out.mean(dim=0)\n",
        "\n",
        "baseline_model = EmbedModel(tokenizer, model_begin.embeddings.word_embeddings.to(cuda))\n",
        "new_model = EmbedModel(tokenizer, model.bert.embeddings.word_embeddings)\n",
        "\n",
        "\"\"\"\n",
        "Обрабатывает тест.\n",
        "@parr\n",
        "\"\"\"\n",
        "def check_similarity(model, similar_word1, similar_word2, different_word, silent=False):\n",
        "    v1, v2, v3 = model(similar_word1), model(similar_word2), model(different_word)\n",
        "    d12 = float(nn.CosineSimilarity(dim=0)(v1, v2))\n",
        "    d13 = float(nn.CosineSimilarity(dim=0)(v1, v3))\n",
        "    d23 = float(nn.CosineSimilarity(dim=0)(v2, v3))\n",
        "    if not silent:\n",
        "        print(f'Distance between similar words: {d12:.4f}')\n",
        "        print(f'Distance between similar words: {d13:.4f}')\n",
        "        print(f'Distance between similar words: {d23:.4f}')\n",
        "    return (d12 > d13) and (d12 > d23)\n",
        "\n",
        "print(check_similarity(baseline_model, \"вошёл\", \"зашёл\", \"красивый\"))\n",
        "print(check_similarity(new_model, \"вошёл\", \"пришёл\", \"красивый\"))"
      ],
      "execution_count": null,
      "outputs": [
        {
          "output_type": "stream",
          "text": [
            "Distance between similar words: 0.5769\n",
            "Distance between similar words: 0.5771\n",
            "Distance between similar words: 0.5649\n",
            "False\n",
            "Distance between similar words: 0.6201\n",
            "Distance between similar words: 0.5403\n",
            "Distance between similar words: 0.5358\n",
            "True\n"
          ],
          "name": "stdout"
        }
      ]
    },
    {
      "cell_type": "code",
      "metadata": {
        "colab": {
          "base_uri": "https://localhost:8080/"
        },
        "id": "E2tUedBqLiHS",
        "outputId": "f4086ba2-4a66-4386-9efb-65212fe16981"
      },
      "source": [
        "# первыми двумя - похожие слова, третьим - лишнее\n",
        "words = ['вошёл', 'пришёл', 'красивый']\n",
        "\n",
        "print(f'Старая модель: {check_similarity(baseline_model, *words)}')\n",
        "print(f'Новая модель: {check_similarity(new_model, *words)}')"
      ],
      "execution_count": null,
      "outputs": [
        {
          "output_type": "stream",
          "text": [
            "Distance between similar words: 0.5450\n",
            "Distance between similar words: 0.5771\n",
            "Distance between similar words: 0.5834\n",
            "Старая модель: False\n",
            "Distance between similar words: 0.6201\n",
            "Distance between similar words: 0.5403\n",
            "Distance between similar words: 0.5358\n",
            "Новая модель: True\n"
          ],
          "name": "stdout"
        }
      ]
    },
    {
      "cell_type": "code",
      "metadata": {
        "id": "GCd3EthJO5oC"
      },
      "source": [
        "def test_word(model1, model2, words):\n",
        "  print(words)\n",
        "  print(f'Старая модель: {check_similarity(model1, *words)}')\n",
        "  print(f'Новая модель: {check_similarity(model2, *words)}')\n",
        "  print()"
      ],
      "execution_count": null,
      "outputs": []
    },
    {
      "cell_type": "code",
      "metadata": {
        "colab": {
          "base_uri": "https://localhost:8080/"
        },
        "id": "erSXJ3-czDYL",
        "outputId": "094c8773-01db-4f44-ac0e-c1408b7ef300"
      },
      "source": [
        "test_word(baseline_model, new_model, ['вошёл', 'вышел', 'стул'])\n",
        "test_word(baseline_model, new_model, [ 'стул', \"стол\", \"стоять\"])\n",
        "test_word(baseline_model, new_model, ['синий', \"красный\", \"и\"])\n",
        "test_word(baseline_model, new_model, ['он', \"ты\", \"новый\"])\n",
        "test_word(baseline_model, new_model, ['он', \"они\", \"тоже\"])\n",
        "test_word(baseline_model, new_model, ['зашёл', 'пришёл', 'красивый'])\n",
        "test_word(baseline_model, new_model, ['ты', 'я', 'свинья'])\n",
        "test_word(baseline_model, new_model, ['быстрый', 'сложная', 'день'])"
      ],
      "execution_count": null,
      "outputs": [
        {
          "output_type": "stream",
          "text": [
            "['вошёл', 'вышел', 'стул']\n",
            "Distance between similar words: 0.5845\n",
            "Distance between similar words: 0.5582\n",
            "Distance between similar words: 0.5755\n",
            "Старая модель: True\n",
            "Distance between similar words: 0.6320\n",
            "Distance between similar words: 0.5837\n",
            "Distance between similar words: 0.5785\n",
            "Новая модель: True\n",
            "\n",
            "['стул', 'стол', 'стоять']\n",
            "Distance between similar words: 0.4566\n",
            "Distance between similar words: 0.5479\n",
            "Distance between similar words: 0.4077\n",
            "Старая модель: False\n",
            "Distance between similar words: 0.5463\n",
            "Distance between similar words: 0.4884\n",
            "Distance between similar words: 0.3453\n",
            "Новая модель: True\n",
            "\n",
            "['синий', 'красный', 'и']\n",
            "Distance between similar words: 0.6387\n",
            "Distance between similar words: 0.5074\n",
            "Distance between similar words: 0.4853\n",
            "Старая модель: True\n",
            "Distance between similar words: 0.6047\n",
            "Distance between similar words: 0.2867\n",
            "Distance between similar words: 0.4277\n",
            "Новая модель: True\n",
            "\n",
            "['он', 'ты', 'новый']\n",
            "Distance between similar words: 0.4701\n",
            "Distance between similar words: 0.5072\n",
            "Distance between similar words: 0.6033\n",
            "Старая модель: False\n",
            "Distance between similar words: 0.5149\n",
            "Distance between similar words: 0.3966\n",
            "Distance between similar words: 0.5211\n",
            "Новая модель: False\n",
            "\n",
            "['он', 'они', 'тоже']\n",
            "Distance between similar words: 0.3122\n",
            "Distance between similar words: 0.5219\n",
            "Distance between similar words: 0.4215\n",
            "Старая модель: False\n",
            "Distance between similar words: 0.5159\n",
            "Distance between similar words: 0.4372\n",
            "Distance between similar words: 0.3841\n",
            "Новая модель: True\n",
            "\n",
            "['зашёл', 'пришёл', 'красивый']\n",
            "Distance between similar words: 0.5537\n",
            "Distance between similar words: 0.5649\n",
            "Distance between similar words: 0.5834\n",
            "Старая модель: False\n",
            "Distance between similar words: 0.5991\n",
            "Distance between similar words: 0.5181\n",
            "Distance between similar words: 0.5358\n",
            "Новая модель: True\n",
            "\n",
            "['ты', 'я', 'свинья']\n",
            "Distance between similar words: 0.5212\n",
            "Distance between similar words: 0.5891\n",
            "Distance between similar words: 0.4327\n",
            "Старая модель: False\n",
            "Distance between similar words: 0.6351\n",
            "Distance between similar words: 0.5125\n",
            "Distance between similar words: 0.4305\n",
            "Новая модель: True\n",
            "\n",
            "['быстрый', 'сложная', 'день']\n",
            "Distance between similar words: 0.5374\n",
            "Distance between similar words: 0.5796\n",
            "Distance between similar words: 0.4752\n",
            "Старая модель: False\n",
            "Distance between similar words: 0.4523\n",
            "Distance between similar words: 0.5267\n",
            "Distance between similar words: 0.3819\n",
            "Новая модель: False\n",
            "\n"
          ],
          "name": "stdout"
        }
      ]
    },
    {
      "cell_type": "code",
      "metadata": {
        "id": "taMZUGanLh87"
      },
      "source": [
        ""
      ],
      "execution_count": null,
      "outputs": []
    }
  ]
}